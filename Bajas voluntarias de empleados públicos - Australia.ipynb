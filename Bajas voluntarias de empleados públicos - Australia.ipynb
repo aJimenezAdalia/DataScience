{
 "cells": [
  {
   "cell_type": "markdown",
   "id": "21bfc521",
   "metadata": {},
   "source": [
    "# ANÁLISIS DE ENCUESTAS DE EMPLEADOS"
   ]
  },
  {
   "cell_type": "markdown",
   "id": "446a4de7",
   "metadata": {},
   "source": [
    "## Introducción\n",
    "\n",
    "Vamos a analizar una serie de encuestas que fueron realizadas a los empleados que terminaban su relación laboral en el Department of Education, Training and Employment (DETE) y el Technical and Further Education (TAFE) institute en Queensland, Australia.\n",
    "\n",
    "Tomaremos el rol de analista de datos, y queremos determinar una serie de cuestiones:\n",
    "\n",
    "- ¿Tuvieron los empleados que estuvieron trabajando durante periodos cortos alguna insatisfacción que les llevase a abandonar el empleo? ¿Y los más antiguos?\n",
    "- ¿Los empleados más jóvenes resignaron por alguna insatisfacción? ¿Y los más mayores?\n",
    "\n",
    "Combinaremos encuestas de ambas entidades para responder estas preguntas."
   ]
  },
  {
   "cell_type": "markdown",
   "id": "229c35f9",
   "metadata": {},
   "source": [
    "## 1. Configuración del entorno de trabajo\n",
    "\n",
    "Primeramente, vamos a realizar las importaciones necesarias para trabajar con las distintas librerías que utilizaremos.\n",
    "\n",
    "Usaremos pandas y NumPy para manipular y visualizar dataframes, y matplotlib para visualizar gráficos.\n",
    "Además, evitaremos un copyWarning de pandas con una línea de código y centraremos los outputs para una mejor visualización:"
   ]
  },
  {
   "cell_type": "code",
   "execution_count": 1,
   "id": "4942c602",
   "metadata": {},
   "outputs": [
    {
     "data": {
      "text/html": [
       "\n",
       "<style>\n",
       ".output_png {\n",
       "    display: table-cell;\n",
       "    text-align: center;\n",
       "    margin:auto;\n",
       "}\n",
       ".prompt \n",
       "    display:none;\n",
       "}\n",
       "}\n",
       "</style>\n"
      ],
      "text/plain": [
       "<IPython.core.display.HTML object>"
      ]
     },
     "execution_count": 1,
     "metadata": {},
     "output_type": "execute_result"
    }
   ],
   "source": [
    "# Importación de librerías\n",
    "import pandas as pd\n",
    "import numpy as np\n",
    "import matplotlib.pyplot as plt\n",
    "\n",
    "# pandas mostrará todas las columnas si lo deseamos\n",
    "pd.set_option('display.max_columns', None)\n",
    "\n",
    "# Evitamos el copyWarning de pandas\n",
    "pd.options.mode.chained_assignment = None \n",
    "\n",
    "# Mostramos gráficos de matplotlib inline\n",
    "%matplotlib inline\n",
    "\n",
    "# Centramos los outputs\n",
    "from IPython.core.display import HTML\n",
    "HTML(\"\"\"\n",
    "<style>\n",
    ".output_png {\n",
    "    display: table-cell;\n",
    "    text-align: center;\n",
    "    margin:auto;\n",
    "}\n",
    ".prompt \n",
    "    display:none;\n",
    "}\n",
    "}\n",
    "</style>\n",
    "\"\"\")"
   ]
  },
  {
   "cell_type": "markdown",
   "id": "58915437",
   "metadata": {},
   "source": [
    "## 2. Los datasets\n",
    "\n",
    "Utilizaremos dos datasets públicos que contienen los datos relativos a las encuestas y los datos de los empleados.\n",
    "\n",
    "### 2.1. Enlaces de descarga de los datasets\n",
    "\n",
    "Estos datasets se descargaron de la página oficial del Gobierno Australiano; los enlaces son los siguientes:\n",
    "\n",
    "https://data.gov.au/dataset/ds-qld-89970a3b-182b-41ea-aea2-6f9f17b5907e/details?q=exit%20survey\n",
    "\n",
    "https://data.gov.au/dataset/ds-qld-fe96ff30-d157-4a81-851d-215f2a0fe26d/details?q=exit%20survey\n",
    "\n",
    "\n",
    "### 2.2.  Lectura y descripción general de los datos\n",
    "\n",
    "Vamos a leer los datasets con pandas, y los guardaremos en dos variables:"
   ]
  },
  {
   "cell_type": "code",
   "execution_count": 2,
   "id": "3b86f855",
   "metadata": {},
   "outputs": [],
   "source": [
    "dete_survey = pd.read_csv('dete.csv')\n",
    "tafe_survey = pd.read_csv('tafe.csv')"
   ]
  },
  {
   "cell_type": "markdown",
   "id": "7d5678b9",
   "metadata": {},
   "source": [
    "**Vamos a visualizar algunas columnas de ambos dataframes**"
   ]
  },
  {
   "cell_type": "code",
   "execution_count": 3,
   "id": "c0aa7501",
   "metadata": {},
   "outputs": [
    {
     "data": {
      "text/html": [
       "<div>\n",
       "<style scoped>\n",
       "    .dataframe tbody tr th:only-of-type {\n",
       "        vertical-align: middle;\n",
       "    }\n",
       "\n",
       "    .dataframe tbody tr th {\n",
       "        vertical-align: top;\n",
       "    }\n",
       "\n",
       "    .dataframe thead th {\n",
       "        text-align: right;\n",
       "    }\n",
       "</style>\n",
       "<table border=\"1\" class=\"dataframe\">\n",
       "  <thead>\n",
       "    <tr style=\"text-align: right;\">\n",
       "      <th></th>\n",
       "      <th>ID</th>\n",
       "      <th>SeparationType</th>\n",
       "      <th>Cease Date</th>\n",
       "      <th>DETE Start Date</th>\n",
       "      <th>Role Start Date</th>\n",
       "      <th>Position</th>\n",
       "      <th>Classification</th>\n",
       "      <th>Region</th>\n",
       "      <th>Business Unit</th>\n",
       "      <th>Employment Status</th>\n",
       "      <th>Career move to public sector</th>\n",
       "      <th>Career move to private sector</th>\n",
       "      <th>Interpersonal conflicts</th>\n",
       "      <th>Job dissatisfaction</th>\n",
       "      <th>Dissatisfaction with the department</th>\n",
       "      <th>Physical work environment</th>\n",
       "      <th>Lack of recognition</th>\n",
       "      <th>Lack of job security</th>\n",
       "      <th>Work location</th>\n",
       "      <th>Employment conditions</th>\n",
       "      <th>Maternity/family</th>\n",
       "      <th>Relocation</th>\n",
       "      <th>Study/Travel</th>\n",
       "      <th>Ill Health</th>\n",
       "      <th>Traumatic incident</th>\n",
       "      <th>Work life balance</th>\n",
       "      <th>Workload</th>\n",
       "      <th>None of the above</th>\n",
       "      <th>Professional Development</th>\n",
       "      <th>Opportunities for promotion</th>\n",
       "      <th>Staff morale</th>\n",
       "      <th>Workplace issue</th>\n",
       "      <th>Physical environment</th>\n",
       "      <th>Worklife balance</th>\n",
       "      <th>Stress and pressure support</th>\n",
       "      <th>Performance of supervisor</th>\n",
       "      <th>Peer support</th>\n",
       "      <th>Initiative</th>\n",
       "      <th>Skills</th>\n",
       "      <th>Coach</th>\n",
       "      <th>Career Aspirations</th>\n",
       "      <th>Feedback</th>\n",
       "      <th>Further PD</th>\n",
       "      <th>Communication</th>\n",
       "      <th>My say</th>\n",
       "      <th>Information</th>\n",
       "      <th>Kept informed</th>\n",
       "      <th>Wellness programs</th>\n",
       "      <th>Health &amp; Safety</th>\n",
       "      <th>Gender</th>\n",
       "      <th>Age</th>\n",
       "      <th>Aboriginal</th>\n",
       "      <th>Torres Strait</th>\n",
       "      <th>South Sea</th>\n",
       "      <th>Disability</th>\n",
       "      <th>NESB</th>\n",
       "    </tr>\n",
       "  </thead>\n",
       "  <tbody>\n",
       "    <tr>\n",
       "      <th>0</th>\n",
       "      <td>1</td>\n",
       "      <td>Ill Health Retirement</td>\n",
       "      <td>08/2012</td>\n",
       "      <td>1984</td>\n",
       "      <td>2004</td>\n",
       "      <td>Public Servant</td>\n",
       "      <td>A01-A04</td>\n",
       "      <td>Central Office</td>\n",
       "      <td>Corporate Strategy and Peformance</td>\n",
       "      <td>Permanent Full-time</td>\n",
       "      <td>True</td>\n",
       "      <td>False</td>\n",
       "      <td>False</td>\n",
       "      <td>True</td>\n",
       "      <td>False</td>\n",
       "      <td>False</td>\n",
       "      <td>True</td>\n",
       "      <td>False</td>\n",
       "      <td>False</td>\n",
       "      <td>False</td>\n",
       "      <td>False</td>\n",
       "      <td>False</td>\n",
       "      <td>False</td>\n",
       "      <td>False</td>\n",
       "      <td>False</td>\n",
       "      <td>False</td>\n",
       "      <td>False</td>\n",
       "      <td>True</td>\n",
       "      <td>A</td>\n",
       "      <td>A</td>\n",
       "      <td>N</td>\n",
       "      <td>N</td>\n",
       "      <td>N</td>\n",
       "      <td>A</td>\n",
       "      <td>A</td>\n",
       "      <td>A</td>\n",
       "      <td>A</td>\n",
       "      <td>N</td>\n",
       "      <td>N</td>\n",
       "      <td>N</td>\n",
       "      <td>A</td>\n",
       "      <td>A</td>\n",
       "      <td>A</td>\n",
       "      <td>N</td>\n",
       "      <td>A</td>\n",
       "      <td>A</td>\n",
       "      <td>N</td>\n",
       "      <td>N</td>\n",
       "      <td>N</td>\n",
       "      <td>Male</td>\n",
       "      <td>56-60</td>\n",
       "      <td>NaN</td>\n",
       "      <td>NaN</td>\n",
       "      <td>NaN</td>\n",
       "      <td>NaN</td>\n",
       "      <td>Yes</td>\n",
       "    </tr>\n",
       "    <tr>\n",
       "      <th>1</th>\n",
       "      <td>2</td>\n",
       "      <td>Voluntary Early Retirement (VER)</td>\n",
       "      <td>08/2012</td>\n",
       "      <td>Not Stated</td>\n",
       "      <td>Not Stated</td>\n",
       "      <td>Public Servant</td>\n",
       "      <td>AO5-AO7</td>\n",
       "      <td>Central Office</td>\n",
       "      <td>Corporate Strategy and Peformance</td>\n",
       "      <td>Permanent Full-time</td>\n",
       "      <td>False</td>\n",
       "      <td>False</td>\n",
       "      <td>False</td>\n",
       "      <td>False</td>\n",
       "      <td>False</td>\n",
       "      <td>False</td>\n",
       "      <td>False</td>\n",
       "      <td>False</td>\n",
       "      <td>False</td>\n",
       "      <td>False</td>\n",
       "      <td>False</td>\n",
       "      <td>False</td>\n",
       "      <td>False</td>\n",
       "      <td>False</td>\n",
       "      <td>False</td>\n",
       "      <td>False</td>\n",
       "      <td>False</td>\n",
       "      <td>False</td>\n",
       "      <td>A</td>\n",
       "      <td>A</td>\n",
       "      <td>N</td>\n",
       "      <td>N</td>\n",
       "      <td>N</td>\n",
       "      <td>N</td>\n",
       "      <td>A</td>\n",
       "      <td>A</td>\n",
       "      <td>A</td>\n",
       "      <td>N</td>\n",
       "      <td>N</td>\n",
       "      <td>N</td>\n",
       "      <td>A</td>\n",
       "      <td>A</td>\n",
       "      <td>A</td>\n",
       "      <td>N</td>\n",
       "      <td>A</td>\n",
       "      <td>A</td>\n",
       "      <td>N</td>\n",
       "      <td>N</td>\n",
       "      <td>N</td>\n",
       "      <td>Male</td>\n",
       "      <td>56-60</td>\n",
       "      <td>NaN</td>\n",
       "      <td>NaN</td>\n",
       "      <td>NaN</td>\n",
       "      <td>NaN</td>\n",
       "      <td>NaN</td>\n",
       "    </tr>\n",
       "    <tr>\n",
       "      <th>2</th>\n",
       "      <td>3</td>\n",
       "      <td>Voluntary Early Retirement (VER)</td>\n",
       "      <td>05/2012</td>\n",
       "      <td>2011</td>\n",
       "      <td>2011</td>\n",
       "      <td>Schools Officer</td>\n",
       "      <td>NaN</td>\n",
       "      <td>Central Office</td>\n",
       "      <td>Education Queensland</td>\n",
       "      <td>Permanent Full-time</td>\n",
       "      <td>False</td>\n",
       "      <td>False</td>\n",
       "      <td>False</td>\n",
       "      <td>False</td>\n",
       "      <td>False</td>\n",
       "      <td>False</td>\n",
       "      <td>False</td>\n",
       "      <td>False</td>\n",
       "      <td>False</td>\n",
       "      <td>False</td>\n",
       "      <td>False</td>\n",
       "      <td>False</td>\n",
       "      <td>False</td>\n",
       "      <td>False</td>\n",
       "      <td>False</td>\n",
       "      <td>False</td>\n",
       "      <td>False</td>\n",
       "      <td>True</td>\n",
       "      <td>N</td>\n",
       "      <td>N</td>\n",
       "      <td>N</td>\n",
       "      <td>N</td>\n",
       "      <td>N</td>\n",
       "      <td>N</td>\n",
       "      <td>N</td>\n",
       "      <td>N</td>\n",
       "      <td>N</td>\n",
       "      <td>N</td>\n",
       "      <td>N</td>\n",
       "      <td>N</td>\n",
       "      <td>N</td>\n",
       "      <td>N</td>\n",
       "      <td>N</td>\n",
       "      <td>A</td>\n",
       "      <td>A</td>\n",
       "      <td>N</td>\n",
       "      <td>N</td>\n",
       "      <td>N</td>\n",
       "      <td>N</td>\n",
       "      <td>Male</td>\n",
       "      <td>61 or older</td>\n",
       "      <td>NaN</td>\n",
       "      <td>NaN</td>\n",
       "      <td>NaN</td>\n",
       "      <td>NaN</td>\n",
       "      <td>NaN</td>\n",
       "    </tr>\n",
       "    <tr>\n",
       "      <th>3</th>\n",
       "      <td>4</td>\n",
       "      <td>Resignation-Other reasons</td>\n",
       "      <td>05/2012</td>\n",
       "      <td>2005</td>\n",
       "      <td>2006</td>\n",
       "      <td>Teacher</td>\n",
       "      <td>Primary</td>\n",
       "      <td>Central Queensland</td>\n",
       "      <td>NaN</td>\n",
       "      <td>Permanent Full-time</td>\n",
       "      <td>False</td>\n",
       "      <td>True</td>\n",
       "      <td>False</td>\n",
       "      <td>False</td>\n",
       "      <td>False</td>\n",
       "      <td>False</td>\n",
       "      <td>False</td>\n",
       "      <td>False</td>\n",
       "      <td>False</td>\n",
       "      <td>False</td>\n",
       "      <td>False</td>\n",
       "      <td>False</td>\n",
       "      <td>False</td>\n",
       "      <td>False</td>\n",
       "      <td>False</td>\n",
       "      <td>False</td>\n",
       "      <td>False</td>\n",
       "      <td>False</td>\n",
       "      <td>A</td>\n",
       "      <td>N</td>\n",
       "      <td>N</td>\n",
       "      <td>N</td>\n",
       "      <td>A</td>\n",
       "      <td>A</td>\n",
       "      <td>N</td>\n",
       "      <td>N</td>\n",
       "      <td>A</td>\n",
       "      <td>A</td>\n",
       "      <td>A</td>\n",
       "      <td>A</td>\n",
       "      <td>A</td>\n",
       "      <td>A</td>\n",
       "      <td>A</td>\n",
       "      <td>A</td>\n",
       "      <td>A</td>\n",
       "      <td>A</td>\n",
       "      <td>A</td>\n",
       "      <td>N</td>\n",
       "      <td>A</td>\n",
       "      <td>Female</td>\n",
       "      <td>36-40</td>\n",
       "      <td>NaN</td>\n",
       "      <td>NaN</td>\n",
       "      <td>NaN</td>\n",
       "      <td>NaN</td>\n",
       "      <td>NaN</td>\n",
       "    </tr>\n",
       "    <tr>\n",
       "      <th>4</th>\n",
       "      <td>5</td>\n",
       "      <td>Age Retirement</td>\n",
       "      <td>05/2012</td>\n",
       "      <td>1970</td>\n",
       "      <td>1989</td>\n",
       "      <td>Head of Curriculum/Head of Special Education</td>\n",
       "      <td>NaN</td>\n",
       "      <td>South East</td>\n",
       "      <td>NaN</td>\n",
       "      <td>Permanent Full-time</td>\n",
       "      <td>False</td>\n",
       "      <td>False</td>\n",
       "      <td>False</td>\n",
       "      <td>False</td>\n",
       "      <td>False</td>\n",
       "      <td>False</td>\n",
       "      <td>False</td>\n",
       "      <td>False</td>\n",
       "      <td>False</td>\n",
       "      <td>False</td>\n",
       "      <td>False</td>\n",
       "      <td>False</td>\n",
       "      <td>False</td>\n",
       "      <td>False</td>\n",
       "      <td>False</td>\n",
       "      <td>True</td>\n",
       "      <td>False</td>\n",
       "      <td>False</td>\n",
       "      <td>A</td>\n",
       "      <td>A</td>\n",
       "      <td>N</td>\n",
       "      <td>N</td>\n",
       "      <td>D</td>\n",
       "      <td>D</td>\n",
       "      <td>N</td>\n",
       "      <td>A</td>\n",
       "      <td>A</td>\n",
       "      <td>A</td>\n",
       "      <td>A</td>\n",
       "      <td>A</td>\n",
       "      <td>A</td>\n",
       "      <td>SA</td>\n",
       "      <td>SA</td>\n",
       "      <td>D</td>\n",
       "      <td>D</td>\n",
       "      <td>A</td>\n",
       "      <td>N</td>\n",
       "      <td>A</td>\n",
       "      <td>M</td>\n",
       "      <td>Female</td>\n",
       "      <td>61 or older</td>\n",
       "      <td>NaN</td>\n",
       "      <td>NaN</td>\n",
       "      <td>NaN</td>\n",
       "      <td>NaN</td>\n",
       "      <td>NaN</td>\n",
       "    </tr>\n",
       "  </tbody>\n",
       "</table>\n",
       "</div>"
      ],
      "text/plain": [
       "   ID                    SeparationType Cease Date DETE Start Date  \\\n",
       "0   1             Ill Health Retirement    08/2012            1984   \n",
       "1   2  Voluntary Early Retirement (VER)    08/2012      Not Stated   \n",
       "2   3  Voluntary Early Retirement (VER)    05/2012            2011   \n",
       "3   4         Resignation-Other reasons    05/2012            2005   \n",
       "4   5                    Age Retirement    05/2012            1970   \n",
       "\n",
       "  Role Start Date                                      Position  \\\n",
       "0            2004                                Public Servant   \n",
       "1      Not Stated                                Public Servant   \n",
       "2            2011                               Schools Officer   \n",
       "3            2006                                       Teacher   \n",
       "4            1989  Head of Curriculum/Head of Special Education   \n",
       "\n",
       "  Classification              Region                      Business Unit  \\\n",
       "0        A01-A04      Central Office  Corporate Strategy and Peformance   \n",
       "1        AO5-AO7      Central Office  Corporate Strategy and Peformance   \n",
       "2            NaN      Central Office               Education Queensland   \n",
       "3        Primary  Central Queensland                                NaN   \n",
       "4            NaN          South East                                NaN   \n",
       "\n",
       "     Employment Status  Career move to public sector  \\\n",
       "0  Permanent Full-time                          True   \n",
       "1  Permanent Full-time                         False   \n",
       "2  Permanent Full-time                         False   \n",
       "3  Permanent Full-time                         False   \n",
       "4  Permanent Full-time                         False   \n",
       "\n",
       "   Career move to private sector  Interpersonal conflicts  \\\n",
       "0                          False                    False   \n",
       "1                          False                    False   \n",
       "2                          False                    False   \n",
       "3                           True                    False   \n",
       "4                          False                    False   \n",
       "\n",
       "   Job dissatisfaction  Dissatisfaction with the department  \\\n",
       "0                 True                                False   \n",
       "1                False                                False   \n",
       "2                False                                False   \n",
       "3                False                                False   \n",
       "4                False                                False   \n",
       "\n",
       "   Physical work environment  Lack of recognition  Lack of job security  \\\n",
       "0                      False                 True                 False   \n",
       "1                      False                False                 False   \n",
       "2                      False                False                 False   \n",
       "3                      False                False                 False   \n",
       "4                      False                False                 False   \n",
       "\n",
       "   Work location  Employment conditions  Maternity/family  Relocation  \\\n",
       "0          False                  False             False       False   \n",
       "1          False                  False             False       False   \n",
       "2          False                  False             False       False   \n",
       "3          False                  False             False       False   \n",
       "4          False                  False             False       False   \n",
       "\n",
       "   Study/Travel  Ill Health  Traumatic incident  Work life balance  Workload  \\\n",
       "0         False       False               False              False     False   \n",
       "1         False       False               False              False     False   \n",
       "2         False       False               False              False     False   \n",
       "3         False       False               False              False     False   \n",
       "4         False       False               False               True     False   \n",
       "\n",
       "   None of the above Professional Development Opportunities for promotion  \\\n",
       "0               True                        A                           A   \n",
       "1              False                        A                           A   \n",
       "2               True                        N                           N   \n",
       "3              False                        A                           N   \n",
       "4              False                        A                           A   \n",
       "\n",
       "  Staff morale Workplace issue Physical environment Worklife balance  \\\n",
       "0            N               N                    N                A   \n",
       "1            N               N                    N                N   \n",
       "2            N               N                    N                N   \n",
       "3            N               N                    A                A   \n",
       "4            N               N                    D                D   \n",
       "\n",
       "  Stress and pressure support Performance of supervisor Peer support  \\\n",
       "0                           A                         A            A   \n",
       "1                           A                         A            A   \n",
       "2                           N                         N            N   \n",
       "3                           N                         N            A   \n",
       "4                           N                         A            A   \n",
       "\n",
       "  Initiative Skills Coach Career Aspirations Feedback Further PD  \\\n",
       "0          N      N     N                  A        A          A   \n",
       "1          N      N     N                  A        A          A   \n",
       "2          N      N     N                  N        N          N   \n",
       "3          A      A     A                  A        A          A   \n",
       "4          A      A     A                  A       SA         SA   \n",
       "\n",
       "  Communication My say Information Kept informed Wellness programs  \\\n",
       "0             N      A           A             N                 N   \n",
       "1             N      A           A             N                 N   \n",
       "2             A      A           N             N                 N   \n",
       "3             A      A           A             A                 N   \n",
       "4             D      D           A             N                 A   \n",
       "\n",
       "  Health & Safety  Gender          Age Aboriginal Torres Strait South Sea  \\\n",
       "0               N    Male        56-60        NaN           NaN       NaN   \n",
       "1               N    Male        56-60        NaN           NaN       NaN   \n",
       "2               N    Male  61 or older        NaN           NaN       NaN   \n",
       "3               A  Female        36-40        NaN           NaN       NaN   \n",
       "4               M  Female  61 or older        NaN           NaN       NaN   \n",
       "\n",
       "  Disability NESB  \n",
       "0        NaN  Yes  \n",
       "1        NaN  NaN  \n",
       "2        NaN  NaN  \n",
       "3        NaN  NaN  \n",
       "4        NaN  NaN  "
      ]
     },
     "execution_count": 3,
     "metadata": {},
     "output_type": "execute_result"
    }
   ],
   "source": [
    "# Primeras columnas de 'dete_survey'\n",
    "dete_survey.head()"
   ]
  },
  {
   "cell_type": "code",
   "execution_count": 4,
   "id": "8361a646",
   "metadata": {},
   "outputs": [
    {
     "data": {
      "text/html": [
       "<div>\n",
       "<style scoped>\n",
       "    .dataframe tbody tr th:only-of-type {\n",
       "        vertical-align: middle;\n",
       "    }\n",
       "\n",
       "    .dataframe tbody tr th {\n",
       "        vertical-align: top;\n",
       "    }\n",
       "\n",
       "    .dataframe thead th {\n",
       "        text-align: right;\n",
       "    }\n",
       "</style>\n",
       "<table border=\"1\" class=\"dataframe\">\n",
       "  <thead>\n",
       "    <tr style=\"text-align: right;\">\n",
       "      <th></th>\n",
       "      <th>Record ID</th>\n",
       "      <th>Institute</th>\n",
       "      <th>WorkArea</th>\n",
       "      <th>CESSATION YEAR</th>\n",
       "      <th>Reason for ceasing employment</th>\n",
       "      <th>Contributing Factors. Career Move - Public Sector</th>\n",
       "      <th>Contributing Factors. Career Move - Private Sector</th>\n",
       "      <th>Contributing Factors. Career Move - Self-employment</th>\n",
       "      <th>Contributing Factors. Ill Health</th>\n",
       "      <th>Contributing Factors. Maternity/Family</th>\n",
       "      <th>Contributing Factors. Dissatisfaction</th>\n",
       "      <th>Contributing Factors. Job Dissatisfaction</th>\n",
       "      <th>Contributing Factors. Interpersonal Conflict</th>\n",
       "      <th>Contributing Factors. Study</th>\n",
       "      <th>Contributing Factors. Travel</th>\n",
       "      <th>Contributing Factors. Other</th>\n",
       "      <th>Contributing Factors. NONE</th>\n",
       "      <th>Main Factor. ����Which of these was the main factor for leaving?</th>\n",
       "      <th>InstituteViews. Topic:1. I feel the senior leadership had a clear vision and direction</th>\n",
       "      <th>InstituteViews. Topic:2. I was given access to skills training to help me do my job better</th>\n",
       "      <th>InstituteViews. Topic:3. I was given adequate opportunities for personal development</th>\n",
       "      <th>InstituteViews. Topic:4. I was given adequate opportunities for promotion within %Institute]Q25LBL%</th>\n",
       "      <th>InstituteViews. Topic:5. I felt the salary for the job was right for the responsibilities I had</th>\n",
       "      <th>InstituteViews. Topic:6. The organisation recognised when staff did good work</th>\n",
       "      <th>InstituteViews. Topic:7. Management was generally supportive of me</th>\n",
       "      <th>InstituteViews. Topic:8. Management was generally supportive of my team</th>\n",
       "      <th>InstituteViews. Topic:9. I was kept informed of the changes in the organisation which would affect me</th>\n",
       "      <th>InstituteViews. Topic:10. Staff morale was positive within the Institute</th>\n",
       "      <th>InstituteViews. Topic:11. If I had a workplace issue it was dealt with quickly</th>\n",
       "      <th>InstituteViews. Topic:12. If I had a workplace issue it was dealt with efficiently</th>\n",
       "      <th>InstituteViews. Topic:13. If I had a workplace issue it was dealt with discreetly</th>\n",
       "      <th>WorkUnitViews. Topic:14. I was satisfied with the quality of the management and supervision within my work unit</th>\n",
       "      <th>WorkUnitViews. Topic:15. I worked well with my colleagues</th>\n",
       "      <th>WorkUnitViews. Topic:16. My job was challenging and interesting</th>\n",
       "      <th>WorkUnitViews. Topic:17. I was encouraged to use my initiative in the course of my work</th>\n",
       "      <th>WorkUnitViews. Topic:18. I had sufficient contact with other people in my job</th>\n",
       "      <th>WorkUnitViews. Topic:19. I was given adequate support and co-operation by my peers to enable me to do my job</th>\n",
       "      <th>WorkUnitViews. Topic:20. I was able to use the full range of my skills in my job</th>\n",
       "      <th>WorkUnitViews. Topic:21. I was able to use the full range of my abilities in my job. ; Category:Level of Agreement; Question:YOUR VIEWS ABOUT YOUR WORK UNIT]</th>\n",
       "      <th>WorkUnitViews. Topic:22. I was able to use the full range of my knowledge in my job</th>\n",
       "      <th>WorkUnitViews. Topic:23. My job provided sufficient variety</th>\n",
       "      <th>WorkUnitViews. Topic:24. I was able to cope with the level of stress and pressure in my job</th>\n",
       "      <th>WorkUnitViews. Topic:25. My job allowed me to balance the demands of work and family to my satisfaction</th>\n",
       "      <th>WorkUnitViews. Topic:26. My supervisor gave me adequate personal recognition and feedback on my performance</th>\n",
       "      <th>WorkUnitViews. Topic:27. My working environment was satisfactory e.g. sufficient space, good lighting, suitable seating and working area</th>\n",
       "      <th>WorkUnitViews. Topic:28. I was given the opportunity to mentor and coach others in order for me to pass on my skills and knowledge prior to my cessation date</th>\n",
       "      <th>WorkUnitViews. Topic:29. There was adequate communication between staff in my unit</th>\n",
       "      <th>WorkUnitViews. Topic:30. Staff morale was positive within my work unit</th>\n",
       "      <th>Induction. Did you undertake Workplace Induction?</th>\n",
       "      <th>InductionInfo. Topic:Did you undertake a Corporate Induction?</th>\n",
       "      <th>InductionInfo. Topic:Did you undertake a Institute Induction?</th>\n",
       "      <th>InductionInfo. Topic: Did you undertake Team Induction?</th>\n",
       "      <th>InductionInfo. Face to Face Topic:Did you undertake a Corporate Induction; Category:How it was conducted?</th>\n",
       "      <th>InductionInfo. On-line Topic:Did you undertake a Corporate Induction; Category:How it was conducted?</th>\n",
       "      <th>InductionInfo. Induction Manual Topic:Did you undertake a Corporate Induction?</th>\n",
       "      <th>InductionInfo. Face to Face Topic:Did you undertake a Institute Induction?</th>\n",
       "      <th>InductionInfo. On-line Topic:Did you undertake a Institute Induction?</th>\n",
       "      <th>InductionInfo. Induction Manual Topic:Did you undertake a Institute Induction?</th>\n",
       "      <th>InductionInfo. Face to Face Topic: Did you undertake Team Induction; Category?</th>\n",
       "      <th>InductionInfo. On-line Topic: Did you undertake Team Induction?process you undertook and how it was conducted.]</th>\n",
       "      <th>InductionInfo. Induction Manual Topic: Did you undertake Team Induction?</th>\n",
       "      <th>Workplace. Topic:Did you and your Manager develop a Performance and Professional Development Plan (PPDP)?</th>\n",
       "      <th>Workplace. Topic:Does your workplace promote a work culture free from all forms of unlawful discrimination?</th>\n",
       "      <th>Workplace. Topic:Does your workplace promote and practice the principles of employment equity?</th>\n",
       "      <th>Workplace. Topic:Does your workplace value the diversity of its employees?</th>\n",
       "      <th>Workplace. Topic:Would you recommend the Institute as an employer to others?</th>\n",
       "      <th>Gender. ����What is your Gender?</th>\n",
       "      <th>CurrentAge. ����Current Age</th>\n",
       "      <th>Employment Type. ����Employment Type</th>\n",
       "      <th>Classification. ����Classification</th>\n",
       "      <th>LengthofServiceOverall. Overall Length of Service at Institute (in years)</th>\n",
       "      <th>LengthofServiceCurrent. Length of Service at current workplace (in years)</th>\n",
       "    </tr>\n",
       "  </thead>\n",
       "  <tbody>\n",
       "    <tr>\n",
       "      <th>0</th>\n",
       "      <td>634133009996094000</td>\n",
       "      <td>Southern Queensland Institute of TAFE</td>\n",
       "      <td>Non-Delivery (corporate)</td>\n",
       "      <td>2010.0</td>\n",
       "      <td>Contract Expired</td>\n",
       "      <td>NaN</td>\n",
       "      <td>NaN</td>\n",
       "      <td>NaN</td>\n",
       "      <td>NaN</td>\n",
       "      <td>NaN</td>\n",
       "      <td>NaN</td>\n",
       "      <td>NaN</td>\n",
       "      <td>NaN</td>\n",
       "      <td>NaN</td>\n",
       "      <td>NaN</td>\n",
       "      <td>NaN</td>\n",
       "      <td>NaN</td>\n",
       "      <td>NaN</td>\n",
       "      <td>Agree</td>\n",
       "      <td>Agree</td>\n",
       "      <td>Agree</td>\n",
       "      <td>Neutral</td>\n",
       "      <td>Agree</td>\n",
       "      <td>Agree</td>\n",
       "      <td>Agree</td>\n",
       "      <td>Agree</td>\n",
       "      <td>Agree</td>\n",
       "      <td>Agree</td>\n",
       "      <td>Agree</td>\n",
       "      <td>Agree</td>\n",
       "      <td>Agree</td>\n",
       "      <td>Agree</td>\n",
       "      <td>Agree</td>\n",
       "      <td>Agree</td>\n",
       "      <td>Strongly Agree</td>\n",
       "      <td>Agree</td>\n",
       "      <td>Agree</td>\n",
       "      <td>Agree</td>\n",
       "      <td>Agree</td>\n",
       "      <td>Agree</td>\n",
       "      <td>Agree</td>\n",
       "      <td>Agree</td>\n",
       "      <td>Agree</td>\n",
       "      <td>Agree</td>\n",
       "      <td>Agree</td>\n",
       "      <td>Neutral</td>\n",
       "      <td>Agree</td>\n",
       "      <td>Agree</td>\n",
       "      <td>Yes</td>\n",
       "      <td>Yes</td>\n",
       "      <td>Yes</td>\n",
       "      <td>Yes</td>\n",
       "      <td>Face to Face</td>\n",
       "      <td>-</td>\n",
       "      <td>-</td>\n",
       "      <td>Face to Face</td>\n",
       "      <td>-</td>\n",
       "      <td>-</td>\n",
       "      <td>Face to Face</td>\n",
       "      <td>-</td>\n",
       "      <td>-</td>\n",
       "      <td>Yes</td>\n",
       "      <td>Yes</td>\n",
       "      <td>Yes</td>\n",
       "      <td>Yes</td>\n",
       "      <td>Yes</td>\n",
       "      <td>Female</td>\n",
       "      <td>26 � 30</td>\n",
       "      <td>Temporary Full-time</td>\n",
       "      <td>Administration (AO)</td>\n",
       "      <td>1-2</td>\n",
       "      <td>1-2</td>\n",
       "    </tr>\n",
       "    <tr>\n",
       "      <th>1</th>\n",
       "      <td>634133654064531000</td>\n",
       "      <td>Mount Isa Institute of TAFE</td>\n",
       "      <td>Non-Delivery (corporate)</td>\n",
       "      <td>2010.0</td>\n",
       "      <td>Retirement</td>\n",
       "      <td>-</td>\n",
       "      <td>-</td>\n",
       "      <td>-</td>\n",
       "      <td>-</td>\n",
       "      <td>-</td>\n",
       "      <td>-</td>\n",
       "      <td>-</td>\n",
       "      <td>-</td>\n",
       "      <td>-</td>\n",
       "      <td>Travel</td>\n",
       "      <td>-</td>\n",
       "      <td>-</td>\n",
       "      <td>NaN</td>\n",
       "      <td>Agree</td>\n",
       "      <td>Agree</td>\n",
       "      <td>Agree</td>\n",
       "      <td>Agree</td>\n",
       "      <td>Agree</td>\n",
       "      <td>Strongly Agree</td>\n",
       "      <td>Strongly Agree</td>\n",
       "      <td>Agree</td>\n",
       "      <td>Strongly Agree</td>\n",
       "      <td>Agree</td>\n",
       "      <td>Agree</td>\n",
       "      <td>Agree</td>\n",
       "      <td>Disagree</td>\n",
       "      <td>Strongly Agree</td>\n",
       "      <td>Strongly Agree</td>\n",
       "      <td>Strongly Agree</td>\n",
       "      <td>Agree</td>\n",
       "      <td>Agree</td>\n",
       "      <td>Agree</td>\n",
       "      <td>Strongly Agree</td>\n",
       "      <td>Agree</td>\n",
       "      <td>Agree</td>\n",
       "      <td>Agree</td>\n",
       "      <td>Strongly Agree</td>\n",
       "      <td>Agree</td>\n",
       "      <td>Strongly Agree</td>\n",
       "      <td>Strongly Agree</td>\n",
       "      <td>Agree</td>\n",
       "      <td>Agree</td>\n",
       "      <td>Strongly Agree</td>\n",
       "      <td>No</td>\n",
       "      <td>NaN</td>\n",
       "      <td>NaN</td>\n",
       "      <td>NaN</td>\n",
       "      <td>NaN</td>\n",
       "      <td>NaN</td>\n",
       "      <td>NaN</td>\n",
       "      <td>NaN</td>\n",
       "      <td>NaN</td>\n",
       "      <td>NaN</td>\n",
       "      <td>NaN</td>\n",
       "      <td>NaN</td>\n",
       "      <td>NaN</td>\n",
       "      <td>Yes</td>\n",
       "      <td>Yes</td>\n",
       "      <td>Yes</td>\n",
       "      <td>Yes</td>\n",
       "      <td>Yes</td>\n",
       "      <td>NaN</td>\n",
       "      <td>NaN</td>\n",
       "      <td>NaN</td>\n",
       "      <td>NaN</td>\n",
       "      <td>NaN</td>\n",
       "      <td>NaN</td>\n",
       "    </tr>\n",
       "    <tr>\n",
       "      <th>2</th>\n",
       "      <td>634138845606563000</td>\n",
       "      <td>Mount Isa Institute of TAFE</td>\n",
       "      <td>Delivery (teaching)</td>\n",
       "      <td>2010.0</td>\n",
       "      <td>Retirement</td>\n",
       "      <td>-</td>\n",
       "      <td>-</td>\n",
       "      <td>-</td>\n",
       "      <td>-</td>\n",
       "      <td>-</td>\n",
       "      <td>-</td>\n",
       "      <td>-</td>\n",
       "      <td>-</td>\n",
       "      <td>-</td>\n",
       "      <td>-</td>\n",
       "      <td>-</td>\n",
       "      <td>NONE</td>\n",
       "      <td>NaN</td>\n",
       "      <td>Agree</td>\n",
       "      <td>Agree</td>\n",
       "      <td>Agree</td>\n",
       "      <td>Agree</td>\n",
       "      <td>Agree</td>\n",
       "      <td>Agree</td>\n",
       "      <td>Strongly Agree</td>\n",
       "      <td>Agree</td>\n",
       "      <td>Agree</td>\n",
       "      <td>Agree</td>\n",
       "      <td>Agree</td>\n",
       "      <td>Neutral</td>\n",
       "      <td>Neutral</td>\n",
       "      <td>Strongly Agree</td>\n",
       "      <td>Strongly Agree</td>\n",
       "      <td>Agree</td>\n",
       "      <td>Agree</td>\n",
       "      <td>Agree</td>\n",
       "      <td>Agree</td>\n",
       "      <td>Agree</td>\n",
       "      <td>Agree</td>\n",
       "      <td>Agree</td>\n",
       "      <td>Agree</td>\n",
       "      <td>Agree</td>\n",
       "      <td>Agree</td>\n",
       "      <td>Agree</td>\n",
       "      <td>Agree</td>\n",
       "      <td>Agree</td>\n",
       "      <td>Agree</td>\n",
       "      <td>Agree</td>\n",
       "      <td>No</td>\n",
       "      <td>NaN</td>\n",
       "      <td>NaN</td>\n",
       "      <td>NaN</td>\n",
       "      <td>NaN</td>\n",
       "      <td>NaN</td>\n",
       "      <td>NaN</td>\n",
       "      <td>NaN</td>\n",
       "      <td>NaN</td>\n",
       "      <td>NaN</td>\n",
       "      <td>NaN</td>\n",
       "      <td>NaN</td>\n",
       "      <td>NaN</td>\n",
       "      <td>Yes</td>\n",
       "      <td>Yes</td>\n",
       "      <td>Yes</td>\n",
       "      <td>Yes</td>\n",
       "      <td>Yes</td>\n",
       "      <td>NaN</td>\n",
       "      <td>NaN</td>\n",
       "      <td>NaN</td>\n",
       "      <td>NaN</td>\n",
       "      <td>NaN</td>\n",
       "      <td>NaN</td>\n",
       "    </tr>\n",
       "    <tr>\n",
       "      <th>3</th>\n",
       "      <td>634139903350000000</td>\n",
       "      <td>Mount Isa Institute of TAFE</td>\n",
       "      <td>Non-Delivery (corporate)</td>\n",
       "      <td>2010.0</td>\n",
       "      <td>Resignation</td>\n",
       "      <td>-</td>\n",
       "      <td>-</td>\n",
       "      <td>-</td>\n",
       "      <td>-</td>\n",
       "      <td>-</td>\n",
       "      <td>-</td>\n",
       "      <td>-</td>\n",
       "      <td>-</td>\n",
       "      <td>-</td>\n",
       "      <td>Travel</td>\n",
       "      <td>-</td>\n",
       "      <td>-</td>\n",
       "      <td>NaN</td>\n",
       "      <td>Agree</td>\n",
       "      <td>Agree</td>\n",
       "      <td>Agree</td>\n",
       "      <td>Agree</td>\n",
       "      <td>Agree</td>\n",
       "      <td>Agree</td>\n",
       "      <td>Agree</td>\n",
       "      <td>Agree</td>\n",
       "      <td>Agree</td>\n",
       "      <td>Agree</td>\n",
       "      <td>Agree</td>\n",
       "      <td>Agree</td>\n",
       "      <td>Agree</td>\n",
       "      <td>Strongly Agree</td>\n",
       "      <td>Strongly Agree</td>\n",
       "      <td>Strongly Agree</td>\n",
       "      <td>Strongly Agree</td>\n",
       "      <td>Strongly Agree</td>\n",
       "      <td>Strongly Agree</td>\n",
       "      <td>Strongly Agree</td>\n",
       "      <td>Strongly Agree</td>\n",
       "      <td>Strongly Agree</td>\n",
       "      <td>Strongly Agree</td>\n",
       "      <td>Strongly Agree</td>\n",
       "      <td>Strongly Agree</td>\n",
       "      <td>Strongly Agree</td>\n",
       "      <td>Strongly Agree</td>\n",
       "      <td>Strongly Agree</td>\n",
       "      <td>Strongly Agree</td>\n",
       "      <td>Strongly Agree</td>\n",
       "      <td>Yes</td>\n",
       "      <td>No</td>\n",
       "      <td>Yes</td>\n",
       "      <td>Yes</td>\n",
       "      <td>-</td>\n",
       "      <td>-</td>\n",
       "      <td>-</td>\n",
       "      <td>NaN</td>\n",
       "      <td>-</td>\n",
       "      <td>-</td>\n",
       "      <td>-</td>\n",
       "      <td>-</td>\n",
       "      <td>-</td>\n",
       "      <td>Yes</td>\n",
       "      <td>Yes</td>\n",
       "      <td>Yes</td>\n",
       "      <td>Yes</td>\n",
       "      <td>Yes</td>\n",
       "      <td>NaN</td>\n",
       "      <td>NaN</td>\n",
       "      <td>NaN</td>\n",
       "      <td>NaN</td>\n",
       "      <td>NaN</td>\n",
       "      <td>NaN</td>\n",
       "    </tr>\n",
       "    <tr>\n",
       "      <th>4</th>\n",
       "      <td>634146578511788000</td>\n",
       "      <td>Southern Queensland Institute of TAFE</td>\n",
       "      <td>Delivery (teaching)</td>\n",
       "      <td>2010.0</td>\n",
       "      <td>Resignation</td>\n",
       "      <td>-</td>\n",
       "      <td>Career Move - Private Sector</td>\n",
       "      <td>-</td>\n",
       "      <td>-</td>\n",
       "      <td>-</td>\n",
       "      <td>-</td>\n",
       "      <td>-</td>\n",
       "      <td>-</td>\n",
       "      <td>-</td>\n",
       "      <td>-</td>\n",
       "      <td>-</td>\n",
       "      <td>-</td>\n",
       "      <td>NaN</td>\n",
       "      <td>Agree</td>\n",
       "      <td>Agree</td>\n",
       "      <td>Strongly Agree</td>\n",
       "      <td>Agree</td>\n",
       "      <td>Strongly Agree</td>\n",
       "      <td>Strongly Agree</td>\n",
       "      <td>Strongly Agree</td>\n",
       "      <td>Strongly Agree</td>\n",
       "      <td>Agree</td>\n",
       "      <td>Strongly Agree</td>\n",
       "      <td>Strongly Agree</td>\n",
       "      <td>Agree</td>\n",
       "      <td>Strongly Agree</td>\n",
       "      <td>Strongly Agree</td>\n",
       "      <td>Strongly Agree</td>\n",
       "      <td>Strongly Agree</td>\n",
       "      <td>Strongly Agree</td>\n",
       "      <td>Strongly Agree</td>\n",
       "      <td>Strongly Agree</td>\n",
       "      <td>Strongly Agree</td>\n",
       "      <td>Strongly Agree</td>\n",
       "      <td>Strongly Agree</td>\n",
       "      <td>Strongly Agree</td>\n",
       "      <td>Strongly Agree</td>\n",
       "      <td>Strongly Agree</td>\n",
       "      <td>Strongly Agree</td>\n",
       "      <td>Strongly Agree</td>\n",
       "      <td>Strongly Agree</td>\n",
       "      <td>Strongly Agree</td>\n",
       "      <td>Strongly Agree</td>\n",
       "      <td>Yes</td>\n",
       "      <td>Yes</td>\n",
       "      <td>Yes</td>\n",
       "      <td>Yes</td>\n",
       "      <td>-</td>\n",
       "      <td>-</td>\n",
       "      <td>Induction Manual</td>\n",
       "      <td>Face to Face</td>\n",
       "      <td>-</td>\n",
       "      <td>-</td>\n",
       "      <td>Face to Face</td>\n",
       "      <td>-</td>\n",
       "      <td>-</td>\n",
       "      <td>Yes</td>\n",
       "      <td>Yes</td>\n",
       "      <td>Yes</td>\n",
       "      <td>Yes</td>\n",
       "      <td>Yes</td>\n",
       "      <td>Male</td>\n",
       "      <td>41 � 45</td>\n",
       "      <td>Permanent Full-time</td>\n",
       "      <td>Teacher (including LVT)</td>\n",
       "      <td>3-4</td>\n",
       "      <td>3-4</td>\n",
       "    </tr>\n",
       "  </tbody>\n",
       "</table>\n",
       "</div>"
      ],
      "text/plain": [
       "            Record ID                              Institute  \\\n",
       "0  634133009996094000  Southern Queensland Institute of TAFE   \n",
       "1  634133654064531000            Mount Isa Institute of TAFE   \n",
       "2  634138845606563000            Mount Isa Institute of TAFE   \n",
       "3  634139903350000000            Mount Isa Institute of TAFE   \n",
       "4  634146578511788000  Southern Queensland Institute of TAFE   \n",
       "\n",
       "                   WorkArea  CESSATION YEAR Reason for ceasing employment  \\\n",
       "0  Non-Delivery (corporate)          2010.0              Contract Expired   \n",
       "1  Non-Delivery (corporate)          2010.0                    Retirement   \n",
       "2       Delivery (teaching)          2010.0                    Retirement   \n",
       "3  Non-Delivery (corporate)          2010.0                   Resignation   \n",
       "4       Delivery (teaching)          2010.0                   Resignation   \n",
       "\n",
       "  Contributing Factors. Career Move - Public Sector   \\\n",
       "0                                                NaN   \n",
       "1                                                  -   \n",
       "2                                                  -   \n",
       "3                                                  -   \n",
       "4                                                  -   \n",
       "\n",
       "  Contributing Factors. Career Move - Private Sector   \\\n",
       "0                                                NaN    \n",
       "1                                                  -    \n",
       "2                                                  -    \n",
       "3                                                  -    \n",
       "4                       Career Move - Private Sector    \n",
       "\n",
       "  Contributing Factors. Career Move - Self-employment  \\\n",
       "0                                                NaN    \n",
       "1                                                  -    \n",
       "2                                                  -    \n",
       "3                                                  -    \n",
       "4                                                  -    \n",
       "\n",
       "  Contributing Factors. Ill Health Contributing Factors. Maternity/Family  \\\n",
       "0                              NaN                                    NaN   \n",
       "1                                -                                      -   \n",
       "2                                -                                      -   \n",
       "3                                -                                      -   \n",
       "4                                -                                      -   \n",
       "\n",
       "  Contributing Factors. Dissatisfaction  \\\n",
       "0                                   NaN   \n",
       "1                                     -   \n",
       "2                                     -   \n",
       "3                                     -   \n",
       "4                                     -   \n",
       "\n",
       "  Contributing Factors. Job Dissatisfaction  \\\n",
       "0                                       NaN   \n",
       "1                                         -   \n",
       "2                                         -   \n",
       "3                                         -   \n",
       "4                                         -   \n",
       "\n",
       "  Contributing Factors. Interpersonal Conflict Contributing Factors. Study  \\\n",
       "0                                          NaN                         NaN   \n",
       "1                                            -                           -   \n",
       "2                                            -                           -   \n",
       "3                                            -                           -   \n",
       "4                                            -                           -   \n",
       "\n",
       "  Contributing Factors. Travel Contributing Factors. Other  \\\n",
       "0                          NaN                         NaN   \n",
       "1                       Travel                           -   \n",
       "2                            -                           -   \n",
       "3                       Travel                           -   \n",
       "4                            -                           -   \n",
       "\n",
       "  Contributing Factors. NONE  \\\n",
       "0                        NaN   \n",
       "1                          -   \n",
       "2                       NONE   \n",
       "3                          -   \n",
       "4                          -   \n",
       "\n",
       "  Main Factor. ����Which of these was the main factor for leaving?  \\\n",
       "0                                                NaN                 \n",
       "1                                                NaN                 \n",
       "2                                                NaN                 \n",
       "3                                                NaN                 \n",
       "4                                                NaN                 \n",
       "\n",
       "  InstituteViews. Topic:1. I feel the senior leadership had a clear vision and direction  \\\n",
       "0                                              Agree                                       \n",
       "1                                              Agree                                       \n",
       "2                                              Agree                                       \n",
       "3                                              Agree                                       \n",
       "4                                              Agree                                       \n",
       "\n",
       "  InstituteViews. Topic:2. I was given access to skills training to help me do my job better  \\\n",
       "0                                              Agree                                           \n",
       "1                                              Agree                                           \n",
       "2                                              Agree                                           \n",
       "3                                              Agree                                           \n",
       "4                                              Agree                                           \n",
       "\n",
       "  InstituteViews. Topic:3. I was given adequate opportunities for personal development  \\\n",
       "0                                              Agree                                     \n",
       "1                                              Agree                                     \n",
       "2                                              Agree                                     \n",
       "3                                              Agree                                     \n",
       "4                                     Strongly Agree                                     \n",
       "\n",
       "  InstituteViews. Topic:4. I was given adequate opportunities for promotion within %Institute]Q25LBL%  \\\n",
       "0                                            Neutral                                                    \n",
       "1                                              Agree                                                    \n",
       "2                                              Agree                                                    \n",
       "3                                              Agree                                                    \n",
       "4                                              Agree                                                    \n",
       "\n",
       "  InstituteViews. Topic:5. I felt the salary for the job was right for the responsibilities I had  \\\n",
       "0                                              Agree                                                \n",
       "1                                              Agree                                                \n",
       "2                                              Agree                                                \n",
       "3                                              Agree                                                \n",
       "4                                     Strongly Agree                                                \n",
       "\n",
       "  InstituteViews. Topic:6. The organisation recognised when staff did good work  \\\n",
       "0                                              Agree                              \n",
       "1                                     Strongly Agree                              \n",
       "2                                              Agree                              \n",
       "3                                              Agree                              \n",
       "4                                     Strongly Agree                              \n",
       "\n",
       "  InstituteViews. Topic:7. Management was generally supportive of me  \\\n",
       "0                                              Agree                   \n",
       "1                                     Strongly Agree                   \n",
       "2                                     Strongly Agree                   \n",
       "3                                              Agree                   \n",
       "4                                     Strongly Agree                   \n",
       "\n",
       "  InstituteViews. Topic:8. Management was generally supportive of my team  \\\n",
       "0                                              Agree                        \n",
       "1                                              Agree                        \n",
       "2                                              Agree                        \n",
       "3                                              Agree                        \n",
       "4                                     Strongly Agree                        \n",
       "\n",
       "  InstituteViews. Topic:9. I was kept informed of the changes in the organisation which would affect me  \\\n",
       "0                                              Agree                                                      \n",
       "1                                     Strongly Agree                                                      \n",
       "2                                              Agree                                                      \n",
       "3                                              Agree                                                      \n",
       "4                                              Agree                                                      \n",
       "\n",
       "  InstituteViews. Topic:10. Staff morale was positive within the Institute  \\\n",
       "0                                              Agree                         \n",
       "1                                              Agree                         \n",
       "2                                              Agree                         \n",
       "3                                              Agree                         \n",
       "4                                     Strongly Agree                         \n",
       "\n",
       "  InstituteViews. Topic:11. If I had a workplace issue it was dealt with quickly  \\\n",
       "0                                              Agree                               \n",
       "1                                              Agree                               \n",
       "2                                              Agree                               \n",
       "3                                              Agree                               \n",
       "4                                     Strongly Agree                               \n",
       "\n",
       "  InstituteViews. Topic:12. If I had a workplace issue it was dealt with efficiently  \\\n",
       "0                                              Agree                                   \n",
       "1                                              Agree                                   \n",
       "2                                            Neutral                                   \n",
       "3                                              Agree                                   \n",
       "4                                              Agree                                   \n",
       "\n",
       "  InstituteViews. Topic:13. If I had a workplace issue it was dealt with discreetly  \\\n",
       "0                                              Agree                                  \n",
       "1                                           Disagree                                  \n",
       "2                                            Neutral                                  \n",
       "3                                              Agree                                  \n",
       "4                                     Strongly Agree                                  \n",
       "\n",
       "  WorkUnitViews. Topic:14. I was satisfied with the quality of the management and supervision within my work unit  \\\n",
       "0                                              Agree                                                                \n",
       "1                                     Strongly Agree                                                                \n",
       "2                                     Strongly Agree                                                                \n",
       "3                                     Strongly Agree                                                                \n",
       "4                                     Strongly Agree                                                                \n",
       "\n",
       "  WorkUnitViews. Topic:15. I worked well with my colleagues  \\\n",
       "0                                              Agree          \n",
       "1                                     Strongly Agree          \n",
       "2                                     Strongly Agree          \n",
       "3                                     Strongly Agree          \n",
       "4                                     Strongly Agree          \n",
       "\n",
       "  WorkUnitViews. Topic:16. My job was challenging and interesting  \\\n",
       "0                                              Agree                \n",
       "1                                     Strongly Agree                \n",
       "2                                              Agree                \n",
       "3                                     Strongly Agree                \n",
       "4                                     Strongly Agree                \n",
       "\n",
       "  WorkUnitViews. Topic:17. I was encouraged to use my initiative in the course of my work  \\\n",
       "0                                     Strongly Agree                                        \n",
       "1                                              Agree                                        \n",
       "2                                              Agree                                        \n",
       "3                                     Strongly Agree                                        \n",
       "4                                     Strongly Agree                                        \n",
       "\n",
       "  WorkUnitViews. Topic:18. I had sufficient contact with other people in my job  \\\n",
       "0                                              Agree                              \n",
       "1                                              Agree                              \n",
       "2                                              Agree                              \n",
       "3                                     Strongly Agree                              \n",
       "4                                     Strongly Agree                              \n",
       "\n",
       "  WorkUnitViews. Topic:19. I was given adequate support and co-operation by my peers to enable me to do my job  \\\n",
       "0                                              Agree                                                             \n",
       "1                                              Agree                                                             \n",
       "2                                              Agree                                                             \n",
       "3                                     Strongly Agree                                                             \n",
       "4                                     Strongly Agree                                                             \n",
       "\n",
       "  WorkUnitViews. Topic:20. I was able to use the full range of my skills in my job  \\\n",
       "0                                              Agree                                 \n",
       "1                                     Strongly Agree                                 \n",
       "2                                              Agree                                 \n",
       "3                                     Strongly Agree                                 \n",
       "4                                     Strongly Agree                                 \n",
       "\n",
       "  WorkUnitViews. Topic:21. I was able to use the full range of my abilities in my job. ; Category:Level of Agreement; Question:YOUR VIEWS ABOUT YOUR WORK UNIT]  \\\n",
       "0                                              Agree                                                                                                              \n",
       "1                                              Agree                                                                                                              \n",
       "2                                              Agree                                                                                                              \n",
       "3                                     Strongly Agree                                                                                                              \n",
       "4                                     Strongly Agree                                                                                                              \n",
       "\n",
       "  WorkUnitViews. Topic:22. I was able to use the full range of my knowledge in my job  \\\n",
       "0                                              Agree                                    \n",
       "1                                              Agree                                    \n",
       "2                                              Agree                                    \n",
       "3                                     Strongly Agree                                    \n",
       "4                                     Strongly Agree                                    \n",
       "\n",
       "  WorkUnitViews. Topic:23. My job provided sufficient variety  \\\n",
       "0                                              Agree            \n",
       "1                                              Agree            \n",
       "2                                              Agree            \n",
       "3                                     Strongly Agree            \n",
       "4                                     Strongly Agree            \n",
       "\n",
       "  WorkUnitViews. Topic:24. I was able to cope with the level of stress and pressure in my job  \\\n",
       "0                                              Agree                                            \n",
       "1                                     Strongly Agree                                            \n",
       "2                                              Agree                                            \n",
       "3                                     Strongly Agree                                            \n",
       "4                                     Strongly Agree                                            \n",
       "\n",
       "  WorkUnitViews. Topic:25. My job allowed me to balance the demands of work and family to my satisfaction  \\\n",
       "0                                              Agree                                                        \n",
       "1                                              Agree                                                        \n",
       "2                                              Agree                                                        \n",
       "3                                     Strongly Agree                                                        \n",
       "4                                     Strongly Agree                                                        \n",
       "\n",
       "  WorkUnitViews. Topic:26. My supervisor gave me adequate personal recognition and feedback on my performance  \\\n",
       "0                                              Agree                                                            \n",
       "1                                     Strongly Agree                                                            \n",
       "2                                              Agree                                                            \n",
       "3                                     Strongly Agree                                                            \n",
       "4                                     Strongly Agree                                                            \n",
       "\n",
       "  WorkUnitViews. Topic:27. My working environment was satisfactory e.g. sufficient space, good lighting, suitable seating and working area  \\\n",
       "0                                              Agree                                                                                         \n",
       "1                                     Strongly Agree                                                                                         \n",
       "2                                              Agree                                                                                         \n",
       "3                                     Strongly Agree                                                                                         \n",
       "4                                     Strongly Agree                                                                                         \n",
       "\n",
       "  WorkUnitViews. Topic:28. I was given the opportunity to mentor and coach others in order for me to pass on my skills and knowledge prior to my cessation date  \\\n",
       "0                                            Neutral                                                                                                              \n",
       "1                                              Agree                                                                                                              \n",
       "2                                              Agree                                                                                                              \n",
       "3                                     Strongly Agree                                                                                                              \n",
       "4                                     Strongly Agree                                                                                                              \n",
       "\n",
       "  WorkUnitViews. Topic:29. There was adequate communication between staff in my unit  \\\n",
       "0                                              Agree                                   \n",
       "1                                              Agree                                   \n",
       "2                                              Agree                                   \n",
       "3                                     Strongly Agree                                   \n",
       "4                                     Strongly Agree                                   \n",
       "\n",
       "  WorkUnitViews. Topic:30. Staff morale was positive within my work unit  \\\n",
       "0                                              Agree                       \n",
       "1                                     Strongly Agree                       \n",
       "2                                              Agree                       \n",
       "3                                     Strongly Agree                       \n",
       "4                                     Strongly Agree                       \n",
       "\n",
       "  Induction. Did you undertake Workplace Induction?  \\\n",
       "0                                               Yes   \n",
       "1                                                No   \n",
       "2                                                No   \n",
       "3                                               Yes   \n",
       "4                                               Yes   \n",
       "\n",
       "  InductionInfo. Topic:Did you undertake a Corporate Induction?  \\\n",
       "0                                                Yes              \n",
       "1                                                NaN              \n",
       "2                                                NaN              \n",
       "3                                                 No              \n",
       "4                                                Yes              \n",
       "\n",
       "  InductionInfo. Topic:Did you undertake a Institute Induction?  \\\n",
       "0                                                Yes              \n",
       "1                                                NaN              \n",
       "2                                                NaN              \n",
       "3                                                Yes              \n",
       "4                                                Yes              \n",
       "\n",
       "  InductionInfo. Topic: Did you undertake Team Induction?  \\\n",
       "0                                                Yes        \n",
       "1                                                NaN        \n",
       "2                                                NaN        \n",
       "3                                                Yes        \n",
       "4                                                Yes        \n",
       "\n",
       "  InductionInfo. Face to Face Topic:Did you undertake a Corporate Induction; Category:How it was conducted?  \\\n",
       "0                                       Face to Face                                                          \n",
       "1                                                NaN                                                          \n",
       "2                                                NaN                                                          \n",
       "3                                                  -                                                          \n",
       "4                                                  -                                                          \n",
       "\n",
       "  InductionInfo. On-line Topic:Did you undertake a Corporate Induction; Category:How it was conducted?  \\\n",
       "0                                                  -                                                     \n",
       "1                                                NaN                                                     \n",
       "2                                                NaN                                                     \n",
       "3                                                  -                                                     \n",
       "4                                                  -                                                     \n",
       "\n",
       "  InductionInfo. Induction Manual Topic:Did you undertake a Corporate Induction?  \\\n",
       "0                                                  -                               \n",
       "1                                                NaN                               \n",
       "2                                                NaN                               \n",
       "3                                                  -                               \n",
       "4                                   Induction Manual                               \n",
       "\n",
       "  InductionInfo. Face to Face Topic:Did you undertake a Institute Induction?  \\\n",
       "0                                       Face to Face                           \n",
       "1                                                NaN                           \n",
       "2                                                NaN                           \n",
       "3                                                NaN                           \n",
       "4                                       Face to Face                           \n",
       "\n",
       "  InductionInfo. On-line Topic:Did you undertake a Institute Induction?  \\\n",
       "0                                                  -                      \n",
       "1                                                NaN                      \n",
       "2                                                NaN                      \n",
       "3                                                  -                      \n",
       "4                                                  -                      \n",
       "\n",
       "  InductionInfo. Induction Manual Topic:Did you undertake a Institute Induction?  \\\n",
       "0                                                  -                               \n",
       "1                                                NaN                               \n",
       "2                                                NaN                               \n",
       "3                                                  -                               \n",
       "4                                                  -                               \n",
       "\n",
       "  InductionInfo. Face to Face Topic: Did you undertake Team Induction; Category?  \\\n",
       "0                                       Face to Face                               \n",
       "1                                                NaN                               \n",
       "2                                                NaN                               \n",
       "3                                                  -                               \n",
       "4                                       Face to Face                               \n",
       "\n",
       "  InductionInfo. On-line Topic: Did you undertake Team Induction?process you undertook and how it was conducted.]  \\\n",
       "0                                                  -                                                                \n",
       "1                                                NaN                                                                \n",
       "2                                                NaN                                                                \n",
       "3                                                  -                                                                \n",
       "4                                                  -                                                                \n",
       "\n",
       "  InductionInfo. Induction Manual Topic: Did you undertake Team Induction?  \\\n",
       "0                                                  -                         \n",
       "1                                                NaN                         \n",
       "2                                                NaN                         \n",
       "3                                                  -                         \n",
       "4                                                  -                         \n",
       "\n",
       "  Workplace. Topic:Did you and your Manager develop a Performance and Professional Development Plan (PPDP)?  \\\n",
       "0                                                Yes                                                          \n",
       "1                                                Yes                                                          \n",
       "2                                                Yes                                                          \n",
       "3                                                Yes                                                          \n",
       "4                                                Yes                                                          \n",
       "\n",
       "  Workplace. Topic:Does your workplace promote a work culture free from all forms of unlawful discrimination?  \\\n",
       "0                                                Yes                                                            \n",
       "1                                                Yes                                                            \n",
       "2                                                Yes                                                            \n",
       "3                                                Yes                                                            \n",
       "4                                                Yes                                                            \n",
       "\n",
       "  Workplace. Topic:Does your workplace promote and practice the principles of employment equity?  \\\n",
       "0                                                Yes                                               \n",
       "1                                                Yes                                               \n",
       "2                                                Yes                                               \n",
       "3                                                Yes                                               \n",
       "4                                                Yes                                               \n",
       "\n",
       "  Workplace. Topic:Does your workplace value the diversity of its employees?  \\\n",
       "0                                                Yes                           \n",
       "1                                                Yes                           \n",
       "2                                                Yes                           \n",
       "3                                                Yes                           \n",
       "4                                                Yes                           \n",
       "\n",
       "  Workplace. Topic:Would you recommend the Institute as an employer to others?  \\\n",
       "0                                                Yes                             \n",
       "1                                                Yes                             \n",
       "2                                                Yes                             \n",
       "3                                                Yes                             \n",
       "4                                                Yes                             \n",
       "\n",
       "  Gender. ����What is your Gender? CurrentAge. ����Current Age  \\\n",
       "0                           Female                     26 � 30   \n",
       "1                              NaN                         NaN   \n",
       "2                              NaN                         NaN   \n",
       "3                              NaN                         NaN   \n",
       "4                             Male                     41 � 45   \n",
       "\n",
       "  Employment Type. ����Employment Type Classification. ����Classification  \\\n",
       "0                  Temporary Full-time                Administration (AO)   \n",
       "1                                  NaN                                NaN   \n",
       "2                                  NaN                                NaN   \n",
       "3                                  NaN                                NaN   \n",
       "4                  Permanent Full-time            Teacher (including LVT)   \n",
       "\n",
       "  LengthofServiceOverall. Overall Length of Service at Institute (in years)  \\\n",
       "0                                                1-2                          \n",
       "1                                                NaN                          \n",
       "2                                                NaN                          \n",
       "3                                                NaN                          \n",
       "4                                                3-4                          \n",
       "\n",
       "  LengthofServiceCurrent. Length of Service at current workplace (in years)  \n",
       "0                                                1-2                         \n",
       "1                                                NaN                         \n",
       "2                                                NaN                         \n",
       "3                                                NaN                         \n",
       "4                                                3-4                         "
      ]
     },
     "execution_count": 4,
     "metadata": {},
     "output_type": "execute_result"
    }
   ],
   "source": [
    "# Primeras columnas de 'tafe_survey'\n",
    "tafe_survey.head()"
   ]
  },
  {
   "cell_type": "markdown",
   "id": "dacd455f",
   "metadata": {},
   "source": [
    "**Mostramos ahora información relativa a ambos dataframes**"
   ]
  },
  {
   "cell_type": "code",
   "execution_count": 5,
   "id": "81af8d88",
   "metadata": {
    "scrolled": false
   },
   "outputs": [
    {
     "name": "stdout",
     "output_type": "stream",
     "text": [
      "<class 'pandas.core.frame.DataFrame'>\n",
      "RangeIndex: 822 entries, 0 to 821\n",
      "Data columns (total 56 columns):\n",
      " #   Column                               Non-Null Count  Dtype \n",
      "---  ------                               --------------  ----- \n",
      " 0   ID                                   822 non-null    int64 \n",
      " 1   SeparationType                       822 non-null    object\n",
      " 2   Cease Date                           822 non-null    object\n",
      " 3   DETE Start Date                      822 non-null    object\n",
      " 4   Role Start Date                      822 non-null    object\n",
      " 5   Position                             817 non-null    object\n",
      " 6   Classification                       455 non-null    object\n",
      " 7   Region                               822 non-null    object\n",
      " 8   Business Unit                        126 non-null    object\n",
      " 9   Employment Status                    817 non-null    object\n",
      " 10  Career move to public sector         822 non-null    bool  \n",
      " 11  Career move to private sector        822 non-null    bool  \n",
      " 12  Interpersonal conflicts              822 non-null    bool  \n",
      " 13  Job dissatisfaction                  822 non-null    bool  \n",
      " 14  Dissatisfaction with the department  822 non-null    bool  \n",
      " 15  Physical work environment            822 non-null    bool  \n",
      " 16  Lack of recognition                  822 non-null    bool  \n",
      " 17  Lack of job security                 822 non-null    bool  \n",
      " 18  Work location                        822 non-null    bool  \n",
      " 19  Employment conditions                822 non-null    bool  \n",
      " 20  Maternity/family                     822 non-null    bool  \n",
      " 21  Relocation                           822 non-null    bool  \n",
      " 22  Study/Travel                         822 non-null    bool  \n",
      " 23  Ill Health                           822 non-null    bool  \n",
      " 24  Traumatic incident                   822 non-null    bool  \n",
      " 25  Work life balance                    822 non-null    bool  \n",
      " 26  Workload                             822 non-null    bool  \n",
      " 27  None of the above                    822 non-null    bool  \n",
      " 28  Professional Development             808 non-null    object\n",
      " 29  Opportunities for promotion          735 non-null    object\n",
      " 30  Staff morale                         816 non-null    object\n",
      " 31  Workplace issue                      788 non-null    object\n",
      " 32  Physical environment                 817 non-null    object\n",
      " 33  Worklife balance                     815 non-null    object\n",
      " 34  Stress and pressure support          810 non-null    object\n",
      " 35  Performance of supervisor            813 non-null    object\n",
      " 36  Peer support                         812 non-null    object\n",
      " 37  Initiative                           813 non-null    object\n",
      " 38  Skills                               811 non-null    object\n",
      " 39  Coach                                767 non-null    object\n",
      " 40  Career Aspirations                   746 non-null    object\n",
      " 41  Feedback                             792 non-null    object\n",
      " 42  Further PD                           768 non-null    object\n",
      " 43  Communication                        814 non-null    object\n",
      " 44  My say                               812 non-null    object\n",
      " 45  Information                          816 non-null    object\n",
      " 46  Kept informed                        813 non-null    object\n",
      " 47  Wellness programs                    766 non-null    object\n",
      " 48  Health & Safety                      793 non-null    object\n",
      " 49  Gender                               798 non-null    object\n",
      " 50  Age                                  811 non-null    object\n",
      " 51  Aboriginal                           16 non-null     object\n",
      " 52  Torres Strait                        3 non-null      object\n",
      " 53  South Sea                            7 non-null      object\n",
      " 54  Disability                           23 non-null     object\n",
      " 55  NESB                                 32 non-null     object\n",
      "dtypes: bool(18), int64(1), object(37)\n",
      "memory usage: 258.6+ KB\n"
     ]
    }
   ],
   "source": [
    "# Vamos a mostrar la información general de 'dete_survey'\n",
    "dete_survey.info()"
   ]
  },
  {
   "cell_type": "code",
   "execution_count": 6,
   "id": "c9518ff3",
   "metadata": {
    "scrolled": false
   },
   "outputs": [
    {
     "name": "stdout",
     "output_type": "stream",
     "text": [
      "<class 'pandas.core.frame.DataFrame'>\n",
      "RangeIndex: 702 entries, 0 to 701\n",
      "Data columns (total 72 columns):\n",
      " #   Column                                                                                                                                                         Non-Null Count  Dtype  \n",
      "---  ------                                                                                                                                                         --------------  -----  \n",
      " 0   Record ID                                                                                                                                                      702 non-null    int64  \n",
      " 1   Institute                                                                                                                                                      702 non-null    object \n",
      " 2   WorkArea                                                                                                                                                       702 non-null    object \n",
      " 3   CESSATION YEAR                                                                                                                                                 695 non-null    float64\n",
      " 4   Reason for ceasing employment                                                                                                                                  701 non-null    object \n",
      " 5   Contributing Factors. Career Move - Public Sector                                                                                                              437 non-null    object \n",
      " 6   Contributing Factors. Career Move - Private Sector                                                                                                             437 non-null    object \n",
      " 7   Contributing Factors. Career Move - Self-employment                                                                                                            437 non-null    object \n",
      " 8   Contributing Factors. Ill Health                                                                                                                               437 non-null    object \n",
      " 9   Contributing Factors. Maternity/Family                                                                                                                         437 non-null    object \n",
      " 10  Contributing Factors. Dissatisfaction                                                                                                                          437 non-null    object \n",
      " 11  Contributing Factors. Job Dissatisfaction                                                                                                                      437 non-null    object \n",
      " 12  Contributing Factors. Interpersonal Conflict                                                                                                                   437 non-null    object \n",
      " 13  Contributing Factors. Study                                                                                                                                    437 non-null    object \n",
      " 14  Contributing Factors. Travel                                                                                                                                   437 non-null    object \n",
      " 15  Contributing Factors. Other                                                                                                                                    437 non-null    object \n",
      " 16  Contributing Factors. NONE                                                                                                                                     437 non-null    object \n",
      " 17  Main Factor. ����Which of these was the main factor for leaving?                                                                                               113 non-null    object \n",
      " 18  InstituteViews. Topic:1. I feel the senior leadership had a clear vision and direction                                                                         608 non-null    object \n",
      " 19  InstituteViews. Topic:2. I was given access to skills training to help me do my job better                                                                     613 non-null    object \n",
      " 20  InstituteViews. Topic:3. I was given adequate opportunities for personal development                                                                           610 non-null    object \n",
      " 21  InstituteViews. Topic:4. I was given adequate opportunities for promotion within %Institute]Q25LBL%                                                            608 non-null    object \n",
      " 22  InstituteViews. Topic:5. I felt the salary for the job was right for the responsibilities I had                                                                615 non-null    object \n",
      " 23  InstituteViews. Topic:6. The organisation recognised when staff did good work                                                                                  607 non-null    object \n",
      " 24  InstituteViews. Topic:7. Management was generally supportive of me                                                                                             614 non-null    object \n",
      " 25  InstituteViews. Topic:8. Management was generally supportive of my team                                                                                        608 non-null    object \n",
      " 26  InstituteViews. Topic:9. I was kept informed of the changes in the organisation which would affect me                                                          610 non-null    object \n",
      " 27  InstituteViews. Topic:10. Staff morale was positive within the Institute                                                                                       602 non-null    object \n",
      " 28  InstituteViews. Topic:11. If I had a workplace issue it was dealt with quickly                                                                                 601 non-null    object \n",
      " 29  InstituteViews. Topic:12. If I had a workplace issue it was dealt with efficiently                                                                             597 non-null    object \n",
      " 30  InstituteViews. Topic:13. If I had a workplace issue it was dealt with discreetly                                                                              601 non-null    object \n",
      " 31  WorkUnitViews. Topic:14. I was satisfied with the quality of the management and supervision within my work unit                                                609 non-null    object \n",
      " 32  WorkUnitViews. Topic:15. I worked well with my colleagues                                                                                                      605 non-null    object \n",
      " 33  WorkUnitViews. Topic:16. My job was challenging and interesting                                                                                                607 non-null    object \n",
      " 34  WorkUnitViews. Topic:17. I was encouraged to use my initiative in the course of my work                                                                        610 non-null    object \n",
      " 35  WorkUnitViews. Topic:18. I had sufficient contact with other people in my job                                                                                  613 non-null    object \n",
      " 36  WorkUnitViews. Topic:19. I was given adequate support and co-operation by my peers to enable me to do my job                                                   609 non-null    object \n",
      " 37  WorkUnitViews. Topic:20. I was able to use the full range of my skills in my job                                                                               609 non-null    object \n",
      " 38  WorkUnitViews. Topic:21. I was able to use the full range of my abilities in my job. ; Category:Level of Agreement; Question:YOUR VIEWS ABOUT YOUR WORK UNIT]  608 non-null    object \n",
      " 39  WorkUnitViews. Topic:22. I was able to use the full range of my knowledge in my job                                                                            608 non-null    object \n",
      " 40  WorkUnitViews. Topic:23. My job provided sufficient variety                                                                                                    611 non-null    object \n",
      " 41  WorkUnitViews. Topic:24. I was able to cope with the level of stress and pressure in my job                                                                    610 non-null    object \n",
      " 42  WorkUnitViews. Topic:25. My job allowed me to balance the demands of work and family to my satisfaction                                                        611 non-null    object \n",
      " 43  WorkUnitViews. Topic:26. My supervisor gave me adequate personal recognition and feedback on my performance                                                    606 non-null    object \n",
      " 44  WorkUnitViews. Topic:27. My working environment was satisfactory e.g. sufficient space, good lighting, suitable seating and working area                       610 non-null    object \n",
      " 45  WorkUnitViews. Topic:28. I was given the opportunity to mentor and coach others in order for me to pass on my skills and knowledge prior to my cessation date  609 non-null    object \n",
      " 46  WorkUnitViews. Topic:29. There was adequate communication between staff in my unit                                                                             603 non-null    object \n",
      " 47  WorkUnitViews. Topic:30. Staff morale was positive within my work unit                                                                                         606 non-null    object \n",
      " 48  Induction. Did you undertake Workplace Induction?                                                                                                              619 non-null    object \n",
      " 49  InductionInfo. Topic:Did you undertake a Corporate Induction?                                                                                                  432 non-null    object \n",
      " 50  InductionInfo. Topic:Did you undertake a Institute Induction?                                                                                                  483 non-null    object \n",
      " 51  InductionInfo. Topic: Did you undertake Team Induction?                                                                                                        440 non-null    object \n",
      " 52  InductionInfo. Face to Face Topic:Did you undertake a Corporate Induction; Category:How it was conducted?                                                      555 non-null    object \n",
      " 53  InductionInfo. On-line Topic:Did you undertake a Corporate Induction; Category:How it was conducted?                                                           555 non-null    object \n",
      " 54  InductionInfo. Induction Manual Topic:Did you undertake a Corporate Induction?                                                                                 555 non-null    object \n",
      " 55  InductionInfo. Face to Face Topic:Did you undertake a Institute Induction?                                                                                     530 non-null    object \n",
      " 56  InductionInfo. On-line Topic:Did you undertake a Institute Induction?                                                                                          555 non-null    object \n",
      " 57  InductionInfo. Induction Manual Topic:Did you undertake a Institute Induction?                                                                                 553 non-null    object \n",
      " 58  InductionInfo. Face to Face Topic: Did you undertake Team Induction; Category?                                                                                 555 non-null    object \n",
      " 59  InductionInfo. On-line Topic: Did you undertake Team Induction?process you undertook and how it was conducted.]                                                555 non-null    object \n",
      " 60  InductionInfo. Induction Manual Topic: Did you undertake Team Induction?                                                                                       555 non-null    object \n",
      " 61  Workplace. Topic:Did you and your Manager develop a Performance and Professional Development Plan (PPDP)?                                                      608 non-null    object \n",
      " 62  Workplace. Topic:Does your workplace promote a work culture free from all forms of unlawful discrimination?                                                    594 non-null    object \n",
      " 63  Workplace. Topic:Does your workplace promote and practice the principles of employment equity?                                                                 587 non-null    object \n",
      " 64  Workplace. Topic:Does your workplace value the diversity of its employees?                                                                                     586 non-null    object \n",
      " 65  Workplace. Topic:Would you recommend the Institute as an employer to others?                                                                                   581 non-null    object \n",
      " 66  Gender. ����What is your Gender?                                                                                                                               596 non-null    object \n",
      " 67  CurrentAge. ����Current Age                                                                                                                                    596 non-null    object \n",
      " 68  Employment Type. ����Employment Type                                                                                                                           596 non-null    object \n",
      " 69  Classification. ����Classification                                                                                                                             596 non-null    object \n",
      " 70  LengthofServiceOverall. Overall Length of Service at Institute (in years)                                                                                      596 non-null    object \n",
      " 71  LengthofServiceCurrent. Length of Service at current workplace (in years)                                                                                      596 non-null    object \n",
      "dtypes: float64(1), int64(1), object(70)\n",
      "memory usage: 395.0+ KB\n"
     ]
    }
   ],
   "source": [
    "# Vamos a mostrar la información general de 'tafe_survey'\n",
    "tafe_survey.info()"
   ]
  },
  {
   "cell_type": "markdown",
   "id": "32bfed3d",
   "metadata": {},
   "source": [
    "**Comprobamos si existen valores nulos**"
   ]
  },
  {
   "cell_type": "code",
   "execution_count": 7,
   "id": "25073de1",
   "metadata": {
    "scrolled": false
   },
   "outputs": [
    {
     "data": {
      "text/plain": [
       "ID                                       0\n",
       "SeparationType                           0\n",
       "Cease Date                               0\n",
       "DETE Start Date                          0\n",
       "Role Start Date                          0\n",
       "Position                                 5\n",
       "Classification                         367\n",
       "Region                                   0\n",
       "Business Unit                          696\n",
       "Employment Status                        5\n",
       "Career move to public sector             0\n",
       "Career move to private sector            0\n",
       "Interpersonal conflicts                  0\n",
       "Job dissatisfaction                      0\n",
       "Dissatisfaction with the department      0\n",
       "Physical work environment                0\n",
       "Lack of recognition                      0\n",
       "Lack of job security                     0\n",
       "Work location                            0\n",
       "Employment conditions                    0\n",
       "Maternity/family                         0\n",
       "Relocation                               0\n",
       "Study/Travel                             0\n",
       "Ill Health                               0\n",
       "Traumatic incident                       0\n",
       "Work life balance                        0\n",
       "Workload                                 0\n",
       "None of the above                        0\n",
       "Professional Development                14\n",
       "Opportunities for promotion             87\n",
       "Staff morale                             6\n",
       "Workplace issue                         34\n",
       "Physical environment                     5\n",
       "Worklife balance                         7\n",
       "Stress and pressure support             12\n",
       "Performance of supervisor                9\n",
       "Peer support                            10\n",
       "Initiative                               9\n",
       "Skills                                  11\n",
       "Coach                                   55\n",
       "Career Aspirations                      76\n",
       "Feedback                                30\n",
       "Further PD                              54\n",
       "Communication                            8\n",
       "My say                                  10\n",
       "Information                              6\n",
       "Kept informed                            9\n",
       "Wellness programs                       56\n",
       "Health & Safety                         29\n",
       "Gender                                  24\n",
       "Age                                     11\n",
       "Aboriginal                             806\n",
       "Torres Strait                          819\n",
       "South Sea                              815\n",
       "Disability                             799\n",
       "NESB                                   790\n",
       "dtype: int64"
      ]
     },
     "execution_count": 7,
     "metadata": {},
     "output_type": "execute_result"
    }
   ],
   "source": [
    "# Comprobamos cuántos valores nulos existen en 'dete_survey'\n",
    "dete_survey.isnull().sum()"
   ]
  },
  {
   "cell_type": "code",
   "execution_count": 8,
   "id": "bfa930a6",
   "metadata": {
    "scrolled": true
   },
   "outputs": [
    {
     "data": {
      "text/plain": [
       "Record ID                                                                      0\n",
       "Institute                                                                      0\n",
       "WorkArea                                                                       0\n",
       "CESSATION YEAR                                                                 7\n",
       "Reason for ceasing employment                                                  1\n",
       "                                                                            ... \n",
       "CurrentAge. ����Current Age                                                  106\n",
       "Employment Type. ����Employment Type                                         106\n",
       "Classification. ����Classification                                           106\n",
       "LengthofServiceOverall. Overall Length of Service at Institute (in years)    106\n",
       "LengthofServiceCurrent. Length of Service at current workplace (in years)    106\n",
       "Length: 72, dtype: int64"
      ]
     },
     "execution_count": 8,
     "metadata": {},
     "output_type": "execute_result"
    }
   ],
   "source": [
    "# Comprobamos cuántos valores nulos existen en 'tafe_survey'\n",
    "tafe_survey.isnull().sum()"
   ]
  },
  {
   "cell_type": "markdown",
   "id": "4ad0ef28",
   "metadata": {},
   "source": [
    "**La información que nos muestran los dataframes es la siguiente:**\n",
    "\n",
    "- **dete_survey**\n",
    "    - Consta de 822 filas y 56 columnas\n",
    "    - Las columnas *'Aboriginal', 'Torres Strait', 'South Sea', 'Disability' y 'NESB'* tienen entre 790 y 819 valores nulos. Habrá que decidir qué hacer con estos datos que faltan.\n",
    "    - Algunos valores vienen por defecto como *Not Stated*. En realidad son valores nulos.\n",
    "\n",
    "- **tafe_survey**\n",
    "    - Consta de 702 filas y 72 columnas\n",
    "    - Muchas de las columnas son las mismas que en 'dete_survey', pero con otro nombre                               "
   ]
  },
  {
   "cell_type": "markdown",
   "id": "ed7fa074",
   "metadata": {},
   "source": [
    "## 3. Data Cleaning\n",
    "\n",
    "Vamos a empezar a acondicionar los dataframes para poder trabajar con ellos.\n",
    "\n",
    "De momento, vamos a leer de nuevo 'dete_survey' para que los valores *Not Stated* sean nulos, y eliminaremos columnas de ambos dataframes que no nos sirven para nuestro análisis.\n",
    "\n",
    "### 3.1. Valores nulos en 'dete_survey'\n",
    "\n",
    "Hemos visto que el dataframe 'dete_survey' tiene ciertos valores que en vez de ser nulos, aparecen como *Not Stated*. Vamos a leer de nuevo el dataset con pandas y trataremos estos valores como nulos:"
   ]
  },
  {
   "cell_type": "code",
   "execution_count": 9,
   "id": "30c13cb1",
   "metadata": {},
   "outputs": [],
   "source": [
    "# Leemos de nuevo el archivo dete.csv , pero esta vez indicando los valores que son nulos\n",
    "dete_survey = pd.read_csv('dete.csv', na_values='Not Stated')"
   ]
  },
  {
   "cell_type": "markdown",
   "id": "e9ded4d1",
   "metadata": {},
   "source": [
    "### 3.2. Eliminación de columnas innecesarias"
   ]
  },
  {
   "cell_type": "markdown",
   "id": "28d063d4",
   "metadata": {},
   "source": [
    "Hay varias columnas en ambos dataframes que no nos sirven para nuestros objetivos.\n",
    "\n",
    "Como explicamos en la Introducción, lo que queremos determinar es:\n",
    "\n",
    "- *¿Tuvieron los empleados que estuvieron trabajando durante periodos cortos alguna insatisfacción que les llevase a abandonar el empleo? ¿Y los más antiguos?*\n",
    "- *¿Los empleados más jóvenes resignaron por alguna insatisfacción? ¿Y los más mayores?*\n",
    "\n",
    "Por tanto, nos servirán las columnas con la siguiente información:\n",
    "\n",
    "- Información relativa al periodo trabajado\n",
    "- Información relativa a la edad del trabajador\n",
    "- Información relativa a las insatisfacciones del trabajador\n",
    "\n",
    "Si echamos un vistazo a las columnas de los dataframes, podemos ver que la estructura en ambos casos es la siguiente:\n",
    "\n",
    "- **Primeras columnas:** Info del trabajador, fechas, motivos del cese.\n",
    "- **Columnas centrales:** Encuesta sobre el trabajo en general\n",
    "- **Últimas columnas:** Género, edad. En el caso de 'tafe_survey', duración del Servicio\n",
    "\n",
    "Por lo tanto, y entrando más en detalle en las columnas concretas, **eliminaremos las columnas centrales, al no tener relevancia para nuestro análisis**."
   ]
  },
  {
   "cell_type": "markdown",
   "id": "3292e0fe",
   "metadata": {},
   "source": [
    "**En el dataframe 'dete_survey' eliminaremos desde la columna 28 hasta la 48, ambas incluidas.**"
   ]
  },
  {
   "cell_type": "markdown",
   "id": "bfdd9609",
   "metadata": {},
   "source": [
    "**En el dataframe 'tafe_survey' eliminaremos desde la columna 17 hasta la 65, ambas incluidas**"
   ]
  },
  {
   "cell_type": "code",
   "execution_count": 10,
   "id": "3ab0ca47",
   "metadata": {},
   "outputs": [],
   "source": [
    "# Creamos los nuevos dataframes, eliminando las columnas que no nos interesan:\n",
    "\n",
    "# dete_survey_updated\n",
    "dete_survey.drop(columns=dete_survey.columns[28:49], axis=1, inplace=True)\n",
    "\n",
    "# tafe_survey_updated\n",
    "tafe_survey.drop(columns=tafe_survey.columns[17:66], axis=1, inplace=True)"
   ]
  },
  {
   "cell_type": "markdown",
   "id": "f1ef5780",
   "metadata": {},
   "source": [
    "**Visualizamos los nuevos dataframes actualizados para comprobar que hemos eliminado las columnas deseadas:**"
   ]
  },
  {
   "cell_type": "code",
   "execution_count": 11,
   "id": "4e41b89d",
   "metadata": {
    "scrolled": false
   },
   "outputs": [
    {
     "name": "stdout",
     "output_type": "stream",
     "text": [
      "<class 'pandas.core.frame.DataFrame'>\n",
      "RangeIndex: 822 entries, 0 to 821\n",
      "Data columns (total 35 columns):\n",
      " #   Column                               Non-Null Count  Dtype  \n",
      "---  ------                               --------------  -----  \n",
      " 0   ID                                   822 non-null    int64  \n",
      " 1   SeparationType                       822 non-null    object \n",
      " 2   Cease Date                           788 non-null    object \n",
      " 3   DETE Start Date                      749 non-null    float64\n",
      " 4   Role Start Date                      724 non-null    float64\n",
      " 5   Position                             817 non-null    object \n",
      " 6   Classification                       455 non-null    object \n",
      " 7   Region                               717 non-null    object \n",
      " 8   Business Unit                        126 non-null    object \n",
      " 9   Employment Status                    817 non-null    object \n",
      " 10  Career move to public sector         822 non-null    bool   \n",
      " 11  Career move to private sector        822 non-null    bool   \n",
      " 12  Interpersonal conflicts              822 non-null    bool   \n",
      " 13  Job dissatisfaction                  822 non-null    bool   \n",
      " 14  Dissatisfaction with the department  822 non-null    bool   \n",
      " 15  Physical work environment            822 non-null    bool   \n",
      " 16  Lack of recognition                  822 non-null    bool   \n",
      " 17  Lack of job security                 822 non-null    bool   \n",
      " 18  Work location                        822 non-null    bool   \n",
      " 19  Employment conditions                822 non-null    bool   \n",
      " 20  Maternity/family                     822 non-null    bool   \n",
      " 21  Relocation                           822 non-null    bool   \n",
      " 22  Study/Travel                         822 non-null    bool   \n",
      " 23  Ill Health                           822 non-null    bool   \n",
      " 24  Traumatic incident                   822 non-null    bool   \n",
      " 25  Work life balance                    822 non-null    bool   \n",
      " 26  Workload                             822 non-null    bool   \n",
      " 27  None of the above                    822 non-null    bool   \n",
      " 28  Gender                               798 non-null    object \n",
      " 29  Age                                  811 non-null    object \n",
      " 30  Aboriginal                           16 non-null     object \n",
      " 31  Torres Strait                        3 non-null      object \n",
      " 32  South Sea                            7 non-null      object \n",
      " 33  Disability                           23 non-null     object \n",
      " 34  NESB                                 32 non-null     object \n",
      "dtypes: bool(18), float64(2), int64(1), object(14)\n",
      "memory usage: 123.7+ KB\n"
     ]
    }
   ],
   "source": [
    "# dete_survey_updated: nuevas columnas\n",
    "dete_survey.info()"
   ]
  },
  {
   "cell_type": "code",
   "execution_count": 12,
   "id": "6ae102c3",
   "metadata": {
    "scrolled": false
   },
   "outputs": [
    {
     "name": "stdout",
     "output_type": "stream",
     "text": [
      "<class 'pandas.core.frame.DataFrame'>\n",
      "RangeIndex: 702 entries, 0 to 701\n",
      "Data columns (total 23 columns):\n",
      " #   Column                                                                     Non-Null Count  Dtype  \n",
      "---  ------                                                                     --------------  -----  \n",
      " 0   Record ID                                                                  702 non-null    int64  \n",
      " 1   Institute                                                                  702 non-null    object \n",
      " 2   WorkArea                                                                   702 non-null    object \n",
      " 3   CESSATION YEAR                                                             695 non-null    float64\n",
      " 4   Reason for ceasing employment                                              701 non-null    object \n",
      " 5   Contributing Factors. Career Move - Public Sector                          437 non-null    object \n",
      " 6   Contributing Factors. Career Move - Private Sector                         437 non-null    object \n",
      " 7   Contributing Factors. Career Move - Self-employment                        437 non-null    object \n",
      " 8   Contributing Factors. Ill Health                                           437 non-null    object \n",
      " 9   Contributing Factors. Maternity/Family                                     437 non-null    object \n",
      " 10  Contributing Factors. Dissatisfaction                                      437 non-null    object \n",
      " 11  Contributing Factors. Job Dissatisfaction                                  437 non-null    object \n",
      " 12  Contributing Factors. Interpersonal Conflict                               437 non-null    object \n",
      " 13  Contributing Factors. Study                                                437 non-null    object \n",
      " 14  Contributing Factors. Travel                                               437 non-null    object \n",
      " 15  Contributing Factors. Other                                                437 non-null    object \n",
      " 16  Contributing Factors. NONE                                                 437 non-null    object \n",
      " 17  Gender. ����What is your Gender?                                           596 non-null    object \n",
      " 18  CurrentAge. ����Current Age                                                596 non-null    object \n",
      " 19  Employment Type. ����Employment Type                                       596 non-null    object \n",
      " 20  Classification. ����Classification                                         596 non-null    object \n",
      " 21  LengthofServiceOverall. Overall Length of Service at Institute (in years)  596 non-null    object \n",
      " 22  LengthofServiceCurrent. Length of Service at current workplace (in years)  596 non-null    object \n",
      "dtypes: float64(1), int64(1), object(21)\n",
      "memory usage: 126.3+ KB\n"
     ]
    }
   ],
   "source": [
    "# tafe_survey_updated: nuevas columnas\n",
    "tafe_survey.info()"
   ]
  },
  {
   "cell_type": "markdown",
   "id": "975f1418",
   "metadata": {},
   "source": [
    "### 3.3. Estandarización de columnas"
   ]
  },
  {
   "cell_type": "markdown",
   "id": "8af9ea11",
   "metadata": {},
   "source": [
    "Ahora que tenemos los dos dataframes con las columnas que nos interesan, vamos a identificar las columnas comunes entre ambos.\n",
    "\n",
    "Concretamente, podemos ver que las siguientes columnas ofrecen la misma información, pero tienen nombres distintos:"
   ]
  },
  {
   "cell_type": "code",
   "execution_count": 13,
   "id": "4ab56915",
   "metadata": {},
   "outputs": [
    {
     "data": {
      "text/html": [
       "<style  type=\"text/css\" >\n",
       "</style><table id=\"T_4d785_\" ><thead>    <tr>        <th class=\"col_heading level0 col0\" >dete_survey</th>        <th class=\"col_heading level0 col1\" >tafe_survey</th>        <th class=\"col_heading level0 col2\" >Definición</th>    </tr></thead><tbody>\n",
       "                <tr>\n",
       "                                <td id=\"T_4d785_row0_col0\" class=\"data row0 col0\" >ID</td>\n",
       "                        <td id=\"T_4d785_row0_col1\" class=\"data row0 col1\" >Record ID</td>\n",
       "                        <td id=\"T_4d785_row0_col2\" class=\"data row0 col2\" >ID del trabajador</td>\n",
       "            </tr>\n",
       "            <tr>\n",
       "                                <td id=\"T_4d785_row1_col0\" class=\"data row1 col0\" >SeparationType</td>\n",
       "                        <td id=\"T_4d785_row1_col1\" class=\"data row1 col1\" >Reason for ceasing employment</td>\n",
       "                        <td id=\"T_4d785_row1_col2\" class=\"data row1 col2\" >Razón del cese</td>\n",
       "            </tr>\n",
       "            <tr>\n",
       "                                <td id=\"T_4d785_row2_col0\" class=\"data row2 col0\" >Cease Date</td>\n",
       "                        <td id=\"T_4d785_row2_col1\" class=\"data row2 col1\" >CESSATION YEAR</td>\n",
       "                        <td id=\"T_4d785_row2_col2\" class=\"data row2 col2\" >Fecha del cese</td>\n",
       "            </tr>\n",
       "            <tr>\n",
       "                                <td id=\"T_4d785_row3_col0\" class=\"data row3 col0\" >Age</td>\n",
       "                        <td id=\"T_4d785_row3_col1\" class=\"data row3 col1\" >CurrentAge.CurrentAge</td>\n",
       "                        <td id=\"T_4d785_row3_col2\" class=\"data row3 col2\" >Edad del trabajador</td>\n",
       "            </tr>\n",
       "            <tr>\n",
       "                                <td id=\"T_4d785_row4_col0\" class=\"data row4 col0\" >Gender</td>\n",
       "                        <td id=\"T_4d785_row4_col1\" class=\"data row4 col1\" >Gender.What is your Gender?</td>\n",
       "                        <td id=\"T_4d785_row4_col2\" class=\"data row4 col2\" >Género del trabajador</td>\n",
       "            </tr>\n",
       "    </tbody></table>"
      ],
      "text/plain": [
       "<pandas.io.formats.style.Styler at 0x291edbf0dc0>"
      ]
     },
     "execution_count": 13,
     "metadata": {},
     "output_type": "execute_result"
    }
   ],
   "source": [
    "# Creamos un pequeño dataframe para mostrar las columnas coincidentes\n",
    "\n",
    "d = {'dete_survey': ['ID', 'SeparationType', 'Cease Date', 'Age', 'Gender'], \n",
    "     'tafe_survey': ['Record ID', 'Reason for ceasing employment', 'CESSATION YEAR', \n",
    "                     'CurrentAge.CurrentAge', 'Gender.What is your Gender?'],\n",
    "     'Definición': ['ID del trabajador', 'Razón del cese', 'Fecha del cese', \n",
    "                    'Edad del trabajador', 'Género del trabajador']}\n",
    "\n",
    "df = pd.DataFrame(data=d)\n",
    "\n",
    "# En notebook, el código para no mostrar los índices es el siguiente\n",
    "df.style.hide_index()"
   ]
  },
  {
   "cell_type": "markdown",
   "id": "252179f0",
   "metadata": {},
   "source": [
    "**Antes de igualar los nombres de las columnas en ambos dataframes, vamos a modificar los nombres de todas las columnas en 'dete_survey_updated', de acuerdo a los siguientes criterios:**\n",
    "\n",
    "- Todas las letras serán minúsculas\n",
    "- Eliminaremos los espacios en blanco con str.strip()\n",
    "- Los espacios entre palabras, los reemplazaremos por una barra baja \"_\""
   ]
  },
  {
   "cell_type": "code",
   "execution_count": 14,
   "id": "e3b25e7f",
   "metadata": {},
   "outputs": [],
   "source": [
    "# Pandas nos permite encadenar todos los métodos que necesitamos\n",
    "columns = dete_survey.columns.str.replace(\" \",\"_\").str.lower().str.strip()\n",
    "dete_survey.columns = columns"
   ]
  },
  {
   "cell_type": "code",
   "execution_count": 15,
   "id": "68bb29fb",
   "metadata": {},
   "outputs": [
    {
     "data": {
      "text/plain": [
       "Index(['id', 'separationtype', 'cease_date', 'dete_start_date',\n",
       "       'role_start_date', 'position', 'classification', 'region',\n",
       "       'business_unit', 'employment_status', 'career_move_to_public_sector',\n",
       "       'career_move_to_private_sector', 'interpersonal_conflicts',\n",
       "       'job_dissatisfaction', 'dissatisfaction_with_the_department',\n",
       "       'physical_work_environment', 'lack_of_recognition',\n",
       "       'lack_of_job_security', 'work_location', 'employment_conditions',\n",
       "       'maternity/family', 'relocation', 'study/travel', 'ill_health',\n",
       "       'traumatic_incident', 'work_life_balance', 'workload',\n",
       "       'none_of_the_above', 'gender', 'age', 'aboriginal', 'torres_strait',\n",
       "       'south_sea', 'disability', 'nesb'],\n",
       "      dtype='object')"
      ]
     },
     "execution_count": 15,
     "metadata": {},
     "output_type": "execute_result"
    }
   ],
   "source": [
    "# Comprobamos el nuevo estado de las columnas\n",
    "dete_survey.columns"
   ]
  },
  {
   "cell_type": "markdown",
   "id": "9df71324",
   "metadata": {},
   "source": [
    "**Ahora que tenemos las columnas estandarizadas en 'dete_survey', vamos a renombrar las columnas comunes a ambos dataframes en 'tafe_survey' :**"
   ]
  },
  {
   "cell_type": "code",
   "execution_count": 16,
   "id": "61adbeb6",
   "metadata": {},
   "outputs": [],
   "source": [
    "# Las columnas del TAFE que vamos a renombrar son las siguientes:\n",
    "new_cols = {\n",
    "    'Record ID': 'id',\n",
    "    'CESSATION YEAR': 'cease_date',\n",
    "    'Reason for ceasing employment': 'separationtype',\n",
    "    'Gender. ����What is your Gender?': 'gender',\n",
    "    'CurrentAge. ����Current Age': 'age',\n",
    "    'Employment Type. ����Employment Type': 'employment_status',\n",
    "    'Classification. ����Classification': 'position',\n",
    "    'LengthofServiceOverall. Overall Length of Service at Institute (in years)': 'institute_service',\n",
    "    'LengthofServiceCurrent. Length of Service at current workplace (in years)': 'role_service'\n",
    "}"
   ]
  },
  {
   "cell_type": "code",
   "execution_count": 17,
   "id": "e7c32249",
   "metadata": {},
   "outputs": [],
   "source": [
    "# Realizamos la conversión\n",
    "tafe_survey.rename(new_cols, inplace=True, axis=1)"
   ]
  },
  {
   "cell_type": "code",
   "execution_count": 18,
   "id": "6d83bbc8",
   "metadata": {},
   "outputs": [
    {
     "data": {
      "text/plain": [
       "Index(['id', 'Institute', 'WorkArea', 'cease_date', 'separationtype',\n",
       "       'Contributing Factors. Career Move - Public Sector ',\n",
       "       'Contributing Factors. Career Move - Private Sector ',\n",
       "       'Contributing Factors. Career Move - Self-employment',\n",
       "       'Contributing Factors. Ill Health',\n",
       "       'Contributing Factors. Maternity/Family',\n",
       "       'Contributing Factors. Dissatisfaction',\n",
       "       'Contributing Factors. Job Dissatisfaction',\n",
       "       'Contributing Factors. Interpersonal Conflict',\n",
       "       'Contributing Factors. Study', 'Contributing Factors. Travel',\n",
       "       'Contributing Factors. Other', 'Contributing Factors. NONE', 'gender',\n",
       "       'age', 'employment_status', 'position', 'institute_service',\n",
       "       'role_service'],\n",
       "      dtype='object')"
      ]
     },
     "execution_count": 18,
     "metadata": {},
     "output_type": "execute_result"
    }
   ],
   "source": [
    "# Comprobamos el nuevo estado de las columnas\n",
    "tafe_survey.columns"
   ]
  },
  {
   "cell_type": "markdown",
   "id": "c28d2663",
   "metadata": {},
   "source": [
    "**Las columnas de 'tafe_survey' no las vamos a estandarizar de la misma manera que las de 'dete_survey', porque podría ser más tedioso encontrar alguna columna que necesitemos en un futuro.**\n",
    "\n",
    "Por ejemplo, la columna *Contributing Factors. Dissatisfaction*, se lee de manera más clara así que de esta manera: *contributing_factors_dissatisfaction*.\n",
    "\n",
    "La estandarización que realizaremos será básica:\n",
    "\n",
    "- Todas las letras serán minúsculas para igualar los nombres a los de las nuevas columnas\n",
    "- Eliminaremos los espacios en blanco al principio y al final"
   ]
  },
  {
   "cell_type": "code",
   "execution_count": 19,
   "id": "847dec5c",
   "metadata": {},
   "outputs": [],
   "source": [
    "# Encadenamos métodos, de la misma manera que antes\n",
    "tafe_survey.columns = tafe_survey.columns.str.strip().str.lower()"
   ]
  },
  {
   "cell_type": "code",
   "execution_count": 20,
   "id": "c2572238",
   "metadata": {},
   "outputs": [
    {
     "data": {
      "text/plain": [
       "Index(['id', 'institute', 'workarea', 'cease_date', 'separationtype',\n",
       "       'contributing factors. career move - public sector',\n",
       "       'contributing factors. career move - private sector',\n",
       "       'contributing factors. career move - self-employment',\n",
       "       'contributing factors. ill health',\n",
       "       'contributing factors. maternity/family',\n",
       "       'contributing factors. dissatisfaction',\n",
       "       'contributing factors. job dissatisfaction',\n",
       "       'contributing factors. interpersonal conflict',\n",
       "       'contributing factors. study', 'contributing factors. travel',\n",
       "       'contributing factors. other', 'contributing factors. none', 'gender',\n",
       "       'age', 'employment_status', 'position', 'institute_service',\n",
       "       'role_service'],\n",
       "      dtype='object')"
      ]
     },
     "execution_count": 20,
     "metadata": {},
     "output_type": "execute_result"
    }
   ],
   "source": [
    "# Comprobamos el estado de las columnas tras la estandarización\n",
    "tafe_survey.columns"
   ]
  },
  {
   "cell_type": "markdown",
   "id": "1ae6bd88",
   "metadata": {},
   "source": [
    "### 3.4. Filtro por bajas voluntarias"
   ]
  },
  {
   "cell_type": "markdown",
   "id": "eb35ac55",
   "metadata": {},
   "source": [
    "Todavía quedan datos en los dataframes que no son relevantes para determinar nuestros objetivos: conocer las insatisfacciones de los empleados que causaron baja. Vamos a explorar los dataframes en busca de datos que no nos interesen para hacer aún más ligera la cantidad de datos que debemos manejar.\n",
    "\n",
    "Es lógico pensar que no todos los trabajadores renunciaron al empleo, sino que habrá distintos motivos de cese que no están relacionados con una baja voluntaria por parte del trabajador a raíz de una insatisfacción (cese por fuerza mayor, jubilación, etc.). En este caso, solo nos interesarían los datos de los trabajadores que causaron baja voluntaria, porque las bajas por otras causas no son parte de nuestro análisis.\n",
    "\n",
    "**Vamos a recurrir a las columnas que contienen datos relacionados con los ceses para explorarlos de una manera más profunda:**"
   ]
  },
  {
   "cell_type": "code",
   "execution_count": 21,
   "id": "7410501f",
   "metadata": {},
   "outputs": [
    {
     "data": {
      "text/plain": [
       "Age Retirement                          285\n",
       "Resignation-Other reasons               150\n",
       "Resignation-Other employer               91\n",
       "Resignation-Move overseas/interstate     70\n",
       "Voluntary Early Retirement (VER)         67\n",
       "Ill Health Retirement                    61\n",
       "Other                                    49\n",
       "Contract Expired                         34\n",
       "Termination                              15\n",
       "Name: separationtype, dtype: int64"
      ]
     },
     "execution_count": 21,
     "metadata": {},
     "output_type": "execute_result"
    }
   ],
   "source": [
    "# Valores únicos en 'dete_survey'\n",
    "dete_survey['separationtype'].value_counts()"
   ]
  },
  {
   "cell_type": "code",
   "execution_count": 22,
   "id": "50b3da6f",
   "metadata": {},
   "outputs": [
    {
     "data": {
      "text/plain": [
       "Resignation                 340\n",
       "Contract Expired            127\n",
       "Retrenchment/ Redundancy    104\n",
       "Retirement                   82\n",
       "Transfer                     25\n",
       "Termination                  23\n",
       "Name: separationtype, dtype: int64"
      ]
     },
     "execution_count": 22,
     "metadata": {},
     "output_type": "execute_result"
    }
   ],
   "source": [
    "# Valores únicos en 'tafe_survey'\n",
    "tafe_survey['separationtype'].value_counts()"
   ]
  },
  {
   "cell_type": "markdown",
   "id": "732e0917",
   "metadata": {},
   "source": [
    "Los datos que hemos obtenido son los siguientes:\n",
    "\n",
    "- **En el caso del DETE:**\n",
    "    - El caso concreto más común de cese de los trabajadores fue la jubilación, con 285 casos.\n",
    "    - En caso de baja voluntaria/resignación, hay tres columnas-*otros motivos, otro empleo, cambio de domicilio*. Entre las tres suman 311 casos, más que la causa concreta más común (jubilación, 285 casos).\n",
    "    - Por tanto, la causa general de baja de trabajadores más común es la baja voluntaria.\n",
    "\n",
    "- **En el caso del TAFE:**\n",
    "    - El caso más común fue la baja voluntaria/resignación, con 340 casos, muy por encima de la segunda causa(fin de contrato). Es cierto que no se especifica el motivo de la baja, pero en todo caso fue el trabajador el que abandonó el empleo por propia voluntad.\n",
    "    \n",
    "**Por tanto, el siguiente paso que vamos a realizar será filtrar los datos, y nos quedaremos con los de aquellos trabajadores que abandonaron voluntariamente su empleo.**"
   ]
  },
  {
   "cell_type": "code",
   "execution_count": 23,
   "id": "d543bc60",
   "metadata": {},
   "outputs": [],
   "source": [
    "# Bajas voluntarias del DETE\n",
    "dete_survey = dete_survey[dete_survey.separationtype.str.contains('Resignation')].copy()"
   ]
  },
  {
   "cell_type": "code",
   "execution_count": 24,
   "id": "4d08e4c6",
   "metadata": {},
   "outputs": [
    {
     "data": {
      "text/plain": [
       "Resignation-Other reasons               150\n",
       "Resignation-Other employer               91\n",
       "Resignation-Move overseas/interstate     70\n",
       "Name: separationtype, dtype: int64"
      ]
     },
     "execution_count": 24,
     "metadata": {},
     "output_type": "execute_result"
    }
   ],
   "source": [
    "# Comprobamos que los valores son correctos\n",
    "dete_survey['separationtype'].value_counts()"
   ]
  },
  {
   "cell_type": "code",
   "execution_count": 25,
   "id": "5f3ca466",
   "metadata": {},
   "outputs": [],
   "source": [
    "# Bajas voluntarias del TAFE\n",
    "tafe_survey = tafe_survey[(tafe_survey.separationtype == 'Resignation')].copy()"
   ]
  },
  {
   "cell_type": "code",
   "execution_count": 26,
   "id": "48be384a",
   "metadata": {},
   "outputs": [
    {
     "data": {
      "text/plain": [
       "Resignation    340\n",
       "Name: separationtype, dtype: int64"
      ]
     },
     "execution_count": 26,
     "metadata": {},
     "output_type": "execute_result"
    }
   ],
   "source": [
    "# Comprobamos que los valores son correctos\n",
    "tafe_survey['separationtype'].value_counts()"
   ]
  },
  {
   "cell_type": "markdown",
   "id": "e2178b9b",
   "metadata": {},
   "source": [
    "### 3.5. Verificación de la consistencia de los datos"
   ]
  },
  {
   "cell_type": "markdown",
   "id": "ae3172b8",
   "metadata": {},
   "source": [
    "Ahora que tenemos dos dataframes con los datos de los trabajadores que nos interesan, vamos a comprobar que los datos que tenemos son consistentes y están listos para poder efectuar un análisis sobre ellos. \n",
    "\n",
    "Vamos a ver la información de los dataframes que acabamos de crear:"
   ]
  },
  {
   "cell_type": "code",
   "execution_count": 27,
   "id": "0667cdf6",
   "metadata": {
    "scrolled": false
   },
   "outputs": [
    {
     "name": "stdout",
     "output_type": "stream",
     "text": [
      "<class 'pandas.core.frame.DataFrame'>\n",
      "Int64Index: 311 entries, 3 to 821\n",
      "Data columns (total 35 columns):\n",
      " #   Column                               Non-Null Count  Dtype  \n",
      "---  ------                               --------------  -----  \n",
      " 0   id                                   311 non-null    int64  \n",
      " 1   separationtype                       311 non-null    object \n",
      " 2   cease_date                           300 non-null    object \n",
      " 3   dete_start_date                      283 non-null    float64\n",
      " 4   role_start_date                      271 non-null    float64\n",
      " 5   position                             308 non-null    object \n",
      " 6   classification                       161 non-null    object \n",
      " 7   region                               265 non-null    object \n",
      " 8   business_unit                        32 non-null     object \n",
      " 9   employment_status                    307 non-null    object \n",
      " 10  career_move_to_public_sector         311 non-null    bool   \n",
      " 11  career_move_to_private_sector        311 non-null    bool   \n",
      " 12  interpersonal_conflicts              311 non-null    bool   \n",
      " 13  job_dissatisfaction                  311 non-null    bool   \n",
      " 14  dissatisfaction_with_the_department  311 non-null    bool   \n",
      " 15  physical_work_environment            311 non-null    bool   \n",
      " 16  lack_of_recognition                  311 non-null    bool   \n",
      " 17  lack_of_job_security                 311 non-null    bool   \n",
      " 18  work_location                        311 non-null    bool   \n",
      " 19  employment_conditions                311 non-null    bool   \n",
      " 20  maternity/family                     311 non-null    bool   \n",
      " 21  relocation                           311 non-null    bool   \n",
      " 22  study/travel                         311 non-null    bool   \n",
      " 23  ill_health                           311 non-null    bool   \n",
      " 24  traumatic_incident                   311 non-null    bool   \n",
      " 25  work_life_balance                    311 non-null    bool   \n",
      " 26  workload                             311 non-null    bool   \n",
      " 27  none_of_the_above                    311 non-null    bool   \n",
      " 28  gender                               302 non-null    object \n",
      " 29  age                                  306 non-null    object \n",
      " 30  aboriginal                           7 non-null      object \n",
      " 31  torres_strait                        0 non-null      object \n",
      " 32  south_sea                            3 non-null      object \n",
      " 33  disability                           8 non-null      object \n",
      " 34  nesb                                 9 non-null      object \n",
      "dtypes: bool(18), float64(2), int64(1), object(14)\n",
      "memory usage: 49.2+ KB\n"
     ]
    }
   ],
   "source": [
    "dete_survey.info()"
   ]
  },
  {
   "cell_type": "code",
   "execution_count": 28,
   "id": "8dab8d4b",
   "metadata": {
    "scrolled": false
   },
   "outputs": [
    {
     "name": "stdout",
     "output_type": "stream",
     "text": [
      "<class 'pandas.core.frame.DataFrame'>\n",
      "Int64Index: 340 entries, 3 to 701\n",
      "Data columns (total 23 columns):\n",
      " #   Column                                               Non-Null Count  Dtype  \n",
      "---  ------                                               --------------  -----  \n",
      " 0   id                                                   340 non-null    int64  \n",
      " 1   institute                                            340 non-null    object \n",
      " 2   workarea                                             340 non-null    object \n",
      " 3   cease_date                                           335 non-null    float64\n",
      " 4   separationtype                                       340 non-null    object \n",
      " 5   contributing factors. career move - public sector    332 non-null    object \n",
      " 6   contributing factors. career move - private sector   332 non-null    object \n",
      " 7   contributing factors. career move - self-employment  332 non-null    object \n",
      " 8   contributing factors. ill health                     332 non-null    object \n",
      " 9   contributing factors. maternity/family               332 non-null    object \n",
      " 10  contributing factors. dissatisfaction                332 non-null    object \n",
      " 11  contributing factors. job dissatisfaction            332 non-null    object \n",
      " 12  contributing factors. interpersonal conflict         332 non-null    object \n",
      " 13  contributing factors. study                          332 non-null    object \n",
      " 14  contributing factors. travel                         332 non-null    object \n",
      " 15  contributing factors. other                          332 non-null    object \n",
      " 16  contributing factors. none                           332 non-null    object \n",
      " 17  gender                                               290 non-null    object \n",
      " 18  age                                                  290 non-null    object \n",
      " 19  employment_status                                    290 non-null    object \n",
      " 20  position                                             290 non-null    object \n",
      " 21  institute_service                                    290 non-null    object \n",
      " 22  role_service                                         290 non-null    object \n",
      "dtypes: float64(1), int64(1), object(21)\n",
      "memory usage: 63.8+ KB\n"
     ]
    }
   ],
   "source": [
    "tafe_survey.info()"
   ]
  },
  {
   "cell_type": "markdown",
   "id": "cbe587fd",
   "metadata": {},
   "source": [
    "**Vamos a comprobar que las fechas y los periodos que figuran en ambos dataframes tengan sentido. Una fecha posterior a la creación del dataset no tendría sentido, una edad extraña(menos de 18 años,por ejemplo) tampoco tendría sentido, etc.**"
   ]
  },
  {
   "cell_type": "markdown",
   "id": "31e6e685",
   "metadata": {},
   "source": [
    "### 3.5.1. Columnas *cease_date*\n",
    "\n",
    "Empezamos verificando las fechas en las columnas *cease_date* de ambos dataframes. \n",
    "\n",
    "Vamos a ver los valores únicos de ambas columnas:"
   ]
  },
  {
   "cell_type": "code",
   "execution_count": 29,
   "id": "144e8e88",
   "metadata": {
    "scrolled": true
   },
   "outputs": [
    {
     "data": {
      "text/plain": [
       "2012       126\n",
       "2013        74\n",
       "01/2014     22\n",
       "12/2013     17\n",
       "06/2013     14\n",
       "09/2013     11\n",
       "07/2013      9\n",
       "11/2013      9\n",
       "10/2013      6\n",
       "08/2013      4\n",
       "05/2012      2\n",
       "05/2013      2\n",
       "07/2006      1\n",
       "2010         1\n",
       "09/2010      1\n",
       "07/2012      1\n",
       "Name: cease_date, dtype: int64"
      ]
     },
     "execution_count": 29,
     "metadata": {},
     "output_type": "execute_result"
    }
   ],
   "source": [
    "# Comprobamos la cantidad de valores únicos en DETE\n",
    "dete_survey.cease_date.value_counts()"
   ]
  },
  {
   "cell_type": "code",
   "execution_count": 30,
   "id": "6c00a7b8",
   "metadata": {},
   "outputs": [
    {
     "data": {
      "text/plain": [
       "2011.0    116\n",
       "2012.0     94\n",
       "2010.0     68\n",
       "2013.0     55\n",
       "2009.0      2\n",
       "Name: cease_date, dtype: int64"
      ]
     },
     "execution_count": 30,
     "metadata": {},
     "output_type": "execute_result"
    }
   ],
   "source": [
    "# Comprobamos la cantidad de valores únicos en 'tafe_survey'\n",
    "tafe_survey['cease_date'].value_counts()"
   ]
  },
  {
   "cell_type": "markdown",
   "id": "4d645234",
   "metadata": {},
   "source": [
    "Los meses en los que se produjo el cese del trabajador no nos interesan mucho, porque no cambiarán nada en nuestras conclusiones. En 'dete_survey', vamos a eliminarlos, extraeremos los años de las fechas y los convertiremos a float(los dejamos de esta manera por si hubiese que operar con ellos en el futuro; creemos que no tiene sentido transformarlos a objetos datetime)."
   ]
  },
  {
   "cell_type": "code",
   "execution_count": 31,
   "id": "b5b85fa1",
   "metadata": {},
   "outputs": [],
   "source": [
    "dete_survey = dete_survey[~dete_survey.cease_date.isna()]"
   ]
  },
  {
   "cell_type": "code",
   "execution_count": 32,
   "id": "d6bac8f6",
   "metadata": {},
   "outputs": [],
   "source": [
    "# Creamos una función para extraer los años\n",
    "def clean_date(row):\n",
    "    if '/' in row:\n",
    "        return row.split('/')[1]\n",
    "    else:\n",
    "        return row\n",
    "    \n",
    "dete_survey.cease_date = dete_survey.cease_date.apply(clean_date).astype(float)"
   ]
  },
  {
   "cell_type": "code",
   "execution_count": 33,
   "id": "6833c56a",
   "metadata": {},
   "outputs": [
    {
     "data": {
      "text/plain": [
       "2013.0    146\n",
       "2012.0    129\n",
       "2014.0     22\n",
       "2010.0      2\n",
       "2006.0      1\n",
       "Name: cease_date, dtype: int64"
      ]
     },
     "execution_count": 33,
     "metadata": {},
     "output_type": "execute_result"
    }
   ],
   "source": [
    "# Mostramos los nuevos valores \n",
    "dete_survey.cease_date.value_counts(dropna=False)"
   ]
  },
  {
   "cell_type": "code",
   "execution_count": 34,
   "id": "1f3c00d4",
   "metadata": {},
   "outputs": [],
   "source": [
    "tafe_survey = tafe_survey[~tafe_survey.cease_date.isna()]"
   ]
  },
  {
   "cell_type": "code",
   "execution_count": 35,
   "id": "758e4f27",
   "metadata": {},
   "outputs": [],
   "source": [
    "# Convertimos a float64 también los años de TAFE\n",
    "tafe_survey['cease_date'] = tafe_survey['cease_date'].astype(float)"
   ]
  },
  {
   "cell_type": "code",
   "execution_count": 36,
   "id": "178e0928",
   "metadata": {},
   "outputs": [
    {
     "data": {
      "text/plain": [
       "2011.0    116\n",
       "2012.0     94\n",
       "2010.0     68\n",
       "2013.0     55\n",
       "2009.0      2\n",
       "Name: cease_date, dtype: int64"
      ]
     },
     "execution_count": 36,
     "metadata": {},
     "output_type": "execute_result"
    }
   ],
   "source": [
    "# Valores en cease_date TAFE\n",
    "tafe_survey['cease_date'].value_counts(dropna=False)"
   ]
  },
  {
   "cell_type": "markdown",
   "id": "5ba478c0",
   "metadata": {},
   "source": [
    "### 3.5.2. Columna *dete_start_date* \n",
    "\n",
    "El dataset del TAFE no dispone de la fecha de incorporación de los trabajadores, pero el del DETE sí, por lo que vamos a comprobar la calidad de los datos en esta columna concreta.\n",
    "\n",
    "Verificamos los valores únicos en la columna:"
   ]
  },
  {
   "cell_type": "code",
   "execution_count": 37,
   "id": "4d45edde",
   "metadata": {
    "scrolled": false
   },
   "outputs": [
    {
     "data": {
      "text/plain": [
       "1963.0     1\n",
       "1971.0     1\n",
       "1972.0     1\n",
       "1973.0     1\n",
       "1974.0     2\n",
       "1975.0     1\n",
       "1976.0     2\n",
       "1977.0     1\n",
       "1980.0     5\n",
       "1982.0     1\n",
       "1983.0     2\n",
       "1985.0     3\n",
       "1986.0     3\n",
       "1988.0     4\n",
       "1989.0     4\n",
       "1990.0     4\n",
       "1991.0     4\n",
       "1992.0     6\n",
       "1993.0     5\n",
       "1994.0     6\n",
       "1995.0     3\n",
       "1996.0     6\n",
       "1997.0     5\n",
       "1998.0     6\n",
       "1999.0     8\n",
       "2000.0     8\n",
       "2001.0     3\n",
       "2002.0     6\n",
       "2003.0     6\n",
       "2004.0    14\n",
       "2005.0    14\n",
       "2006.0    12\n",
       "2007.0    20\n",
       "2008.0    22\n",
       "2009.0    13\n",
       "2010.0    17\n",
       "2011.0    23\n",
       "2012.0    20\n",
       "2013.0    10\n",
       "NaN       27\n",
       "Name: dete_start_date, dtype: int64"
      ]
     },
     "execution_count": 37,
     "metadata": {},
     "output_type": "execute_result"
    }
   ],
   "source": [
    "# Valores únicos en 'dete_start_date'\n",
    "dete_survey['dete_start_date'].value_counts(dropna=False).sort_index(ascending=True)"
   ]
  },
  {
   "cell_type": "markdown",
   "id": "d470fb3d",
   "metadata": {},
   "source": [
    "Existen 27 valores nulos que también eliminaremos para que no entorpezcan los análisis."
   ]
  },
  {
   "cell_type": "code",
   "execution_count": 38,
   "id": "f443d81f",
   "metadata": {},
   "outputs": [],
   "source": [
    "# Eliminamos de nuevo los valores NaN por conveniencia\n",
    "dete_survey = dete_survey[~dete_survey.dete_start_date.isna()]"
   ]
  },
  {
   "cell_type": "code",
   "execution_count": 39,
   "id": "bd4ac47e",
   "metadata": {
    "scrolled": false
   },
   "outputs": [
    {
     "data": {
      "text/plain": [
       "2011.0    23\n",
       "2008.0    22\n",
       "2012.0    20\n",
       "2007.0    20\n",
       "2010.0    17\n",
       "2005.0    14\n",
       "2004.0    14\n",
       "2009.0    13\n",
       "2006.0    12\n",
       "2013.0    10\n",
       "1999.0     8\n",
       "2000.0     8\n",
       "1996.0     6\n",
       "1998.0     6\n",
       "1992.0     6\n",
       "2003.0     6\n",
       "2002.0     6\n",
       "1994.0     6\n",
       "1980.0     5\n",
       "1997.0     5\n",
       "1993.0     5\n",
       "1989.0     4\n",
       "1988.0     4\n",
       "1990.0     4\n",
       "1991.0     4\n",
       "1995.0     3\n",
       "2001.0     3\n",
       "1985.0     3\n",
       "1986.0     3\n",
       "1974.0     2\n",
       "1976.0     2\n",
       "1983.0     2\n",
       "1971.0     1\n",
       "1973.0     1\n",
       "1982.0     1\n",
       "1977.0     1\n",
       "1963.0     1\n",
       "1972.0     1\n",
       "1975.0     1\n",
       "Name: dete_start_date, dtype: int64"
      ]
     },
     "execution_count": 39,
     "metadata": {},
     "output_type": "execute_result"
    }
   ],
   "source": [
    "dete_survey.dete_start_date.value_counts(dropna=False)"
   ]
  },
  {
   "cell_type": "markdown",
   "id": "7a3485e6",
   "metadata": {},
   "source": [
    "### 3.5.3. Columna *institute_service*"
   ]
  },
  {
   "cell_type": "markdown",
   "id": "4d1b2c30",
   "metadata": {},
   "source": [
    "Esta columna indica el periodo en el que el trabajador prestó sus servicios en la entidad.\n",
    "\n",
    "Solo existe en el dataframe TAFE, por lo que tendremos que crearla en el dataframe DETE.\n",
    "\n",
    "Por el momento, vamos a examinar la columna ya existente en TAFE:"
   ]
  },
  {
   "cell_type": "code",
   "execution_count": 40,
   "id": "3145f35c",
   "metadata": {},
   "outputs": [
    {
     "data": {
      "text/plain": [
       "Less than 1 year      73\n",
       "1-2                   64\n",
       "3-4                   63\n",
       "NaN                   47\n",
       "5-6                   33\n",
       "11-20                 24\n",
       "7-10                  21\n",
       "More than 20 years    10\n",
       "Name: institute_service, dtype: int64"
      ]
     },
     "execution_count": 40,
     "metadata": {},
     "output_type": "execute_result"
    }
   ],
   "source": [
    "# Cantidad de valores únicos de la columna\n",
    "tafe_survey['institute_service'].value_counts(dropna=False)"
   ]
  },
  {
   "cell_type": "markdown",
   "id": "a56ccdf7",
   "metadata": {},
   "source": [
    "Tenemos 47 valores nulos en la columna. Como no tenemos manera de saber el tiempo que lleva de servicio cada trabajador, vamos a eliminar dichas filas."
   ]
  },
  {
   "cell_type": "code",
   "execution_count": 41,
   "id": "adbc104f",
   "metadata": {},
   "outputs": [],
   "source": [
    "tafe_survey.institute_service = tafe_survey.institute_service.dropna()"
   ]
  },
  {
   "cell_type": "markdown",
   "id": "813b86a4",
   "metadata": {},
   "source": [
    "**Vamos a crear la columna *institute_service* para el DETE:**"
   ]
  },
  {
   "cell_type": "code",
   "execution_count": 42,
   "id": "d82de22e",
   "metadata": {},
   "outputs": [],
   "source": [
    "# Creamos la columna\n",
    "dete_survey['institute_service'] = abs(dete_survey.cease_date - dete_survey.dete_start_date)"
   ]
  },
  {
   "cell_type": "code",
   "execution_count": 43,
   "id": "c3e20deb",
   "metadata": {
    "scrolled": false
   },
   "outputs": [
    {
     "data": {
      "text/plain": [
       "0.0     20\n",
       "1.0     22\n",
       "2.0     14\n",
       "3.0     20\n",
       "4.0     16\n",
       "5.0     23\n",
       "6.0     17\n",
       "7.0     13\n",
       "8.0      8\n",
       "9.0     14\n",
       "10.0     6\n",
       "11.0     4\n",
       "12.0     6\n",
       "13.0     8\n",
       "14.0     6\n",
       "15.0     7\n",
       "16.0     5\n",
       "17.0     6\n",
       "18.0     5\n",
       "19.0     3\n",
       "20.0     7\n",
       "21.0     3\n",
       "22.0     6\n",
       "23.0     4\n",
       "24.0     4\n",
       "25.0     2\n",
       "26.0     2\n",
       "27.0     1\n",
       "28.0     2\n",
       "29.0     1\n",
       "30.0     2\n",
       "31.0     1\n",
       "32.0     3\n",
       "33.0     1\n",
       "34.0     1\n",
       "35.0     1\n",
       "36.0     2\n",
       "38.0     1\n",
       "39.0     3\n",
       "41.0     1\n",
       "42.0     1\n",
       "49.0     1\n",
       "Name: institute_service, dtype: int64"
      ]
     },
     "execution_count": 43,
     "metadata": {},
     "output_type": "execute_result"
    }
   ],
   "source": [
    "# Mostramos los periodos en orden ascendente\n",
    "dete_survey['institute_service'].value_counts().sort_index(ascending=True)"
   ]
  },
  {
   "cell_type": "markdown",
   "id": "2377c8b4",
   "metadata": {},
   "source": [
    "## 4. Preparación de los datos\n",
    "\n",
    "Ahora que tenemos dos dataframes con periodos y fechas de inicio, vamos a tratar de combinarlos en un solo dataframe para intentar sacar conclusiones.\n",
    "\n",
    "Nuestro objetivo es saber si los trabajadores renunciaron a causa de una insatisfacción en el trabajo, y por eso hemos construido dos dataframes que contienen únicamente aquellos trabajadores que causaron baja por voluntad propia, y queremos saberlo para cuatro grupos de trabajadores: los mayores, los jóvenes, los más antiguos y los más nuevos.\n",
    "\n",
    "Para intentar sacar conclusiones, vamos a investigar dichas causas. \n",
    "\n",
    "Las columnas que contienen datos categóricos sobre la insatisfacción de los empleados son las siguientes:\n",
    "\n",
    "- **DETE:**\n",
    "    - job_dissatisfaction\n",
    "    - dissatisfaction_with_the_department\n",
    "    - physical_work_environment \n",
    "    - lack_of_recognition\n",
    "    - lack_of_job_security\n",
    "    - work_location\n",
    "    - employment_conditions\n",
    "    - work_life_balance\n",
    "    - workload\n",
    "    \n",
    "- **TAFE:**\n",
    "    - contributing factors. dissatisfaction\n",
    "    - contributing factors. job dissatisfaction \n",
    "    \n",
    "\n",
    "### 4.1. Filtro según satisfacción del trabajador\n",
    "    \n",
    "Vamos a crear una nueva columna en los dataframes llamada *dissatisfied*, que contendrá True, False o NaN, dependiendo de si el trabajador está satisfecho o no con el empleo en el momento del cese."
   ]
  },
  {
   "cell_type": "markdown",
   "id": "ef89bd2c",
   "metadata": {},
   "source": [
    "**DETE , columna *dissatisfied***"
   ]
  },
  {
   "cell_type": "code",
   "execution_count": 44,
   "id": "e4bbe557",
   "metadata": {},
   "outputs": [],
   "source": [
    "# DETE\n",
    "\n",
    "# creamos un dataframe con las columnas relacionadas con la insatisfacción\n",
    "dete_satisf = dete_survey[['job_dissatisfaction',\n",
    "                           'dissatisfaction_with_the_department', \n",
    "                           'physical_work_environment', \n",
    "                           'lack_of_recognition', \n",
    "                           'lack_of_job_security', \n",
    "                           'work_location', \n",
    "                           'employment_conditions', \n",
    "                           'work_life_balance', \n",
    "                           'workload']]"
   ]
  },
  {
   "cell_type": "code",
   "execution_count": 45,
   "id": "66d630f5",
   "metadata": {},
   "outputs": [],
   "source": [
    "# Filtramos según el dataframe anterior en el dataframe principal\n",
    "dete_survey['dissatisfied'] = dete_satisf.any(axis=1, skipna=False)"
   ]
  },
  {
   "cell_type": "code",
   "execution_count": 46,
   "id": "32a85df4",
   "metadata": {},
   "outputs": [
    {
     "data": {
      "text/plain": [
       "3      False\n",
       "5       True\n",
       "8      False\n",
       "9       True\n",
       "11     False\n",
       "       ...  \n",
       "807     True\n",
       "808    False\n",
       "815    False\n",
       "816    False\n",
       "819     True\n",
       "Name: dissatisfied, Length: 273, dtype: bool"
      ]
     },
     "execution_count": 46,
     "metadata": {},
     "output_type": "execute_result"
    }
   ],
   "source": [
    "# Mostramos los resultados\n",
    "dete_survey.dissatisfied"
   ]
  },
  {
   "cell_type": "markdown",
   "id": "37a3c213",
   "metadata": {},
   "source": [
    "**TAFE , columna *dissatisfied***\n",
    "\n",
    "En en dataframe del TAFE, los valores están de una manera distinta:"
   ]
  },
  {
   "cell_type": "code",
   "execution_count": 47,
   "id": "0ff4d25e",
   "metadata": {},
   "outputs": [
    {
     "data": {
      "text/plain": [
       "3                                          -\n",
       "4                                          -\n",
       "5                                          -\n",
       "6                                          -\n",
       "7                                          -\n",
       "8                                          -\n",
       "9                                          -\n",
       "10                                         -\n",
       "13                                         -\n",
       "14    Contributing Factors. Dissatisfaction \n",
       "15                                         -\n",
       "16                                       NaN\n",
       "17                                         -\n",
       "18                                       NaN\n",
       "19                                         -\n",
       "Name: contributing factors. dissatisfaction, dtype: object"
      ]
     },
     "execution_count": 47,
     "metadata": {},
     "output_type": "execute_result"
    }
   ],
   "source": [
    "tafe_survey['contributing factors. dissatisfaction'].head(15)"
   ]
  },
  {
   "cell_type": "code",
   "execution_count": 48,
   "id": "6965d209",
   "metadata": {},
   "outputs": [
    {
     "data": {
      "text/plain": [
       "3                       -\n",
       "4                       -\n",
       "5                       -\n",
       "6                       -\n",
       "7                       -\n",
       "8                       -\n",
       "9                       -\n",
       "10                      -\n",
       "13                      -\n",
       "14    Job Dissatisfaction\n",
       "15                      -\n",
       "16                    NaN\n",
       "17    Job Dissatisfaction\n",
       "18                    NaN\n",
       "19                      -\n",
       "Name: contributing factors. job dissatisfaction, dtype: object"
      ]
     },
     "execution_count": 48,
     "metadata": {},
     "output_type": "execute_result"
    }
   ],
   "source": [
    "tafe_survey['contributing factors. job dissatisfaction'].head(15)"
   ]
  },
  {
   "cell_type": "markdown",
   "id": "ce2327c5",
   "metadata": {},
   "source": [
    "Lo que haremos será crear una función, que aplicaremos sobre las columnas, y que asignará a la nueva columna un valor según el valor original:\n",
    "- \"Job Dissatisfaction\" : True\n",
    "- \" - \" : False\n",
    "- \"NaN\" - np.nan (valor nulo)"
   ]
  },
  {
   "cell_type": "code",
   "execution_count": 49,
   "id": "863740e4",
   "metadata": {},
   "outputs": [],
   "source": [
    "# Primero, vamos a asegurarnos de que todos los valores sean strings para evitar errores\n",
    "tafe_survey['contributing factors. dissatisfaction'] = tafe_survey['contributing factors. dissatisfaction'].astype(str)\n",
    "tafe_survey['contributing factors. job dissatisfaction'] = tafe_survey['contributing factors. job dissatisfaction'].astype(str)"
   ]
  },
  {
   "cell_type": "code",
   "execution_count": 50,
   "id": "012405be",
   "metadata": {},
   "outputs": [],
   "source": [
    "# Creamos una función para cambiar los valores\n",
    "def value_change(row):    \n",
    "    for value in row:\n",
    "        if value == '-':\n",
    "            return False\n",
    "        elif value == 'NaN':\n",
    "            return np.nan\n",
    "        else:\n",
    "            return True\n",
    "\n",
    "# y aplicamos la función que acabamos de crear\n",
    "tafe_survey['contributing factors. dissatisfaction'] = tafe_survey['contributing factors. dissatisfaction'].apply(value_change)\n",
    "tafe_survey['contributing factors. job dissatisfaction'] = tafe_survey['contributing factors. job dissatisfaction'].apply(value_change)"
   ]
  },
  {
   "cell_type": "code",
   "execution_count": 51,
   "id": "ad36f83a",
   "metadata": {},
   "outputs": [],
   "source": [
    "# Creamos un pequeño dataframe para filtrar\n",
    "tafe_satisf = tafe_survey[['contributing factors. dissatisfaction', 'contributing factors. job dissatisfaction']]"
   ]
  },
  {
   "cell_type": "code",
   "execution_count": 52,
   "id": "ccd395dd",
   "metadata": {},
   "outputs": [],
   "source": [
    "# Filtramos según el dataframe anterior en el dataframe principal\n",
    "tafe_survey['dissatisfied'] = tafe_satisf.any(axis=1, skipna=False)"
   ]
  },
  {
   "cell_type": "markdown",
   "id": "e55651a6",
   "metadata": {},
   "source": [
    "### 4.2. Combinación de ambos dataframes\n",
    "\n",
    "Lo que vamos a hacer ahora es combinar ambos dataframes.\n",
    "\n",
    "Antes debemos modificar los periodos en la columna *institute_service* para tener uniformidad en los datos.\n",
    "\n",
    "Primero, haremos una copia de cada dataframe por si la necesitásemos y para evitar pérdida de datos."
   ]
  },
  {
   "cell_type": "code",
   "execution_count": 53,
   "id": "34c2da40",
   "metadata": {},
   "outputs": [],
   "source": [
    "# Creamos las copias\n",
    "dete_resignations_up = dete_survey.copy()\n",
    "tafe_resignations_up = tafe_survey.copy()"
   ]
  },
  {
   "cell_type": "code",
   "execution_count": 54,
   "id": "6e568043",
   "metadata": {},
   "outputs": [
    {
     "data": {
      "text/plain": [
       "3      7.0\n",
       "5     18.0\n",
       "8      3.0\n",
       "9     15.0\n",
       "11     3.0\n",
       "Name: institute_service, dtype: float64"
      ]
     },
     "execution_count": 54,
     "metadata": {},
     "output_type": "execute_result"
    }
   ],
   "source": [
    "# Vamos a mostrar las columnas institute_service de ambos datasets\n",
    "\n",
    "# DETE\n",
    "dete_resignations_up.institute_service.head()"
   ]
  },
  {
   "cell_type": "code",
   "execution_count": 55,
   "id": "626c5ca6",
   "metadata": {},
   "outputs": [
    {
     "data": {
      "text/plain": [
       "3     NaN\n",
       "4     3-4\n",
       "5    7-10\n",
       "6     3-4\n",
       "7     3-4\n",
       "Name: institute_service, dtype: object"
      ]
     },
     "execution_count": 55,
     "metadata": {},
     "output_type": "execute_result"
    }
   ],
   "source": [
    "# TAFE\n",
    "tafe_resignations_up.institute_service.head()"
   ]
  },
  {
   "cell_type": "markdown",
   "id": "797589f8",
   "metadata": {},
   "source": [
    "**Los valores de las columnas no coinciden. Tenemos que utilizar un criterio único para tener datos uniformes donde poder combinar los datasets.**\n",
    "\n",
    "Vamos a ver los valores únicos de ambos dataframes en la columna 'institute_service':"
   ]
  },
  {
   "cell_type": "code",
   "execution_count": 56,
   "id": "2a24f1ec",
   "metadata": {
    "scrolled": false
   },
   "outputs": [
    {
     "data": {
      "text/plain": [
       "0.0     20\n",
       "1.0     22\n",
       "2.0     14\n",
       "3.0     20\n",
       "4.0     16\n",
       "5.0     23\n",
       "6.0     17\n",
       "7.0     13\n",
       "8.0      8\n",
       "9.0     14\n",
       "10.0     6\n",
       "11.0     4\n",
       "12.0     6\n",
       "13.0     8\n",
       "14.0     6\n",
       "15.0     7\n",
       "16.0     5\n",
       "17.0     6\n",
       "18.0     5\n",
       "19.0     3\n",
       "20.0     7\n",
       "21.0     3\n",
       "22.0     6\n",
       "23.0     4\n",
       "24.0     4\n",
       "25.0     2\n",
       "26.0     2\n",
       "27.0     1\n",
       "28.0     2\n",
       "29.0     1\n",
       "30.0     2\n",
       "31.0     1\n",
       "32.0     3\n",
       "33.0     1\n",
       "34.0     1\n",
       "35.0     1\n",
       "36.0     2\n",
       "38.0     1\n",
       "39.0     3\n",
       "41.0     1\n",
       "42.0     1\n",
       "49.0     1\n",
       "Name: institute_service, dtype: int64"
      ]
     },
     "execution_count": 56,
     "metadata": {},
     "output_type": "execute_result"
    }
   ],
   "source": [
    "# Valores únicos DETE\n",
    "dete_resignations_up.institute_service.value_counts(dropna=False).sort_index()"
   ]
  },
  {
   "cell_type": "code",
   "execution_count": 64,
   "id": "c016dc4c",
   "metadata": {
    "scrolled": true
   },
   "outputs": [
    {
     "data": {
      "text/plain": [
       "1-2                   64\n",
       "11-20                 24\n",
       "3-4                   63\n",
       "5-6                   33\n",
       "7-10                  21\n",
       "Less than 1 year      73\n",
       "More than 20 years    10\n",
       "Name: institute_service, dtype: int64"
      ]
     },
     "execution_count": 64,
     "metadata": {},
     "output_type": "execute_result"
    }
   ],
   "source": [
    "# Valores únicos TAFE\n",
    "tafe_resignations_up.institute_service.value_counts().sort_index()"
   ]
  },
  {
   "cell_type": "markdown",
   "id": "4e1f0097",
   "metadata": {},
   "source": [
    "**Elegimos las etiquetas del TAFE como criterio para medir el tiempo de servicio de los trabajadores. Para ello, tenemos que modificar los valores del DETE; lo haremos con una función:**"
   ]
  },
  {
   "cell_type": "code",
   "execution_count": 65,
   "id": "8a35262c",
   "metadata": {},
   "outputs": [],
   "source": [
    "# Estas etiquetas se derivan del dataset de TAFE\n",
    "bins = pd.IntervalIndex.from_tuples([\n",
    "    (-1,0),(1,2),(3,4),(5,6),(7,10),(11,20),(21,100)\n",
    "],\n",
    "    closed='both'\n",
    ")\n",
    "\n",
    "tmp = pd.cut(\n",
    "    x=dete_resignations_up.institute_service,\n",
    "    bins=bins\n",
    ")"
   ]
  },
  {
   "cell_type": "code",
   "execution_count": 68,
   "id": "084fc8d0",
   "metadata": {},
   "outputs": [],
   "source": [
    "# Creamos la función y la aplicamos al dataframe\n",
    "def asigna_valores(valor):\n",
    "    if valor == pd.Interval(0,1,closed='both'):\n",
    "        return 'Less than 1 year'\n",
    "    elif valor == pd.Interval(1,2,closed='both'):\n",
    "        return '1-2'\n",
    "    elif valor == pd.Interval(3,4,closed='both'):\n",
    "        return '3-4'\n",
    "    elif valor == pd.Interval(5,6,closed='both'):\n",
    "        return '5-6'\n",
    "    elif valor == pd.Interval(7,10,closed='both'):\n",
    "        return '7-10'\n",
    "    elif valor == pd.Interval(11,20,closed='both'):\n",
    "        return '11-20'\n",
    "    else:\n",
    "        return 'More than 20 years'\n",
    "\n",
    "dete_resignations_up.institute_service = tmp.apply(asigna_valores)"
   ]
  },
  {
   "cell_type": "markdown",
   "id": "819448f3",
   "metadata": {},
   "source": [
    "**Ahora vamos a crear una nueva columna en cada dataframe, para distinguirlos una vez los hayamos combinado. Cada columna contendrá el nombre del instituto (DETE o TAFE)**"
   ]
  },
  {
   "cell_type": "code",
   "execution_count": 61,
   "id": "77ac15bf",
   "metadata": {},
   "outputs": [],
   "source": [
    "# Creamos una columna en cada dataframe que contenga el nombre de la entidad\n",
    "dete_resignations_up['institute'] = 'DETE'\n",
    "tafe_resignations_up['institute'] = 'TAFE'"
   ]
  },
  {
   "cell_type": "markdown",
   "id": "0ca3ba7c",
   "metadata": {},
   "source": [
    "**Las columnas que nos interesan para realizar el análisis son las siguientes**"
   ]
  },
  {
   "cell_type": "code",
   "execution_count": 62,
   "id": "81610882",
   "metadata": {},
   "outputs": [],
   "source": [
    "# Columnas relevantes para realizar el análisis\n",
    "relevant_cols = ['institute_service','gender','age','employment_status',\n",
    "                'position','cease_date','dissatisfied','id',\n",
    "                'separationtype','institute']"
   ]
  },
  {
   "cell_type": "markdown",
   "id": "dcc51c59",
   "metadata": {},
   "source": [
    "**Y creamos dos dataframes que contengan únicamente las columnas que nos interesan**"
   ]
  },
  {
   "cell_type": "code",
   "execution_count": 63,
   "id": "34aaccf1",
   "metadata": {},
   "outputs": [],
   "source": [
    "# Dataframes con las columnas relevantes \n",
    "dete_resignations_up = dete_resignations_up[relevant_cols]\n",
    "tafe_resignations_up = tafe_resignations_up[relevant_cols]"
   ]
  },
  {
   "cell_type": "markdown",
   "id": "9a4f15d7",
   "metadata": {},
   "source": [
    "**Combinamos los dataframes**"
   ]
  },
  {
   "cell_type": "code",
   "execution_count": 72,
   "id": "c92f827b",
   "metadata": {},
   "outputs": [],
   "source": [
    "# Combinamos los dataframes con pd.concat()\n",
    "df = pd.concat([dete_resignations_up, tafe_resignations_up], ignore_index=True)"
   ]
  },
  {
   "cell_type": "code",
   "execution_count": 73,
   "id": "cea83255",
   "metadata": {},
   "outputs": [
    {
     "data": {
      "text/html": [
       "<div>\n",
       "<style scoped>\n",
       "    .dataframe tbody tr th:only-of-type {\n",
       "        vertical-align: middle;\n",
       "    }\n",
       "\n",
       "    .dataframe tbody tr th {\n",
       "        vertical-align: top;\n",
       "    }\n",
       "\n",
       "    .dataframe thead th {\n",
       "        text-align: right;\n",
       "    }\n",
       "</style>\n",
       "<table border=\"1\" class=\"dataframe\">\n",
       "  <thead>\n",
       "    <tr style=\"text-align: right;\">\n",
       "      <th></th>\n",
       "      <th>institute_service</th>\n",
       "      <th>gender</th>\n",
       "      <th>age</th>\n",
       "      <th>employment_status</th>\n",
       "      <th>position</th>\n",
       "      <th>cease_date</th>\n",
       "      <th>dissatisfied</th>\n",
       "      <th>id</th>\n",
       "      <th>separationtype</th>\n",
       "      <th>institute</th>\n",
       "    </tr>\n",
       "  </thead>\n",
       "  <tbody>\n",
       "    <tr>\n",
       "      <th>0</th>\n",
       "      <td>7-10</td>\n",
       "      <td>Female</td>\n",
       "      <td>36-40</td>\n",
       "      <td>Permanent Full-time</td>\n",
       "      <td>Teacher</td>\n",
       "      <td>2012.0</td>\n",
       "      <td>False</td>\n",
       "      <td>4</td>\n",
       "      <td>Resignation-Other reasons</td>\n",
       "      <td>DETE</td>\n",
       "    </tr>\n",
       "    <tr>\n",
       "      <th>1</th>\n",
       "      <td>11-20</td>\n",
       "      <td>Female</td>\n",
       "      <td>41-45</td>\n",
       "      <td>Permanent Full-time</td>\n",
       "      <td>Guidance Officer</td>\n",
       "      <td>2012.0</td>\n",
       "      <td>True</td>\n",
       "      <td>6</td>\n",
       "      <td>Resignation-Other reasons</td>\n",
       "      <td>DETE</td>\n",
       "    </tr>\n",
       "    <tr>\n",
       "      <th>2</th>\n",
       "      <td>3-4</td>\n",
       "      <td>Female</td>\n",
       "      <td>31-35</td>\n",
       "      <td>Permanent Full-time</td>\n",
       "      <td>Teacher</td>\n",
       "      <td>2012.0</td>\n",
       "      <td>False</td>\n",
       "      <td>9</td>\n",
       "      <td>Resignation-Other reasons</td>\n",
       "      <td>DETE</td>\n",
       "    </tr>\n",
       "    <tr>\n",
       "      <th>3</th>\n",
       "      <td>11-20</td>\n",
       "      <td>Female</td>\n",
       "      <td>46-50</td>\n",
       "      <td>Permanent Part-time</td>\n",
       "      <td>Teacher Aide</td>\n",
       "      <td>2012.0</td>\n",
       "      <td>True</td>\n",
       "      <td>10</td>\n",
       "      <td>Resignation-Other employer</td>\n",
       "      <td>DETE</td>\n",
       "    </tr>\n",
       "    <tr>\n",
       "      <th>4</th>\n",
       "      <td>3-4</td>\n",
       "      <td>Male</td>\n",
       "      <td>31-35</td>\n",
       "      <td>Permanent Full-time</td>\n",
       "      <td>Teacher</td>\n",
       "      <td>2012.0</td>\n",
       "      <td>False</td>\n",
       "      <td>12</td>\n",
       "      <td>Resignation-Move overseas/interstate</td>\n",
       "      <td>DETE</td>\n",
       "    </tr>\n",
       "  </tbody>\n",
       "</table>\n",
       "</div>"
      ],
      "text/plain": [
       "  institute_service  gender    age    employment_status          position  \\\n",
       "0              7-10  Female  36-40  Permanent Full-time           Teacher   \n",
       "1             11-20  Female  41-45  Permanent Full-time  Guidance Officer   \n",
       "2               3-4  Female  31-35  Permanent Full-time           Teacher   \n",
       "3             11-20  Female  46-50  Permanent Part-time      Teacher Aide   \n",
       "4               3-4    Male  31-35  Permanent Full-time           Teacher   \n",
       "\n",
       "   cease_date  dissatisfied  id                        separationtype  \\\n",
       "0      2012.0         False   4             Resignation-Other reasons   \n",
       "1      2012.0          True   6             Resignation-Other reasons   \n",
       "2      2012.0         False   9             Resignation-Other reasons   \n",
       "3      2012.0          True  10            Resignation-Other employer   \n",
       "4      2012.0         False  12  Resignation-Move overseas/interstate   \n",
       "\n",
       "  institute  \n",
       "0      DETE  \n",
       "1      DETE  \n",
       "2      DETE  \n",
       "3      DETE  \n",
       "4      DETE  "
      ]
     },
     "execution_count": 73,
     "metadata": {},
     "output_type": "execute_result"
    }
   ],
   "source": [
    "# Mostramos la cabecera del dataframe resultante\n",
    "df.head()"
   ]
  },
  {
   "cell_type": "markdown",
   "id": "e14d5bae",
   "metadata": {},
   "source": [
    "### 4.3. Preparación del dataframe\n",
    "\n",
    "Ya tenemos un dataframe que contiene todos los trabajadores que renunciaron a su puesto. Vamos a verlo un poco más en detalle:"
   ]
  },
  {
   "cell_type": "code",
   "execution_count": 74,
   "id": "33ddd13b",
   "metadata": {},
   "outputs": [
    {
     "name": "stdout",
     "output_type": "stream",
     "text": [
      "<class 'pandas.core.frame.DataFrame'>\n",
      "RangeIndex: 608 entries, 0 to 607\n",
      "Data columns (total 10 columns):\n",
      " #   Column             Non-Null Count  Dtype  \n",
      "---  ------             --------------  -----  \n",
      " 0   institute_service  561 non-null    object \n",
      " 1   gender             556 non-null    object \n",
      " 2   age                559 non-null    object \n",
      " 3   employment_status  561 non-null    object \n",
      " 4   position           558 non-null    object \n",
      " 5   cease_date         608 non-null    float64\n",
      " 6   dissatisfied       608 non-null    bool   \n",
      " 7   id                 608 non-null    int64  \n",
      " 8   separationtype     608 non-null    object \n",
      " 9   institute          608 non-null    object \n",
      "dtypes: bool(1), float64(1), int64(1), object(7)\n",
      "memory usage: 43.5+ KB\n"
     ]
    }
   ],
   "source": [
    "df.info()"
   ]
  },
  {
   "cell_type": "markdown",
   "id": "52ed9ab1",
   "metadata": {},
   "source": [
    "De acuerdo con el siguiente artículo:\n",
    "\n",
    "https://www.businesswire.com/news/home/20171108006002/en/Age-Number-Engage-Employees-Career-Stage\n",
    "\n",
    "podemos establecer un nuevo criterio para cada trabajador.\n",
    "\n",
    "Como la edad es irrelevante (de acuerdo con el artículo), lo que nos interesa es el tiempo de servicio de cada trabajador. Este tipo de organización es una manera fácil de entender e intuitiva de cuánto tiempo llevaba cada trabajador en la empresa. \n",
    "\n",
    "Podemos dividirlo de la manera que sugiere el artículo:\n",
    "\n",
    "- **Novato: menos de 3 años en la compañía**\n",
    "- **Experimentado: 3-6 años en la compañía**\n",
    "- **Establecido: 7-10 años en la compañía**\n",
    "- **Veterano: más de 11 años en la compañía**"
   ]
  },
  {
   "cell_type": "markdown",
   "id": "faf11dd0",
   "metadata": {},
   "source": [
    "### 4.3.1. Categorización según experiencia\n",
    "\n",
    "Vamos a categorizar los valores de la columna *institute_service* utilizando los criterios anteriores:"
   ]
  },
  {
   "cell_type": "code",
   "execution_count": 75,
   "id": "1ffc466b",
   "metadata": {},
   "outputs": [],
   "source": [
    "df.institute_service = df.institute_service.astype(str)"
   ]
  },
  {
   "cell_type": "code",
   "execution_count": 77,
   "id": "337e03e8",
   "metadata": {},
   "outputs": [],
   "source": [
    "# Creamos una función para categorizar los valores\n",
    "def categorias(valor):\n",
    "    if valor in ['Less than 1 year','1-2']:\n",
    "        return 'Novato'\n",
    "    elif valor in ['3-4', '5-6']:\n",
    "        return 'Experimentado'\n",
    "    elif valor == '7-10':\n",
    "        return 'Establecido'\n",
    "    elif pd.isnull(valor):\n",
    "        return np.nan\n",
    "    else:\n",
    "        return 'Veterano'\n",
    "\n",
    "df['category'] = df.institute_service.apply(categorias)"
   ]
  },
  {
   "cell_type": "code",
   "execution_count": 78,
   "id": "2a6657ac",
   "metadata": {
    "scrolled": true
   },
   "outputs": [
    {
     "data": {
      "text/plain": [
       "Veterano         201\n",
       "Novato           173\n",
       "Experimentado    172\n",
       "Establecido       62\n",
       "Name: category, dtype: int64"
      ]
     },
     "execution_count": 78,
     "metadata": {},
     "output_type": "execute_result"
    }
   ],
   "source": [
    "# Comprobación de la nueva columna\n",
    "df.category.value_counts()"
   ]
  },
  {
   "cell_type": "code",
   "execution_count": 128,
   "id": "d20b5449",
   "metadata": {},
   "outputs": [
    {
     "data": {
      "image/png": "[encoded data removed]",
      "text/plain": [
       "<Figure size 432x288 with 1 Axes>"
      ]
     },
     "metadata": {},
     "output_type": "display_data"
    }
   ],
   "source": [
    "# Gráfico con la cantidad relativa de cada categoría\n",
    "df.category.value_counts().plot(kind='barh', title='Cantidad de trabajadores según categoría')\n",
    "plt.show()"
   ]
  },
  {
   "cell_type": "markdown",
   "id": "e3683b56",
   "metadata": {},
   "source": [
    "**Comprobamos la columna *dissatisfied***"
   ]
  },
  {
   "cell_type": "code",
   "execution_count": 80,
   "id": "7d51a0fc",
   "metadata": {
    "scrolled": true
   },
   "outputs": [
    {
     "data": {
      "text/plain": [
       "False    375\n",
       "True     233\n",
       "Name: dissatisfied, dtype: int64"
      ]
     },
     "execution_count": 80,
     "metadata": {},
     "output_type": "execute_result"
    }
   ],
   "source": [
    "df.dissatisfied.value_counts()"
   ]
  },
  {
   "cell_type": "markdown",
   "id": "f6ffc526",
   "metadata": {},
   "source": [
    "### 4.3.2. Categorización según edad\n",
    "\n",
    "Haremos lo mismo que acabamos de hacer, pero con las edades."
   ]
  },
  {
   "cell_type": "code",
   "execution_count": 117,
   "id": "8f6860be",
   "metadata": {},
   "outputs": [
    {
     "data": {
      "text/plain": [
       "51-55            69\n",
       "NaN              49\n",
       "41 � 45          45\n",
       "41-45            44\n",
       "46 � 50          39\n",
       "36-40            36\n",
       "46-50            34\n",
       "21 � 25          33\n",
       "31 � 35          32\n",
       "26 � 30          32\n",
       "26-30            31\n",
       "36 � 40          31\n",
       "31-35            29\n",
       "56 or older      28\n",
       "21-25            26\n",
       "56-60            22\n",
       "61 or older      18\n",
       "20 or younger    10\n",
       "Name: age, dtype: int64"
      ]
     },
     "execution_count": 117,
     "metadata": {},
     "output_type": "execute_result"
    }
   ],
   "source": [
    "# Visualizamos la columna 'age'\n",
    "df.age.value_counts(dropna=False)"
   ]
  },
  {
   "cell_type": "markdown",
   "id": "4de74ba2",
   "metadata": {},
   "source": [
    "Vamos a modificar la columna *age* y la categorizaremos según la edad, de manera similar a como lo hicimos con los años de servicio:\n",
    "\n",
    "- Menor de 30: joven\n",
    "- 30-40: mediano\n",
    "- 41-55: senior\n",
    "- +55: mayor"
   ]
  },
  {
   "cell_type": "code",
   "execution_count": 119,
   "id": "78aafcd3",
   "metadata": {},
   "outputs": [],
   "source": [
    "# Creamos una función para categorizar los valores\n",
    "def edades(valor):\n",
    "    if valor in ['20 or younger','21 � 25', '26 � 30', '26-30', '21-25']:\n",
    "        return 'Joven'\n",
    "    elif valor in ['31 � 35', '36 � 40', '31-35']:\n",
    "        return 'Mediano'\n",
    "    elif valor in ['41 � 45', '41-45', '46 � 50', '46-50']:\n",
    "        return 'Senior'\n",
    "    elif pd.isnull(valor):\n",
    "        return np.nan\n",
    "    else:\n",
    "        return 'Mayor'\n",
    "\n",
    "df['Ages'] = df.age.apply(edades)"
   ]
  },
  {
   "cell_type": "code",
   "execution_count": 123,
   "id": "b3a1dc9e",
   "metadata": {},
   "outputs": [
    {
     "data": {
      "text/plain": [
       "Mayor      173\n",
       "Senior     162\n",
       "Joven      132\n",
       "Mediano     92\n",
       "NaN         49\n",
       "Name: Ages, dtype: int64"
      ]
     },
     "execution_count": 123,
     "metadata": {},
     "output_type": "execute_result"
    }
   ],
   "source": [
    "df['Ages'].value_counts(dropna=False)"
   ]
  },
  {
   "cell_type": "code",
   "execution_count": 130,
   "id": "a78f8684",
   "metadata": {},
   "outputs": [
    {
     "data": {
      "image/png": "[encoded data removed]",
      "text/plain": [
       "<Figure size 432x288 with 1 Axes>"
      ]
     },
     "metadata": {},
     "output_type": "display_data"
    }
   ],
   "source": [
    "# Cantidad de trabajadores por edades\n",
    "df['Ages'].value_counts().plot(kind='barh', title='Cantidad de trabajadores según rango de edad')\n",
    "plt.show()"
   ]
  },
  {
   "cell_type": "markdown",
   "id": "01d7ba8e",
   "metadata": {},
   "source": [
    "## 5. Resultados\n",
    "\n",
    "Con el dataframe ya preparado, podemos realizar los análisis necesarios para responder las preguntas que nos hacíamos en la Introducción:\n",
    "\n",
    "- ¿Tuvieron los empleados que estuvieron trabajando durante periodos cortos alguna insatisfacción que les llevase a abandonar el empleo? ¿Y los más antiguos?\n",
    "- ¿Los empleados más jóvenes resignaron por alguna insatisfacción? ¿Y los más mayores?\n",
    "\n",
    "Vamos a analizar la primera cuestión:\n",
    "\n",
    "\n",
    "### 5.1. Insatisfacción en relación a la antigüedad\n",
    "\n",
    "Lo que haremos será calcular el porcentaje de trabajadores insatisfechos en función de su categoría (hay que recordar que hemos creado una columna llamada *category* según la experiencia del trabajador)."
   ]
  },
  {
   "cell_type": "code",
   "execution_count": 134,
   "id": "86d04bc4",
   "metadata": {},
   "outputs": [
    {
     "data": {
      "text/html": [
       "<div>\n",
       "<style scoped>\n",
       "    .dataframe tbody tr th:only-of-type {\n",
       "        vertical-align: middle;\n",
       "    }\n",
       "\n",
       "    .dataframe tbody tr th {\n",
       "        vertical-align: top;\n",
       "    }\n",
       "\n",
       "    .dataframe thead th {\n",
       "        text-align: right;\n",
       "    }\n",
       "</style>\n",
       "<table border=\"1\" class=\"dataframe\">\n",
       "  <thead>\n",
       "    <tr style=\"text-align: right;\">\n",
       "      <th></th>\n",
       "      <th>dissatisfied</th>\n",
       "    </tr>\n",
       "    <tr>\n",
       "      <th>category</th>\n",
       "      <th></th>\n",
       "    </tr>\n",
       "  </thead>\n",
       "  <tbody>\n",
       "    <tr>\n",
       "      <th>Novato</th>\n",
       "      <td>0.265896</td>\n",
       "    </tr>\n",
       "    <tr>\n",
       "      <th>Experimentado</th>\n",
       "      <td>0.343023</td>\n",
       "    </tr>\n",
       "    <tr>\n",
       "      <th>Establecido</th>\n",
       "      <td>0.516129</td>\n",
       "    </tr>\n",
       "    <tr>\n",
       "      <th>Veterano</th>\n",
       "      <td>0.477612</td>\n",
       "    </tr>\n",
       "  </tbody>\n",
       "</table>\n",
       "</div>"
      ],
      "text/plain": [
       "               dissatisfied\n",
       "category                   \n",
       "Novato             0.265896\n",
       "Experimentado      0.343023\n",
       "Establecido        0.516129\n",
       "Veterano           0.477612"
      ]
     },
     "execution_count": 134,
     "metadata": {},
     "output_type": "execute_result"
    }
   ],
   "source": [
    "# Creamos una pivot table\n",
    "pv_category = df.pivot_table(values='dissatisfied', index='category', aggfunc=np.mean)\n",
    "pv_category = pv_category.iloc[[2,1,0,3]]\n",
    "pv_category"
   ]
  },
  {
   "cell_type": "code",
   "execution_count": 135,
   "id": "cafc45d1",
   "metadata": {},
   "outputs": [
    {
     "data": {
      "image/png": "[encoded data removed]",
      "text/plain": [
       "<Figure size 432x288 with 1 Axes>"
      ]
     },
     "metadata": {},
     "output_type": "display_data"
    }
   ],
   "source": [
    "pv_category.plot(kind='bar',title='Insatisfacción en relación al tiempo de servicio', legend=False)\n",
    "plt.xticks(rotation=0)\n",
    "plt.show()"
   ]
  },
  {
   "cell_type": "markdown",
   "id": "1e41c177",
   "metadata": {},
   "source": [
    "La tabla muestra el porcentaje de trabajadores insatisfechos según su experiencia en la empresa. Se puede ver que la tendencia general es que la insatisfacción aumenta en relación a los años trabajados.\n",
    "\n",
    "El porcentaje de 'novatos' (menos de 3 años en la compañía) instatisfechos apenas llega al 27%, mientras que los 'veteranos' (más de 11 años) rozan el 48% (casi la mitad del total y casi el doble que los novatos).\n",
    "\n",
    "Por tanto concluimos que, en general, **la insatisfacción aumenta con el tiempo de servicio**."
   ]
  },
  {
   "cell_type": "markdown",
   "id": "895191ac",
   "metadata": {},
   "source": [
    "### 5.2. Insatisfacción en relación a la edad\n",
    "\n",
    "De la misma manera, ya habíamos preparado una columna, que hemos llamado *ages*, donde tenemos categorizada la edad según un rango que establecimos. \n",
    "\n",
    "Vamos a ver los resultados:"
   ]
  },
  {
   "cell_type": "code",
   "execution_count": 136,
   "id": "2035d50a",
   "metadata": {},
   "outputs": [
    {
     "data": {
      "text/html": [
       "<div>\n",
       "<style scoped>\n",
       "    .dataframe tbody tr th:only-of-type {\n",
       "        vertical-align: middle;\n",
       "    }\n",
       "\n",
       "    .dataframe tbody tr th {\n",
       "        vertical-align: top;\n",
       "    }\n",
       "\n",
       "    .dataframe thead th {\n",
       "        text-align: right;\n",
       "    }\n",
       "</style>\n",
       "<table border=\"1\" class=\"dataframe\">\n",
       "  <thead>\n",
       "    <tr style=\"text-align: right;\">\n",
       "      <th></th>\n",
       "      <th>dissatisfied</th>\n",
       "    </tr>\n",
       "    <tr>\n",
       "      <th>Ages</th>\n",
       "      <th></th>\n",
       "    </tr>\n",
       "  </thead>\n",
       "  <tbody>\n",
       "    <tr>\n",
       "      <th>Joven</th>\n",
       "      <td>0.340909</td>\n",
       "    </tr>\n",
       "    <tr>\n",
       "      <th>Mediano</th>\n",
       "      <td>0.347826</td>\n",
       "    </tr>\n",
       "    <tr>\n",
       "      <th>Senior</th>\n",
       "      <td>0.395062</td>\n",
       "    </tr>\n",
       "    <tr>\n",
       "      <th>Mayor</th>\n",
       "      <td>0.421965</td>\n",
       "    </tr>\n",
       "  </tbody>\n",
       "</table>\n",
       "</div>"
      ],
      "text/plain": [
       "         dissatisfied\n",
       "Ages                 \n",
       "Joven        0.340909\n",
       "Mediano      0.347826\n",
       "Senior       0.395062\n",
       "Mayor        0.421965"
      ]
     },
     "execution_count": 136,
     "metadata": {},
     "output_type": "execute_result"
    }
   ],
   "source": [
    "# Pivot table de la columna 'ages'\n",
    "pv_ages = df.pivot_table(values='dissatisfied', index='Ages', aggfunc=np.mean)\n",
    "pv_ages = pv_ages.iloc[[0,2,3,1]]\n",
    "pv_ages"
   ]
  },
  {
   "cell_type": "code",
   "execution_count": 137,
   "id": "a323520a",
   "metadata": {},
   "outputs": [
    {
     "data": {
      "image/png": "[encoded data removed]",
      "text/plain": [
       "<Figure size 432x288 with 1 Axes>"
      ]
     },
     "metadata": {},
     "output_type": "display_data"
    }
   ],
   "source": [
    "pv_ages.plot(kind='bar',title='Insatisfacción en relación a la edad', legend=False)\n",
    "plt.xticks(rotation=0)\n",
    "plt.show()"
   ]
  },
  {
   "cell_type": "markdown",
   "id": "ade03bfb",
   "metadata": {},
   "source": [
    "La insatisfacción es mayor cuanto mayor es la persona, pero no crece de una manera tan pronunciada como lo hacía con el tiempo de servicio.\n",
    "\n",
    "De los empleados jóvenes y medianos que renunciaron, el 34% lo hicieron por insatisfacciones en el trabajo. De los senior, casi el 40%, mientras que el porcentaje es del 42% entre los más mayores.\n",
    "\n",
    "Concluimos que **la insatisfacción es mayor cuanto mayor es la persona**."
   ]
  },
  {
   "cell_type": "markdown",
   "id": "4d784a08",
   "metadata": {},
   "source": [
    "### 5.3. Insatisfacción en relación a la entidad\n",
    "\n",
    "Aunque no es parte del objetivo del análisis, aprovechando que tenemos los datos, vamos a comprobar en qué instituto los trabajadores sufrieron más insatisfacciones (DETE o TAFE)."
   ]
  },
  {
   "cell_type": "code",
   "execution_count": 138,
   "id": "2cee4c02",
   "metadata": {},
   "outputs": [
    {
     "data": {
      "text/html": [
       "<div>\n",
       "<style scoped>\n",
       "    .dataframe tbody tr th:only-of-type {\n",
       "        vertical-align: middle;\n",
       "    }\n",
       "\n",
       "    .dataframe tbody tr th {\n",
       "        vertical-align: top;\n",
       "    }\n",
       "\n",
       "    .dataframe thead th {\n",
       "        text-align: right;\n",
       "    }\n",
       "</style>\n",
       "<table border=\"1\" class=\"dataframe\">\n",
       "  <thead>\n",
       "    <tr style=\"text-align: right;\">\n",
       "      <th></th>\n",
       "      <th>dissatisfied</th>\n",
       "    </tr>\n",
       "    <tr>\n",
       "      <th>institute</th>\n",
       "      <th></th>\n",
       "    </tr>\n",
       "  </thead>\n",
       "  <tbody>\n",
       "    <tr>\n",
       "      <th>DETE</th>\n",
       "      <td>0.501832</td>\n",
       "    </tr>\n",
       "    <tr>\n",
       "      <th>TAFE</th>\n",
       "      <td>0.286567</td>\n",
       "    </tr>\n",
       "  </tbody>\n",
       "</table>\n",
       "</div>"
      ],
      "text/plain": [
       "           dissatisfied\n",
       "institute              \n",
       "DETE           0.501832\n",
       "TAFE           0.286567"
      ]
     },
     "execution_count": 138,
     "metadata": {},
     "output_type": "execute_result"
    }
   ],
   "source": [
    "# Pivot table de la columna 'institute'\n",
    "pv_institute = df.pivot_table(values='dissatisfied', index='institute')\n",
    "pv_institute"
   ]
  },
  {
   "cell_type": "code",
   "execution_count": 140,
   "id": "b7502e13",
   "metadata": {},
   "outputs": [
    {
     "data": {
      "image/png": "[encoded data removed]",
      "text/plain": [
       "<Figure size 432x288 with 1 Axes>"
      ]
     },
     "metadata": {},
     "output_type": "display_data"
    }
   ],
   "source": [
    "pv_institute.plot(kind='bar', title='Insatisfacción: instituto', legend=False)\n",
    "plt.xticks(rotation=0)\n",
    "plt.show()"
   ]
  },
  {
   "cell_type": "markdown",
   "id": "aa786064",
   "metadata": {},
   "source": [
    "A la vista está que **los trabajadores del DETE que renunciaron, en general, lo hicieron con más insatisfacciones que los del TAFE (50% y 28%, respectivamente)**."
   ]
  },
  {
   "cell_type": "markdown",
   "id": "2e8d83d9",
   "metadata": {},
   "source": [
    "## 6. Conclusiones finales\n",
    "\n",
    "Vamos a responder a las preguntas que nos formulábamos inicialmente:\n",
    "\n",
    "**¿Tuvieron los empleados que estuvieron trabajando durante periodos cortos alguna insatisfacción que les llevase a abandonar el empleo? ¿Y los más antiguos?**\n",
    "\n",
    "- De los empleados que trabajaron durante periodos cortos, el 26% tuvo alguna insatisfacción.\n",
    "- Entre los más antiguos, entre un 47% y un 51% tuvieron alguna insatisfacción.\n",
    "\n",
    "**¿Los empleados más jóvenes resignaron por alguna insatisfacción? ¿Y los más mayores?**\n",
    "\n",
    "- Entre los empleados más jóvenes, los que renunciaron debido a alguna insatisfacción fueron en torno al 34%.\n",
    "- Entre los empleados más mayores, entre el 40% y el 42% tuvieron alguna insatisfacción.\n",
    "\n",
    "La insatisfacción de los empleados de los institutos australianos DETE y TAFE aumenta con la edad, y lo hace de una forma mucho más severa en relación al tiempo trabajado en las entidades.\n",
    "\n",
    "Los trabajadores del DETE sufrieron en general más insatisfacciones que los del TAFE. Concretamente, el 50% de los trabajadores del DETE, y el 28% de los trabajadores del TAFE.\n"
   ]
  }
 ],
 "metadata": {
  "kernelspec": {
   "display_name": "Python 3",
   "language": "python",
   "name": "python3"
  },
  "language_info": {
   "codemirror_mode": {
    "name": "ipython",
    "version": 3
   },
   "file_extension": ".py",
   "mimetype": "text/x-python",
   "name": "python",
   "nbconvert_exporter": "python",
   "pygments_lexer": "ipython3",
   "version": "3.8.8"
  }
 },
 "nbformat": 4,
 "nbformat_minor": 5
}
