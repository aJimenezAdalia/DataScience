{
 "cells": [
  {
   "cell_type": "markdown",
   "id": "976c5939",
   "metadata": {},
   "source": [
    "# VENTAS DE VEHÍCULOS USADOS EN EBAY ALEMANIA"
   ]
  },
  {
   "cell_type": "markdown",
   "id": "85e557fa",
   "metadata": {},
   "source": [
    "Vamos a estudiar un dataset de ventas de vehículos usados, obtenido de *eBay Kleinanzeigen*, una sección de clasificados de eBay Alemania.\n",
    "\n",
    "El dataset fue obtenido originalmente mediante web scraping, y está totalmente en bruto. Limpiaremos el dataset y lo prepararemos para poder trabajar con él.\n",
    "\n",
    "Queremos saber qué marcas y qué modelos son más populares en el mercado alemán, sus precios, y además saber cuánto se devalúan los coches de media para poder saber qué momento es bueno para comprar.\n",
    "\n",
    "Vamos a leer el dataset, y utilizaremos pandas para convertirlo en un DataFrame."
   ]
  },
  {
   "cell_type": "code",
   "execution_count": 1,
   "id": "d2c0f0bd",
   "metadata": {},
   "outputs": [],
   "source": [
    "import numpy as np\n",
    "import pandas as pd\n",
    "\n",
    "autos = pd.read_csv(\"E:/COSAS/Python/DataQuest_io/Datasets/Ebay Autos/autosmod.csv\")"
   ]
  },
  {
   "cell_type": "markdown",
   "id": "fe3ac4c5",
   "metadata": {},
   "source": [
    "## 1. UN PRIMER VISTAZO AL DATASET"
   ]
  },
  {
   "cell_type": "markdown",
   "id": "c8059907",
   "metadata": {},
   "source": [
    "Vamos a ver una muestra del DataFrame que acabamos de crear:"
   ]
  },
  {
   "cell_type": "code",
   "execution_count": 2,
   "id": "aedfff72",
   "metadata": {},
   "outputs": [
    {
     "data": {
      "text/html": [
       "<div>\n",
       "<style scoped>\n",
       "    .dataframe tbody tr th:only-of-type {\n",
       "        vertical-align: middle;\n",
       "    }\n",
       "\n",
       "    .dataframe tbody tr th {\n",
       "        vertical-align: top;\n",
       "    }\n",
       "\n",
       "    .dataframe thead th {\n",
       "        text-align: right;\n",
       "    }\n",
       "</style>\n",
       "<table border=\"1\" class=\"dataframe\">\n",
       "  <thead>\n",
       "    <tr style=\"text-align: right;\">\n",
       "      <th></th>\n",
       "      <th>dateCrawled</th>\n",
       "      <th>name</th>\n",
       "      <th>seller</th>\n",
       "      <th>offerType</th>\n",
       "      <th>price</th>\n",
       "      <th>abtest</th>\n",
       "      <th>vehicleType</th>\n",
       "      <th>yearOfRegistration</th>\n",
       "      <th>gearbox</th>\n",
       "      <th>powerPS</th>\n",
       "      <th>model</th>\n",
       "      <th>odometer</th>\n",
       "      <th>monthOfRegistration</th>\n",
       "      <th>fuelType</th>\n",
       "      <th>brand</th>\n",
       "      <th>notRepairedDamage</th>\n",
       "      <th>dateCreated</th>\n",
       "      <th>nrOfPictures</th>\n",
       "      <th>postalCode</th>\n",
       "      <th>lastSeen</th>\n",
       "    </tr>\n",
       "  </thead>\n",
       "  <tbody>\n",
       "    <tr>\n",
       "      <th>0</th>\n",
       "      <td>2016-03-26 17:47:46</td>\n",
       "      <td>Peugeot_807_160_NAVTECH_ON_BOARD</td>\n",
       "      <td>privat</td>\n",
       "      <td>Angebot</td>\n",
       "      <td>$5,000</td>\n",
       "      <td>control</td>\n",
       "      <td>bus</td>\n",
       "      <td>2004</td>\n",
       "      <td>manuell</td>\n",
       "      <td>158</td>\n",
       "      <td>andere</td>\n",
       "      <td>150,000km</td>\n",
       "      <td>3</td>\n",
       "      <td>lpg</td>\n",
       "      <td>peugeot</td>\n",
       "      <td>nein</td>\n",
       "      <td>2016-03-26 00:00:00</td>\n",
       "      <td>0</td>\n",
       "      <td>79588</td>\n",
       "      <td>2016-04-06 06:45:54</td>\n",
       "    </tr>\n",
       "    <tr>\n",
       "      <th>1</th>\n",
       "      <td>2016-04-04 13:38:56</td>\n",
       "      <td>BMW_740i_4_4_Liter_HAMANN_UMBAU_Mega_Optik</td>\n",
       "      <td>privat</td>\n",
       "      <td>Angebot</td>\n",
       "      <td>$8,500</td>\n",
       "      <td>control</td>\n",
       "      <td>limousine</td>\n",
       "      <td>1997</td>\n",
       "      <td>automatik</td>\n",
       "      <td>286</td>\n",
       "      <td>7er</td>\n",
       "      <td>150,000km</td>\n",
       "      <td>6</td>\n",
       "      <td>benzin</td>\n",
       "      <td>bmw</td>\n",
       "      <td>nein</td>\n",
       "      <td>2016-04-04 00:00:00</td>\n",
       "      <td>0</td>\n",
       "      <td>71034</td>\n",
       "      <td>2016-04-06 14:45:08</td>\n",
       "    </tr>\n",
       "    <tr>\n",
       "      <th>2</th>\n",
       "      <td>2016-03-26 18:57:24</td>\n",
       "      <td>Volkswagen_Golf_1.6_United</td>\n",
       "      <td>privat</td>\n",
       "      <td>Angebot</td>\n",
       "      <td>$8,990</td>\n",
       "      <td>test</td>\n",
       "      <td>limousine</td>\n",
       "      <td>2009</td>\n",
       "      <td>manuell</td>\n",
       "      <td>102</td>\n",
       "      <td>golf</td>\n",
       "      <td>70,000km</td>\n",
       "      <td>7</td>\n",
       "      <td>benzin</td>\n",
       "      <td>volkswagen</td>\n",
       "      <td>nein</td>\n",
       "      <td>2016-03-26 00:00:00</td>\n",
       "      <td>0</td>\n",
       "      <td>35394</td>\n",
       "      <td>2016-04-06 20:15:37</td>\n",
       "    </tr>\n",
       "    <tr>\n",
       "      <th>3</th>\n",
       "      <td>2016-03-12 16:58:10</td>\n",
       "      <td>Smart_smart_fortwo_coupe_softouch/F1/Klima/Pan...</td>\n",
       "      <td>privat</td>\n",
       "      <td>Angebot</td>\n",
       "      <td>$4,350</td>\n",
       "      <td>control</td>\n",
       "      <td>kleinwagen</td>\n",
       "      <td>2007</td>\n",
       "      <td>automatik</td>\n",
       "      <td>71</td>\n",
       "      <td>fortwo</td>\n",
       "      <td>70,000km</td>\n",
       "      <td>6</td>\n",
       "      <td>benzin</td>\n",
       "      <td>smart</td>\n",
       "      <td>nein</td>\n",
       "      <td>2016-03-12 00:00:00</td>\n",
       "      <td>0</td>\n",
       "      <td>33729</td>\n",
       "      <td>2016-03-15 03:16:28</td>\n",
       "    </tr>\n",
       "    <tr>\n",
       "      <th>4</th>\n",
       "      <td>2016-04-01 14:38:50</td>\n",
       "      <td>Ford_Focus_1_6_Benzin_T�V_neu_ist_sehr_gepfleg...</td>\n",
       "      <td>privat</td>\n",
       "      <td>Angebot</td>\n",
       "      <td>$1,350</td>\n",
       "      <td>test</td>\n",
       "      <td>kombi</td>\n",
       "      <td>2003</td>\n",
       "      <td>manuell</td>\n",
       "      <td>0</td>\n",
       "      <td>focus</td>\n",
       "      <td>150,000km</td>\n",
       "      <td>7</td>\n",
       "      <td>benzin</td>\n",
       "      <td>ford</td>\n",
       "      <td>nein</td>\n",
       "      <td>2016-04-01 00:00:00</td>\n",
       "      <td>0</td>\n",
       "      <td>39218</td>\n",
       "      <td>2016-04-01 14:38:50</td>\n",
       "    </tr>\n",
       "    <tr>\n",
       "      <th>...</th>\n",
       "      <td>...</td>\n",
       "      <td>...</td>\n",
       "      <td>...</td>\n",
       "      <td>...</td>\n",
       "      <td>...</td>\n",
       "      <td>...</td>\n",
       "      <td>...</td>\n",
       "      <td>...</td>\n",
       "      <td>...</td>\n",
       "      <td>...</td>\n",
       "      <td>...</td>\n",
       "      <td>...</td>\n",
       "      <td>...</td>\n",
       "      <td>...</td>\n",
       "      <td>...</td>\n",
       "      <td>...</td>\n",
       "      <td>...</td>\n",
       "      <td>...</td>\n",
       "      <td>...</td>\n",
       "      <td>...</td>\n",
       "    </tr>\n",
       "    <tr>\n",
       "      <th>49995</th>\n",
       "      <td>2016-03-27 14:38:19</td>\n",
       "      <td>Audi_Q5_3.0_TDI_qu._S_tr.__Navi__Panorama__Xenon</td>\n",
       "      <td>privat</td>\n",
       "      <td>Angebot</td>\n",
       "      <td>$24,900</td>\n",
       "      <td>control</td>\n",
       "      <td>limousine</td>\n",
       "      <td>2011</td>\n",
       "      <td>automatik</td>\n",
       "      <td>239</td>\n",
       "      <td>q5</td>\n",
       "      <td>100,000km</td>\n",
       "      <td>1</td>\n",
       "      <td>diesel</td>\n",
       "      <td>audi</td>\n",
       "      <td>nein</td>\n",
       "      <td>2016-03-27 00:00:00</td>\n",
       "      <td>0</td>\n",
       "      <td>82131</td>\n",
       "      <td>2016-04-01 13:47:40</td>\n",
       "    </tr>\n",
       "    <tr>\n",
       "      <th>49996</th>\n",
       "      <td>2016-03-28 10:50:25</td>\n",
       "      <td>Opel_Astra_F_Cabrio_Bertone_Edition___T�V_neu+...</td>\n",
       "      <td>privat</td>\n",
       "      <td>Angebot</td>\n",
       "      <td>$1,980</td>\n",
       "      <td>control</td>\n",
       "      <td>cabrio</td>\n",
       "      <td>1996</td>\n",
       "      <td>manuell</td>\n",
       "      <td>75</td>\n",
       "      <td>astra</td>\n",
       "      <td>150,000km</td>\n",
       "      <td>5</td>\n",
       "      <td>benzin</td>\n",
       "      <td>opel</td>\n",
       "      <td>nein</td>\n",
       "      <td>2016-03-28 00:00:00</td>\n",
       "      <td>0</td>\n",
       "      <td>44807</td>\n",
       "      <td>2016-04-02 14:18:02</td>\n",
       "    </tr>\n",
       "    <tr>\n",
       "      <th>49997</th>\n",
       "      <td>2016-04-02 14:44:48</td>\n",
       "      <td>Fiat_500_C_1.2_Dualogic_Lounge</td>\n",
       "      <td>privat</td>\n",
       "      <td>Angebot</td>\n",
       "      <td>$13,200</td>\n",
       "      <td>test</td>\n",
       "      <td>cabrio</td>\n",
       "      <td>2014</td>\n",
       "      <td>automatik</td>\n",
       "      <td>69</td>\n",
       "      <td>500</td>\n",
       "      <td>5,000km</td>\n",
       "      <td>11</td>\n",
       "      <td>benzin</td>\n",
       "      <td>fiat</td>\n",
       "      <td>nein</td>\n",
       "      <td>2016-04-02 00:00:00</td>\n",
       "      <td>0</td>\n",
       "      <td>73430</td>\n",
       "      <td>2016-04-04 11:47:27</td>\n",
       "    </tr>\n",
       "    <tr>\n",
       "      <th>49998</th>\n",
       "      <td>2016-03-08 19:25:42</td>\n",
       "      <td>Audi_A3_2.0_TDI_Sportback_Ambition</td>\n",
       "      <td>privat</td>\n",
       "      <td>Angebot</td>\n",
       "      <td>$22,900</td>\n",
       "      <td>control</td>\n",
       "      <td>kombi</td>\n",
       "      <td>2013</td>\n",
       "      <td>manuell</td>\n",
       "      <td>150</td>\n",
       "      <td>a3</td>\n",
       "      <td>40,000km</td>\n",
       "      <td>11</td>\n",
       "      <td>diesel</td>\n",
       "      <td>audi</td>\n",
       "      <td>nein</td>\n",
       "      <td>2016-03-08 00:00:00</td>\n",
       "      <td>0</td>\n",
       "      <td>35683</td>\n",
       "      <td>2016-04-05 16:45:07</td>\n",
       "    </tr>\n",
       "    <tr>\n",
       "      <th>49999</th>\n",
       "      <td>2016-03-14 00:42:12</td>\n",
       "      <td>Opel_Vectra_1.6_16V</td>\n",
       "      <td>privat</td>\n",
       "      <td>Angebot</td>\n",
       "      <td>$1,250</td>\n",
       "      <td>control</td>\n",
       "      <td>limousine</td>\n",
       "      <td>1996</td>\n",
       "      <td>manuell</td>\n",
       "      <td>101</td>\n",
       "      <td>vectra</td>\n",
       "      <td>150,000km</td>\n",
       "      <td>1</td>\n",
       "      <td>benzin</td>\n",
       "      <td>opel</td>\n",
       "      <td>nein</td>\n",
       "      <td>2016-03-13 00:00:00</td>\n",
       "      <td>0</td>\n",
       "      <td>45897</td>\n",
       "      <td>2016-04-06 21:18:48</td>\n",
       "    </tr>\n",
       "  </tbody>\n",
       "</table>\n",
       "<p>50000 rows × 20 columns</p>\n",
       "</div>"
      ],
      "text/plain": [
       "               dateCrawled                                               name  \\\n",
       "0      2016-03-26 17:47:46                   Peugeot_807_160_NAVTECH_ON_BOARD   \n",
       "1      2016-04-04 13:38:56         BMW_740i_4_4_Liter_HAMANN_UMBAU_Mega_Optik   \n",
       "2      2016-03-26 18:57:24                         Volkswagen_Golf_1.6_United   \n",
       "3      2016-03-12 16:58:10  Smart_smart_fortwo_coupe_softouch/F1/Klima/Pan...   \n",
       "4      2016-04-01 14:38:50  Ford_Focus_1_6_Benzin_T�V_neu_ist_sehr_gepfleg...   \n",
       "...                    ...                                                ...   \n",
       "49995  2016-03-27 14:38:19   Audi_Q5_3.0_TDI_qu._S_tr.__Navi__Panorama__Xenon   \n",
       "49996  2016-03-28 10:50:25  Opel_Astra_F_Cabrio_Bertone_Edition___T�V_neu+...   \n",
       "49997  2016-04-02 14:44:48                     Fiat_500_C_1.2_Dualogic_Lounge   \n",
       "49998  2016-03-08 19:25:42                 Audi_A3_2.0_TDI_Sportback_Ambition   \n",
       "49999  2016-03-14 00:42:12                                Opel_Vectra_1.6_16V   \n",
       "\n",
       "       seller offerType    price   abtest vehicleType  yearOfRegistration  \\\n",
       "0      privat   Angebot   $5,000  control         bus                2004   \n",
       "1      privat   Angebot   $8,500  control   limousine                1997   \n",
       "2      privat   Angebot   $8,990     test   limousine                2009   \n",
       "3      privat   Angebot   $4,350  control  kleinwagen                2007   \n",
       "4      privat   Angebot   $1,350     test       kombi                2003   \n",
       "...       ...       ...      ...      ...         ...                 ...   \n",
       "49995  privat   Angebot  $24,900  control   limousine                2011   \n",
       "49996  privat   Angebot   $1,980  control      cabrio                1996   \n",
       "49997  privat   Angebot  $13,200     test      cabrio                2014   \n",
       "49998  privat   Angebot  $22,900  control       kombi                2013   \n",
       "49999  privat   Angebot   $1,250  control   limousine                1996   \n",
       "\n",
       "         gearbox  powerPS   model   odometer  monthOfRegistration fuelType  \\\n",
       "0        manuell      158  andere  150,000km                    3      lpg   \n",
       "1      automatik      286     7er  150,000km                    6   benzin   \n",
       "2        manuell      102    golf   70,000km                    7   benzin   \n",
       "3      automatik       71  fortwo   70,000km                    6   benzin   \n",
       "4        manuell        0   focus  150,000km                    7   benzin   \n",
       "...          ...      ...     ...        ...                  ...      ...   \n",
       "49995  automatik      239      q5  100,000km                    1   diesel   \n",
       "49996    manuell       75   astra  150,000km                    5   benzin   \n",
       "49997  automatik       69     500    5,000km                   11   benzin   \n",
       "49998    manuell      150      a3   40,000km                   11   diesel   \n",
       "49999    manuell      101  vectra  150,000km                    1   benzin   \n",
       "\n",
       "            brand notRepairedDamage          dateCreated  nrOfPictures  \\\n",
       "0         peugeot              nein  2016-03-26 00:00:00             0   \n",
       "1             bmw              nein  2016-04-04 00:00:00             0   \n",
       "2      volkswagen              nein  2016-03-26 00:00:00             0   \n",
       "3           smart              nein  2016-03-12 00:00:00             0   \n",
       "4            ford              nein  2016-04-01 00:00:00             0   \n",
       "...           ...               ...                  ...           ...   \n",
       "49995        audi              nein  2016-03-27 00:00:00             0   \n",
       "49996        opel              nein  2016-03-28 00:00:00             0   \n",
       "49997        fiat              nein  2016-04-02 00:00:00             0   \n",
       "49998        audi              nein  2016-03-08 00:00:00             0   \n",
       "49999        opel              nein  2016-03-13 00:00:00             0   \n",
       "\n",
       "       postalCode             lastSeen  \n",
       "0           79588  2016-04-06 06:45:54  \n",
       "1           71034  2016-04-06 14:45:08  \n",
       "2           35394  2016-04-06 20:15:37  \n",
       "3           33729  2016-03-15 03:16:28  \n",
       "4           39218  2016-04-01 14:38:50  \n",
       "...           ...                  ...  \n",
       "49995       82131  2016-04-01 13:47:40  \n",
       "49996       44807  2016-04-02 14:18:02  \n",
       "49997       73430  2016-04-04 11:47:27  \n",
       "49998       35683  2016-04-05 16:45:07  \n",
       "49999       45897  2016-04-06 21:18:48  \n",
       "\n",
       "[50000 rows x 20 columns]"
      ]
     },
     "execution_count": 2,
     "metadata": {},
     "output_type": "execute_result"
    }
   ],
   "source": [
    "autos"
   ]
  },
  {
   "cell_type": "markdown",
   "id": "17bbcf8a",
   "metadata": {},
   "source": [
    "El dataset tiene 50.000 registros y 20 columnas.\n",
    "\n",
    "Vamos a ver más información:"
   ]
  },
  {
   "cell_type": "code",
   "execution_count": 3,
   "id": "102a3765",
   "metadata": {},
   "outputs": [
    {
     "name": "stdout",
     "output_type": "stream",
     "text": [
      "<class 'pandas.core.frame.DataFrame'>\n",
      "RangeIndex: 50000 entries, 0 to 49999\n",
      "Data columns (total 20 columns):\n",
      " #   Column               Non-Null Count  Dtype \n",
      "---  ------               --------------  ----- \n",
      " 0   dateCrawled          50000 non-null  object\n",
      " 1   name                 50000 non-null  object\n",
      " 2   seller               50000 non-null  object\n",
      " 3   offerType            50000 non-null  object\n",
      " 4   price                50000 non-null  object\n",
      " 5   abtest               50000 non-null  object\n",
      " 6   vehicleType          44905 non-null  object\n",
      " 7   yearOfRegistration   50000 non-null  int64 \n",
      " 8   gearbox              47320 non-null  object\n",
      " 9   powerPS              50000 non-null  int64 \n",
      " 10  model                47242 non-null  object\n",
      " 11  odometer             50000 non-null  object\n",
      " 12  monthOfRegistration  50000 non-null  int64 \n",
      " 13  fuelType             45518 non-null  object\n",
      " 14  brand                50000 non-null  object\n",
      " 15  notRepairedDamage    40171 non-null  object\n",
      " 16  dateCreated          50000 non-null  object\n",
      " 17  nrOfPictures         50000 non-null  int64 \n",
      " 18  postalCode           50000 non-null  int64 \n",
      " 19  lastSeen             50000 non-null  object\n",
      "dtypes: int64(5), object(15)\n",
      "memory usage: 7.6+ MB\n"
     ]
    }
   ],
   "source": [
    "autos.info()"
   ]
  },
  {
   "cell_type": "markdown",
   "id": "40a907f5",
   "metadata": {},
   "source": [
    "Estas son las columnas del dataset. Vamos a mostrar una breve descripción de las mismas, que hemos obtenido en la documentación del dataset.\n",
    "\n",
    "https://data.world/data-society/used-cars-data"
   ]
  },
  {
   "cell_type": "markdown",
   "id": "8a7c3872",
   "metadata": {},
   "source": [
    "- **dateCrawled** - Cuándo se rastreó este anuncio por primera vez. Todos los valores se toman a partir de esta fecha\n",
    "- **name** - Nombre del vehículo\n",
    "- **seller** - Vendedor privado o profesional\n",
    "- **offerType** - El tipo de listado\n",
    "- **price** - El precio del vehículo en el anuncio\n",
    "- **abtest** - Si el listado está incluido en una prueba A / B.\n",
    "- **vehicleType** - Tipo de vehículo\n",
    "- **yearOfRegistration** - Año de matriculación del vehículo\n",
    "- **gearbox** - Tipo de transmisión del vehículo\n",
    "- **powerPS** - Potencia en ps\n",
    "- **model** - Modelo del vehículo\n",
    "- **odometer** - Kilómetros del vehículo\n",
    "- **monthOfRegistration** - Mes de matriculación del vehículo\n",
    "- **fuelType** - Tipo de combustible\n",
    "- **brand** - Marca\n",
    "- **notRepairedDamage** - Si el vehículo tiene daños que necesitan reparación\n",
    "- **dateCreated** - Fecha en la que se creó el anuncio de eBay.\n",
    "- **nrOfPictures** - Número de fotos en el anuncio\n",
    "- **postalCode** - Código postal donde se encuentra el vehículo\n",
    "- **lastSeen** - Cuando el rastreador vio este anuncio por última vez en línea"
   ]
  },
  {
   "cell_type": "markdown",
   "id": "00122a44",
   "metadata": {},
   "source": [
    "## 2. DATA CLEANING "
   ]
  },
  {
   "cell_type": "markdown",
   "id": "7985aad6",
   "metadata": {},
   "source": [
    "Vemos que los nombres de las columnas están en formato camelcase:"
   ]
  },
  {
   "cell_type": "code",
   "execution_count": 4,
   "id": "1dd5e092",
   "metadata": {},
   "outputs": [
    {
     "data": {
      "text/plain": [
       "Index(['dateCrawled', 'name', 'seller', 'offerType', 'price', 'abtest',\n",
       "       'vehicleType', 'yearOfRegistration', 'gearbox', 'powerPS', 'model',\n",
       "       'odometer', 'monthOfRegistration', 'fuelType', 'brand',\n",
       "       'notRepairedDamage', 'dateCreated', 'nrOfPictures', 'postalCode',\n",
       "       'lastSeen'],\n",
       "      dtype='object')"
      ]
     },
     "execution_count": 4,
     "metadata": {},
     "output_type": "execute_result"
    }
   ],
   "source": [
    "autos.columns"
   ]
  },
  {
   "cell_type": "markdown",
   "id": "ced1e95a",
   "metadata": {},
   "source": [
    "Vamos a cambiar los nombres de algunas columnas, y cambiaremos el formato de camelcase a snakecase (más común en Python y más legible para trabajar con datos).\n",
    "\n",
    "En concreto vamos a cambiar lo siguiente:\n",
    "\n",
    "- yearOfRegistration -->  registration_year\n",
    "- monthOfRegistration  -->  registration_month\n",
    "- notRepairedDamage  -->  unrepaired_damage\n",
    "- odometer  -->  kilometer\n",
    "- Los demás registros camelcase --> snakecase"
   ]
  },
  {
   "cell_type": "code",
   "execution_count": 5,
   "id": "39937f8b",
   "metadata": {},
   "outputs": [],
   "source": [
    "# cambiamos directamente el nombre de las columnas\n",
    "autos.columns = ['date_crawled', 'name', 'seller', 'offer_type', 'price', 'abtest',\n",
    "       'vehicle_type', 'registration_year', 'gearbox', 'power_ps', 'model',\n",
    "       'kilometer', 'registration_month', 'fuel_type', 'brand',\n",
    "       'unrepaired_damage', 'date_created', 'nr_of_pictures', 'postal_code',\n",
    "       'last_seen']"
   ]
  },
  {
   "cell_type": "code",
   "execution_count": 6,
   "id": "062eaf8e",
   "metadata": {},
   "outputs": [
    {
     "data": {
      "text/plain": [
       "Index(['date_crawled', 'name', 'seller', 'offer_type', 'price', 'abtest',\n",
       "       'vehicle_type', 'registration_year', 'gearbox', 'power_ps', 'model',\n",
       "       'kilometer', 'registration_month', 'fuel_type', 'brand',\n",
       "       'unrepaired_damage', 'date_created', 'nr_of_pictures', 'postal_code',\n",
       "       'last_seen'],\n",
       "      dtype='object')"
      ]
     },
     "execution_count": 6,
     "metadata": {},
     "output_type": "execute_result"
    }
   ],
   "source": [
    "autos.columns"
   ]
  },
  {
   "cell_type": "markdown",
   "id": "7d9261a5",
   "metadata": {},
   "source": [
    "Mostramos la cabecera para corroborar que los nombres han sido modificados:"
   ]
  },
  {
   "cell_type": "code",
   "execution_count": 7,
   "id": "2cb22360",
   "metadata": {},
   "outputs": [
    {
     "data": {
      "text/html": [
       "<div>\n",
       "<style scoped>\n",
       "    .dataframe tbody tr th:only-of-type {\n",
       "        vertical-align: middle;\n",
       "    }\n",
       "\n",
       "    .dataframe tbody tr th {\n",
       "        vertical-align: top;\n",
       "    }\n",
       "\n",
       "    .dataframe thead th {\n",
       "        text-align: right;\n",
       "    }\n",
       "</style>\n",
       "<table border=\"1\" class=\"dataframe\">\n",
       "  <thead>\n",
       "    <tr style=\"text-align: right;\">\n",
       "      <th></th>\n",
       "      <th>date_crawled</th>\n",
       "      <th>name</th>\n",
       "      <th>seller</th>\n",
       "      <th>offer_type</th>\n",
       "      <th>price</th>\n",
       "      <th>abtest</th>\n",
       "      <th>vehicle_type</th>\n",
       "      <th>registration_year</th>\n",
       "      <th>gearbox</th>\n",
       "      <th>power_ps</th>\n",
       "      <th>model</th>\n",
       "      <th>kilometer</th>\n",
       "      <th>registration_month</th>\n",
       "      <th>fuel_type</th>\n",
       "      <th>brand</th>\n",
       "      <th>unrepaired_damage</th>\n",
       "      <th>date_created</th>\n",
       "      <th>nr_of_pictures</th>\n",
       "      <th>postal_code</th>\n",
       "      <th>last_seen</th>\n",
       "    </tr>\n",
       "  </thead>\n",
       "  <tbody>\n",
       "    <tr>\n",
       "      <th>0</th>\n",
       "      <td>2016-03-26 17:47:46</td>\n",
       "      <td>Peugeot_807_160_NAVTECH_ON_BOARD</td>\n",
       "      <td>privat</td>\n",
       "      <td>Angebot</td>\n",
       "      <td>$5,000</td>\n",
       "      <td>control</td>\n",
       "      <td>bus</td>\n",
       "      <td>2004</td>\n",
       "      <td>manuell</td>\n",
       "      <td>158</td>\n",
       "      <td>andere</td>\n",
       "      <td>150,000km</td>\n",
       "      <td>3</td>\n",
       "      <td>lpg</td>\n",
       "      <td>peugeot</td>\n",
       "      <td>nein</td>\n",
       "      <td>2016-03-26 00:00:00</td>\n",
       "      <td>0</td>\n",
       "      <td>79588</td>\n",
       "      <td>2016-04-06 06:45:54</td>\n",
       "    </tr>\n",
       "    <tr>\n",
       "      <th>1</th>\n",
       "      <td>2016-04-04 13:38:56</td>\n",
       "      <td>BMW_740i_4_4_Liter_HAMANN_UMBAU_Mega_Optik</td>\n",
       "      <td>privat</td>\n",
       "      <td>Angebot</td>\n",
       "      <td>$8,500</td>\n",
       "      <td>control</td>\n",
       "      <td>limousine</td>\n",
       "      <td>1997</td>\n",
       "      <td>automatik</td>\n",
       "      <td>286</td>\n",
       "      <td>7er</td>\n",
       "      <td>150,000km</td>\n",
       "      <td>6</td>\n",
       "      <td>benzin</td>\n",
       "      <td>bmw</td>\n",
       "      <td>nein</td>\n",
       "      <td>2016-04-04 00:00:00</td>\n",
       "      <td>0</td>\n",
       "      <td>71034</td>\n",
       "      <td>2016-04-06 14:45:08</td>\n",
       "    </tr>\n",
       "    <tr>\n",
       "      <th>2</th>\n",
       "      <td>2016-03-26 18:57:24</td>\n",
       "      <td>Volkswagen_Golf_1.6_United</td>\n",
       "      <td>privat</td>\n",
       "      <td>Angebot</td>\n",
       "      <td>$8,990</td>\n",
       "      <td>test</td>\n",
       "      <td>limousine</td>\n",
       "      <td>2009</td>\n",
       "      <td>manuell</td>\n",
       "      <td>102</td>\n",
       "      <td>golf</td>\n",
       "      <td>70,000km</td>\n",
       "      <td>7</td>\n",
       "      <td>benzin</td>\n",
       "      <td>volkswagen</td>\n",
       "      <td>nein</td>\n",
       "      <td>2016-03-26 00:00:00</td>\n",
       "      <td>0</td>\n",
       "      <td>35394</td>\n",
       "      <td>2016-04-06 20:15:37</td>\n",
       "    </tr>\n",
       "    <tr>\n",
       "      <th>3</th>\n",
       "      <td>2016-03-12 16:58:10</td>\n",
       "      <td>Smart_smart_fortwo_coupe_softouch/F1/Klima/Pan...</td>\n",
       "      <td>privat</td>\n",
       "      <td>Angebot</td>\n",
       "      <td>$4,350</td>\n",
       "      <td>control</td>\n",
       "      <td>kleinwagen</td>\n",
       "      <td>2007</td>\n",
       "      <td>automatik</td>\n",
       "      <td>71</td>\n",
       "      <td>fortwo</td>\n",
       "      <td>70,000km</td>\n",
       "      <td>6</td>\n",
       "      <td>benzin</td>\n",
       "      <td>smart</td>\n",
       "      <td>nein</td>\n",
       "      <td>2016-03-12 00:00:00</td>\n",
       "      <td>0</td>\n",
       "      <td>33729</td>\n",
       "      <td>2016-03-15 03:16:28</td>\n",
       "    </tr>\n",
       "    <tr>\n",
       "      <th>4</th>\n",
       "      <td>2016-04-01 14:38:50</td>\n",
       "      <td>Ford_Focus_1_6_Benzin_T�V_neu_ist_sehr_gepfleg...</td>\n",
       "      <td>privat</td>\n",
       "      <td>Angebot</td>\n",
       "      <td>$1,350</td>\n",
       "      <td>test</td>\n",
       "      <td>kombi</td>\n",
       "      <td>2003</td>\n",
       "      <td>manuell</td>\n",
       "      <td>0</td>\n",
       "      <td>focus</td>\n",
       "      <td>150,000km</td>\n",
       "      <td>7</td>\n",
       "      <td>benzin</td>\n",
       "      <td>ford</td>\n",
       "      <td>nein</td>\n",
       "      <td>2016-04-01 00:00:00</td>\n",
       "      <td>0</td>\n",
       "      <td>39218</td>\n",
       "      <td>2016-04-01 14:38:50</td>\n",
       "    </tr>\n",
       "  </tbody>\n",
       "</table>\n",
       "</div>"
      ],
      "text/plain": [
       "          date_crawled                                               name  \\\n",
       "0  2016-03-26 17:47:46                   Peugeot_807_160_NAVTECH_ON_BOARD   \n",
       "1  2016-04-04 13:38:56         BMW_740i_4_4_Liter_HAMANN_UMBAU_Mega_Optik   \n",
       "2  2016-03-26 18:57:24                         Volkswagen_Golf_1.6_United   \n",
       "3  2016-03-12 16:58:10  Smart_smart_fortwo_coupe_softouch/F1/Klima/Pan...   \n",
       "4  2016-04-01 14:38:50  Ford_Focus_1_6_Benzin_T�V_neu_ist_sehr_gepfleg...   \n",
       "\n",
       "   seller offer_type   price   abtest vehicle_type  registration_year  \\\n",
       "0  privat    Angebot  $5,000  control          bus               2004   \n",
       "1  privat    Angebot  $8,500  control    limousine               1997   \n",
       "2  privat    Angebot  $8,990     test    limousine               2009   \n",
       "3  privat    Angebot  $4,350  control   kleinwagen               2007   \n",
       "4  privat    Angebot  $1,350     test        kombi               2003   \n",
       "\n",
       "     gearbox  power_ps   model  kilometer  registration_month fuel_type  \\\n",
       "0    manuell       158  andere  150,000km                   3       lpg   \n",
       "1  automatik       286     7er  150,000km                   6    benzin   \n",
       "2    manuell       102    golf   70,000km                   7    benzin   \n",
       "3  automatik        71  fortwo   70,000km                   6    benzin   \n",
       "4    manuell         0   focus  150,000km                   7    benzin   \n",
       "\n",
       "        brand unrepaired_damage         date_created  nr_of_pictures  \\\n",
       "0     peugeot              nein  2016-03-26 00:00:00               0   \n",
       "1         bmw              nein  2016-04-04 00:00:00               0   \n",
       "2  volkswagen              nein  2016-03-26 00:00:00               0   \n",
       "3       smart              nein  2016-03-12 00:00:00               0   \n",
       "4        ford              nein  2016-04-01 00:00:00               0   \n",
       "\n",
       "   postal_code            last_seen  \n",
       "0        79588  2016-04-06 06:45:54  \n",
       "1        71034  2016-04-06 14:45:08  \n",
       "2        35394  2016-04-06 20:15:37  \n",
       "3        33729  2016-03-15 03:16:28  \n",
       "4        39218  2016-04-01 14:38:50  "
      ]
     },
     "execution_count": 7,
     "metadata": {},
     "output_type": "execute_result"
    }
   ],
   "source": [
    "autos.head()"
   ]
  },
  {
   "cell_type": "markdown",
   "id": "5ba68ca6",
   "metadata": {},
   "source": [
    "### 2.1. EXPLORACIÓN BÁSICA DEL DATAFRAME"
   ]
  },
  {
   "cell_type": "markdown",
   "id": "d20ec5a2",
   "metadata": {},
   "source": [
    "Ya tenemos las columnas modificadas. Vamos a realizar ahora una exploración básica para determinar qué otras tareas de Data Cleaning es necesario realizar. De momento vamos a buscar:\n",
    "\n",
    "- Columnas de texto donde todos o casi todos los valores son iguales\n",
    "- Ejemplos de datos numéricos almacenados que podrían ser limpiados o convertidos"
   ]
  },
  {
   "cell_type": "code",
   "execution_count": 8,
   "id": "707183e8",
   "metadata": {},
   "outputs": [
    {
     "data": {
      "text/html": [
       "<div>\n",
       "<style scoped>\n",
       "    .dataframe tbody tr th:only-of-type {\n",
       "        vertical-align: middle;\n",
       "    }\n",
       "\n",
       "    .dataframe tbody tr th {\n",
       "        vertical-align: top;\n",
       "    }\n",
       "\n",
       "    .dataframe thead th {\n",
       "        text-align: right;\n",
       "    }\n",
       "</style>\n",
       "<table border=\"1\" class=\"dataframe\">\n",
       "  <thead>\n",
       "    <tr style=\"text-align: right;\">\n",
       "      <th></th>\n",
       "      <th>date_crawled</th>\n",
       "      <th>name</th>\n",
       "      <th>seller</th>\n",
       "      <th>offer_type</th>\n",
       "      <th>price</th>\n",
       "      <th>abtest</th>\n",
       "      <th>vehicle_type</th>\n",
       "      <th>registration_year</th>\n",
       "      <th>gearbox</th>\n",
       "      <th>power_ps</th>\n",
       "      <th>model</th>\n",
       "      <th>kilometer</th>\n",
       "      <th>registration_month</th>\n",
       "      <th>fuel_type</th>\n",
       "      <th>brand</th>\n",
       "      <th>unrepaired_damage</th>\n",
       "      <th>date_created</th>\n",
       "      <th>nr_of_pictures</th>\n",
       "      <th>postal_code</th>\n",
       "      <th>last_seen</th>\n",
       "    </tr>\n",
       "  </thead>\n",
       "  <tbody>\n",
       "    <tr>\n",
       "      <th>count</th>\n",
       "      <td>50000</td>\n",
       "      <td>50000</td>\n",
       "      <td>50000</td>\n",
       "      <td>50000</td>\n",
       "      <td>50000</td>\n",
       "      <td>50000</td>\n",
       "      <td>44905</td>\n",
       "      <td>50000.000000</td>\n",
       "      <td>47320</td>\n",
       "      <td>50000.000000</td>\n",
       "      <td>47242</td>\n",
       "      <td>50000</td>\n",
       "      <td>50000.000000</td>\n",
       "      <td>45518</td>\n",
       "      <td>50000</td>\n",
       "      <td>40171</td>\n",
       "      <td>50000</td>\n",
       "      <td>50000.0</td>\n",
       "      <td>50000.000000</td>\n",
       "      <td>50000</td>\n",
       "    </tr>\n",
       "    <tr>\n",
       "      <th>unique</th>\n",
       "      <td>48213</td>\n",
       "      <td>38754</td>\n",
       "      <td>2</td>\n",
       "      <td>2</td>\n",
       "      <td>2357</td>\n",
       "      <td>2</td>\n",
       "      <td>8</td>\n",
       "      <td>NaN</td>\n",
       "      <td>2</td>\n",
       "      <td>NaN</td>\n",
       "      <td>245</td>\n",
       "      <td>13</td>\n",
       "      <td>NaN</td>\n",
       "      <td>7</td>\n",
       "      <td>40</td>\n",
       "      <td>2</td>\n",
       "      <td>76</td>\n",
       "      <td>NaN</td>\n",
       "      <td>NaN</td>\n",
       "      <td>39481</td>\n",
       "    </tr>\n",
       "    <tr>\n",
       "      <th>top</th>\n",
       "      <td>2016-03-10 15:36:24</td>\n",
       "      <td>Ford_Fiesta</td>\n",
       "      <td>privat</td>\n",
       "      <td>Angebot</td>\n",
       "      <td>$0</td>\n",
       "      <td>test</td>\n",
       "      <td>limousine</td>\n",
       "      <td>NaN</td>\n",
       "      <td>manuell</td>\n",
       "      <td>NaN</td>\n",
       "      <td>golf</td>\n",
       "      <td>150,000km</td>\n",
       "      <td>NaN</td>\n",
       "      <td>benzin</td>\n",
       "      <td>volkswagen</td>\n",
       "      <td>nein</td>\n",
       "      <td>2016-04-03 00:00:00</td>\n",
       "      <td>NaN</td>\n",
       "      <td>NaN</td>\n",
       "      <td>2016-04-07 06:17:27</td>\n",
       "    </tr>\n",
       "    <tr>\n",
       "      <th>freq</th>\n",
       "      <td>3</td>\n",
       "      <td>78</td>\n",
       "      <td>49999</td>\n",
       "      <td>49999</td>\n",
       "      <td>1421</td>\n",
       "      <td>25756</td>\n",
       "      <td>12859</td>\n",
       "      <td>NaN</td>\n",
       "      <td>36993</td>\n",
       "      <td>NaN</td>\n",
       "      <td>4024</td>\n",
       "      <td>32424</td>\n",
       "      <td>NaN</td>\n",
       "      <td>30107</td>\n",
       "      <td>10687</td>\n",
       "      <td>35232</td>\n",
       "      <td>1946</td>\n",
       "      <td>NaN</td>\n",
       "      <td>NaN</td>\n",
       "      <td>8</td>\n",
       "    </tr>\n",
       "    <tr>\n",
       "      <th>mean</th>\n",
       "      <td>NaN</td>\n",
       "      <td>NaN</td>\n",
       "      <td>NaN</td>\n",
       "      <td>NaN</td>\n",
       "      <td>NaN</td>\n",
       "      <td>NaN</td>\n",
       "      <td>NaN</td>\n",
       "      <td>2005.073280</td>\n",
       "      <td>NaN</td>\n",
       "      <td>116.355920</td>\n",
       "      <td>NaN</td>\n",
       "      <td>NaN</td>\n",
       "      <td>5.723360</td>\n",
       "      <td>NaN</td>\n",
       "      <td>NaN</td>\n",
       "      <td>NaN</td>\n",
       "      <td>NaN</td>\n",
       "      <td>0.0</td>\n",
       "      <td>50813.627300</td>\n",
       "      <td>NaN</td>\n",
       "    </tr>\n",
       "    <tr>\n",
       "      <th>std</th>\n",
       "      <td>NaN</td>\n",
       "      <td>NaN</td>\n",
       "      <td>NaN</td>\n",
       "      <td>NaN</td>\n",
       "      <td>NaN</td>\n",
       "      <td>NaN</td>\n",
       "      <td>NaN</td>\n",
       "      <td>105.712813</td>\n",
       "      <td>NaN</td>\n",
       "      <td>209.216627</td>\n",
       "      <td>NaN</td>\n",
       "      <td>NaN</td>\n",
       "      <td>3.711984</td>\n",
       "      <td>NaN</td>\n",
       "      <td>NaN</td>\n",
       "      <td>NaN</td>\n",
       "      <td>NaN</td>\n",
       "      <td>0.0</td>\n",
       "      <td>25779.747957</td>\n",
       "      <td>NaN</td>\n",
       "    </tr>\n",
       "    <tr>\n",
       "      <th>min</th>\n",
       "      <td>NaN</td>\n",
       "      <td>NaN</td>\n",
       "      <td>NaN</td>\n",
       "      <td>NaN</td>\n",
       "      <td>NaN</td>\n",
       "      <td>NaN</td>\n",
       "      <td>NaN</td>\n",
       "      <td>1000.000000</td>\n",
       "      <td>NaN</td>\n",
       "      <td>0.000000</td>\n",
       "      <td>NaN</td>\n",
       "      <td>NaN</td>\n",
       "      <td>0.000000</td>\n",
       "      <td>NaN</td>\n",
       "      <td>NaN</td>\n",
       "      <td>NaN</td>\n",
       "      <td>NaN</td>\n",
       "      <td>0.0</td>\n",
       "      <td>1067.000000</td>\n",
       "      <td>NaN</td>\n",
       "    </tr>\n",
       "    <tr>\n",
       "      <th>25%</th>\n",
       "      <td>NaN</td>\n",
       "      <td>NaN</td>\n",
       "      <td>NaN</td>\n",
       "      <td>NaN</td>\n",
       "      <td>NaN</td>\n",
       "      <td>NaN</td>\n",
       "      <td>NaN</td>\n",
       "      <td>1999.000000</td>\n",
       "      <td>NaN</td>\n",
       "      <td>70.000000</td>\n",
       "      <td>NaN</td>\n",
       "      <td>NaN</td>\n",
       "      <td>3.000000</td>\n",
       "      <td>NaN</td>\n",
       "      <td>NaN</td>\n",
       "      <td>NaN</td>\n",
       "      <td>NaN</td>\n",
       "      <td>0.0</td>\n",
       "      <td>30451.000000</td>\n",
       "      <td>NaN</td>\n",
       "    </tr>\n",
       "    <tr>\n",
       "      <th>50%</th>\n",
       "      <td>NaN</td>\n",
       "      <td>NaN</td>\n",
       "      <td>NaN</td>\n",
       "      <td>NaN</td>\n",
       "      <td>NaN</td>\n",
       "      <td>NaN</td>\n",
       "      <td>NaN</td>\n",
       "      <td>2003.000000</td>\n",
       "      <td>NaN</td>\n",
       "      <td>105.000000</td>\n",
       "      <td>NaN</td>\n",
       "      <td>NaN</td>\n",
       "      <td>6.000000</td>\n",
       "      <td>NaN</td>\n",
       "      <td>NaN</td>\n",
       "      <td>NaN</td>\n",
       "      <td>NaN</td>\n",
       "      <td>0.0</td>\n",
       "      <td>49577.000000</td>\n",
       "      <td>NaN</td>\n",
       "    </tr>\n",
       "    <tr>\n",
       "      <th>75%</th>\n",
       "      <td>NaN</td>\n",
       "      <td>NaN</td>\n",
       "      <td>NaN</td>\n",
       "      <td>NaN</td>\n",
       "      <td>NaN</td>\n",
       "      <td>NaN</td>\n",
       "      <td>NaN</td>\n",
       "      <td>2008.000000</td>\n",
       "      <td>NaN</td>\n",
       "      <td>150.000000</td>\n",
       "      <td>NaN</td>\n",
       "      <td>NaN</td>\n",
       "      <td>9.000000</td>\n",
       "      <td>NaN</td>\n",
       "      <td>NaN</td>\n",
       "      <td>NaN</td>\n",
       "      <td>NaN</td>\n",
       "      <td>0.0</td>\n",
       "      <td>71540.000000</td>\n",
       "      <td>NaN</td>\n",
       "    </tr>\n",
       "    <tr>\n",
       "      <th>max</th>\n",
       "      <td>NaN</td>\n",
       "      <td>NaN</td>\n",
       "      <td>NaN</td>\n",
       "      <td>NaN</td>\n",
       "      <td>NaN</td>\n",
       "      <td>NaN</td>\n",
       "      <td>NaN</td>\n",
       "      <td>9999.000000</td>\n",
       "      <td>NaN</td>\n",
       "      <td>17700.000000</td>\n",
       "      <td>NaN</td>\n",
       "      <td>NaN</td>\n",
       "      <td>12.000000</td>\n",
       "      <td>NaN</td>\n",
       "      <td>NaN</td>\n",
       "      <td>NaN</td>\n",
       "      <td>NaN</td>\n",
       "      <td>0.0</td>\n",
       "      <td>99998.000000</td>\n",
       "      <td>NaN</td>\n",
       "    </tr>\n",
       "  </tbody>\n",
       "</table>\n",
       "</div>"
      ],
      "text/plain": [
       "               date_crawled         name  seller offer_type  price abtest  \\\n",
       "count                 50000        50000   50000      50000  50000  50000   \n",
       "unique                48213        38754       2          2   2357      2   \n",
       "top     2016-03-10 15:36:24  Ford_Fiesta  privat    Angebot     $0   test   \n",
       "freq                      3           78   49999      49999   1421  25756   \n",
       "mean                    NaN          NaN     NaN        NaN    NaN    NaN   \n",
       "std                     NaN          NaN     NaN        NaN    NaN    NaN   \n",
       "min                     NaN          NaN     NaN        NaN    NaN    NaN   \n",
       "25%                     NaN          NaN     NaN        NaN    NaN    NaN   \n",
       "50%                     NaN          NaN     NaN        NaN    NaN    NaN   \n",
       "75%                     NaN          NaN     NaN        NaN    NaN    NaN   \n",
       "max                     NaN          NaN     NaN        NaN    NaN    NaN   \n",
       "\n",
       "       vehicle_type  registration_year  gearbox      power_ps  model  \\\n",
       "count         44905       50000.000000    47320  50000.000000  47242   \n",
       "unique            8                NaN        2           NaN    245   \n",
       "top       limousine                NaN  manuell           NaN   golf   \n",
       "freq          12859                NaN    36993           NaN   4024   \n",
       "mean            NaN        2005.073280      NaN    116.355920    NaN   \n",
       "std             NaN         105.712813      NaN    209.216627    NaN   \n",
       "min             NaN        1000.000000      NaN      0.000000    NaN   \n",
       "25%             NaN        1999.000000      NaN     70.000000    NaN   \n",
       "50%             NaN        2003.000000      NaN    105.000000    NaN   \n",
       "75%             NaN        2008.000000      NaN    150.000000    NaN   \n",
       "max             NaN        9999.000000      NaN  17700.000000    NaN   \n",
       "\n",
       "        kilometer  registration_month fuel_type       brand unrepaired_damage  \\\n",
       "count       50000        50000.000000     45518       50000             40171   \n",
       "unique         13                 NaN         7          40                 2   \n",
       "top     150,000km                 NaN    benzin  volkswagen              nein   \n",
       "freq        32424                 NaN     30107       10687             35232   \n",
       "mean          NaN            5.723360       NaN         NaN               NaN   \n",
       "std           NaN            3.711984       NaN         NaN               NaN   \n",
       "min           NaN            0.000000       NaN         NaN               NaN   \n",
       "25%           NaN            3.000000       NaN         NaN               NaN   \n",
       "50%           NaN            6.000000       NaN         NaN               NaN   \n",
       "75%           NaN            9.000000       NaN         NaN               NaN   \n",
       "max           NaN           12.000000       NaN         NaN               NaN   \n",
       "\n",
       "               date_created  nr_of_pictures   postal_code            last_seen  \n",
       "count                 50000         50000.0  50000.000000                50000  \n",
       "unique                   76             NaN           NaN                39481  \n",
       "top     2016-04-03 00:00:00             NaN           NaN  2016-04-07 06:17:27  \n",
       "freq                   1946             NaN           NaN                    8  \n",
       "mean                    NaN             0.0  50813.627300                  NaN  \n",
       "std                     NaN             0.0  25779.747957                  NaN  \n",
       "min                     NaN             0.0   1067.000000                  NaN  \n",
       "25%                     NaN             0.0  30451.000000                  NaN  \n",
       "50%                     NaN             0.0  49577.000000                  NaN  \n",
       "75%                     NaN             0.0  71540.000000                  NaN  \n",
       "max                     NaN             0.0  99998.000000                  NaN  "
      ]
     },
     "execution_count": 8,
     "metadata": {},
     "output_type": "execute_result"
    }
   ],
   "source": [
    "autos.describe(include=\"all\")"
   ]
  },
  {
   "cell_type": "markdown",
   "id": "9cac7d2b",
   "metadata": {},
   "source": [
    "**1 ) Hay ciertos datos que necesitan ser modificados para trabajar con ellos, como por ejemplo:**\n",
    "\n",
    "- **name:** hay vehículos que están escritos en camelcase, podríamos escribirlos con un espacio\n",
    "- **offer_type:** está en alemán, podríamos traducirlo al inglés\n",
    "- **price:** están indicados con moneda, y no solamente el número\n",
    "- **gearbox, fueltype:** en alemán\n",
    "- **model,brand:** en minúsculas; podríamos capitalizar los nombres que no lo estén\n",
    "- **kilometer:** vienen con el nº seguido de \"km\", podríamos eliminar el string \"km\""
   ]
  },
  {
   "cell_type": "markdown",
   "id": "d8557ed9",
   "metadata": {},
   "source": [
    "**2 ) Podemos ver que existen ciertas anomalías:**\n",
    "\n",
    "- Existen precios de 0€\n",
    "- Existen años de registro no válidos, como el año 1000 o el 9999\n",
    "- Hay coches con potencias de 17.000cv"
   ]
  },
  {
   "cell_type": "markdown",
   "id": "dc3eaaf4",
   "metadata": {},
   "source": [
    "**3 ) Columnas que podríamos descartar:**\n",
    "\n",
    "- nr_of_pictures, parece que no existen los números de fotos en el dataset. De existir, podría servirnos para determinar, por ejemplo, si a más fotos antes se vende el vehículo, pero si no existen, no tiene sentido trabajar con la columna."
   ]
  },
  {
   "cell_type": "markdown",
   "id": "43dc6be1",
   "metadata": {},
   "source": [
    "### 2.2. REESCRIBIENDO VALORES NUMÉRICOS"
   ]
  },
  {
   "cell_type": "markdown",
   "id": "accf3104",
   "metadata": {},
   "source": [
    "Vamos a realizar las primeras modificaciones en los datos del DataFrame. \n",
    "\n",
    "Lo primero que vamos a hacer será reescribir los valores numéricos que no vienen por defecto como tal, como los km y el precio."
   ]
  },
  {
   "cell_type": "markdown",
   "id": "048b3c64",
   "metadata": {},
   "source": [
    "#### 2.2.1. MODIFICANDO LA COLUMNA \"KILOMETER\""
   ]
  },
  {
   "cell_type": "markdown",
   "id": "f9e9b732",
   "metadata": {},
   "source": [
    "Vamos a ver en detalle la columna \"kilometer\":"
   ]
  },
  {
   "cell_type": "code",
   "execution_count": 9,
   "id": "885ed88b",
   "metadata": {},
   "outputs": [],
   "source": [
    "kilom = autos[\"kilometer\"]"
   ]
  },
  {
   "cell_type": "code",
   "execution_count": 10,
   "id": "27e86971",
   "metadata": {},
   "outputs": [
    {
     "data": {
      "text/plain": [
       "count         50000\n",
       "unique           13\n",
       "top       150,000km\n",
       "freq          32424\n",
       "Name: kilometer, dtype: object"
      ]
     },
     "execution_count": 10,
     "metadata": {},
     "output_type": "execute_result"
    }
   ],
   "source": [
    "kilom.describe()"
   ]
  },
  {
   "cell_type": "code",
   "execution_count": 11,
   "id": "1c50a522",
   "metadata": {},
   "outputs": [
    {
     "data": {
      "text/plain": [
       "array(['150,000km', '70,000km', '50,000km', '80,000km', '10,000km',\n",
       "       '30,000km', '125,000km', '90,000km', '20,000km', '60,000km',\n",
       "       '5,000km', '100,000km', '40,000km'], dtype=object)"
      ]
     },
     "execution_count": 11,
     "metadata": {},
     "output_type": "execute_result"
    }
   ],
   "source": [
    "kilom.unique()"
   ]
  },
  {
   "cell_type": "markdown",
   "id": "1b64db16",
   "metadata": {},
   "source": [
    "Vamos a modificar los strings de la columna \"kilometer\" y los vamos a convertir a enteros."
   ]
  },
  {
   "cell_type": "code",
   "execution_count": 12,
   "id": "37fdc03e",
   "metadata": {},
   "outputs": [],
   "source": [
    "# creamos una lista vacía que almacenará los km como enteros\n",
    "clean_km = []\n",
    "# iteramos sobre la columna \"kilometer\"\n",
    "for km in kilom:\n",
    "    # y realizamos las operaciones de limpieza para cada valor\n",
    "    km = km.replace(\",\",\"\")\n",
    "    km = km.replace(\"km\",\"\")\n",
    "    km = int(km)\n",
    "    # finalmente, agregamos los elementos limpios a la lista\n",
    "    clean_km.append(km)\n",
    "# y reemplazamos los valores en el DataFrame    \n",
    "autos[\"kilometer\"] = clean_km"
   ]
  },
  {
   "cell_type": "code",
   "execution_count": 13,
   "id": "923262b1",
   "metadata": {},
   "outputs": [
    {
     "data": {
      "text/plain": [
       "0        150000\n",
       "1        150000\n",
       "2         70000\n",
       "3         70000\n",
       "4        150000\n",
       "          ...  \n",
       "49995    100000\n",
       "49996    150000\n",
       "49997      5000\n",
       "49998     40000\n",
       "49999    150000\n",
       "Name: kilometer, Length: 50000, dtype: int64"
      ]
     },
     "execution_count": 13,
     "metadata": {},
     "output_type": "execute_result"
    }
   ],
   "source": [
    "kilom = autos[\"kilometer\"]\n",
    "kilom"
   ]
  },
  {
   "cell_type": "markdown",
   "id": "73242bb0",
   "metadata": {},
   "source": [
    "Hemos convertido los valores a enteros, y el *dtype* de \"kilometer\" es ahora *int64*, que es lo que queríamos."
   ]
  },
  {
   "cell_type": "markdown",
   "id": "51a1775f",
   "metadata": {},
   "source": [
    "#### 2.2.2. MODIFICANDO LA COLUMNA \"PRICE\""
   ]
  },
  {
   "cell_type": "markdown",
   "id": "63e2fda6",
   "metadata": {},
   "source": [
    "Vamos a observar la columna \"price\":"
   ]
  },
  {
   "cell_type": "code",
   "execution_count": 14,
   "id": "9e6eff74",
   "metadata": {},
   "outputs": [],
   "source": [
    "precios = autos[\"price\"]"
   ]
  },
  {
   "cell_type": "code",
   "execution_count": 15,
   "id": "8dc7326c",
   "metadata": {},
   "outputs": [
    {
     "data": {
      "text/plain": [
       "count     50000\n",
       "unique     2357\n",
       "top          $0\n",
       "freq       1421\n",
       "Name: price, dtype: object"
      ]
     },
     "execution_count": 15,
     "metadata": {},
     "output_type": "execute_result"
    }
   ],
   "source": [
    "precios.describe()"
   ]
  },
  {
   "cell_type": "code",
   "execution_count": 16,
   "id": "a632d444",
   "metadata": {},
   "outputs": [
    {
     "data": {
      "text/plain": [
       "array(['$5,000', '$8,500', '$8,990', ..., '$385', '$22,200', '$16,995'],\n",
       "      dtype=object)"
      ]
     },
     "execution_count": 16,
     "metadata": {},
     "output_type": "execute_result"
    }
   ],
   "source": [
    "precios.unique()"
   ]
  },
  {
   "cell_type": "markdown",
   "id": "ffb6d92b",
   "metadata": {},
   "source": [
    "Debemos convertir los valores a enteros, ya que en principio no parece haber números decimales.\n",
    "En caso de haberlos, no cambiaría nada la finalidad de nuestro análisis, ya que la modificación del precio sería muy pequeña."
   ]
  },
  {
   "cell_type": "code",
   "execution_count": 17,
   "id": "ce4749be",
   "metadata": {},
   "outputs": [],
   "source": [
    "# Repetimos el procedimiento anterior: lista vacía, iteración, reemplazo de datos.\n",
    "precios_limpios =  []\n",
    "\n",
    "for precio in precios:\n",
    "    precio = precio.replace(\"$\",\"\")\n",
    "    precio = precio.replace(\",\",\"\")\n",
    "    precio = int(precio)\n",
    "    \n",
    "    precios_limpios.append(precio)\n",
    "    \n",
    "autos[\"price\"] = precios_limpios\n",
    "precios = autos[\"price\"]"
   ]
  },
  {
   "cell_type": "code",
   "execution_count": 18,
   "id": "8333818c",
   "metadata": {},
   "outputs": [
    {
     "data": {
      "text/plain": [
       "0         5000\n",
       "1         8500\n",
       "2         8990\n",
       "3         4350\n",
       "4         1350\n",
       "         ...  \n",
       "49995    24900\n",
       "49996     1980\n",
       "49997    13200\n",
       "49998    22900\n",
       "49999     1250\n",
       "Name: price, Length: 50000, dtype: int64"
      ]
     },
     "execution_count": 18,
     "metadata": {},
     "output_type": "execute_result"
    }
   ],
   "source": [
    "precios"
   ]
  },
  {
   "cell_type": "code",
   "execution_count": 19,
   "id": "6adf85b6",
   "metadata": {},
   "outputs": [
    {
     "data": {
      "text/plain": [
       "dtype('int64')"
      ]
     },
     "execution_count": 19,
     "metadata": {},
     "output_type": "execute_result"
    }
   ],
   "source": [
    "precios.dtype"
   ]
  },
  {
   "cell_type": "markdown",
   "id": "6e8682f8",
   "metadata": {},
   "source": [
    "Ya tenemos la columna \"price\" con datatype *int64* ,y los valores convertidos a enteros.\n",
    "\n",
    "Ahora vamos a buscar valores extraños:"
   ]
  },
  {
   "cell_type": "code",
   "execution_count": 20,
   "id": "5ecb3047",
   "metadata": {},
   "outputs": [
    {
     "data": {
      "text/plain": [
       "count    5.000000e+04\n",
       "mean     9.840044e+03\n",
       "std      4.811044e+05\n",
       "min      0.000000e+00\n",
       "25%      1.100000e+03\n",
       "50%      2.950000e+03\n",
       "75%      7.200000e+03\n",
       "max      1.000000e+08\n",
       "Name: price, dtype: float64"
      ]
     },
     "execution_count": 20,
     "metadata": {},
     "output_type": "execute_result"
    }
   ],
   "source": [
    "precios.describe()"
   ]
  },
  {
   "cell_type": "code",
   "execution_count": 21,
   "id": "1358cbcf",
   "metadata": {},
   "outputs": [
    {
     "data": {
      "text/plain": [
       "39705    99999999\n",
       "42221    27322222\n",
       "27371    12345678\n",
       "39377    12345678\n",
       "47598    12345678\n",
       "           ...   \n",
       "43510           0\n",
       "33620           0\n",
       "39231           0\n",
       "48060           0\n",
       "38354           0\n",
       "Name: price, Length: 50000, dtype: int64"
      ]
     },
     "execution_count": 21,
     "metadata": {},
     "output_type": "execute_result"
    }
   ],
   "source": [
    "precios.sort_values(ascending=False)"
   ]
  },
  {
   "cell_type": "markdown",
   "id": "d5d1728c",
   "metadata": {},
   "source": [
    "Vemos que existen precios que no son reales, como 99.999.9999 o 12.345.678\n",
    "\n",
    "Vamos a ver cuantos precios hay por encima de 300.000 dólares, que parece un precio bastante alto, pero aún así, posible:"
   ]
  },
  {
   "cell_type": "code",
   "execution_count": 22,
   "id": "cbc1bd3b",
   "metadata": {},
   "outputs": [
    {
     "data": {
      "text/html": [
       "<div>\n",
       "<style scoped>\n",
       "    .dataframe tbody tr th:only-of-type {\n",
       "        vertical-align: middle;\n",
       "    }\n",
       "\n",
       "    .dataframe tbody tr th {\n",
       "        vertical-align: top;\n",
       "    }\n",
       "\n",
       "    .dataframe thead th {\n",
       "        text-align: right;\n",
       "    }\n",
       "</style>\n",
       "<table border=\"1\" class=\"dataframe\">\n",
       "  <thead>\n",
       "    <tr style=\"text-align: right;\">\n",
       "      <th></th>\n",
       "      <th>date_crawled</th>\n",
       "      <th>name</th>\n",
       "      <th>seller</th>\n",
       "      <th>offer_type</th>\n",
       "      <th>price</th>\n",
       "      <th>abtest</th>\n",
       "      <th>vehicle_type</th>\n",
       "      <th>registration_year</th>\n",
       "      <th>gearbox</th>\n",
       "      <th>power_ps</th>\n",
       "      <th>model</th>\n",
       "      <th>kilometer</th>\n",
       "      <th>registration_month</th>\n",
       "      <th>fuel_type</th>\n",
       "      <th>brand</th>\n",
       "      <th>unrepaired_damage</th>\n",
       "      <th>date_created</th>\n",
       "      <th>nr_of_pictures</th>\n",
       "      <th>postal_code</th>\n",
       "      <th>last_seen</th>\n",
       "    </tr>\n",
       "  </thead>\n",
       "  <tbody>\n",
       "    <tr>\n",
       "      <th>514</th>\n",
       "      <td>2016-03-17 09:53:08</td>\n",
       "      <td>Ford_Focus_Turnier_1.6_16V_Style</td>\n",
       "      <td>privat</td>\n",
       "      <td>Angebot</td>\n",
       "      <td>999999</td>\n",
       "      <td>test</td>\n",
       "      <td>kombi</td>\n",
       "      <td>2009</td>\n",
       "      <td>manuell</td>\n",
       "      <td>101</td>\n",
       "      <td>focus</td>\n",
       "      <td>125000</td>\n",
       "      <td>4</td>\n",
       "      <td>benzin</td>\n",
       "      <td>ford</td>\n",
       "      <td>nein</td>\n",
       "      <td>2016-03-17 00:00:00</td>\n",
       "      <td>0</td>\n",
       "      <td>12205</td>\n",
       "      <td>2016-04-06 07:17:35</td>\n",
       "    </tr>\n",
       "    <tr>\n",
       "      <th>2897</th>\n",
       "      <td>2016-03-12 21:50:57</td>\n",
       "      <td>Escort_MK_1_Hundeknochen_zum_umbauen_auf_RS_2000</td>\n",
       "      <td>privat</td>\n",
       "      <td>Angebot</td>\n",
       "      <td>11111111</td>\n",
       "      <td>test</td>\n",
       "      <td>limousine</td>\n",
       "      <td>1973</td>\n",
       "      <td>manuell</td>\n",
       "      <td>48</td>\n",
       "      <td>escort</td>\n",
       "      <td>50000</td>\n",
       "      <td>3</td>\n",
       "      <td>benzin</td>\n",
       "      <td>ford</td>\n",
       "      <td>nein</td>\n",
       "      <td>2016-03-12 00:00:00</td>\n",
       "      <td>0</td>\n",
       "      <td>94469</td>\n",
       "      <td>2016-03-12 22:45:27</td>\n",
       "    </tr>\n",
       "    <tr>\n",
       "      <th>7814</th>\n",
       "      <td>2016-04-04 11:53:31</td>\n",
       "      <td>Ferrari_F40</td>\n",
       "      <td>privat</td>\n",
       "      <td>Angebot</td>\n",
       "      <td>1300000</td>\n",
       "      <td>control</td>\n",
       "      <td>coupe</td>\n",
       "      <td>1992</td>\n",
       "      <td>NaN</td>\n",
       "      <td>0</td>\n",
       "      <td>NaN</td>\n",
       "      <td>50000</td>\n",
       "      <td>12</td>\n",
       "      <td>NaN</td>\n",
       "      <td>sonstige_autos</td>\n",
       "      <td>nein</td>\n",
       "      <td>2016-04-04 00:00:00</td>\n",
       "      <td>0</td>\n",
       "      <td>60598</td>\n",
       "      <td>2016-04-05 11:34:11</td>\n",
       "    </tr>\n",
       "    <tr>\n",
       "      <th>11137</th>\n",
       "      <td>2016-03-29 23:52:57</td>\n",
       "      <td>suche_maserati_3200_gt_Zustand_unwichtig_laufe...</td>\n",
       "      <td>privat</td>\n",
       "      <td>Angebot</td>\n",
       "      <td>10000000</td>\n",
       "      <td>control</td>\n",
       "      <td>coupe</td>\n",
       "      <td>1960</td>\n",
       "      <td>manuell</td>\n",
       "      <td>368</td>\n",
       "      <td>NaN</td>\n",
       "      <td>100000</td>\n",
       "      <td>1</td>\n",
       "      <td>benzin</td>\n",
       "      <td>sonstige_autos</td>\n",
       "      <td>nein</td>\n",
       "      <td>2016-03-29 00:00:00</td>\n",
       "      <td>0</td>\n",
       "      <td>73033</td>\n",
       "      <td>2016-04-06 21:18:11</td>\n",
       "    </tr>\n",
       "    <tr>\n",
       "      <th>14715</th>\n",
       "      <td>2016-03-30 08:37:24</td>\n",
       "      <td>Rolls_Royce_Phantom_Drophead_Coupe</td>\n",
       "      <td>privat</td>\n",
       "      <td>Angebot</td>\n",
       "      <td>345000</td>\n",
       "      <td>control</td>\n",
       "      <td>cabrio</td>\n",
       "      <td>2012</td>\n",
       "      <td>automatik</td>\n",
       "      <td>460</td>\n",
       "      <td>NaN</td>\n",
       "      <td>20000</td>\n",
       "      <td>8</td>\n",
       "      <td>benzin</td>\n",
       "      <td>sonstige_autos</td>\n",
       "      <td>nein</td>\n",
       "      <td>2016-03-30 00:00:00</td>\n",
       "      <td>0</td>\n",
       "      <td>73525</td>\n",
       "      <td>2016-04-07 00:16:26</td>\n",
       "    </tr>\n",
       "    <tr>\n",
       "      <th>22947</th>\n",
       "      <td>2016-03-22 12:54:19</td>\n",
       "      <td>Bmw_530d_zum_ausschlachten</td>\n",
       "      <td>privat</td>\n",
       "      <td>Angebot</td>\n",
       "      <td>1234566</td>\n",
       "      <td>control</td>\n",
       "      <td>kombi</td>\n",
       "      <td>1999</td>\n",
       "      <td>automatik</td>\n",
       "      <td>190</td>\n",
       "      <td>NaN</td>\n",
       "      <td>150000</td>\n",
       "      <td>2</td>\n",
       "      <td>diesel</td>\n",
       "      <td>bmw</td>\n",
       "      <td>NaN</td>\n",
       "      <td>2016-03-22 00:00:00</td>\n",
       "      <td>0</td>\n",
       "      <td>17454</td>\n",
       "      <td>2016-04-02 03:17:32</td>\n",
       "    </tr>\n",
       "    <tr>\n",
       "      <th>24384</th>\n",
       "      <td>2016-03-21 13:57:51</td>\n",
       "      <td>Schlachte_Golf_3_gt_tdi</td>\n",
       "      <td>privat</td>\n",
       "      <td>Angebot</td>\n",
       "      <td>11111111</td>\n",
       "      <td>test</td>\n",
       "      <td>NaN</td>\n",
       "      <td>1995</td>\n",
       "      <td>NaN</td>\n",
       "      <td>0</td>\n",
       "      <td>NaN</td>\n",
       "      <td>150000</td>\n",
       "      <td>0</td>\n",
       "      <td>NaN</td>\n",
       "      <td>volkswagen</td>\n",
       "      <td>NaN</td>\n",
       "      <td>2016-03-21 00:00:00</td>\n",
       "      <td>0</td>\n",
       "      <td>18519</td>\n",
       "      <td>2016-03-21 14:40:18</td>\n",
       "    </tr>\n",
       "    <tr>\n",
       "      <th>27371</th>\n",
       "      <td>2016-03-09 15:45:47</td>\n",
       "      <td>Fiat_Punto</td>\n",
       "      <td>privat</td>\n",
       "      <td>Angebot</td>\n",
       "      <td>12345678</td>\n",
       "      <td>control</td>\n",
       "      <td>NaN</td>\n",
       "      <td>2017</td>\n",
       "      <td>NaN</td>\n",
       "      <td>95</td>\n",
       "      <td>punto</td>\n",
       "      <td>150000</td>\n",
       "      <td>0</td>\n",
       "      <td>NaN</td>\n",
       "      <td>fiat</td>\n",
       "      <td>NaN</td>\n",
       "      <td>2016-03-09 00:00:00</td>\n",
       "      <td>0</td>\n",
       "      <td>96110</td>\n",
       "      <td>2016-03-09 15:45:47</td>\n",
       "    </tr>\n",
       "    <tr>\n",
       "      <th>36818</th>\n",
       "      <td>2016-03-27 18:37:37</td>\n",
       "      <td>Porsche_991</td>\n",
       "      <td>privat</td>\n",
       "      <td>Angebot</td>\n",
       "      <td>350000</td>\n",
       "      <td>control</td>\n",
       "      <td>coupe</td>\n",
       "      <td>2016</td>\n",
       "      <td>manuell</td>\n",
       "      <td>500</td>\n",
       "      <td>911</td>\n",
       "      <td>5000</td>\n",
       "      <td>3</td>\n",
       "      <td>benzin</td>\n",
       "      <td>porsche</td>\n",
       "      <td>nein</td>\n",
       "      <td>2016-03-27 00:00:00</td>\n",
       "      <td>0</td>\n",
       "      <td>70499</td>\n",
       "      <td>2016-03-27 18:37:37</td>\n",
       "    </tr>\n",
       "    <tr>\n",
       "      <th>37585</th>\n",
       "      <td>2016-03-29 11:38:54</td>\n",
       "      <td>Volkswagen_Jetta_GT</td>\n",
       "      <td>privat</td>\n",
       "      <td>Angebot</td>\n",
       "      <td>999990</td>\n",
       "      <td>test</td>\n",
       "      <td>limousine</td>\n",
       "      <td>1985</td>\n",
       "      <td>manuell</td>\n",
       "      <td>111</td>\n",
       "      <td>jetta</td>\n",
       "      <td>150000</td>\n",
       "      <td>12</td>\n",
       "      <td>benzin</td>\n",
       "      <td>volkswagen</td>\n",
       "      <td>ja</td>\n",
       "      <td>2016-03-29 00:00:00</td>\n",
       "      <td>0</td>\n",
       "      <td>50997</td>\n",
       "      <td>2016-03-29 11:38:54</td>\n",
       "    </tr>\n",
       "    <tr>\n",
       "      <th>39377</th>\n",
       "      <td>2016-03-08 23:53:51</td>\n",
       "      <td>Tausche_volvo_v40_gegen_van</td>\n",
       "      <td>privat</td>\n",
       "      <td>Angebot</td>\n",
       "      <td>12345678</td>\n",
       "      <td>control</td>\n",
       "      <td>NaN</td>\n",
       "      <td>2018</td>\n",
       "      <td>manuell</td>\n",
       "      <td>95</td>\n",
       "      <td>v40</td>\n",
       "      <td>150000</td>\n",
       "      <td>6</td>\n",
       "      <td>NaN</td>\n",
       "      <td>volvo</td>\n",
       "      <td>nein</td>\n",
       "      <td>2016-03-08 00:00:00</td>\n",
       "      <td>0</td>\n",
       "      <td>14542</td>\n",
       "      <td>2016-04-06 23:17:31</td>\n",
       "    </tr>\n",
       "    <tr>\n",
       "      <th>39705</th>\n",
       "      <td>2016-03-22 14:58:27</td>\n",
       "      <td>Tausch_gegen_gleichwertiges</td>\n",
       "      <td>privat</td>\n",
       "      <td>Angebot</td>\n",
       "      <td>99999999</td>\n",
       "      <td>control</td>\n",
       "      <td>limousine</td>\n",
       "      <td>1999</td>\n",
       "      <td>automatik</td>\n",
       "      <td>224</td>\n",
       "      <td>s_klasse</td>\n",
       "      <td>150000</td>\n",
       "      <td>9</td>\n",
       "      <td>benzin</td>\n",
       "      <td>mercedes_benz</td>\n",
       "      <td>NaN</td>\n",
       "      <td>2016-03-22 00:00:00</td>\n",
       "      <td>0</td>\n",
       "      <td>73525</td>\n",
       "      <td>2016-04-06 05:15:30</td>\n",
       "    </tr>\n",
       "    <tr>\n",
       "      <th>42221</th>\n",
       "      <td>2016-03-08 20:39:05</td>\n",
       "      <td>Leasinguebernahme</td>\n",
       "      <td>privat</td>\n",
       "      <td>Angebot</td>\n",
       "      <td>27322222</td>\n",
       "      <td>control</td>\n",
       "      <td>limousine</td>\n",
       "      <td>2014</td>\n",
       "      <td>manuell</td>\n",
       "      <td>163</td>\n",
       "      <td>c4</td>\n",
       "      <td>40000</td>\n",
       "      <td>2</td>\n",
       "      <td>diesel</td>\n",
       "      <td>citroen</td>\n",
       "      <td>NaN</td>\n",
       "      <td>2016-03-08 00:00:00</td>\n",
       "      <td>0</td>\n",
       "      <td>76532</td>\n",
       "      <td>2016-03-08 20:39:05</td>\n",
       "    </tr>\n",
       "    <tr>\n",
       "      <th>43049</th>\n",
       "      <td>2016-03-21 19:53:52</td>\n",
       "      <td>2_VW_Busse_T3</td>\n",
       "      <td>privat</td>\n",
       "      <td>Angebot</td>\n",
       "      <td>999999</td>\n",
       "      <td>test</td>\n",
       "      <td>bus</td>\n",
       "      <td>1981</td>\n",
       "      <td>manuell</td>\n",
       "      <td>70</td>\n",
       "      <td>transporter</td>\n",
       "      <td>150000</td>\n",
       "      <td>1</td>\n",
       "      <td>benzin</td>\n",
       "      <td>volkswagen</td>\n",
       "      <td>NaN</td>\n",
       "      <td>2016-03-21 00:00:00</td>\n",
       "      <td>0</td>\n",
       "      <td>99880</td>\n",
       "      <td>2016-03-28 17:18:28</td>\n",
       "    </tr>\n",
       "    <tr>\n",
       "      <th>47598</th>\n",
       "      <td>2016-03-31 18:56:54</td>\n",
       "      <td>Opel_Vectra_B_1_6i_16V_Facelift_Tuning_Showcar...</td>\n",
       "      <td>privat</td>\n",
       "      <td>Angebot</td>\n",
       "      <td>12345678</td>\n",
       "      <td>control</td>\n",
       "      <td>limousine</td>\n",
       "      <td>2001</td>\n",
       "      <td>manuell</td>\n",
       "      <td>101</td>\n",
       "      <td>vectra</td>\n",
       "      <td>150000</td>\n",
       "      <td>3</td>\n",
       "      <td>benzin</td>\n",
       "      <td>opel</td>\n",
       "      <td>nein</td>\n",
       "      <td>2016-03-31 00:00:00</td>\n",
       "      <td>0</td>\n",
       "      <td>4356</td>\n",
       "      <td>2016-03-31 18:56:54</td>\n",
       "    </tr>\n",
       "    <tr>\n",
       "      <th>47634</th>\n",
       "      <td>2016-04-04 21:25:21</td>\n",
       "      <td>Ferrari_FXX</td>\n",
       "      <td>privat</td>\n",
       "      <td>Angebot</td>\n",
       "      <td>3890000</td>\n",
       "      <td>test</td>\n",
       "      <td>coupe</td>\n",
       "      <td>2006</td>\n",
       "      <td>NaN</td>\n",
       "      <td>799</td>\n",
       "      <td>NaN</td>\n",
       "      <td>5000</td>\n",
       "      <td>7</td>\n",
       "      <td>NaN</td>\n",
       "      <td>sonstige_autos</td>\n",
       "      <td>nein</td>\n",
       "      <td>2016-04-04 00:00:00</td>\n",
       "      <td>0</td>\n",
       "      <td>60313</td>\n",
       "      <td>2016-04-05 12:07:37</td>\n",
       "    </tr>\n",
       "  </tbody>\n",
       "</table>\n",
       "</div>"
      ],
      "text/plain": [
       "              date_crawled                                               name  \\\n",
       "514    2016-03-17 09:53:08                   Ford_Focus_Turnier_1.6_16V_Style   \n",
       "2897   2016-03-12 21:50:57   Escort_MK_1_Hundeknochen_zum_umbauen_auf_RS_2000   \n",
       "7814   2016-04-04 11:53:31                                        Ferrari_F40   \n",
       "11137  2016-03-29 23:52:57  suche_maserati_3200_gt_Zustand_unwichtig_laufe...   \n",
       "14715  2016-03-30 08:37:24                 Rolls_Royce_Phantom_Drophead_Coupe   \n",
       "22947  2016-03-22 12:54:19                         Bmw_530d_zum_ausschlachten   \n",
       "24384  2016-03-21 13:57:51                            Schlachte_Golf_3_gt_tdi   \n",
       "27371  2016-03-09 15:45:47                                         Fiat_Punto   \n",
       "36818  2016-03-27 18:37:37                                        Porsche_991   \n",
       "37585  2016-03-29 11:38:54                                Volkswagen_Jetta_GT   \n",
       "39377  2016-03-08 23:53:51                        Tausche_volvo_v40_gegen_van   \n",
       "39705  2016-03-22 14:58:27                        Tausch_gegen_gleichwertiges   \n",
       "42221  2016-03-08 20:39:05                                  Leasinguebernahme   \n",
       "43049  2016-03-21 19:53:52                                      2_VW_Busse_T3   \n",
       "47598  2016-03-31 18:56:54  Opel_Vectra_B_1_6i_16V_Facelift_Tuning_Showcar...   \n",
       "47634  2016-04-04 21:25:21                                        Ferrari_FXX   \n",
       "\n",
       "       seller offer_type     price   abtest vehicle_type  registration_year  \\\n",
       "514    privat    Angebot    999999     test        kombi               2009   \n",
       "2897   privat    Angebot  11111111     test    limousine               1973   \n",
       "7814   privat    Angebot   1300000  control        coupe               1992   \n",
       "11137  privat    Angebot  10000000  control        coupe               1960   \n",
       "14715  privat    Angebot    345000  control       cabrio               2012   \n",
       "22947  privat    Angebot   1234566  control        kombi               1999   \n",
       "24384  privat    Angebot  11111111     test          NaN               1995   \n",
       "27371  privat    Angebot  12345678  control          NaN               2017   \n",
       "36818  privat    Angebot    350000  control        coupe               2016   \n",
       "37585  privat    Angebot    999990     test    limousine               1985   \n",
       "39377  privat    Angebot  12345678  control          NaN               2018   \n",
       "39705  privat    Angebot  99999999  control    limousine               1999   \n",
       "42221  privat    Angebot  27322222  control    limousine               2014   \n",
       "43049  privat    Angebot    999999     test          bus               1981   \n",
       "47598  privat    Angebot  12345678  control    limousine               2001   \n",
       "47634  privat    Angebot   3890000     test        coupe               2006   \n",
       "\n",
       "         gearbox  power_ps        model  kilometer  registration_month  \\\n",
       "514      manuell       101        focus     125000                   4   \n",
       "2897     manuell        48       escort      50000                   3   \n",
       "7814         NaN         0          NaN      50000                  12   \n",
       "11137    manuell       368          NaN     100000                   1   \n",
       "14715  automatik       460          NaN      20000                   8   \n",
       "22947  automatik       190          NaN     150000                   2   \n",
       "24384        NaN         0          NaN     150000                   0   \n",
       "27371        NaN        95        punto     150000                   0   \n",
       "36818    manuell       500          911       5000                   3   \n",
       "37585    manuell       111        jetta     150000                  12   \n",
       "39377    manuell        95          v40     150000                   6   \n",
       "39705  automatik       224     s_klasse     150000                   9   \n",
       "42221    manuell       163           c4      40000                   2   \n",
       "43049    manuell        70  transporter     150000                   1   \n",
       "47598    manuell       101       vectra     150000                   3   \n",
       "47634        NaN       799          NaN       5000                   7   \n",
       "\n",
       "      fuel_type           brand unrepaired_damage         date_created  \\\n",
       "514      benzin            ford              nein  2016-03-17 00:00:00   \n",
       "2897     benzin            ford              nein  2016-03-12 00:00:00   \n",
       "7814        NaN  sonstige_autos              nein  2016-04-04 00:00:00   \n",
       "11137    benzin  sonstige_autos              nein  2016-03-29 00:00:00   \n",
       "14715    benzin  sonstige_autos              nein  2016-03-30 00:00:00   \n",
       "22947    diesel             bmw               NaN  2016-03-22 00:00:00   \n",
       "24384       NaN      volkswagen               NaN  2016-03-21 00:00:00   \n",
       "27371       NaN            fiat               NaN  2016-03-09 00:00:00   \n",
       "36818    benzin         porsche              nein  2016-03-27 00:00:00   \n",
       "37585    benzin      volkswagen                ja  2016-03-29 00:00:00   \n",
       "39377       NaN           volvo              nein  2016-03-08 00:00:00   \n",
       "39705    benzin   mercedes_benz               NaN  2016-03-22 00:00:00   \n",
       "42221    diesel         citroen               NaN  2016-03-08 00:00:00   \n",
       "43049    benzin      volkswagen               NaN  2016-03-21 00:00:00   \n",
       "47598    benzin            opel              nein  2016-03-31 00:00:00   \n",
       "47634       NaN  sonstige_autos              nein  2016-04-04 00:00:00   \n",
       "\n",
       "       nr_of_pictures  postal_code            last_seen  \n",
       "514                 0        12205  2016-04-06 07:17:35  \n",
       "2897                0        94469  2016-03-12 22:45:27  \n",
       "7814                0        60598  2016-04-05 11:34:11  \n",
       "11137               0        73033  2016-04-06 21:18:11  \n",
       "14715               0        73525  2016-04-07 00:16:26  \n",
       "22947               0        17454  2016-04-02 03:17:32  \n",
       "24384               0        18519  2016-03-21 14:40:18  \n",
       "27371               0        96110  2016-03-09 15:45:47  \n",
       "36818               0        70499  2016-03-27 18:37:37  \n",
       "37585               0        50997  2016-03-29 11:38:54  \n",
       "39377               0        14542  2016-04-06 23:17:31  \n",
       "39705               0        73525  2016-04-06 05:15:30  \n",
       "42221               0        76532  2016-03-08 20:39:05  \n",
       "43049               0        99880  2016-03-28 17:18:28  \n",
       "47598               0         4356  2016-03-31 18:56:54  \n",
       "47634               0        60313  2016-04-05 12:07:37  "
      ]
     },
     "execution_count": 22,
     "metadata": {},
     "output_type": "execute_result"
    }
   ],
   "source": [
    "# creamos un array booleano\n",
    "more300k = autos.loc[(autos[\"price\"] > 300000)]\n",
    "more300k"
   ]
  },
  {
   "cell_type": "markdown",
   "id": "3e52be18",
   "metadata": {},
   "source": [
    "Aquí están todos los coches con precio superior a 300.000 dólares.\n",
    "\n",
    "Vemos que algunos tienen sentido, como por ejemplo un Ferrari F40 por 1.300.000 , o un Porsche 991 por 350.000. Sin embargo, la mayoría de ellos no tienen sentido y vamos a eliminarlos definitivamente. \n",
    "\n",
    "En concreto, vamos a eliminar las filas:\n",
    "\n",
    "- 514\n",
    "- 2897\n",
    "- 11137\n",
    "- 22947\n",
    "- 24384\n",
    "- 27371\n",
    "- 37585\n",
    "- 39377\n",
    "- 39705\n",
    "- 42221\n",
    "- 43049\n",
    "- 47598"
   ]
  },
  {
   "cell_type": "code",
   "execution_count": 23,
   "id": "4502d889",
   "metadata": {},
   "outputs": [],
   "source": [
    "autos = autos.drop([514,2897,11137,22947,24384,27371,37585,39377,39705,42221,43049,47598])"
   ]
  },
  {
   "cell_type": "markdown",
   "id": "a47febf6",
   "metadata": {},
   "source": [
    "Una vez eliminadas las filas que no nos interesan, volvemos a buscar los coches con precios superiores a 300.000 dólares: "
   ]
  },
  {
   "cell_type": "code",
   "execution_count": 24,
   "id": "a0094150",
   "metadata": {},
   "outputs": [
    {
     "data": {
      "text/html": [
       "<div>\n",
       "<style scoped>\n",
       "    .dataframe tbody tr th:only-of-type {\n",
       "        vertical-align: middle;\n",
       "    }\n",
       "\n",
       "    .dataframe tbody tr th {\n",
       "        vertical-align: top;\n",
       "    }\n",
       "\n",
       "    .dataframe thead th {\n",
       "        text-align: right;\n",
       "    }\n",
       "</style>\n",
       "<table border=\"1\" class=\"dataframe\">\n",
       "  <thead>\n",
       "    <tr style=\"text-align: right;\">\n",
       "      <th></th>\n",
       "      <th>date_crawled</th>\n",
       "      <th>name</th>\n",
       "      <th>seller</th>\n",
       "      <th>offer_type</th>\n",
       "      <th>price</th>\n",
       "      <th>abtest</th>\n",
       "      <th>vehicle_type</th>\n",
       "      <th>registration_year</th>\n",
       "      <th>gearbox</th>\n",
       "      <th>power_ps</th>\n",
       "      <th>model</th>\n",
       "      <th>kilometer</th>\n",
       "      <th>registration_month</th>\n",
       "      <th>fuel_type</th>\n",
       "      <th>brand</th>\n",
       "      <th>unrepaired_damage</th>\n",
       "      <th>date_created</th>\n",
       "      <th>nr_of_pictures</th>\n",
       "      <th>postal_code</th>\n",
       "      <th>last_seen</th>\n",
       "    </tr>\n",
       "  </thead>\n",
       "  <tbody>\n",
       "    <tr>\n",
       "      <th>7814</th>\n",
       "      <td>2016-04-04 11:53:31</td>\n",
       "      <td>Ferrari_F40</td>\n",
       "      <td>privat</td>\n",
       "      <td>Angebot</td>\n",
       "      <td>1300000</td>\n",
       "      <td>control</td>\n",
       "      <td>coupe</td>\n",
       "      <td>1992</td>\n",
       "      <td>NaN</td>\n",
       "      <td>0</td>\n",
       "      <td>NaN</td>\n",
       "      <td>50000</td>\n",
       "      <td>12</td>\n",
       "      <td>NaN</td>\n",
       "      <td>sonstige_autos</td>\n",
       "      <td>nein</td>\n",
       "      <td>2016-04-04 00:00:00</td>\n",
       "      <td>0</td>\n",
       "      <td>60598</td>\n",
       "      <td>2016-04-05 11:34:11</td>\n",
       "    </tr>\n",
       "    <tr>\n",
       "      <th>14715</th>\n",
       "      <td>2016-03-30 08:37:24</td>\n",
       "      <td>Rolls_Royce_Phantom_Drophead_Coupe</td>\n",
       "      <td>privat</td>\n",
       "      <td>Angebot</td>\n",
       "      <td>345000</td>\n",
       "      <td>control</td>\n",
       "      <td>cabrio</td>\n",
       "      <td>2012</td>\n",
       "      <td>automatik</td>\n",
       "      <td>460</td>\n",
       "      <td>NaN</td>\n",
       "      <td>20000</td>\n",
       "      <td>8</td>\n",
       "      <td>benzin</td>\n",
       "      <td>sonstige_autos</td>\n",
       "      <td>nein</td>\n",
       "      <td>2016-03-30 00:00:00</td>\n",
       "      <td>0</td>\n",
       "      <td>73525</td>\n",
       "      <td>2016-04-07 00:16:26</td>\n",
       "    </tr>\n",
       "    <tr>\n",
       "      <th>36818</th>\n",
       "      <td>2016-03-27 18:37:37</td>\n",
       "      <td>Porsche_991</td>\n",
       "      <td>privat</td>\n",
       "      <td>Angebot</td>\n",
       "      <td>350000</td>\n",
       "      <td>control</td>\n",
       "      <td>coupe</td>\n",
       "      <td>2016</td>\n",
       "      <td>manuell</td>\n",
       "      <td>500</td>\n",
       "      <td>911</td>\n",
       "      <td>5000</td>\n",
       "      <td>3</td>\n",
       "      <td>benzin</td>\n",
       "      <td>porsche</td>\n",
       "      <td>nein</td>\n",
       "      <td>2016-03-27 00:00:00</td>\n",
       "      <td>0</td>\n",
       "      <td>70499</td>\n",
       "      <td>2016-03-27 18:37:37</td>\n",
       "    </tr>\n",
       "    <tr>\n",
       "      <th>47634</th>\n",
       "      <td>2016-04-04 21:25:21</td>\n",
       "      <td>Ferrari_FXX</td>\n",
       "      <td>privat</td>\n",
       "      <td>Angebot</td>\n",
       "      <td>3890000</td>\n",
       "      <td>test</td>\n",
       "      <td>coupe</td>\n",
       "      <td>2006</td>\n",
       "      <td>NaN</td>\n",
       "      <td>799</td>\n",
       "      <td>NaN</td>\n",
       "      <td>5000</td>\n",
       "      <td>7</td>\n",
       "      <td>NaN</td>\n",
       "      <td>sonstige_autos</td>\n",
       "      <td>nein</td>\n",
       "      <td>2016-04-04 00:00:00</td>\n",
       "      <td>0</td>\n",
       "      <td>60313</td>\n",
       "      <td>2016-04-05 12:07:37</td>\n",
       "    </tr>\n",
       "  </tbody>\n",
       "</table>\n",
       "</div>"
      ],
      "text/plain": [
       "              date_crawled                                name  seller  \\\n",
       "7814   2016-04-04 11:53:31                         Ferrari_F40  privat   \n",
       "14715  2016-03-30 08:37:24  Rolls_Royce_Phantom_Drophead_Coupe  privat   \n",
       "36818  2016-03-27 18:37:37                         Porsche_991  privat   \n",
       "47634  2016-04-04 21:25:21                         Ferrari_FXX  privat   \n",
       "\n",
       "      offer_type    price   abtest vehicle_type  registration_year    gearbox  \\\n",
       "7814     Angebot  1300000  control        coupe               1992        NaN   \n",
       "14715    Angebot   345000  control       cabrio               2012  automatik   \n",
       "36818    Angebot   350000  control        coupe               2016    manuell   \n",
       "47634    Angebot  3890000     test        coupe               2006        NaN   \n",
       "\n",
       "       power_ps model  kilometer  registration_month fuel_type  \\\n",
       "7814          0   NaN      50000                  12       NaN   \n",
       "14715       460   NaN      20000                   8    benzin   \n",
       "36818       500   911       5000                   3    benzin   \n",
       "47634       799   NaN       5000                   7       NaN   \n",
       "\n",
       "                brand unrepaired_damage         date_created  nr_of_pictures  \\\n",
       "7814   sonstige_autos              nein  2016-04-04 00:00:00               0   \n",
       "14715  sonstige_autos              nein  2016-03-30 00:00:00               0   \n",
       "36818         porsche              nein  2016-03-27 00:00:00               0   \n",
       "47634  sonstige_autos              nein  2016-04-04 00:00:00               0   \n",
       "\n",
       "       postal_code            last_seen  \n",
       "7814         60598  2016-04-05 11:34:11  \n",
       "14715        73525  2016-04-07 00:16:26  \n",
       "36818        70499  2016-03-27 18:37:37  \n",
       "47634        60313  2016-04-05 12:07:37  "
      ]
     },
     "execution_count": 24,
     "metadata": {},
     "output_type": "execute_result"
    }
   ],
   "source": [
    "more300k = autos.loc[(autos[\"price\"] > 300000)]\n",
    "more300k"
   ]
  },
  {
   "cell_type": "markdown",
   "id": "c6f3e29a",
   "metadata": {},
   "source": [
    "Vemos que en este caso sí tiene sentido, son coches muy exclusivos que pueden llegar a costar el precio que se pide por ellos, por lo que los mantenemos en el DataFrame."
   ]
  },
  {
   "cell_type": "markdown",
   "id": "62aaa056",
   "metadata": {},
   "source": [
    "### 2.3 FECHAS Y HORAS"
   ]
  },
  {
   "cell_type": "markdown",
   "id": "440beaa9",
   "metadata": {},
   "source": [
    "Queremos conocer qué periodo de tiempo cubre el dataset.\n",
    "\n",
    "\n",
    "Por el momento, vamos a ver cuántas columnas del dataset contienen fechas/horas :"
   ]
  },
  {
   "cell_type": "code",
   "execution_count": 25,
   "id": "16d3db06",
   "metadata": {},
   "outputs": [
    {
     "data": {
      "text/html": [
       "<div>\n",
       "<style scoped>\n",
       "    .dataframe tbody tr th:only-of-type {\n",
       "        vertical-align: middle;\n",
       "    }\n",
       "\n",
       "    .dataframe tbody tr th {\n",
       "        vertical-align: top;\n",
       "    }\n",
       "\n",
       "    .dataframe thead th {\n",
       "        text-align: right;\n",
       "    }\n",
       "</style>\n",
       "<table border=\"1\" class=\"dataframe\">\n",
       "  <thead>\n",
       "    <tr style=\"text-align: right;\">\n",
       "      <th></th>\n",
       "      <th>date_crawled</th>\n",
       "      <th>name</th>\n",
       "      <th>seller</th>\n",
       "      <th>offer_type</th>\n",
       "      <th>price</th>\n",
       "      <th>abtest</th>\n",
       "      <th>vehicle_type</th>\n",
       "      <th>registration_year</th>\n",
       "      <th>gearbox</th>\n",
       "      <th>power_ps</th>\n",
       "      <th>model</th>\n",
       "      <th>kilometer</th>\n",
       "      <th>registration_month</th>\n",
       "      <th>fuel_type</th>\n",
       "      <th>brand</th>\n",
       "      <th>unrepaired_damage</th>\n",
       "      <th>date_created</th>\n",
       "      <th>nr_of_pictures</th>\n",
       "      <th>postal_code</th>\n",
       "      <th>last_seen</th>\n",
       "    </tr>\n",
       "  </thead>\n",
       "  <tbody>\n",
       "    <tr>\n",
       "      <th>0</th>\n",
       "      <td>2016-03-26 17:47:46</td>\n",
       "      <td>Peugeot_807_160_NAVTECH_ON_BOARD</td>\n",
       "      <td>privat</td>\n",
       "      <td>Angebot</td>\n",
       "      <td>5000</td>\n",
       "      <td>control</td>\n",
       "      <td>bus</td>\n",
       "      <td>2004</td>\n",
       "      <td>manuell</td>\n",
       "      <td>158</td>\n",
       "      <td>andere</td>\n",
       "      <td>150000</td>\n",
       "      <td>3</td>\n",
       "      <td>lpg</td>\n",
       "      <td>peugeot</td>\n",
       "      <td>nein</td>\n",
       "      <td>2016-03-26 00:00:00</td>\n",
       "      <td>0</td>\n",
       "      <td>79588</td>\n",
       "      <td>2016-04-06 06:45:54</td>\n",
       "    </tr>\n",
       "    <tr>\n",
       "      <th>1</th>\n",
       "      <td>2016-04-04 13:38:56</td>\n",
       "      <td>BMW_740i_4_4_Liter_HAMANN_UMBAU_Mega_Optik</td>\n",
       "      <td>privat</td>\n",
       "      <td>Angebot</td>\n",
       "      <td>8500</td>\n",
       "      <td>control</td>\n",
       "      <td>limousine</td>\n",
       "      <td>1997</td>\n",
       "      <td>automatik</td>\n",
       "      <td>286</td>\n",
       "      <td>7er</td>\n",
       "      <td>150000</td>\n",
       "      <td>6</td>\n",
       "      <td>benzin</td>\n",
       "      <td>bmw</td>\n",
       "      <td>nein</td>\n",
       "      <td>2016-04-04 00:00:00</td>\n",
       "      <td>0</td>\n",
       "      <td>71034</td>\n",
       "      <td>2016-04-06 14:45:08</td>\n",
       "    </tr>\n",
       "    <tr>\n",
       "      <th>2</th>\n",
       "      <td>2016-03-26 18:57:24</td>\n",
       "      <td>Volkswagen_Golf_1.6_United</td>\n",
       "      <td>privat</td>\n",
       "      <td>Angebot</td>\n",
       "      <td>8990</td>\n",
       "      <td>test</td>\n",
       "      <td>limousine</td>\n",
       "      <td>2009</td>\n",
       "      <td>manuell</td>\n",
       "      <td>102</td>\n",
       "      <td>golf</td>\n",
       "      <td>70000</td>\n",
       "      <td>7</td>\n",
       "      <td>benzin</td>\n",
       "      <td>volkswagen</td>\n",
       "      <td>nein</td>\n",
       "      <td>2016-03-26 00:00:00</td>\n",
       "      <td>0</td>\n",
       "      <td>35394</td>\n",
       "      <td>2016-04-06 20:15:37</td>\n",
       "    </tr>\n",
       "    <tr>\n",
       "      <th>3</th>\n",
       "      <td>2016-03-12 16:58:10</td>\n",
       "      <td>Smart_smart_fortwo_coupe_softouch/F1/Klima/Pan...</td>\n",
       "      <td>privat</td>\n",
       "      <td>Angebot</td>\n",
       "      <td>4350</td>\n",
       "      <td>control</td>\n",
       "      <td>kleinwagen</td>\n",
       "      <td>2007</td>\n",
       "      <td>automatik</td>\n",
       "      <td>71</td>\n",
       "      <td>fortwo</td>\n",
       "      <td>70000</td>\n",
       "      <td>6</td>\n",
       "      <td>benzin</td>\n",
       "      <td>smart</td>\n",
       "      <td>nein</td>\n",
       "      <td>2016-03-12 00:00:00</td>\n",
       "      <td>0</td>\n",
       "      <td>33729</td>\n",
       "      <td>2016-03-15 03:16:28</td>\n",
       "    </tr>\n",
       "    <tr>\n",
       "      <th>4</th>\n",
       "      <td>2016-04-01 14:38:50</td>\n",
       "      <td>Ford_Focus_1_6_Benzin_T�V_neu_ist_sehr_gepfleg...</td>\n",
       "      <td>privat</td>\n",
       "      <td>Angebot</td>\n",
       "      <td>1350</td>\n",
       "      <td>test</td>\n",
       "      <td>kombi</td>\n",
       "      <td>2003</td>\n",
       "      <td>manuell</td>\n",
       "      <td>0</td>\n",
       "      <td>focus</td>\n",
       "      <td>150000</td>\n",
       "      <td>7</td>\n",
       "      <td>benzin</td>\n",
       "      <td>ford</td>\n",
       "      <td>nein</td>\n",
       "      <td>2016-04-01 00:00:00</td>\n",
       "      <td>0</td>\n",
       "      <td>39218</td>\n",
       "      <td>2016-04-01 14:38:50</td>\n",
       "    </tr>\n",
       "  </tbody>\n",
       "</table>\n",
       "</div>"
      ],
      "text/plain": [
       "          date_crawled                                               name  \\\n",
       "0  2016-03-26 17:47:46                   Peugeot_807_160_NAVTECH_ON_BOARD   \n",
       "1  2016-04-04 13:38:56         BMW_740i_4_4_Liter_HAMANN_UMBAU_Mega_Optik   \n",
       "2  2016-03-26 18:57:24                         Volkswagen_Golf_1.6_United   \n",
       "3  2016-03-12 16:58:10  Smart_smart_fortwo_coupe_softouch/F1/Klima/Pan...   \n",
       "4  2016-04-01 14:38:50  Ford_Focus_1_6_Benzin_T�V_neu_ist_sehr_gepfleg...   \n",
       "\n",
       "   seller offer_type  price   abtest vehicle_type  registration_year  \\\n",
       "0  privat    Angebot   5000  control          bus               2004   \n",
       "1  privat    Angebot   8500  control    limousine               1997   \n",
       "2  privat    Angebot   8990     test    limousine               2009   \n",
       "3  privat    Angebot   4350  control   kleinwagen               2007   \n",
       "4  privat    Angebot   1350     test        kombi               2003   \n",
       "\n",
       "     gearbox  power_ps   model  kilometer  registration_month fuel_type  \\\n",
       "0    manuell       158  andere     150000                   3       lpg   \n",
       "1  automatik       286     7er     150000                   6    benzin   \n",
       "2    manuell       102    golf      70000                   7    benzin   \n",
       "3  automatik        71  fortwo      70000                   6    benzin   \n",
       "4    manuell         0   focus     150000                   7    benzin   \n",
       "\n",
       "        brand unrepaired_damage         date_created  nr_of_pictures  \\\n",
       "0     peugeot              nein  2016-03-26 00:00:00               0   \n",
       "1         bmw              nein  2016-04-04 00:00:00               0   \n",
       "2  volkswagen              nein  2016-03-26 00:00:00               0   \n",
       "3       smart              nein  2016-03-12 00:00:00               0   \n",
       "4        ford              nein  2016-04-01 00:00:00               0   \n",
       "\n",
       "   postal_code            last_seen  \n",
       "0        79588  2016-04-06 06:45:54  \n",
       "1        71034  2016-04-06 14:45:08  \n",
       "2        35394  2016-04-06 20:15:37  \n",
       "3        33729  2016-03-15 03:16:28  \n",
       "4        39218  2016-04-01 14:38:50  "
      ]
     },
     "execution_count": 25,
     "metadata": {},
     "output_type": "execute_result"
    }
   ],
   "source": [
    "autos.head()"
   ]
  },
  {
   "cell_type": "markdown",
   "id": "13598fd7",
   "metadata": {},
   "source": [
    "Las siguientes columnas contienen fechas:\n",
    "\n",
    "- date_crawled\n",
    "- registration_year\n",
    "- registration_month\n",
    "- date_created\n",
    "- last_seen"
   ]
  },
  {
   "cell_type": "markdown",
   "id": "f341d347",
   "metadata": {},
   "source": [
    "Vemos que date_crawled, date_created y last_seen son fechas creadas por el rastreador, mientras que registration_year y registration_month son fechas ingresadas manualmente por las personas que publicaron el anuncio."
   ]
  },
  {
   "cell_type": "code",
   "execution_count": 26,
   "id": "52504553",
   "metadata": {},
   "outputs": [
    {
     "data": {
      "text/html": [
       "<div>\n",
       "<style scoped>\n",
       "    .dataframe tbody tr th:only-of-type {\n",
       "        vertical-align: middle;\n",
       "    }\n",
       "\n",
       "    .dataframe tbody tr th {\n",
       "        vertical-align: top;\n",
       "    }\n",
       "\n",
       "    .dataframe thead th {\n",
       "        text-align: right;\n",
       "    }\n",
       "</style>\n",
       "<table border=\"1\" class=\"dataframe\">\n",
       "  <thead>\n",
       "    <tr style=\"text-align: right;\">\n",
       "      <th></th>\n",
       "      <th>date_crawled</th>\n",
       "      <th>date_created</th>\n",
       "      <th>last_seen</th>\n",
       "    </tr>\n",
       "  </thead>\n",
       "  <tbody>\n",
       "    <tr>\n",
       "      <th>0</th>\n",
       "      <td>2016-03-26 17:47:46</td>\n",
       "      <td>2016-03-26 00:00:00</td>\n",
       "      <td>2016-04-06 06:45:54</td>\n",
       "    </tr>\n",
       "    <tr>\n",
       "      <th>1</th>\n",
       "      <td>2016-04-04 13:38:56</td>\n",
       "      <td>2016-04-04 00:00:00</td>\n",
       "      <td>2016-04-06 14:45:08</td>\n",
       "    </tr>\n",
       "    <tr>\n",
       "      <th>2</th>\n",
       "      <td>2016-03-26 18:57:24</td>\n",
       "      <td>2016-03-26 00:00:00</td>\n",
       "      <td>2016-04-06 20:15:37</td>\n",
       "    </tr>\n",
       "    <tr>\n",
       "      <th>3</th>\n",
       "      <td>2016-03-12 16:58:10</td>\n",
       "      <td>2016-03-12 00:00:00</td>\n",
       "      <td>2016-03-15 03:16:28</td>\n",
       "    </tr>\n",
       "    <tr>\n",
       "      <th>4</th>\n",
       "      <td>2016-04-01 14:38:50</td>\n",
       "      <td>2016-04-01 00:00:00</td>\n",
       "      <td>2016-04-01 14:38:50</td>\n",
       "    </tr>\n",
       "  </tbody>\n",
       "</table>\n",
       "</div>"
      ],
      "text/plain": [
       "          date_crawled         date_created            last_seen\n",
       "0  2016-03-26 17:47:46  2016-03-26 00:00:00  2016-04-06 06:45:54\n",
       "1  2016-04-04 13:38:56  2016-04-04 00:00:00  2016-04-06 14:45:08\n",
       "2  2016-03-26 18:57:24  2016-03-26 00:00:00  2016-04-06 20:15:37\n",
       "3  2016-03-12 16:58:10  2016-03-12 00:00:00  2016-03-15 03:16:28\n",
       "4  2016-04-01 14:38:50  2016-04-01 00:00:00  2016-04-01 14:38:50"
      ]
     },
     "execution_count": 26,
     "metadata": {},
     "output_type": "execute_result"
    }
   ],
   "source": [
    "autos[[\"date_crawled\",\"date_created\",\"last_seen\"]].head()"
   ]
  },
  {
   "cell_type": "code",
   "execution_count": 27,
   "id": "962e1ac1",
   "metadata": {},
   "outputs": [
    {
     "data": {
      "text/html": [
       "<div>\n",
       "<style scoped>\n",
       "    .dataframe tbody tr th:only-of-type {\n",
       "        vertical-align: middle;\n",
       "    }\n",
       "\n",
       "    .dataframe tbody tr th {\n",
       "        vertical-align: top;\n",
       "    }\n",
       "\n",
       "    .dataframe thead th {\n",
       "        text-align: right;\n",
       "    }\n",
       "</style>\n",
       "<table border=\"1\" class=\"dataframe\">\n",
       "  <thead>\n",
       "    <tr style=\"text-align: right;\">\n",
       "      <th></th>\n",
       "      <th>registration_year</th>\n",
       "      <th>registration_month</th>\n",
       "    </tr>\n",
       "  </thead>\n",
       "  <tbody>\n",
       "    <tr>\n",
       "      <th>0</th>\n",
       "      <td>2004</td>\n",
       "      <td>3</td>\n",
       "    </tr>\n",
       "    <tr>\n",
       "      <th>1</th>\n",
       "      <td>1997</td>\n",
       "      <td>6</td>\n",
       "    </tr>\n",
       "    <tr>\n",
       "      <th>2</th>\n",
       "      <td>2009</td>\n",
       "      <td>7</td>\n",
       "    </tr>\n",
       "    <tr>\n",
       "      <th>3</th>\n",
       "      <td>2007</td>\n",
       "      <td>6</td>\n",
       "    </tr>\n",
       "    <tr>\n",
       "      <th>4</th>\n",
       "      <td>2003</td>\n",
       "      <td>7</td>\n",
       "    </tr>\n",
       "  </tbody>\n",
       "</table>\n",
       "</div>"
      ],
      "text/plain": [
       "   registration_year  registration_month\n",
       "0               2004                   3\n",
       "1               1997                   6\n",
       "2               2009                   7\n",
       "3               2007                   6\n",
       "4               2003                   7"
      ]
     },
     "execution_count": 27,
     "metadata": {},
     "output_type": "execute_result"
    }
   ],
   "source": [
    "autos[[\"registration_year\",\"registration_month\"]].head()"
   ]
  },
  {
   "cell_type": "markdown",
   "id": "bf4aead6",
   "metadata": {},
   "source": [
    "En el caso de las fechas creadas por el rastreador, no nos interesan las horas, por lo que nos quedaremos únicamente con la fecha AAAA-MM-DD .\n",
    "\n",
    "Como estos datos están en el DataFrame como tipo string, podemos eliminar fácilmente las horas, y quedarnos con los datos en un formato que nos interese más."
   ]
  },
  {
   "cell_type": "markdown",
   "id": "2163e206",
   "metadata": {},
   "source": [
    "#### 2.3.1. COLUMNA \"date_crawled\""
   ]
  },
  {
   "cell_type": "code",
   "execution_count": 28,
   "id": "4c9bdf58",
   "metadata": {},
   "outputs": [
    {
     "name": "stdout",
     "output_type": "stream",
     "text": [
      "0        2016-03-26\n",
      "1        2016-04-04\n",
      "2        2016-03-26\n",
      "3        2016-03-12\n",
      "4        2016-04-01\n",
      "            ...    \n",
      "49995    2016-03-27\n",
      "49996    2016-03-28\n",
      "49997    2016-04-02\n",
      "49998    2016-03-08\n",
      "49999    2016-03-14\n",
      "Name: date_crawled, Length: 49988, dtype: object\n"
     ]
    }
   ],
   "source": [
    "print(autos[\"date_crawled\"].str[0:10])"
   ]
  },
  {
   "cell_type": "markdown",
   "id": "f5ceb5e2",
   "metadata": {},
   "source": [
    "Directamente eliminamos las horas que no nos interesan para cada una de las tres filas:"
   ]
  },
  {
   "cell_type": "code",
   "execution_count": 29,
   "id": "c7c33a38",
   "metadata": {},
   "outputs": [],
   "source": [
    "autos[\"date_crawled\"] = autos[\"date_crawled\"].str[0:10]\n",
    "autos[\"date_created\"] = autos[\"date_created\"].str[0:10]\n",
    "autos[\"last_seen\"] = autos[\"last_seen\"].str[0:10] "
   ]
  },
  {
   "cell_type": "code",
   "execution_count": 30,
   "id": "cfe55598",
   "metadata": {},
   "outputs": [
    {
     "data": {
      "text/html": [
       "<div>\n",
       "<style scoped>\n",
       "    .dataframe tbody tr th:only-of-type {\n",
       "        vertical-align: middle;\n",
       "    }\n",
       "\n",
       "    .dataframe tbody tr th {\n",
       "        vertical-align: top;\n",
       "    }\n",
       "\n",
       "    .dataframe thead th {\n",
       "        text-align: right;\n",
       "    }\n",
       "</style>\n",
       "<table border=\"1\" class=\"dataframe\">\n",
       "  <thead>\n",
       "    <tr style=\"text-align: right;\">\n",
       "      <th></th>\n",
       "      <th>date_crawled</th>\n",
       "      <th>date_created</th>\n",
       "      <th>last_seen</th>\n",
       "    </tr>\n",
       "  </thead>\n",
       "  <tbody>\n",
       "    <tr>\n",
       "      <th>0</th>\n",
       "      <td>2016-03-26</td>\n",
       "      <td>2016-03-26</td>\n",
       "      <td>2016-04-06</td>\n",
       "    </tr>\n",
       "    <tr>\n",
       "      <th>1</th>\n",
       "      <td>2016-04-04</td>\n",
       "      <td>2016-04-04</td>\n",
       "      <td>2016-04-06</td>\n",
       "    </tr>\n",
       "    <tr>\n",
       "      <th>2</th>\n",
       "      <td>2016-03-26</td>\n",
       "      <td>2016-03-26</td>\n",
       "      <td>2016-04-06</td>\n",
       "    </tr>\n",
       "    <tr>\n",
       "      <th>3</th>\n",
       "      <td>2016-03-12</td>\n",
       "      <td>2016-03-12</td>\n",
       "      <td>2016-03-15</td>\n",
       "    </tr>\n",
       "    <tr>\n",
       "      <th>4</th>\n",
       "      <td>2016-04-01</td>\n",
       "      <td>2016-04-01</td>\n",
       "      <td>2016-04-01</td>\n",
       "    </tr>\n",
       "  </tbody>\n",
       "</table>\n",
       "</div>"
      ],
      "text/plain": [
       "  date_crawled date_created   last_seen\n",
       "0   2016-03-26   2016-03-26  2016-04-06\n",
       "1   2016-04-04   2016-04-04  2016-04-06\n",
       "2   2016-03-26   2016-03-26  2016-04-06\n",
       "3   2016-03-12   2016-03-12  2016-03-15\n",
       "4   2016-04-01   2016-04-01  2016-04-01"
      ]
     },
     "execution_count": 30,
     "metadata": {},
     "output_type": "execute_result"
    }
   ],
   "source": [
    "autos[[\"date_crawled\",\"date_created\",\"last_seen\"]].head()"
   ]
  },
  {
   "cell_type": "markdown",
   "id": "540ce07e",
   "metadata": {},
   "source": [
    "Ahora tenemos las fechas en un formato más cómodo para trabajar con ellas."
   ]
  },
  {
   "cell_type": "markdown",
   "id": "af923ca1",
   "metadata": {},
   "source": [
    "Vamos a mostrar los anuncios como porcentajes diarios.\n",
    "\n",
    "Asignamos los porcentajes de los valores a una variable que llamaremos *dt_cr_perc*"
   ]
  },
  {
   "cell_type": "code",
   "execution_count": 31,
   "id": "ca517f6b",
   "metadata": {},
   "outputs": [],
   "source": [
    "dt_cr_perc = autos[\"date_crawled\"].value_counts(normalize=True, dropna=False)"
   ]
  },
  {
   "cell_type": "code",
   "execution_count": 32,
   "id": "c280c73f",
   "metadata": {},
   "outputs": [
    {
     "data": {
      "text/plain": [
       "2016-03-05    0.025386\n",
       "2016-03-06    0.013943\n",
       "2016-03-07    0.035969\n",
       "2016-03-08    0.033268\n",
       "2016-03-09    0.033208\n",
       "2016-03-10    0.032128\n",
       "2016-03-11    0.032488\n",
       "2016-03-12    0.036769\n",
       "2016-03-13    0.015564\n",
       "2016-03-14    0.036629\n",
       "2016-03-15    0.033988\n",
       "2016-03-16    0.029507\n",
       "2016-03-17    0.031508\n",
       "2016-03-18    0.013063\n",
       "2016-03-19    0.034908\n",
       "2016-03-20    0.037829\n",
       "2016-03-21    0.037489\n",
       "2016-03-22    0.032908\n",
       "2016-03-23    0.032388\n",
       "2016-03-24    0.029107\n",
       "2016-03-25    0.031748\n",
       "2016-03-26    0.032488\n",
       "2016-03-27    0.031047\n",
       "2016-03-28    0.034848\n",
       "2016-03-29    0.034148\n",
       "2016-03-30    0.033628\n",
       "2016-03-31    0.031908\n",
       "2016-04-01    0.033808\n",
       "2016-04-02    0.035408\n",
       "2016-04-03    0.038689\n",
       "2016-04-04    0.036529\n",
       "2016-04-05    0.013103\n",
       "2016-04-06    0.003181\n",
       "2016-04-07    0.001420\n",
       "Name: date_crawled, dtype: float64"
      ]
     },
     "execution_count": 32,
     "metadata": {},
     "output_type": "execute_result"
    }
   ],
   "source": [
    "dt_cr_perc = dt_cr_perc.sort_index() # lo ordenamos por ínidices y quedará ordenado por fecha\n",
    "dt_cr_perc"
   ]
  },
  {
   "cell_type": "code",
   "execution_count": 33,
   "id": "6b720cd4",
   "metadata": {},
   "outputs": [
    {
     "data": {
      "text/plain": [
       "count    34.000000\n",
       "mean      0.029412\n",
       "std       0.009764\n",
       "min       0.001420\n",
       "25%       0.029892\n",
       "50%       0.032698\n",
       "75%       0.034893\n",
       "max       0.038689\n",
       "Name: date_crawled, dtype: float64"
      ]
     },
     "execution_count": 33,
     "metadata": {},
     "output_type": "execute_result"
    }
   ],
   "source": [
    "dt_cr_perc.describe()"
   ]
  },
  {
   "cell_type": "markdown",
   "id": "aa1558ec",
   "metadata": {},
   "source": [
    "La columna date_crawled del dataset cubre 34 días, desde el 05-Marzo-2016 hasta el 07-Abril-2016.\n",
    "\n",
    "La distribución de porcentajes diarias es la que acabamos de mostrar."
   ]
  },
  {
   "cell_type": "markdown",
   "id": "75f722d4",
   "metadata": {},
   "source": [
    "#### 2.3.2. COLUMNA \"date_created\""
   ]
  },
  {
   "cell_type": "markdown",
   "id": "76cfc582",
   "metadata": {},
   "source": [
    "Como ya hemos modificado los strings en el proceso de limpieza de la columna \"date_crawled\", directamente sacamos la tabla de porcentajes para la columna \"date_created\""
   ]
  },
  {
   "cell_type": "code",
   "execution_count": 34,
   "id": "fb2231e0",
   "metadata": {},
   "outputs": [],
   "source": [
    "dt_creat_perc = autos[\"date_created\"].value_counts(normalize=True, dropna=False)\n",
    "dt_creat_perc = dt_creat_perc.sort_index()"
   ]
  },
  {
   "cell_type": "code",
   "execution_count": 35,
   "id": "f109c2b4",
   "metadata": {},
   "outputs": [
    {
     "data": {
      "text/plain": [
       "2015-06-11    0.000020\n",
       "2015-08-10    0.000020\n",
       "2015-09-09    0.000020\n",
       "2015-11-10    0.000020\n",
       "2015-12-05    0.000020\n",
       "                ...   \n",
       "2016-04-03    0.038929\n",
       "2016-04-04    0.036889\n",
       "2016-04-05    0.011843\n",
       "2016-04-06    0.003261\n",
       "2016-04-07    0.001280\n",
       "Name: date_created, Length: 76, dtype: float64"
      ]
     },
     "execution_count": 35,
     "metadata": {},
     "output_type": "execute_result"
    }
   ],
   "source": [
    "dt_creat_perc"
   ]
  },
  {
   "cell_type": "code",
   "execution_count": 36,
   "id": "d4df2807",
   "metadata": {},
   "outputs": [
    {
     "data": {
      "text/plain": [
       "count    76.000000\n",
       "mean      0.013158\n",
       "std       0.015958\n",
       "min       0.000020\n",
       "25%       0.000020\n",
       "50%       0.000140\n",
       "75%       0.032283\n",
       "max       0.038929\n",
       "Name: date_created, dtype: float64"
      ]
     },
     "execution_count": 36,
     "metadata": {},
     "output_type": "execute_result"
    }
   ],
   "source": [
    "dt_creat_perc.describe()"
   ]
  },
  {
   "cell_type": "markdown",
   "id": "eb856057",
   "metadata": {},
   "source": [
    "Vemos que hay anuncios sueltos que se crearon varios meses atrás, y ocupan porcentajes muy pequeños, pero están ahí. Estos coches por algún motivo no se llegaron a vender, o al menos no en un plazo razonable de tiempo."
   ]
  },
  {
   "cell_type": "markdown",
   "id": "f0c83668",
   "metadata": {},
   "source": [
    "#### 2.3.2. COLUMNA \"last_seen\""
   ]
  },
  {
   "cell_type": "markdown",
   "id": "9671c196",
   "metadata": {},
   "source": [
    "Volvemos a hacer las mismas operaciones que hicimos con \"date_crawled\" y \"date_created\", esta vez para la columna \"last_seen\":"
   ]
  },
  {
   "cell_type": "code",
   "execution_count": 37,
   "id": "c2c9996f",
   "metadata": {},
   "outputs": [],
   "source": [
    "last_seen_perc = autos[\"last_seen\"].value_counts(normalize=True, dropna=False)\n",
    "last_seen_perc = last_seen_perc.sort_index()"
   ]
  },
  {
   "cell_type": "code",
   "execution_count": 38,
   "id": "8767e00c",
   "metadata": {},
   "outputs": [
    {
     "data": {
      "text/plain": [
       "2016-03-05    0.001080\n",
       "2016-03-06    0.004421\n",
       "2016-03-07    0.005361\n",
       "2016-03-08    0.007582\n",
       "2016-03-09    0.009842\n",
       "2016-03-10    0.010763\n",
       "2016-03-11    0.012523\n",
       "2016-03-12    0.023806\n",
       "2016-03-13    0.008982\n",
       "2016-03-14    0.012803\n",
       "2016-03-15    0.015884\n",
       "2016-03-16    0.016444\n",
       "2016-03-17    0.027927\n",
       "2016-03-18    0.007422\n",
       "2016-03-19    0.015744\n",
       "2016-03-20    0.020705\n",
       "2016-03-21    0.020725\n",
       "2016-03-22    0.021585\n",
       "2016-03-23    0.018584\n",
       "2016-03-24    0.019565\n",
       "2016-03-25    0.019205\n",
       "2016-03-26    0.016964\n",
       "2016-03-27    0.016024\n",
       "2016-03-28    0.020845\n",
       "2016-03-29    0.022325\n",
       "2016-03-30    0.024846\n",
       "2016-03-31    0.023826\n",
       "2016-04-01    0.023106\n",
       "2016-04-02    0.024886\n",
       "2016-04-03    0.025366\n",
       "2016-04-04    0.024626\n",
       "2016-04-05    0.124310\n",
       "2016-04-06    0.220973\n",
       "2016-04-07    0.130951\n",
       "Name: last_seen, dtype: float64"
      ]
     },
     "execution_count": 38,
     "metadata": {},
     "output_type": "execute_result"
    }
   ],
   "source": [
    "last_seen_perc"
   ]
  },
  {
   "cell_type": "code",
   "execution_count": 39,
   "id": "224ef798",
   "metadata": {},
   "outputs": [
    {
     "data": {
      "text/plain": [
       "count    34.000000\n",
       "mean      0.029412\n",
       "std       0.043484\n",
       "min       0.001080\n",
       "25%       0.012593\n",
       "50%       0.019385\n",
       "75%       0.023821\n",
       "max       0.220973\n",
       "Name: last_seen, dtype: float64"
      ]
     },
     "execution_count": 39,
     "metadata": {},
     "output_type": "execute_result"
    }
   ],
   "source": [
    "last_seen_perc.describe()"
   ]
  },
  {
   "cell_type": "markdown",
   "id": "05542e53",
   "metadata": {},
   "source": [
    "Destacan los tres últimos días, 5,6 y 7 de Abril que acumulan casi el 50% de los anuncios.\n",
    "Por otra parte tiene sentido, ya que la columna indica la fecha en que el rastreador vio el anuncio por última vez."
   ]
  },
  {
   "cell_type": "markdown",
   "id": "b21ffc3d",
   "metadata": {},
   "source": [
    "#### 2.3.3. COLUMNA \"registration_month\""
   ]
  },
  {
   "cell_type": "markdown",
   "id": "33c7cf3d",
   "metadata": {},
   "source": [
    "Esta columna no tiene interés alguno para nosotros, salvo quizás poder determinar en qué mes se matricularon más coches, o buscar datos erróneos, si los hubiese.\n",
    "\n",
    "No obstante vamos a echarle un vistazo:"
   ]
  },
  {
   "cell_type": "code",
   "execution_count": 40,
   "id": "98d1eaa0",
   "metadata": {},
   "outputs": [
    {
     "data": {
      "text/plain": [
       "count    49988.000000\n",
       "mean         5.723874\n",
       "std          3.711875\n",
       "min          0.000000\n",
       "25%          3.000000\n",
       "50%          6.000000\n",
       "75%          9.000000\n",
       "max         12.000000\n",
       "Name: registration_month, dtype: float64"
      ]
     },
     "execution_count": 40,
     "metadata": {},
     "output_type": "execute_result"
    }
   ],
   "source": [
    "reg_month = autos[\"registration_month\"]\n",
    "reg_month.describe()"
   ]
  },
  {
   "cell_type": "markdown",
   "id": "2782af24",
   "metadata": {},
   "source": [
    "Vemos que el 25%,50%,75% y max coinciden bastante bien con la realidad de un año natural, y vamos a dejar intacta la columna, ya que no parece tener errores graves."
   ]
  },
  {
   "cell_type": "markdown",
   "id": "a6245a4f",
   "metadata": {},
   "source": [
    "#### 2.3.4. COLUMNA \"registration_year\""
   ]
  },
  {
   "cell_type": "code",
   "execution_count": 41,
   "id": "c1c4ca01",
   "metadata": {},
   "outputs": [
    {
     "data": {
      "text/plain": [
       "count    49988.000000\n",
       "mean      2005.075478\n",
       "std        105.725062\n",
       "min       1000.000000\n",
       "25%       1999.000000\n",
       "50%       2003.000000\n",
       "75%       2008.000000\n",
       "max       9999.000000\n",
       "Name: registration_year, dtype: float64"
      ]
     },
     "execution_count": 41,
     "metadata": {},
     "output_type": "execute_result"
    }
   ],
   "source": [
    "reg_year = autos[\"registration_year\"]\n",
    "reg_year.describe()"
   ]
  },
  {
   "cell_type": "markdown",
   "id": "48505561",
   "metadata": {},
   "source": [
    "Aquí si que vemos errores significativos. Por ejemplo, el valor mínimo es el año 1000 y el máximo 9999.\n",
    "Vamos a filtrar, acotando el periodo de matriculación de los vehículos entre 1950-2016.\n",
    "\n",
    "En principio colocamos 1950 por si hubiese algún vehículo clásico muy antiguo a la venta, cosa que es perfectamente posible.\n",
    "\n",
    "Ya de paso, veremos si los valores que eran cero en *registration_month* tienen algo que ver con valores incorrectos en *registration_year*:"
   ]
  },
  {
   "cell_type": "code",
   "execution_count": 42,
   "id": "c19ec274",
   "metadata": {},
   "outputs": [],
   "source": [
    "out50_16 = autos.loc[(autos[\"registration_year\"] > 2016) | (autos[\"registration_year\"] < 1950)]"
   ]
  },
  {
   "cell_type": "code",
   "execution_count": 43,
   "id": "33b27e9e",
   "metadata": {},
   "outputs": [
    {
     "data": {
      "text/html": [
       "<div>\n",
       "<style scoped>\n",
       "    .dataframe tbody tr th:only-of-type {\n",
       "        vertical-align: middle;\n",
       "    }\n",
       "\n",
       "    .dataframe tbody tr th {\n",
       "        vertical-align: top;\n",
       "    }\n",
       "\n",
       "    .dataframe thead th {\n",
       "        text-align: right;\n",
       "    }\n",
       "</style>\n",
       "<table border=\"1\" class=\"dataframe\">\n",
       "  <thead>\n",
       "    <tr style=\"text-align: right;\">\n",
       "      <th></th>\n",
       "      <th>date_crawled</th>\n",
       "      <th>name</th>\n",
       "      <th>seller</th>\n",
       "      <th>offer_type</th>\n",
       "      <th>price</th>\n",
       "      <th>abtest</th>\n",
       "      <th>vehicle_type</th>\n",
       "      <th>registration_year</th>\n",
       "      <th>gearbox</th>\n",
       "      <th>power_ps</th>\n",
       "      <th>model</th>\n",
       "      <th>kilometer</th>\n",
       "      <th>registration_month</th>\n",
       "      <th>fuel_type</th>\n",
       "      <th>brand</th>\n",
       "      <th>unrepaired_damage</th>\n",
       "      <th>date_created</th>\n",
       "      <th>nr_of_pictures</th>\n",
       "      <th>postal_code</th>\n",
       "      <th>last_seen</th>\n",
       "    </tr>\n",
       "  </thead>\n",
       "  <tbody>\n",
       "    <tr>\n",
       "      <th>10</th>\n",
       "      <td>2016-03-15</td>\n",
       "      <td>VW_Golf_Tuning_in_siber/grau</td>\n",
       "      <td>privat</td>\n",
       "      <td>Angebot</td>\n",
       "      <td>999</td>\n",
       "      <td>test</td>\n",
       "      <td>NaN</td>\n",
       "      <td>2017</td>\n",
       "      <td>manuell</td>\n",
       "      <td>90</td>\n",
       "      <td>NaN</td>\n",
       "      <td>150000</td>\n",
       "      <td>4</td>\n",
       "      <td>benzin</td>\n",
       "      <td>volkswagen</td>\n",
       "      <td>nein</td>\n",
       "      <td>2016-03-14</td>\n",
       "      <td>0</td>\n",
       "      <td>86157</td>\n",
       "      <td>2016-04-07</td>\n",
       "    </tr>\n",
       "    <tr>\n",
       "      <th>55</th>\n",
       "      <td>2016-03-07</td>\n",
       "      <td>Mercedes_E320_AMG_zu_Tauschen!</td>\n",
       "      <td>privat</td>\n",
       "      <td>Angebot</td>\n",
       "      <td>1</td>\n",
       "      <td>test</td>\n",
       "      <td>NaN</td>\n",
       "      <td>2017</td>\n",
       "      <td>automatik</td>\n",
       "      <td>224</td>\n",
       "      <td>e_klasse</td>\n",
       "      <td>125000</td>\n",
       "      <td>7</td>\n",
       "      <td>benzin</td>\n",
       "      <td>mercedes_benz</td>\n",
       "      <td>nein</td>\n",
       "      <td>2016-03-06</td>\n",
       "      <td>0</td>\n",
       "      <td>22111</td>\n",
       "      <td>2016-03-08</td>\n",
       "    </tr>\n",
       "    <tr>\n",
       "      <th>65</th>\n",
       "      <td>2016-04-04</td>\n",
       "      <td>Ford_Fiesta_zum_ausschlachten</td>\n",
       "      <td>privat</td>\n",
       "      <td>Angebot</td>\n",
       "      <td>250</td>\n",
       "      <td>control</td>\n",
       "      <td>NaN</td>\n",
       "      <td>2017</td>\n",
       "      <td>manuell</td>\n",
       "      <td>65</td>\n",
       "      <td>fiesta</td>\n",
       "      <td>125000</td>\n",
       "      <td>9</td>\n",
       "      <td>benzin</td>\n",
       "      <td>ford</td>\n",
       "      <td>NaN</td>\n",
       "      <td>2016-04-04</td>\n",
       "      <td>0</td>\n",
       "      <td>65606</td>\n",
       "      <td>2016-04-05</td>\n",
       "    </tr>\n",
       "    <tr>\n",
       "      <th>68</th>\n",
       "      <td>2016-04-03</td>\n",
       "      <td>Mini_cooper_s_clubman_/vollausstattung_/_Navi/...</td>\n",
       "      <td>privat</td>\n",
       "      <td>Angebot</td>\n",
       "      <td>10990</td>\n",
       "      <td>test</td>\n",
       "      <td>NaN</td>\n",
       "      <td>2017</td>\n",
       "      <td>manuell</td>\n",
       "      <td>174</td>\n",
       "      <td>clubman</td>\n",
       "      <td>100000</td>\n",
       "      <td>0</td>\n",
       "      <td>NaN</td>\n",
       "      <td>mini</td>\n",
       "      <td>nein</td>\n",
       "      <td>2016-04-03</td>\n",
       "      <td>0</td>\n",
       "      <td>83135</td>\n",
       "      <td>2016-04-05</td>\n",
       "    </tr>\n",
       "    <tr>\n",
       "      <th>84</th>\n",
       "      <td>2016-03-27</td>\n",
       "      <td>Renault_twingo</td>\n",
       "      <td>privat</td>\n",
       "      <td>Angebot</td>\n",
       "      <td>900</td>\n",
       "      <td>control</td>\n",
       "      <td>NaN</td>\n",
       "      <td>2018</td>\n",
       "      <td>NaN</td>\n",
       "      <td>60</td>\n",
       "      <td>twingo</td>\n",
       "      <td>150000</td>\n",
       "      <td>0</td>\n",
       "      <td>NaN</td>\n",
       "      <td>renault</td>\n",
       "      <td>NaN</td>\n",
       "      <td>2016-03-27</td>\n",
       "      <td>0</td>\n",
       "      <td>40589</td>\n",
       "      <td>2016-04-05</td>\n",
       "    </tr>\n",
       "    <tr>\n",
       "      <th>...</th>\n",
       "      <td>...</td>\n",
       "      <td>...</td>\n",
       "      <td>...</td>\n",
       "      <td>...</td>\n",
       "      <td>...</td>\n",
       "      <td>...</td>\n",
       "      <td>...</td>\n",
       "      <td>...</td>\n",
       "      <td>...</td>\n",
       "      <td>...</td>\n",
       "      <td>...</td>\n",
       "      <td>...</td>\n",
       "      <td>...</td>\n",
       "      <td>...</td>\n",
       "      <td>...</td>\n",
       "      <td>...</td>\n",
       "      <td>...</td>\n",
       "      <td>...</td>\n",
       "      <td>...</td>\n",
       "      <td>...</td>\n",
       "    </tr>\n",
       "    <tr>\n",
       "      <th>49796</th>\n",
       "      <td>2016-03-09</td>\n",
       "      <td>Opel_corsa_1.4_zu_verkaufen</td>\n",
       "      <td>privat</td>\n",
       "      <td>Angebot</td>\n",
       "      <td>4500</td>\n",
       "      <td>test</td>\n",
       "      <td>NaN</td>\n",
       "      <td>2017</td>\n",
       "      <td>manuell</td>\n",
       "      <td>90</td>\n",
       "      <td>corsa</td>\n",
       "      <td>70000</td>\n",
       "      <td>7</td>\n",
       "      <td>benzin</td>\n",
       "      <td>opel</td>\n",
       "      <td>nein</td>\n",
       "      <td>2016-03-09</td>\n",
       "      <td>0</td>\n",
       "      <td>88433</td>\n",
       "      <td>2016-03-17</td>\n",
       "    </tr>\n",
       "    <tr>\n",
       "      <th>49841</th>\n",
       "      <td>2016-03-11</td>\n",
       "      <td>Passat_abzugeben.</td>\n",
       "      <td>privat</td>\n",
       "      <td>Angebot</td>\n",
       "      <td>600</td>\n",
       "      <td>test</td>\n",
       "      <td>NaN</td>\n",
       "      <td>2017</td>\n",
       "      <td>manuell</td>\n",
       "      <td>101</td>\n",
       "      <td>passat</td>\n",
       "      <td>150000</td>\n",
       "      <td>7</td>\n",
       "      <td>NaN</td>\n",
       "      <td>volkswagen</td>\n",
       "      <td>NaN</td>\n",
       "      <td>2016-03-11</td>\n",
       "      <td>0</td>\n",
       "      <td>53804</td>\n",
       "      <td>2016-03-11</td>\n",
       "    </tr>\n",
       "    <tr>\n",
       "      <th>49880</th>\n",
       "      <td>2016-03-30</td>\n",
       "      <td>E39_528i_an_Bastler</td>\n",
       "      <td>privat</td>\n",
       "      <td>Angebot</td>\n",
       "      <td>0</td>\n",
       "      <td>control</td>\n",
       "      <td>NaN</td>\n",
       "      <td>2017</td>\n",
       "      <td>manuell</td>\n",
       "      <td>193</td>\n",
       "      <td>5er</td>\n",
       "      <td>150000</td>\n",
       "      <td>4</td>\n",
       "      <td>NaN</td>\n",
       "      <td>bmw</td>\n",
       "      <td>ja</td>\n",
       "      <td>2016-03-30</td>\n",
       "      <td>0</td>\n",
       "      <td>65468</td>\n",
       "      <td>2016-04-07</td>\n",
       "    </tr>\n",
       "    <tr>\n",
       "      <th>49910</th>\n",
       "      <td>2016-04-03</td>\n",
       "      <td>Schoener_fast_neuer_Opel_Mokka_in_Zell_Mosel_m...</td>\n",
       "      <td>privat</td>\n",
       "      <td>Angebot</td>\n",
       "      <td>22200</td>\n",
       "      <td>test</td>\n",
       "      <td>NaN</td>\n",
       "      <td>9000</td>\n",
       "      <td>automatik</td>\n",
       "      <td>140</td>\n",
       "      <td>andere</td>\n",
       "      <td>10000</td>\n",
       "      <td>3</td>\n",
       "      <td>benzin</td>\n",
       "      <td>opel</td>\n",
       "      <td>NaN</td>\n",
       "      <td>2016-04-03</td>\n",
       "      <td>0</td>\n",
       "      <td>56856</td>\n",
       "      <td>2016-04-05</td>\n",
       "    </tr>\n",
       "    <tr>\n",
       "      <th>49935</th>\n",
       "      <td>2016-04-01</td>\n",
       "      <td>Mercedes_A_klasse_angemeldet_mit_Tuef_und_Auto...</td>\n",
       "      <td>privat</td>\n",
       "      <td>Angebot</td>\n",
       "      <td>800</td>\n",
       "      <td>test</td>\n",
       "      <td>NaN</td>\n",
       "      <td>2017</td>\n",
       "      <td>automatik</td>\n",
       "      <td>101</td>\n",
       "      <td>a_klasse</td>\n",
       "      <td>150000</td>\n",
       "      <td>9</td>\n",
       "      <td>NaN</td>\n",
       "      <td>mercedes_benz</td>\n",
       "      <td>nein</td>\n",
       "      <td>2016-04-01</td>\n",
       "      <td>0</td>\n",
       "      <td>39108</td>\n",
       "      <td>2016-04-01</td>\n",
       "    </tr>\n",
       "  </tbody>\n",
       "</table>\n",
       "<p>1994 rows × 20 columns</p>\n",
       "</div>"
      ],
      "text/plain": [
       "      date_crawled                                               name  seller  \\\n",
       "10      2016-03-15                       VW_Golf_Tuning_in_siber/grau  privat   \n",
       "55      2016-03-07                     Mercedes_E320_AMG_zu_Tauschen!  privat   \n",
       "65      2016-04-04                      Ford_Fiesta_zum_ausschlachten  privat   \n",
       "68      2016-04-03  Mini_cooper_s_clubman_/vollausstattung_/_Navi/...  privat   \n",
       "84      2016-03-27                                     Renault_twingo  privat   \n",
       "...            ...                                                ...     ...   \n",
       "49796   2016-03-09                        Opel_corsa_1.4_zu_verkaufen  privat   \n",
       "49841   2016-03-11                                  Passat_abzugeben.  privat   \n",
       "49880   2016-03-30                                E39_528i_an_Bastler  privat   \n",
       "49910   2016-04-03  Schoener_fast_neuer_Opel_Mokka_in_Zell_Mosel_m...  privat   \n",
       "49935   2016-04-01  Mercedes_A_klasse_angemeldet_mit_Tuef_und_Auto...  privat   \n",
       "\n",
       "      offer_type  price   abtest vehicle_type  registration_year    gearbox  \\\n",
       "10       Angebot    999     test          NaN               2017    manuell   \n",
       "55       Angebot      1     test          NaN               2017  automatik   \n",
       "65       Angebot    250  control          NaN               2017    manuell   \n",
       "68       Angebot  10990     test          NaN               2017    manuell   \n",
       "84       Angebot    900  control          NaN               2018        NaN   \n",
       "...          ...    ...      ...          ...                ...        ...   \n",
       "49796    Angebot   4500     test          NaN               2017    manuell   \n",
       "49841    Angebot    600     test          NaN               2017    manuell   \n",
       "49880    Angebot      0  control          NaN               2017    manuell   \n",
       "49910    Angebot  22200     test          NaN               9000  automatik   \n",
       "49935    Angebot    800     test          NaN               2017  automatik   \n",
       "\n",
       "       power_ps     model  kilometer  registration_month fuel_type  \\\n",
       "10           90       NaN     150000                   4    benzin   \n",
       "55          224  e_klasse     125000                   7    benzin   \n",
       "65           65    fiesta     125000                   9    benzin   \n",
       "68          174   clubman     100000                   0       NaN   \n",
       "84           60    twingo     150000                   0       NaN   \n",
       "...         ...       ...        ...                 ...       ...   \n",
       "49796        90     corsa      70000                   7    benzin   \n",
       "49841       101    passat     150000                   7       NaN   \n",
       "49880       193       5er     150000                   4       NaN   \n",
       "49910       140    andere      10000                   3    benzin   \n",
       "49935       101  a_klasse     150000                   9       NaN   \n",
       "\n",
       "               brand unrepaired_damage date_created  nr_of_pictures  \\\n",
       "10        volkswagen              nein   2016-03-14               0   \n",
       "55     mercedes_benz              nein   2016-03-06               0   \n",
       "65              ford               NaN   2016-04-04               0   \n",
       "68              mini              nein   2016-04-03               0   \n",
       "84           renault               NaN   2016-03-27               0   \n",
       "...              ...               ...          ...             ...   \n",
       "49796           opel              nein   2016-03-09               0   \n",
       "49841     volkswagen               NaN   2016-03-11               0   \n",
       "49880            bmw                ja   2016-03-30               0   \n",
       "49910           opel               NaN   2016-04-03               0   \n",
       "49935  mercedes_benz              nein   2016-04-01               0   \n",
       "\n",
       "       postal_code   last_seen  \n",
       "10           86157  2016-04-07  \n",
       "55           22111  2016-03-08  \n",
       "65           65606  2016-04-05  \n",
       "68           83135  2016-04-05  \n",
       "84           40589  2016-04-05  \n",
       "...            ...         ...  \n",
       "49796        88433  2016-03-17  \n",
       "49841        53804  2016-03-11  \n",
       "49880        65468  2016-04-07  \n",
       "49910        56856  2016-04-05  \n",
       "49935        39108  2016-04-01  \n",
       "\n",
       "[1994 rows x 20 columns]"
      ]
     },
     "execution_count": 43,
     "metadata": {},
     "output_type": "execute_result"
    }
   ],
   "source": [
    "out50_16"
   ]
  },
  {
   "cell_type": "markdown",
   "id": "d20f7f75",
   "metadata": {},
   "source": [
    "Aquí vemos que tenemos 1994 coches cuyo año de matriculación no cumple los criterios que hemos establecido. Por lo tanto, vamos a eliminar todas estas filas."
   ]
  },
  {
   "cell_type": "code",
   "execution_count": 44,
   "id": "78365989",
   "metadata": {},
   "outputs": [],
   "source": [
    "index_to_remove = autos.loc[(autos[\"registration_year\"] > 2016) | (autos[\"registration_year\"] < 1950)].index"
   ]
  },
  {
   "cell_type": "code",
   "execution_count": 45,
   "id": "afc4d7e2",
   "metadata": {},
   "outputs": [],
   "source": [
    "autos.drop(index_to_remove, inplace=True)"
   ]
  },
  {
   "cell_type": "markdown",
   "id": "f4480caf",
   "metadata": {},
   "source": [
    "Podemos verificar que efectivamente se han eliminado las filas, volviendo a ejecutar la variable \"out50_16\" :"
   ]
  },
  {
   "cell_type": "code",
   "execution_count": 46,
   "id": "f4e546c8",
   "metadata": {},
   "outputs": [
    {
     "data": {
      "text/html": [
       "<div>\n",
       "<style scoped>\n",
       "    .dataframe tbody tr th:only-of-type {\n",
       "        vertical-align: middle;\n",
       "    }\n",
       "\n",
       "    .dataframe tbody tr th {\n",
       "        vertical-align: top;\n",
       "    }\n",
       "\n",
       "    .dataframe thead th {\n",
       "        text-align: right;\n",
       "    }\n",
       "</style>\n",
       "<table border=\"1\" class=\"dataframe\">\n",
       "  <thead>\n",
       "    <tr style=\"text-align: right;\">\n",
       "      <th></th>\n",
       "      <th>price</th>\n",
       "      <th>registration_year</th>\n",
       "      <th>power_ps</th>\n",
       "      <th>kilometer</th>\n",
       "      <th>registration_month</th>\n",
       "      <th>nr_of_pictures</th>\n",
       "      <th>postal_code</th>\n",
       "    </tr>\n",
       "  </thead>\n",
       "  <tbody>\n",
       "    <tr>\n",
       "      <th>count</th>\n",
       "      <td>1994.000000</td>\n",
       "      <td>1994.000000</td>\n",
       "      <td>1994.000000</td>\n",
       "      <td>1994.000000</td>\n",
       "      <td>1994.000000</td>\n",
       "      <td>1994.0</td>\n",
       "      <td>1994.000000</td>\n",
       "    </tr>\n",
       "    <tr>\n",
       "      <th>mean</th>\n",
       "      <td>3606.090271</td>\n",
       "      <td>2058.788867</td>\n",
       "      <td>97.959880</td>\n",
       "      <td>129177.532598</td>\n",
       "      <td>4.622367</td>\n",
       "      <td>0.0</td>\n",
       "      <td>47867.576730</td>\n",
       "    </tr>\n",
       "    <tr>\n",
       "      <th>std</th>\n",
       "      <td>5008.905095</td>\n",
       "      <td>525.483161</td>\n",
       "      <td>424.436404</td>\n",
       "      <td>39628.550994</td>\n",
       "      <td>3.909452</td>\n",
       "      <td>0.0</td>\n",
       "      <td>25295.986962</td>\n",
       "    </tr>\n",
       "    <tr>\n",
       "      <th>min</th>\n",
       "      <td>0.000000</td>\n",
       "      <td>1000.000000</td>\n",
       "      <td>0.000000</td>\n",
       "      <td>5000.000000</td>\n",
       "      <td>0.000000</td>\n",
       "      <td>0.0</td>\n",
       "      <td>1067.000000</td>\n",
       "    </tr>\n",
       "    <tr>\n",
       "      <th>25%</th>\n",
       "      <td>900.000000</td>\n",
       "      <td>2017.000000</td>\n",
       "      <td>0.000000</td>\n",
       "      <td>125000.000000</td>\n",
       "      <td>1.000000</td>\n",
       "      <td>0.0</td>\n",
       "      <td>27629.000000</td>\n",
       "    </tr>\n",
       "    <tr>\n",
       "      <th>50%</th>\n",
       "      <td>1950.000000</td>\n",
       "      <td>2017.000000</td>\n",
       "      <td>75.000000</td>\n",
       "      <td>150000.000000</td>\n",
       "      <td>4.000000</td>\n",
       "      <td>0.0</td>\n",
       "      <td>46046.000000</td>\n",
       "    </tr>\n",
       "    <tr>\n",
       "      <th>75%</th>\n",
       "      <td>4500.000000</td>\n",
       "      <td>2018.000000</td>\n",
       "      <td>118.000000</td>\n",
       "      <td>150000.000000</td>\n",
       "      <td>8.000000</td>\n",
       "      <td>0.0</td>\n",
       "      <td>66129.250000</td>\n",
       "    </tr>\n",
       "    <tr>\n",
       "      <th>max</th>\n",
       "      <td>64900.000000</td>\n",
       "      <td>9999.000000</td>\n",
       "      <td>16011.000000</td>\n",
       "      <td>150000.000000</td>\n",
       "      <td>12.000000</td>\n",
       "      <td>0.0</td>\n",
       "      <td>99974.000000</td>\n",
       "    </tr>\n",
       "  </tbody>\n",
       "</table>\n",
       "</div>"
      ],
      "text/plain": [
       "              price  registration_year      power_ps      kilometer  \\\n",
       "count   1994.000000        1994.000000   1994.000000    1994.000000   \n",
       "mean    3606.090271        2058.788867     97.959880  129177.532598   \n",
       "std     5008.905095         525.483161    424.436404   39628.550994   \n",
       "min        0.000000        1000.000000      0.000000    5000.000000   \n",
       "25%      900.000000        2017.000000      0.000000  125000.000000   \n",
       "50%     1950.000000        2017.000000     75.000000  150000.000000   \n",
       "75%     4500.000000        2018.000000    118.000000  150000.000000   \n",
       "max    64900.000000        9999.000000  16011.000000  150000.000000   \n",
       "\n",
       "       registration_month  nr_of_pictures   postal_code  \n",
       "count         1994.000000          1994.0   1994.000000  \n",
       "mean             4.622367             0.0  47867.576730  \n",
       "std              3.909452             0.0  25295.986962  \n",
       "min              0.000000             0.0   1067.000000  \n",
       "25%              1.000000             0.0  27629.000000  \n",
       "50%              4.000000             0.0  46046.000000  \n",
       "75%              8.000000             0.0  66129.250000  \n",
       "max             12.000000             0.0  99974.000000  "
      ]
     },
     "execution_count": 46,
     "metadata": {},
     "output_type": "execute_result"
    }
   ],
   "source": [
    "out50_16.describe()"
   ]
  },
  {
   "cell_type": "markdown",
   "id": "c9479ab4",
   "metadata": {},
   "source": [
    "Y corroboramos que se han eliminado las filas que queríamos."
   ]
  },
  {
   "cell_type": "markdown",
   "id": "22f8982d",
   "metadata": {},
   "source": [
    "Ahora que tenemos solo los años de matriculación reales, vamos a mostrar la distribución de los mismos normalizada:"
   ]
  },
  {
   "cell_type": "code",
   "execution_count": 47,
   "id": "d7d64406",
   "metadata": {},
   "outputs": [
    {
     "data": {
      "text/plain": [
       "2000    0.069884\n",
       "2005    0.062820\n",
       "1999    0.062466\n",
       "2004    0.057028\n",
       "2003    0.056820\n",
       "2006    0.056424\n",
       "2001    0.056299\n",
       "2002    0.052777\n",
       "Name: registration_year, dtype: float64"
      ]
     },
     "execution_count": 47,
     "metadata": {},
     "output_type": "execute_result"
    }
   ],
   "source": [
    "autos[\"registration_year\"].value_counts(normalize=True).head(8)"
   ]
  },
  {
   "cell_type": "markdown",
   "id": "8ac6d005",
   "metadata": {},
   "source": [
    "Parece que la mayoría de los coches que se venden en eBay Alemania tienen al menos 10 años.\n",
    "\n",
    "Vamos a mostrar los diez años de matriculación más frecuentes:"
   ]
  },
  {
   "cell_type": "code",
   "execution_count": 48,
   "id": "ab830bc2",
   "metadata": {},
   "outputs": [
    {
     "data": {
      "text/plain": [
       "2000    0.069884\n",
       "2005    0.062820\n",
       "1999    0.062466\n",
       "2004    0.057028\n",
       "2003    0.056820\n",
       "2006    0.056424\n",
       "2001    0.056299\n",
       "2002    0.052777\n",
       "1998    0.051111\n",
       "2007    0.048006\n",
       "Name: registration_year, dtype: float64"
      ]
     },
     "execution_count": 48,
     "metadata": {},
     "output_type": "execute_result"
    }
   ],
   "source": [
    "autos[\"registration_year\"].value_counts(normalize=True).head(10)"
   ]
  },
  {
   "cell_type": "markdown",
   "id": "409c7d99",
   "metadata": {},
   "source": [
    "Casi el 60% de los vehículos a la venta tienen 10 años o más."
   ]
  },
  {
   "cell_type": "markdown",
   "id": "eca2ee37",
   "metadata": {},
   "source": [
    "## 3. ESTADÍSTICAS DEL DATASET"
   ]
  },
  {
   "cell_type": "markdown",
   "id": "ef4131a1",
   "metadata": {},
   "source": [
    "En este apartado vamos a estudiar en profundidad los datos que nos puedan interesar, e intentaremos sacar conclusiones mediante estadísticas. \n",
    "\n",
    "En concreto nos interesará conocer:\n",
    "\n",
    "- Las marcas de coches que más se anuncian\n",
    "- Los modelos más anunciados de cada marca\n",
    "- El precio medio por marca y modelo\n",
    "- El valor dinerario que se pierde por año de antigüedad (de aquí podemos sacar la devaluación)"
   ]
  },
  {
   "cell_type": "markdown",
   "id": "7c7ce3b4",
   "metadata": {},
   "source": [
    "### 3.1. MARCAS MÁS POPULARES"
   ]
  },
  {
   "cell_type": "markdown",
   "id": "74b6c3bb",
   "metadata": {},
   "source": [
    "Vamos a ver todas las marcas que hay presentes en el dataset:"
   ]
  },
  {
   "cell_type": "code",
   "execution_count": 49,
   "id": "c43894a1",
   "metadata": {},
   "outputs": [
    {
     "data": {
      "text/plain": [
       "volkswagen        10184\n",
       "bmw                5282\n",
       "opel               5191\n",
       "mercedes_benz      4577\n",
       "audi               4149\n",
       "ford               3347\n",
       "renault            2273\n",
       "peugeot            1418\n",
       "fiat               1242\n",
       "seat                873\n",
       "skoda               770\n",
       "mazda               727\n",
       "nissan              725\n",
       "smart               668\n",
       "citroen             668\n",
       "toyota              599\n",
       "sonstige_autos      513\n",
       "hyundai             473\n",
       "volvo               444\n",
       "mini                415\n",
       "mitsubishi          391\n",
       "honda               377\n",
       "kia                 341\n",
       "alfa_romeo          318\n",
       "porsche             293\n",
       "suzuki              284\n",
       "chevrolet           274\n",
       "chrysler            176\n",
       "dacia               123\n",
       "daihatsu            123\n",
       "jeep                108\n",
       "subaru              105\n",
       "land_rover           98\n",
       "saab                 77\n",
       "jaguar               76\n",
       "trabant              74\n",
       "daewoo               72\n",
       "rover                65\n",
       "lancia               52\n",
       "lada                 29\n",
       "Name: brand, dtype: int64"
      ]
     },
     "execution_count": 49,
     "metadata": {},
     "output_type": "execute_result"
    }
   ],
   "source": [
    "autos[\"brand\"].value_counts()"
   ]
  },
  {
   "cell_type": "markdown",
   "id": "674b235f",
   "metadata": {},
   "source": [
    "Vamos a seleccionar solamente las 20 marcas más vendidas, ya que nos interesa conocer precisamente las marcas más populares:"
   ]
  },
  {
   "cell_type": "code",
   "execution_count": 50,
   "id": "42a3726f",
   "metadata": {},
   "outputs": [],
   "source": [
    "top_brands = autos[\"brand\"].value_counts().head(20)"
   ]
  },
  {
   "cell_type": "markdown",
   "id": "e756483e",
   "metadata": {},
   "source": [
    "Vamos a ver qué porcentaje del mercado ocupan las 20 marcas que hemos seleccionado:"
   ]
  },
  {
   "cell_type": "code",
   "execution_count": 51,
   "id": "8c7787b1",
   "metadata": {},
   "outputs": [
    {
     "name": "stdout",
     "output_type": "stream",
     "text": [
      "<class 'pandas.core.frame.DataFrame'>\n",
      "Int64Index: 47994 entries, 0 to 49999\n",
      "Data columns (total 20 columns):\n",
      " #   Column              Non-Null Count  Dtype \n",
      "---  ------              --------------  ----- \n",
      " 0   date_crawled        47994 non-null  object\n",
      " 1   name                47994 non-null  object\n",
      " 2   seller              47994 non-null  object\n",
      " 3   offer_type          47994 non-null  object\n",
      " 4   price               47994 non-null  int64 \n",
      " 5   abtest              47994 non-null  object\n",
      " 6   vehicle_type        44877 non-null  object\n",
      " 7   registration_year   47994 non-null  int64 \n",
      " 8   gearbox             45583 non-null  object\n",
      " 9   power_ps            47994 non-null  int64 \n",
      " 10  model               45543 non-null  object\n",
      " 11  kilometer           47994 non-null  int64 \n",
      " 12  registration_month  47994 non-null  int64 \n",
      " 13  fuel_type           44278 non-null  object\n",
      " 14  brand               47994 non-null  object\n",
      " 15  unrepaired_damage   39023 non-null  object\n",
      " 16  date_created        47994 non-null  object\n",
      " 17  nr_of_pictures      47994 non-null  int64 \n",
      " 18  postal_code         47994 non-null  int64 \n",
      " 19  last_seen           47994 non-null  object\n",
      "dtypes: int64(7), object(13)\n",
      "memory usage: 7.7+ MB\n"
     ]
    }
   ],
   "source": [
    "# Aquí mostraremos el total de registros del dataset...\n",
    "autos.info()"
   ]
  },
  {
   "cell_type": "code",
   "execution_count": 52,
   "id": "ac21af58",
   "metadata": {},
   "outputs": [
    {
     "data": {
      "text/plain": [
       "44538"
      ]
     },
     "execution_count": 52,
     "metadata": {},
     "output_type": "execute_result"
    }
   ],
   "source": [
    "# ...y aquí el total de registros de las 20 marcas más populares\n",
    "top_brands.sum()"
   ]
  },
  {
   "cell_type": "markdown",
   "id": "2262c245",
   "metadata": {},
   "source": [
    "El dataset completo tiene ahora mismo 47994 registros, mientras que las marcas que hemos seleccionado tienen 44538."
   ]
  },
  {
   "cell_type": "code",
   "execution_count": 53,
   "id": "e5150231",
   "metadata": {},
   "outputs": [
    {
     "name": "stdout",
     "output_type": "stream",
     "text": [
      "Las 20 marcas más vendidas copan un 93.0 % del mercado\n"
     ]
    }
   ],
   "source": [
    "print(f\"Las 20 marcas más vendidas copan un {round(44538/47994,2)*100}\" , \"% del mercado\")"
   ]
  },
  {
   "cell_type": "markdown",
   "id": "97815e98",
   "metadata": {},
   "source": [
    "Por lo tanto, la cantidad de marcas que hemos seleccionado parece una muestra más que razonable teniendo en cuenta que ocupan casi la totalidad del mercado."
   ]
  },
  {
   "cell_type": "code",
   "execution_count": 54,
   "id": "9f0747e3",
   "metadata": {},
   "outputs": [
    {
     "data": {
      "text/plain": [
       "volkswagen       10184\n",
       "bmw               5282\n",
       "opel              5191\n",
       "mercedes_benz     4577\n",
       "audi              4149\n",
       "Name: brand, dtype: int64"
      ]
     },
     "execution_count": 54,
     "metadata": {},
     "output_type": "execute_result"
    }
   ],
   "source": [
    "top_brands.head()"
   ]
  },
  {
   "cell_type": "code",
   "execution_count": 55,
   "id": "7ace7713",
   "metadata": {},
   "outputs": [
    {
     "data": {
      "text/plain": [
       "29383"
      ]
     },
     "execution_count": 55,
     "metadata": {},
     "output_type": "execute_result"
    }
   ],
   "source": [
    "top_brands.head().sum()"
   ]
  },
  {
   "cell_type": "markdown",
   "id": "7767d677",
   "metadata": {},
   "source": [
    "Las 5 marcas más anunciadas en Alemania son precisamente 5 marcas alemanas (Volkswagen, BMW, Opel, Mercedes-Benz y Audi)."
   ]
  },
  {
   "cell_type": "code",
   "execution_count": 56,
   "id": "9f38779b",
   "metadata": {},
   "outputs": [
    {
     "data": {
      "text/plain": [
       "66"
      ]
     },
     "execution_count": 56,
     "metadata": {},
     "output_type": "execute_result"
    }
   ],
   "source": [
    "# Porcentaje de vehículos anunciados entre el top 5 de nuestro top 20\n",
    "round(((top_brands.head().sum()) / (top_brands.sum()))*100)"
   ]
  },
  {
   "cell_type": "markdown",
   "id": "c3548de0",
   "metadata": {},
   "source": [
    "Dos tercios de los vehículos anunciados corresponden exclusivamente a marcas alemanas. El tercio restante se lo reparten entre todas las demás marcas.\n",
    "\n",
    "Más concretamente, Volkswagen es la marca más anunciada con mucha diferencia:"
   ]
  },
  {
   "cell_type": "code",
   "execution_count": 57,
   "id": "9e40955c",
   "metadata": {},
   "outputs": [
    {
     "data": {
      "text/plain": [
       "22.87"
      ]
     },
     "execution_count": 57,
     "metadata": {},
     "output_type": "execute_result"
    }
   ],
   "source": [
    "# Porcentaje de mercado de VW\n",
    "round((10184 / top_brands.sum())*100,2)"
   ]
  },
  {
   "cell_type": "markdown",
   "id": "6f7ab642",
   "metadata": {},
   "source": [
    "Volkswagen ocupa prácticamente el 23% del mercado de vehículos usados en Alemania."
   ]
  },
  {
   "cell_type": "markdown",
   "id": "3f636e6d",
   "metadata": {},
   "source": [
    "**RESUMEN MARCAS:**\n",
    "\n",
    "- Volkswagen es el rey indiscutible del mercado de coches usados en Alemania, con el 23% del mercado.\n",
    "- El 66% del mercado alemán de coches usados son exclusivamente coches de marcas alemanas.\n",
    "- Las cinco marcas más vendidas son:\n",
    "    - Volkswagen\n",
    "    - BMW\n",
    "    - Opel\n",
    "    - Mercedes-Benz\n",
    "    - Audi"
   ]
  },
  {
   "cell_type": "markdown",
   "id": "18614f26",
   "metadata": {},
   "source": [
    "### 3.2. MODELOS MÁS POPULARES POR MARCAS"
   ]
  },
  {
   "cell_type": "markdown",
   "id": "307ef167",
   "metadata": {},
   "source": [
    "Vamos ahora a buscar los modelos de coches más ofertados en Alemania."
   ]
  },
  {
   "cell_type": "code",
   "execution_count": 58,
   "id": "057bc229",
   "metadata": {
    "scrolled": true
   },
   "outputs": [
    {
     "data": {
      "text/plain": [
       "golf        3815\n",
       "andere      3449\n",
       "3er         2688\n",
       "polo        1677\n",
       "corsa       1644\n",
       "passat      1388\n",
       "astra       1388\n",
       "a4          1265\n",
       "5er         1163\n",
       "c_klasse    1147\n",
       "Name: model, dtype: int64"
      ]
     },
     "execution_count": 58,
     "metadata": {},
     "output_type": "execute_result"
    }
   ],
   "source": [
    "autos[\"model\"].value_counts().head(10)"
   ]
  },
  {
   "cell_type": "markdown",
   "id": "543703af",
   "metadata": {},
   "source": [
    "Estos son los modelos con más anuncios publicados. Vamos ahora a explorar cada marca de manera individual."
   ]
  },
  {
   "cell_type": "markdown",
   "id": "0e1f7b64",
   "metadata": {},
   "source": [
    "#### 3.2.1. VOLKSWAGEN"
   ]
  },
  {
   "cell_type": "markdown",
   "id": "c776d557",
   "metadata": {},
   "source": [
    "Empezaremos buscando los modelos más populares de Volkswagen, ya que es la marca que más vehículos tiene ofertados."
   ]
  },
  {
   "cell_type": "code",
   "execution_count": 59,
   "id": "d0aec241",
   "metadata": {},
   "outputs": [],
   "source": [
    "vw = autos.loc[autos[\"brand\"] == \"volkswagen\",\"model\"]"
   ]
  },
  {
   "cell_type": "code",
   "execution_count": 60,
   "id": "47c7d9ac",
   "metadata": {
    "scrolled": false
   },
   "outputs": [
    {
     "data": {
      "text/plain": [
       "golf           3815\n",
       "polo           1677\n",
       "passat         1388\n",
       "transporter     688\n",
       "touran          438\n",
       "lupo            329\n",
       "sharan          225\n",
       "caddy           211\n",
       "beetle          124\n",
       "tiguan          118\n",
       "bora            104\n",
       "andere           97\n",
       "touareg          95\n",
       "scirocco         87\n",
       "fox              85\n",
       "eos              66\n",
       "kaefer           60\n",
       "up               51\n",
       "jetta            38\n",
       "phaeton          32\n",
       "cc               18\n",
       "amarok            6\n",
       "Name: model, dtype: int64"
      ]
     },
     "execution_count": 60,
     "metadata": {},
     "output_type": "execute_result"
    }
   ],
   "source": [
    "vw.value_counts()"
   ]
  },
  {
   "cell_type": "code",
   "execution_count": 61,
   "id": "7bf98838",
   "metadata": {},
   "outputs": [
    {
     "data": {
      "text/plain": [
       "22"
      ]
     },
     "execution_count": 61,
     "metadata": {},
     "output_type": "execute_result"
    }
   ],
   "source": [
    "# Porcentaje de mercado de los vehículos Volkswagen\n",
    "round(vw.value_counts().sum()/top_brands.sum()*100)"
   ]
  },
  {
   "cell_type": "code",
   "execution_count": 62,
   "id": "063e68f6",
   "metadata": {},
   "outputs": [
    {
     "data": {
      "text/plain": [
       "9752"
      ]
     },
     "execution_count": 62,
     "metadata": {},
     "output_type": "execute_result"
    }
   ],
   "source": [
    "# Total de Volkswagen\n",
    "vw.value_counts().sum()"
   ]
  },
  {
   "cell_type": "code",
   "execution_count": 63,
   "id": "0cacf865",
   "metadata": {},
   "outputs": [],
   "source": [
    "vw_top5 = vw.value_counts().head()"
   ]
  },
  {
   "cell_type": "code",
   "execution_count": 64,
   "id": "d3f576ba",
   "metadata": {},
   "outputs": [
    {
     "data": {
      "text/plain": [
       "golf           3815\n",
       "polo           1677\n",
       "passat         1388\n",
       "transporter     688\n",
       "touran          438\n",
       "Name: model, dtype: int64"
      ]
     },
     "execution_count": 64,
     "metadata": {},
     "output_type": "execute_result"
    }
   ],
   "source": [
    "vw_top5"
   ]
  },
  {
   "cell_type": "code",
   "execution_count": 65,
   "id": "b245c94b",
   "metadata": {},
   "outputs": [
    {
     "name": "stdout",
     "output_type": "stream",
     "text": [
      "Los 5 coches más ofertados de VW ocupan el 18 % del total\n"
     ]
    }
   ],
   "source": [
    "print(f\"Los 5 coches más ofertados de VW ocupan el {round(vw_top5.sum()/top_brands.sum()*100)} % del total\")"
   ]
  },
  {
   "cell_type": "code",
   "execution_count": 66,
   "id": "a9265bd5",
   "metadata": {
    "scrolled": false
   },
   "outputs": [
    {
     "name": "stdout",
     "output_type": "stream",
     "text": [
      "El 9 % de los coches a la venta son Volkswagen Golf\n"
     ]
    }
   ],
   "source": [
    "print(f\"El {round(3815/top_brands.sum()*100)} % de los coches a la venta son Volkswagen Golf\")"
   ]
  },
  {
   "cell_type": "code",
   "execution_count": 67,
   "id": "33970660",
   "metadata": {
    "scrolled": true
   },
   "outputs": [
    {
     "name": "stdout",
     "output_type": "stream",
     "text": [
      "El 39 % de los coches Volkswagen a la venta son Golf\n"
     ]
    }
   ],
   "source": [
    "print(f\"El {round(3815/vw.value_counts().sum()*100)} % de los coches Volkswagen a la venta son Golf\")"
   ]
  },
  {
   "cell_type": "markdown",
   "id": "f4baafed",
   "metadata": {},
   "source": [
    "#### 3.2.1.1. VOLKSWAGEN : PRECIOS MEDIOS"
   ]
  },
  {
   "cell_type": "code",
   "execution_count": 68,
   "id": "0cb8f0bb",
   "metadata": {},
   "outputs": [],
   "source": [
    "vw_price = autos.loc[autos[\"brand\"] == \"volkswagen\",\"price\"]"
   ]
  },
  {
   "cell_type": "code",
   "execution_count": 69,
   "id": "da71b8f2",
   "metadata": {
    "scrolled": true
   },
   "outputs": [
    {
     "data": {
      "text/plain": [
       "5227"
      ]
     },
     "execution_count": 69,
     "metadata": {},
     "output_type": "execute_result"
    }
   ],
   "source": [
    "# Precio medio de un Volkswagen\n",
    "round(vw_price.mean())"
   ]
  },
  {
   "cell_type": "markdown",
   "id": "e38f7d1f",
   "metadata": {},
   "source": [
    "Un vehículo Volkswagen cuesta de media 5.227 dólares."
   ]
  },
  {
   "cell_type": "markdown",
   "id": "360194c9",
   "metadata": {},
   "source": [
    "#### 3.2.1.2. VOLKSWAGEN GOLF : PRECIOS MEDIOS"
   ]
  },
  {
   "cell_type": "markdown",
   "id": "96a20a0b",
   "metadata": {},
   "source": [
    "Vamos a calcular el precio medio de un Volkswagen Golf:"
   ]
  },
  {
   "cell_type": "code",
   "execution_count": 70,
   "id": "7342ebe1",
   "metadata": {},
   "outputs": [],
   "source": [
    "golf_price = autos.loc[autos[\"model\"] == \"golf\",\"price\"]"
   ]
  },
  {
   "cell_type": "code",
   "execution_count": 71,
   "id": "0bf3cd17",
   "metadata": {},
   "outputs": [
    {
     "data": {
      "text/plain": [
       "4938"
      ]
     },
     "execution_count": 71,
     "metadata": {},
     "output_type": "execute_result"
    }
   ],
   "source": [
    "round(golf_price.mean())"
   ]
  },
  {
   "cell_type": "markdown",
   "id": "0bac9bdc",
   "metadata": {},
   "source": [
    "- Los modelos de Volkswagen abarcan el 22% del mercado alemán de vehículos usados.\n",
    "- Los 5 modelos más populares de Volkswagen son: Golf, Polo, Passat, Transporter y Touran, los cuales ocupan un 18% del mercado.\n",
    "- El 9% de los vehículos a la venta son VW Golf, casi 1 de cada 10.\n",
    "- De todos los Volkswagen a la venta, el 39% son Volkswagen Golf (casi 4 de cada 10).\n",
    "- Un Volkswagen cuesta de media 5.227 dólares.\n",
    "- Un Volkswagen Golf cuesta de media 4.938 dólares."
   ]
  },
  {
   "cell_type": "markdown",
   "id": "b8f17aef",
   "metadata": {},
   "source": [
    "#### 3.2.2. BMW"
   ]
  },
  {
   "cell_type": "markdown",
   "id": "b0213f0a",
   "metadata": {},
   "source": [
    "BMW es una de las marcas más populares, de hecho es la segunda marca que más vehículos tiene ofertados en el dataset."
   ]
  },
  {
   "cell_type": "code",
   "execution_count": 72,
   "id": "f6142892",
   "metadata": {},
   "outputs": [],
   "source": [
    "bmw = autos.loc[autos[\"brand\"] == \"bmw\",\"model\"]"
   ]
  },
  {
   "cell_type": "code",
   "execution_count": 73,
   "id": "8f75ad5f",
   "metadata": {},
   "outputs": [
    {
     "data": {
      "text/plain": [
       "3er        2688\n",
       "5er        1163\n",
       "1er         525\n",
       "x_reihe     296\n",
       "7er         131\n",
       "z_reihe     119\n",
       "m_reihe      46\n",
       "andere       40\n",
       "6er          31\n",
       "i3            1\n",
       "Name: model, dtype: int64"
      ]
     },
     "execution_count": 73,
     "metadata": {},
     "output_type": "execute_result"
    }
   ],
   "source": [
    "bmw.value_counts()"
   ]
  },
  {
   "cell_type": "code",
   "execution_count": 74,
   "id": "7458c60e",
   "metadata": {},
   "outputs": [
    {
     "data": {
      "text/plain": [
       "5040"
      ]
     },
     "execution_count": 74,
     "metadata": {},
     "output_type": "execute_result"
    }
   ],
   "source": [
    "bmw.value_counts().sum()"
   ]
  },
  {
   "cell_type": "markdown",
   "id": "2b7e2ed0",
   "metadata": {},
   "source": [
    "Hay que entender que los nombres están en alemán, y que por ejemplo 3er significa \"BMW Serie 3\", que es el nombre comercial que tienen en España."
   ]
  },
  {
   "cell_type": "code",
   "execution_count": 75,
   "id": "eb39c7dc",
   "metadata": {},
   "outputs": [
    {
     "data": {
      "text/plain": [
       "11"
      ]
     },
     "execution_count": 75,
     "metadata": {},
     "output_type": "execute_result"
    }
   ],
   "source": [
    "# Porcentaje de BMW respecto del total\n",
    "round(bmw.value_counts().sum()/top_brands.sum()*100)"
   ]
  },
  {
   "cell_type": "markdown",
   "id": "15340063",
   "metadata": {},
   "source": [
    "El 11% de los vehículos anunciados son BMW, la mitad que Volkswagen (22%)."
   ]
  },
  {
   "cell_type": "code",
   "execution_count": 76,
   "id": "1cbca001",
   "metadata": {},
   "outputs": [
    {
     "name": "stdout",
     "output_type": "stream",
     "text": [
      "El BMW Serie 3 representa el 53.33 % de los BMW\n"
     ]
    }
   ],
   "source": [
    "print(f\"El BMW Serie 3 representa el {round(2688/bmw.value_counts().sum()*100, 2)} % de los BMW\")"
   ]
  },
  {
   "cell_type": "markdown",
   "id": "d784c640",
   "metadata": {},
   "source": [
    "#### 3.2.2.1. BMW : PRECIOS MEDIOS"
   ]
  },
  {
   "cell_type": "code",
   "execution_count": 77,
   "id": "fe1d6df9",
   "metadata": {},
   "outputs": [],
   "source": [
    "bmw_price = autos.loc[autos[\"brand\"] == \"bmw\",\"price\"]"
   ]
  },
  {
   "cell_type": "code",
   "execution_count": 78,
   "id": "dcb7bfbf",
   "metadata": {},
   "outputs": [
    {
     "data": {
      "text/plain": [
       "8102"
      ]
     },
     "execution_count": 78,
     "metadata": {},
     "output_type": "execute_result"
    }
   ],
   "source": [
    "round(bmw_price.mean())"
   ]
  },
  {
   "cell_type": "markdown",
   "id": "763e8d14",
   "metadata": {},
   "source": [
    "Un BMW cuesta de media 8.102 dólares."
   ]
  },
  {
   "cell_type": "markdown",
   "id": "df33a31f",
   "metadata": {},
   "source": [
    "#### 3.2.2.1. BMW Serie 3 : PRECIOS MEDIOS"
   ]
  },
  {
   "cell_type": "code",
   "execution_count": 79,
   "id": "e0c0d941",
   "metadata": {},
   "outputs": [],
   "source": [
    "s3_price = autos.loc[autos[\"model\"] == \"3er\",\"price\"]"
   ]
  },
  {
   "cell_type": "code",
   "execution_count": 80,
   "id": "d2476c47",
   "metadata": {},
   "outputs": [
    {
     "data": {
      "text/plain": [
       "5839"
      ]
     },
     "execution_count": 80,
     "metadata": {},
     "output_type": "execute_result"
    }
   ],
   "source": [
    "round(s3_price.mean())"
   ]
  },
  {
   "cell_type": "markdown",
   "id": "8a61b0ea",
   "metadata": {},
   "source": [
    "Un BMW Serie 3 cuesta de media 5.839 dólares."
   ]
  },
  {
   "cell_type": "markdown",
   "id": "3cbf00df",
   "metadata": {},
   "source": [
    "- Hay 5.040 vehículos de la marca BMW a la venta en el dataset.\n",
    "- Esos 5.040 vehículos, representan aproximadamente el 11% del total (~ 1 de cada 10).\n",
    "- De todos los BMW, el Serie 3 es el más popular, ya que el 53% de los BMW a la venta son Serie 3.\n",
    "- Un BMW cuesta de media 8.102 dólares.\n",
    "- Un BMW Serie 3 cuesta de media 5.839 dólares."
   ]
  },
  {
   "cell_type": "markdown",
   "id": "81615a18",
   "metadata": {},
   "source": [
    "#### 3.2.3. OPEL"
   ]
  },
  {
   "cell_type": "markdown",
   "id": "c240bce2",
   "metadata": {},
   "source": [
    "Vamos a explorar la tercera marca más vendida, OPEL."
   ]
  },
  {
   "cell_type": "code",
   "execution_count": 81,
   "id": "ef1715f5",
   "metadata": {},
   "outputs": [],
   "source": [
    "opel = autos.loc[autos[\"brand\"] == \"opel\",\"model\"]"
   ]
  },
  {
   "cell_type": "code",
   "execution_count": 82,
   "id": "5f4d4f86",
   "metadata": {},
   "outputs": [
    {
     "data": {
      "text/plain": [
       "corsa       1644\n",
       "astra       1388\n",
       "vectra       558\n",
       "zafira       399\n",
       "omega        193\n",
       "andere       154\n",
       "meriva       139\n",
       "tigra         93\n",
       "insignia      86\n",
       "signum        68\n",
       "agila         58\n",
       "vivaro        55\n",
       "combo         53\n",
       "kadett        51\n",
       "calibra       22\n",
       "antara        21\n",
       "Name: model, dtype: int64"
      ]
     },
     "execution_count": 82,
     "metadata": {},
     "output_type": "execute_result"
    }
   ],
   "source": [
    "opel.value_counts()"
   ]
  },
  {
   "cell_type": "code",
   "execution_count": 83,
   "id": "e7820dcd",
   "metadata": {},
   "outputs": [
    {
     "data": {
      "text/plain": [
       "4982"
      ]
     },
     "execution_count": 83,
     "metadata": {},
     "output_type": "execute_result"
    }
   ],
   "source": [
    "opel.value_counts().sum()"
   ]
  },
  {
   "cell_type": "markdown",
   "id": "60da55ba",
   "metadata": {},
   "source": [
    "Hay un total de 4.982 vehículos OPEL a la venta, de los cuales 1.644 son OPEL Corsa, y 1.388 OPEL Astra. A más distancia se encuentra el OPEL Vectra con 558 y el OPEL Zafira con 399.\n",
    "\n",
    "Hay casi los mismos vehículos OPEL a la venta que BMW."
   ]
  },
  {
   "cell_type": "code",
   "execution_count": 84,
   "id": "09af2404",
   "metadata": {},
   "outputs": [
    {
     "data": {
      "text/plain": [
       "11"
      ]
     },
     "execution_count": 84,
     "metadata": {},
     "output_type": "execute_result"
    }
   ],
   "source": [
    "# Porcentaje de OPEL respecto del total\n",
    "round(opel.value_counts().sum()/top_brands.sum()*100)"
   ]
  },
  {
   "cell_type": "markdown",
   "id": "506df4e0",
   "metadata": {},
   "source": [
    "Por lo que acabamos de comentar, OPEL ocupa el mismo porcentaje de mercado que BMW, un 11%."
   ]
  },
  {
   "cell_type": "code",
   "execution_count": 85,
   "id": "a66de94b",
   "metadata": {},
   "outputs": [
    {
     "name": "stdout",
     "output_type": "stream",
     "text": [
      "El OPEL Corsa representa el 33.0 % de los OPEL\n"
     ]
    }
   ],
   "source": [
    "print(f\"El OPEL Corsa representa el {round(1644/opel.value_counts().sum()*100, 2)} % de los OPEL\")"
   ]
  },
  {
   "cell_type": "markdown",
   "id": "f81bd62f",
   "metadata": {},
   "source": [
    "1 de cada 3 OPEL a la venta son OPEL Corsa."
   ]
  },
  {
   "cell_type": "markdown",
   "id": "2218c26f",
   "metadata": {},
   "source": [
    "#### 3.2.3.1. OPEL : PRECIOS MEDIOS"
   ]
  },
  {
   "cell_type": "code",
   "execution_count": 86,
   "id": "b263e4d4",
   "metadata": {},
   "outputs": [],
   "source": [
    "opel_price = autos.loc[autos[\"brand\"] == \"opel\",\"price\"]"
   ]
  },
  {
   "cell_type": "code",
   "execution_count": 87,
   "id": "3c27e53d",
   "metadata": {},
   "outputs": [
    {
     "data": {
      "text/plain": [
       "2878"
      ]
     },
     "execution_count": 87,
     "metadata": {},
     "output_type": "execute_result"
    }
   ],
   "source": [
    "# Precio medio de un OPEL\n",
    "round(opel_price.mean())"
   ]
  },
  {
   "cell_type": "markdown",
   "id": "6cbf833c",
   "metadata": {},
   "source": [
    "Un OPEL cuesta de media 2.878 dólares."
   ]
  },
  {
   "cell_type": "markdown",
   "id": "660e5d45",
   "metadata": {},
   "source": [
    "#### 3.2.3.1. OPEL Corsa : PRECIOS MEDIOS"
   ]
  },
  {
   "cell_type": "code",
   "execution_count": 88,
   "id": "eeb96e4c",
   "metadata": {},
   "outputs": [],
   "source": [
    "corsa_price = autos.loc[autos[\"model\"] == \"corsa\",\"price\"]"
   ]
  },
  {
   "cell_type": "code",
   "execution_count": 89,
   "id": "38aed069",
   "metadata": {},
   "outputs": [
    {
     "data": {
      "text/plain": [
       "1817"
      ]
     },
     "execution_count": 89,
     "metadata": {},
     "output_type": "execute_result"
    }
   ],
   "source": [
    "# Precio medio de un OPEL Corsa\n",
    "round(corsa_price.mean())"
   ]
  },
  {
   "cell_type": "markdown",
   "id": "76225212",
   "metadata": {},
   "source": [
    "Un OPEL Corsa cuesta de media 1.817 dólares."
   ]
  },
  {
   "cell_type": "markdown",
   "id": "c7a49c02",
   "metadata": {},
   "source": [
    "- Hay 4.982 OPEL a la venta.\n",
    "- Los vehículos OPEL representan el 11% del total, al igual que por ejemplo BMW.\n",
    "- El OPEL más popular es el Corsa, que ocupa el 33% del mercado de OPEL.\n",
    "- Un OPEL cuesta de media 2.878 dólares, aproximadamente un tercio que lo que cuesta un BMW.\n",
    "- Un OPEL Corsa cuesta de media 1.817 dólares, aproximadamente un tercio del precio de un Serie 3."
   ]
  },
  {
   "cell_type": "markdown",
   "id": "7992ee7d",
   "metadata": {},
   "source": [
    "#### 3.2.4. MERCEDES-BENZ"
   ]
  },
  {
   "cell_type": "markdown",
   "id": "31f33231",
   "metadata": {},
   "source": [
    "La marca de gama alta Mercedes-Benz es la cuarta que más coches tiene a la venta en el dataset."
   ]
  },
  {
   "cell_type": "code",
   "execution_count": 90,
   "id": "d499559b",
   "metadata": {},
   "outputs": [],
   "source": [
    "mb = autos.loc[autos[\"brand\"] == \"mercedes_benz\",\"model\"]"
   ]
  },
  {
   "cell_type": "code",
   "execution_count": 91,
   "id": "2ddaa192",
   "metadata": {},
   "outputs": [
    {
     "data": {
      "text/plain": [
       "c_klasse    1147\n",
       "e_klasse     981\n",
       "a_klasse     543\n",
       "andere       441\n",
       "clk          251\n",
       "slk          172\n",
       "m_klasse     152\n",
       "s_klasse     129\n",
       "b_klasse     122\n",
       "vito         121\n",
       "sl           102\n",
       "sprinter      94\n",
       "viano         60\n",
       "cl            39\n",
       "glk           30\n",
       "v_klasse      24\n",
       "g_klasse      24\n",
       "gl            10\n",
       "Name: model, dtype: int64"
      ]
     },
     "execution_count": 91,
     "metadata": {},
     "output_type": "execute_result"
    }
   ],
   "source": [
    "mb.value_counts()"
   ]
  },
  {
   "cell_type": "code",
   "execution_count": 92,
   "id": "67bc802a",
   "metadata": {},
   "outputs": [
    {
     "data": {
      "text/plain": [
       "4442"
      ]
     },
     "execution_count": 92,
     "metadata": {},
     "output_type": "execute_result"
    }
   ],
   "source": [
    "mb.value_counts().sum()"
   ]
  },
  {
   "cell_type": "markdown",
   "id": "3e8f458e",
   "metadata": {},
   "source": [
    "Tenemos 4.442 Mercedes-Benz a la venta en el dataset."
   ]
  },
  {
   "cell_type": "code",
   "execution_count": 93,
   "id": "db955b34",
   "metadata": {},
   "outputs": [
    {
     "data": {
      "text/plain": [
       "46"
      ]
     },
     "execution_count": 93,
     "metadata": {},
     "output_type": "execute_result"
    }
   ],
   "source": [
    "# Respecto a Volkswagen\n",
    "round(4442/9752*100)"
   ]
  },
  {
   "cell_type": "markdown",
   "id": "e5d5a902",
   "metadata": {},
   "source": [
    "Hay algo más del doble de Volkswagen que Mercedes-Benz a la venta."
   ]
  },
  {
   "cell_type": "code",
   "execution_count": 94,
   "id": "ec6717cc",
   "metadata": {},
   "outputs": [
    {
     "data": {
      "text/plain": [
       "88"
      ]
     },
     "execution_count": 94,
     "metadata": {},
     "output_type": "execute_result"
    }
   ],
   "source": [
    "# Respecto a BMW\n",
    "round(4442/5040*100)"
   ]
  },
  {
   "cell_type": "markdown",
   "id": "67ecdba9",
   "metadata": {},
   "source": [
    "Hay un 12% menos de vehículos Mercedes-Benz a la venta que BMW. En concreto:"
   ]
  },
  {
   "cell_type": "code",
   "execution_count": 95,
   "id": "559d827a",
   "metadata": {},
   "outputs": [
    {
     "data": {
      "text/plain": [
       "10"
      ]
     },
     "execution_count": 95,
     "metadata": {},
     "output_type": "execute_result"
    }
   ],
   "source": [
    "# Respecto del total\n",
    "round(4442/top_brands.sum()*100)"
   ]
  },
  {
   "cell_type": "markdown",
   "id": "0b8be6f6",
   "metadata": {},
   "source": [
    "El 10% de los vehículos a la venta son Mercedes-Benz (1 de cada 10).\n",
    "\n",
    "Esto prácticamente iguala a BMW (11%) y OPEL(11%).\n",
    "\n",
    "Al igual que con BMW, los modelos de Mercedes-Benz vienen en alemán, donde \"klasse\" es en español \"clase\". El nombre comercial de los Mercedes-Benz en España es \"Clase C\", \"Clase E\", \"Clase A\".\n",
    "\n",
    "Por lo tanto, el Mercedes-Benz Clase C es el más ofertado."
   ]
  },
  {
   "cell_type": "code",
   "execution_count": 96,
   "id": "e913bbdc",
   "metadata": {},
   "outputs": [
    {
     "data": {
      "text/plain": [
       "26.0"
      ]
     },
     "execution_count": 96,
     "metadata": {},
     "output_type": "execute_result"
    }
   ],
   "source": [
    "# Clase C respecto del total\n",
    "round(1147/4442,2)*100"
   ]
  },
  {
   "cell_type": "markdown",
   "id": "d306bf39",
   "metadata": {},
   "source": [
    "El 26% de los Mercedes-Benz a la venta son el modelo Clase C, prácticamente 1 de cada 4."
   ]
  },
  {
   "cell_type": "code",
   "execution_count": 97,
   "id": "e672e0a5",
   "metadata": {},
   "outputs": [
    {
     "data": {
      "text/plain": [
       "22.0"
      ]
     },
     "execution_count": 97,
     "metadata": {},
     "output_type": "execute_result"
    }
   ],
   "source": [
    "# Clase E respecto del total\n",
    "round(981/4442,2)*100"
   ]
  },
  {
   "cell_type": "markdown",
   "id": "acc01aab",
   "metadata": {},
   "source": [
    "El 22% de los Mercedes-Benz a la venta son el modelo Clase E."
   ]
  },
  {
   "cell_type": "markdown",
   "id": "b5d96340",
   "metadata": {},
   "source": [
    "#### 3.2.4.1. MERCEDES-BENZ : PRECIOS MEDIOS"
   ]
  },
  {
   "cell_type": "code",
   "execution_count": 98,
   "id": "fc3f2361",
   "metadata": {},
   "outputs": [],
   "source": [
    "mb_price = autos.loc[autos[\"brand\"] == \"mercedes_benz\",\"price\"]"
   ]
  },
  {
   "cell_type": "code",
   "execution_count": 99,
   "id": "134da1ea",
   "metadata": {},
   "outputs": [
    {
     "data": {
      "text/plain": [
       "8482"
      ]
     },
     "execution_count": 99,
     "metadata": {},
     "output_type": "execute_result"
    }
   ],
   "source": [
    "round(mb_price.mean())"
   ]
  },
  {
   "cell_type": "markdown",
   "id": "c64ce237",
   "metadata": {},
   "source": [
    "Un Mercedes-Benz cuesta de media 8.482 dólares."
   ]
  },
  {
   "cell_type": "code",
   "execution_count": 100,
   "id": "840b9db3",
   "metadata": {},
   "outputs": [
    {
     "data": {
      "text/plain": [
       "105.0"
      ]
     },
     "execution_count": 100,
     "metadata": {},
     "output_type": "execute_result"
    }
   ],
   "source": [
    "# Respecto de BMW\n",
    "round(8482/8102,2)*100"
   ]
  },
  {
   "cell_type": "markdown",
   "id": "f3f3960f",
   "metadata": {},
   "source": [
    "Un Mercedes-Benz cuesta un 5% más que un BMW, de media."
   ]
  },
  {
   "cell_type": "markdown",
   "id": "d5c5613b",
   "metadata": {},
   "source": [
    "#### 3.2.4.2. MERCEDES-BENZ Clase C : PRECIOS MEDIOS"
   ]
  },
  {
   "cell_type": "code",
   "execution_count": 101,
   "id": "bfc8177e",
   "metadata": {},
   "outputs": [],
   "source": [
    "c_price = autos.loc[autos[\"model\"] == \"c_klasse\", \"price\"]"
   ]
  },
  {
   "cell_type": "code",
   "execution_count": 102,
   "id": "f4dffbf5",
   "metadata": {},
   "outputs": [
    {
     "data": {
      "text/plain": [
       "6979"
      ]
     },
     "execution_count": 102,
     "metadata": {},
     "output_type": "execute_result"
    }
   ],
   "source": [
    "round(c_price.mean())"
   ]
  },
  {
   "cell_type": "markdown",
   "id": "98f55f0b",
   "metadata": {},
   "source": [
    "Un Mercedes-Benz Clase C cuesta de media 6.979 dólares."
   ]
  },
  {
   "cell_type": "markdown",
   "id": "79944377",
   "metadata": {},
   "source": [
    "- Hay 4.442 Merdedes-Benz a la venta.\n",
    "- Los vehículos Merdedes-Benz representan el 10% del total, un 1% menos que BMW o que OPEL.\n",
    "- El Merdedes-Benz más popular es el Clase C, que ocupa el 26% del mercado de MB.\n",
    "- Un Merdedes-Benz cuesta de media 8.482 dólares, un 5% más que un BMW.\n",
    "- Un Merdedes-Benz Clase C cuesta de media 6.979 dólares, aproximadamente 3.000 dólares más que un Golf."
   ]
  },
  {
   "cell_type": "markdown",
   "id": "db330ea0",
   "metadata": {},
   "source": [
    "#### 3.2.5. AUDI"
   ]
  },
  {
   "cell_type": "markdown",
   "id": "b80b2d66",
   "metadata": {},
   "source": [
    "Audi cierra el TOP 5 de las marcas más ofertadas. Es una marca del grupo Volkswagen, que lidera el ránking de forma bastante clara."
   ]
  },
  {
   "cell_type": "code",
   "execution_count": 103,
   "id": "31fe56a8",
   "metadata": {},
   "outputs": [],
   "source": [
    "audi = autos.loc[autos[\"brand\"] == \"audi\",\"model\"]"
   ]
  },
  {
   "cell_type": "code",
   "execution_count": 104,
   "id": "ee467d4f",
   "metadata": {},
   "outputs": [
    {
     "data": {
      "text/plain": [
       "a4        1265\n",
       "a3         838\n",
       "a6         814\n",
       "andere     219\n",
       "80         209\n",
       "tt         147\n",
       "a5         126\n",
       "a1          82\n",
       "a8          72\n",
       "q5          62\n",
       "100         59\n",
       "a2          43\n",
       "q7          40\n",
       "q3          28\n",
       "90           9\n",
       "200          1\n",
       "Name: model, dtype: int64"
      ]
     },
     "execution_count": 104,
     "metadata": {},
     "output_type": "execute_result"
    }
   ],
   "source": [
    "audi.value_counts()"
   ]
  },
  {
   "cell_type": "code",
   "execution_count": 105,
   "id": "ae4dc177",
   "metadata": {},
   "outputs": [
    {
     "data": {
      "text/plain": [
       "4014"
      ]
     },
     "execution_count": 105,
     "metadata": {},
     "output_type": "execute_result"
    }
   ],
   "source": [
    "audi.value_counts().sum()"
   ]
  },
  {
   "cell_type": "markdown",
   "id": "485806cc",
   "metadata": {},
   "source": [
    "Hay 4.014 Audi a la venta en el dataset, de los cuales 1.265 son Audi A4, 838 Audi A3 y 814 A6. \"andere\" en alemán significa \"otros\", y serán coches o bien de modelos muy antiguos, o bien de modelos desconocidos, o bien de modelos específicos de empresas preparadoras de coches, que son muy populares en Alemania. Hay 219 vehículos de este tipo a la venta."
   ]
  },
  {
   "cell_type": "code",
   "execution_count": 106,
   "id": "22d9384f",
   "metadata": {},
   "outputs": [
    {
     "data": {
      "text/plain": [
       "32"
      ]
     },
     "execution_count": 106,
     "metadata": {},
     "output_type": "execute_result"
    }
   ],
   "source": [
    "# A4 respecto del total (%)\n",
    "round(1265/4014*100)"
   ]
  },
  {
   "cell_type": "markdown",
   "id": "1f11ab57",
   "metadata": {},
   "source": [
    "El 32% de los Audi a la venta son A4 (casi 1 de cada 3)"
   ]
  },
  {
   "cell_type": "code",
   "execution_count": 107,
   "id": "7726c1bc",
   "metadata": {},
   "outputs": [
    {
     "data": {
      "text/plain": [
       "9"
      ]
     },
     "execution_count": 107,
     "metadata": {},
     "output_type": "execute_result"
    }
   ],
   "source": [
    "# Audi en el mercado (%)\n",
    "round(4014/top_brands.sum()*100)"
   ]
  },
  {
   "cell_type": "markdown",
   "id": "5240f9e5",
   "metadata": {},
   "source": [
    "Audi tiene el 9% del mercado de coches usados."
   ]
  },
  {
   "cell_type": "markdown",
   "id": "04b5285b",
   "metadata": {},
   "source": [
    "#### 3.2.5.1. AUDI : PRECIOS MEDIOS"
   ]
  },
  {
   "cell_type": "code",
   "execution_count": 108,
   "id": "1a2d2d66",
   "metadata": {},
   "outputs": [],
   "source": [
    "audi_price = autos.loc[autos[\"brand\"] == \"audi\", \"price\"]"
   ]
  },
  {
   "cell_type": "code",
   "execution_count": 109,
   "id": "7f83773b",
   "metadata": {},
   "outputs": [
    {
     "data": {
      "text/plain": [
       "9094"
      ]
     },
     "execution_count": 109,
     "metadata": {},
     "output_type": "execute_result"
    }
   ],
   "source": [
    "round(audi_price.mean())"
   ]
  },
  {
   "cell_type": "markdown",
   "id": "b2565b82",
   "metadata": {},
   "source": [
    "Un Audi cuesta de media 9.094 dólares."
   ]
  },
  {
   "cell_type": "markdown",
   "id": "8b3f73b5",
   "metadata": {},
   "source": [
    "#### 3.2.5.2. AUDI A4 : PRECIOS MEDIOS"
   ]
  },
  {
   "cell_type": "code",
   "execution_count": 110,
   "id": "0b6fd046",
   "metadata": {},
   "outputs": [],
   "source": [
    "a4_price = autos.loc[autos[\"model\"] == \"a4\", \"price\"]"
   ]
  },
  {
   "cell_type": "code",
   "execution_count": 111,
   "id": "bc4defa3",
   "metadata": {},
   "outputs": [
    {
     "data": {
      "text/plain": [
       "6860"
      ]
     },
     "execution_count": 111,
     "metadata": {},
     "output_type": "execute_result"
    }
   ],
   "source": [
    "round(a4_price.mean())"
   ]
  },
  {
   "cell_type": "markdown",
   "id": "d3ad18b5",
   "metadata": {},
   "source": [
    "Un Audi A4 cuesta de media 6.860 dólares, casi lo mismo que un Mercedes-Benz Clase C."
   ]
  },
  {
   "cell_type": "markdown",
   "id": "b978ba6f",
   "metadata": {},
   "source": [
    "- Hay 4.014 Audi a la venta.\n",
    "- Los vehículos Audi representan el 9% del total, un 1% menos Mercedes-Benz.\n",
    "- El Audi más popular es el Audi A4, que ocupa el 32% del mercado de Audi.\n",
    "- Un Audi cuesta de media 9.094 dólares, más que un Mercedes-Benz.\n",
    "- Un Audi A4 cuesta de media 6.860 dólares, aproximadamente lo mismo que un Clase C."
   ]
  },
  {
   "cell_type": "markdown",
   "id": "c600da97",
   "metadata": {},
   "source": [
    "## 3.3. DEVALUACIÓN DE LOS VEHÍCULOS"
   ]
  },
  {
   "cell_type": "markdown",
   "id": "1f7262be",
   "metadata": {},
   "source": [
    "Otro aspecto que queríamos analizar en el dataset es el precio de los vehículos según la antigüedad. Sabemos que los vehículos pierden valor a lo largo del tiempo, pero queremos calcular exactamente cuanto.\n",
    "\n",
    "Vamos a calcular la devaluación de los vehículos en un periodo de 10 años.\n",
    "\n",
    "Para ello, vamos a utilizar varios modelos del dataset, que van a ser:\n",
    "\n",
    "- Volkswagen Golf\n",
    "- Mercedes-Benz Clase C\n",
    "- Ford Focus\n",
    "- Porsche 911\n",
    "\n",
    "El procedimiento que vamos a seguir es el siguiente:\n",
    "\n",
    "- Creamos un diccionario vacío que contendrá los años y los precios\n",
    "- Iteramos en el rango de años deseado, por cada iteración:\n",
    "    - Calculamos el precio medio del modelo concreto\n",
    "    - Almacenamos el valor en el diccionario, siendo clave: año, valor: precio"
   ]
  },
  {
   "cell_type": "markdown",
   "id": "17554f13",
   "metadata": {},
   "source": [
    "### 3.3.1. DEVALUACIÓN DEL VOLKSWAGEN GOLF"
   ]
  },
  {
   "cell_type": "code",
   "execution_count": 112,
   "id": "585deb27",
   "metadata": {},
   "outputs": [],
   "source": [
    "golf_media = {}\n",
    "\n",
    "for agno in range(2005,2016):\n",
    "    precio_medio = autos.loc[(autos[\"model\"] == \"golf\") & (autos[\"registration_year\"] == agno)]\n",
    "    media = round(precio_medio[\"price\"].mean())\n",
    "    golf_media[agno] = media    "
   ]
  },
  {
   "cell_type": "code",
   "execution_count": 113,
   "id": "9c052077",
   "metadata": {},
   "outputs": [
    {
     "data": {
      "text/plain": [
       "{2005: 5151,\n",
       " 2006: 6284,\n",
       " 2007: 6243,\n",
       " 2008: 7129,\n",
       " 2009: 8899,\n",
       " 2010: 11225,\n",
       " 2011: 12174,\n",
       " 2012: 14856,\n",
       " 2013: 17262,\n",
       " 2014: 22009,\n",
       " 2015: 21134}"
      ]
     },
     "execution_count": 113,
     "metadata": {},
     "output_type": "execute_result"
    }
   ],
   "source": [
    "golf_media"
   ]
  },
  {
   "cell_type": "markdown",
   "id": "59ab025f",
   "metadata": {},
   "source": [
    "Los dos primeros años el valor se mantiene (de hecho cuesta más el segundo año, lo achacaremos a falta de muestras suficientes en ese año concreto), y cae abruptamente el tercer año:"
   ]
  },
  {
   "cell_type": "code",
   "execution_count": 114,
   "id": "e0c7277a",
   "metadata": {},
   "outputs": [
    {
     "name": "stdout",
     "output_type": "stream",
     "text": [
      "22 %\n"
     ]
    }
   ],
   "source": [
    "# porcentaje de caída del precio del VW Golf del segundo al tercer año\n",
    "print(f\"{100 - round(17262/22000*100)} %\")"
   ]
  },
  {
   "cell_type": "code",
   "execution_count": 115,
   "id": "b260afb6",
   "metadata": {},
   "outputs": [
    {
     "name": "stdout",
     "output_type": "stream",
     "text": [
      "49 %\n"
     ]
    }
   ],
   "source": [
    "# porcentaje de caída en los cinco primeros años\n",
    "print(f\"{100 - round(11225/22000*100)} %\")"
   ]
  },
  {
   "cell_type": "code",
   "execution_count": 116,
   "id": "92d5d808",
   "metadata": {},
   "outputs": [
    {
     "name": "stdout",
     "output_type": "stream",
     "text": [
      "77 %\n"
     ]
    }
   ],
   "source": [
    "# porcentaje de caída en los diez primeros años\n",
    "print(f\"{100 - round(5151/22000*100)} %\")"
   ]
  },
  {
   "cell_type": "markdown",
   "id": "e0b38d08",
   "metadata": {},
   "source": [
    "El Volkswagen Golf, respecto al año siguiente a la matriculación:\n",
    "\n",
    "- Pierde un 22% del valor en dos años\n",
    "- Pierde un 49% del valor en cinco años\n",
    "- Pierde un 77% del valor en diez años"
   ]
  },
  {
   "cell_type": "markdown",
   "id": "939bc373",
   "metadata": {},
   "source": [
    "### 3.3.2. DEVALUACIÓN DEL MERCEDES-BENZ CLASE C"
   ]
  },
  {
   "cell_type": "code",
   "execution_count": 117,
   "id": "bede3139",
   "metadata": {},
   "outputs": [],
   "source": [
    "clase_c_media = {}\n",
    "\n",
    "for agno in range(2005,2016):\n",
    "    precio_medio = autos.loc[(autos[\"model\"] == \"c_klasse\") & (autos[\"registration_year\"] == agno)]\n",
    "    media = round(precio_medio[\"price\"].mean())\n",
    "    clase_c_media[agno] = media    "
   ]
  },
  {
   "cell_type": "code",
   "execution_count": 118,
   "id": "47143999",
   "metadata": {},
   "outputs": [
    {
     "data": {
      "text/plain": [
       "{2005: 6178,\n",
       " 2006: 7476,\n",
       " 2007: 11460,\n",
       " 2008: 11545,\n",
       " 2009: 13719,\n",
       " 2010: 15921,\n",
       " 2011: 18549,\n",
       " 2012: 21083,\n",
       " 2013: 26967,\n",
       " 2014: 27915,\n",
       " 2015: 29950}"
      ]
     },
     "execution_count": 118,
     "metadata": {},
     "output_type": "execute_result"
    }
   ],
   "source": [
    "clase_c_media"
   ]
  },
  {
   "cell_type": "markdown",
   "id": "176e82f1",
   "metadata": {},
   "source": [
    "Mantiene bastante bien el valor los tres primeros años, y luego cae a un ritmo más o menos constante los tres siguientes. Se desploma a los nueve/diez años."
   ]
  },
  {
   "cell_type": "code",
   "execution_count": 119,
   "id": "8abf108d",
   "metadata": {},
   "outputs": [
    {
     "name": "stdout",
     "output_type": "stream",
     "text": [
      "10 %\n"
     ]
    }
   ],
   "source": [
    "# porcentaje de caída del precio del MB Clase C del primer al tercer año\n",
    "print(f\"{100 - round(26967/29950*100)} %\")"
   ]
  },
  {
   "cell_type": "code",
   "execution_count": 120,
   "id": "ea368298",
   "metadata": {},
   "outputs": [
    {
     "name": "stdout",
     "output_type": "stream",
     "text": [
      "47 %\n"
     ]
    }
   ],
   "source": [
    "# porcentaje de caída del precio del MB Clase C en los cinco primeros años\n",
    "print(f\"{100 - round(15921/29950*100)} %\")"
   ]
  },
  {
   "cell_type": "code",
   "execution_count": 121,
   "id": "97301cc6",
   "metadata": {},
   "outputs": [
    {
     "name": "stdout",
     "output_type": "stream",
     "text": [
      "79 %\n"
     ]
    }
   ],
   "source": [
    "# porcentaje de caída del precio del MB Clase C en los diez primeros años\n",
    "print(f\"{100 - round(6178/29950*100)} %\")"
   ]
  },
  {
   "cell_type": "markdown",
   "id": "adebf24f",
   "metadata": {},
   "source": [
    "El Mercedes-Benz Clase C, respecto al año siguiente a la matriculación:\n",
    "\n",
    "- Pierde un 10% del valor en tres años\n",
    "- Pierde un 47% del valor en cinco años\n",
    "- Pierde un 79% del valor en diez años"
   ]
  },
  {
   "cell_type": "markdown",
   "id": "f7e3ee3b",
   "metadata": {},
   "source": [
    "### 3.3.3. DEVALUACIÓN DEL FORD FOCUS"
   ]
  },
  {
   "cell_type": "code",
   "execution_count": 122,
   "id": "0bc5abc3",
   "metadata": {},
   "outputs": [],
   "source": [
    "focus_media = {}\n",
    "\n",
    "for agno in range(2005,2016):\n",
    "    precio_medio = autos.loc[(autos[\"model\"] == \"focus\") & (autos[\"registration_year\"] == agno)]\n",
    "    media = round(precio_medio[\"price\"].mean())\n",
    "    focus_media[agno] = media"
   ]
  },
  {
   "cell_type": "code",
   "execution_count": 123,
   "id": "7ed42b13",
   "metadata": {},
   "outputs": [
    {
     "data": {
      "text/plain": [
       "{2005: 3250,\n",
       " 2006: 4802,\n",
       " 2007: 5517,\n",
       " 2008: 6197,\n",
       " 2009: 6664,\n",
       " 2010: 9242,\n",
       " 2011: 9891,\n",
       " 2012: 12100,\n",
       " 2013: 13855,\n",
       " 2014: 16340,\n",
       " 2015: 18508}"
      ]
     },
     "execution_count": 123,
     "metadata": {},
     "output_type": "execute_result"
    }
   ],
   "source": [
    "focus_media"
   ]
  },
  {
   "cell_type": "markdown",
   "id": "6d0b9934",
   "metadata": {},
   "source": [
    "Pierde mucho valor ya al tercer año, aunque los tres siguientes lo mantiene bastante bien, al igual que los últimos. La bajada a partir del tercer año es bastante poco acusada."
   ]
  },
  {
   "cell_type": "code",
   "execution_count": 124,
   "id": "cb6515ec",
   "metadata": {},
   "outputs": [
    {
     "name": "stdout",
     "output_type": "stream",
     "text": [
      "25 %\n"
     ]
    }
   ],
   "source": [
    "# porcentaje de caída del precio del Ford Focus del primer al tercer año\n",
    "print(f\"{100 - round(13855/18508*100)} %\")"
   ]
  },
  {
   "cell_type": "code",
   "execution_count": 125,
   "id": "67c64fdc",
   "metadata": {},
   "outputs": [
    {
     "name": "stdout",
     "output_type": "stream",
     "text": [
      "50 %\n"
     ]
    }
   ],
   "source": [
    "# porcentaje de caída del precio del Ford Focus en los cinco primeros años\n",
    "print(f\"{100 - round(9242/18508*100)} %\")"
   ]
  },
  {
   "cell_type": "code",
   "execution_count": 126,
   "id": "a225d494",
   "metadata": {},
   "outputs": [
    {
     "name": "stdout",
     "output_type": "stream",
     "text": [
      "82 %\n"
     ]
    }
   ],
   "source": [
    "# porcentaje de caída del precio del Ford Focus en los diez primeros años\n",
    "print(f\"{100 - round(3250/18508*100)} %\")"
   ]
  },
  {
   "cell_type": "markdown",
   "id": "12ca6862",
   "metadata": {},
   "source": [
    "El Ford Focus, respecto al año siguiente a la matriculación:\n",
    "\n",
    "- Pierde un 25% del valor en tres años\n",
    "- Pierde un 50% del valor en cinco años\n",
    "- Pierde un 82% del valor en diez años"
   ]
  },
  {
   "cell_type": "markdown",
   "id": "ccc31f27",
   "metadata": {},
   "source": [
    "### 3.3.4. DEVALUACIÓN DEL PORSCHE 911"
   ]
  },
  {
   "cell_type": "code",
   "execution_count": 127,
   "id": "b2ec5256",
   "metadata": {},
   "outputs": [],
   "source": [
    "p911_media = {}\n",
    "\n",
    "for agno in range(2005,2016):\n",
    "    precio_medio = autos.loc[(autos[\"model\"] == \"911\") & (autos[\"registration_year\"] == agno)]\n",
    "    media = round(precio_medio[\"price\"].mean())\n",
    "    p911_media[agno] = media"
   ]
  },
  {
   "cell_type": "code",
   "execution_count": 128,
   "id": "434e5a87",
   "metadata": {},
   "outputs": [
    {
     "data": {
      "text/plain": [
       "{2005: 46199,\n",
       " 2006: 38800,\n",
       " 2007: 59468,\n",
       " 2008: 61494,\n",
       " 2009: 73281,\n",
       " 2010: 87868,\n",
       " 2011: 87758,\n",
       " 2012: 80020,\n",
       " 2013: 130898,\n",
       " 2014: 141946,\n",
       " 2015: 218833}"
      ]
     },
     "execution_count": 128,
     "metadata": {},
     "output_type": "execute_result"
    }
   ],
   "source": [
    "p911_media"
   ]
  },
  {
   "cell_type": "markdown",
   "id": "25c56a4e",
   "metadata": {},
   "source": [
    "La caída del primer al segundo año es espectacular, al igual que del tercero al cuarto. A partir de ahí mantiene muy bien el valor."
   ]
  },
  {
   "cell_type": "code",
   "execution_count": 129,
   "id": "772a4be3",
   "metadata": {},
   "outputs": [
    {
     "name": "stdout",
     "output_type": "stream",
     "text": [
      "35 %\n"
     ]
    }
   ],
   "source": [
    "# porcentaje de caída del precio del Porsche 911 del primer al segundo año\n",
    "print(f\"{100 - round(141946/218833*100)} %\")"
   ]
  },
  {
   "cell_type": "code",
   "execution_count": 130,
   "id": "948cc247",
   "metadata": {},
   "outputs": [
    {
     "name": "stdout",
     "output_type": "stream",
     "text": [
      "39 %\n"
     ]
    }
   ],
   "source": [
    "# porcentaje de caída del precio del Porsche 911 del tercer al cuarto año\n",
    "print(f\"{100 - round(80020/130898*100)} %\")"
   ]
  },
  {
   "cell_type": "code",
   "execution_count": 131,
   "id": "305b0bb5",
   "metadata": {},
   "outputs": [
    {
     "name": "stdout",
     "output_type": "stream",
     "text": [
      "60 %\n"
     ]
    }
   ],
   "source": [
    "# porcentaje de caída del precio del Porsche 911 en los cinco primeros años\n",
    "print(f\"{100 - round(87758/218833*100)} %\")"
   ]
  },
  {
   "cell_type": "code",
   "execution_count": 132,
   "id": "84133230",
   "metadata": {},
   "outputs": [
    {
     "name": "stdout",
     "output_type": "stream",
     "text": [
      "79 %\n"
     ]
    }
   ],
   "source": [
    "# porcentaje de caída del precio del Porsche 911 en los diez primeros años\n",
    "print(f\"{100 - round(46199/218833*100)} %\")"
   ]
  },
  {
   "cell_type": "markdown",
   "id": "778104ec",
   "metadata": {},
   "source": [
    "El Porsche 911:\n",
    "\n",
    "- Pierde un 35% del valor del primer al segundo año\n",
    "- Pierde un 39% del valor del tercer al cuarto año\n",
    "- Pierde un 60% del valor en cinco años (desde la fecha de matriculación)\n",
    "- Pierde un 79% del valor en diez años (desde la fecha de matriculación)"
   ]
  },
  {
   "cell_type": "markdown",
   "id": "6ddf234b",
   "metadata": {},
   "source": [
    "### 3.3.4. DEVALUACIÓN : RESUMEN"
   ]
  },
  {
   "cell_type": "markdown",
   "id": "96c759e8",
   "metadata": {},
   "source": [
    "En los modelos que hemos analizado, pierden:\n",
    "\n",
    "- Entre el 10% y el 22% del valor los primeros tres años.\n",
    "- En torno al 50% del valor en cinco años.\n",
    "- El 80% del valor en diez años."
   ]
  },
  {
   "cell_type": "markdown",
   "id": "7bd26040",
   "metadata": {},
   "source": [
    "## 4. CONCLUSIONES FINALES"
   ]
  },
  {
   "cell_type": "markdown",
   "id": "7bd72dbb",
   "metadata": {},
   "source": [
    "El mercado alemán está dominado por las marcas nacionales. Dos tercios del mercado son exclusivamente coches alemanes.\n",
    "\n",
    "Volkswagen parece ser la marca preferida de los alemanes, con mucha diferencia sobre las demás. Las cinco marcas preferidas son: \n",
    "\n",
    "- Volkswagen\n",
    "- BMW\n",
    "- Opel\n",
    "- Mercedes-Benz\n",
    "- Audi\n",
    "\n",
    "El Volkswagen Golf es el coche más ofertado en Alemania. De hecho, el Volskwagen Golf siempre está entre los coches nuevos más vendidos en Alemania, y muchas veces es el más vendido.\n",
    "\n",
    "Los modelos más populares en Alemania son:\n",
    "\n",
    "- Volkswagen Golf\n",
    "- BMW Serie 3\n",
    "- Volkswagen Polo\n",
    "- Opel Corsa\n",
    "- Opel Astra\n",
    "- Volkswagen Passat\n",
    "- Audi A4\n",
    "- BMW Serie 5\n",
    "- Mercedes-Benz Clase C\n",
    "\n",
    "Los vehículos pierden la mayor parte del valor a partir del quinto año. Dependiendo de lo que queramos buscar, el quinto año es buen momento para encontrar un vehículo relativamente nuevo y a la mitad (o menos) de su precio original.\n",
    "\n",
    "Si no nos importa adquirir coches aún más antiguos, a los 10 años han perdido prácticamente el 80% de su valor, lo que puede ser interesante."
   ]
  }
 ],
 "metadata": {
  "kernelspec": {
   "display_name": "Python 3",
   "language": "python",
   "name": "python3"
  },
  "language_info": {
   "codemirror_mode": {
    "name": "ipython",
    "version": 3
   },
   "file_extension": ".py",
   "mimetype": "text/x-python",
   "name": "python",
   "nbconvert_exporter": "python",
   "pygments_lexer": "ipython3",
   "version": "3.9.5"
  }
 },
 "nbformat": 4,
 "nbformat_minor": 5
}
