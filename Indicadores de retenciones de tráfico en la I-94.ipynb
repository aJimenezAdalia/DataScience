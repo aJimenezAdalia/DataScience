{
 "cells": [
  {
   "cell_type": "markdown",
   "id": "eb5e6636",
   "metadata": {},
   "source": [
    "# BUSCANDO INDICADORES DE RETENCIONES DE TRÁFICO EN LA I-94"
   ]
  },
  {
   "cell_type": "markdown",
   "id": "1fb141b0",
   "metadata": {},
   "source": [
    "Vamos a estudiar el tráfico de la carretera Interestatal I-94, una autopista interestatal de dirección este-oeste que conecta las regiones de los Grandes Lagos y las Grandes Llanuras del norte de los Estados Unidos de América.\n",
    "\n",
    "https://en.wikipedia.org/wiki/Interstate_94"
   ]
  },
  {
   "cell_type": "markdown",
   "id": "2f0fdb44",
   "metadata": {},
   "source": [
    "<img src=\"https://i.imgur.com/IU9ru3C.png\">"
   ]
  },
  {
   "cell_type": "markdown",
   "id": "d0bb0d3a",
   "metadata": {},
   "source": [
    "*Fuente:wikipedia*"
   ]
  },
  {
   "cell_type": "markdown",
   "id": "29fd9e64",
   "metadata": {},
   "source": [
    "## OBJETIVOS"
   ]
  },
  {
   "cell_type": "markdown",
   "id": "040e28fd",
   "metadata": {},
   "source": [
    "Queremos determinar algunos indicadores que producen grandes volúmenes de tráfico en la I-94. Estos indicadores pueden ser de tipo climático, de tipo horario, incidentes, etc. Por ejemplo, normalmente el tráfico es más intenso entre semana que en fines de semana.\n",
    "\n",
    "Para ello, vamos a analizar un dataset que contiene datos sobre el tráfico de la parte Oeste de la autopista I-94."
   ]
  },
  {
   "cell_type": "markdown",
   "id": "79217870",
   "metadata": {},
   "source": [
    "## EL DATASET"
   ]
  },
  {
   "cell_type": "markdown",
   "id": "9b1bae56",
   "metadata": {},
   "source": [
    "El dataset es público y fue creado por John Hogue, y está disponible en UCI Machine Learning Repository:\n",
    "\n",
    "https://archive.ics.uci.edu/ml/datasets/Metro+Interstate+Traffic+Volume\n",
    "\n",
    "Vamos a leer el dataset, y a visualizar unas pequeñas muestras para echar un primer vistazo:"
   ]
  },
  {
   "cell_type": "code",
   "execution_count": 1,
   "id": "ec3f4c35",
   "metadata": {},
   "outputs": [],
   "source": [
    "import pandas as pd\n",
    "\n",
    "i94 = pd.read_csv('Metro_Interstate_Traffic_Volume.csv')"
   ]
  },
  {
   "cell_type": "code",
   "execution_count": 2,
   "id": "e062ad72",
   "metadata": {},
   "outputs": [
    {
     "data": {
      "text/html": [
       "<div>\n",
       "<style scoped>\n",
       "    .dataframe tbody tr th:only-of-type {\n",
       "        vertical-align: middle;\n",
       "    }\n",
       "\n",
       "    .dataframe tbody tr th {\n",
       "        vertical-align: top;\n",
       "    }\n",
       "\n",
       "    .dataframe thead th {\n",
       "        text-align: right;\n",
       "    }\n",
       "</style>\n",
       "<table border=\"1\" class=\"dataframe\">\n",
       "  <thead>\n",
       "    <tr style=\"text-align: right;\">\n",
       "      <th></th>\n",
       "      <th>holiday</th>\n",
       "      <th>temp</th>\n",
       "      <th>rain_1h</th>\n",
       "      <th>snow_1h</th>\n",
       "      <th>clouds_all</th>\n",
       "      <th>weather_main</th>\n",
       "      <th>weather_description</th>\n",
       "      <th>date_time</th>\n",
       "      <th>traffic_volume</th>\n",
       "    </tr>\n",
       "  </thead>\n",
       "  <tbody>\n",
       "    <tr>\n",
       "      <th>0</th>\n",
       "      <td>None</td>\n",
       "      <td>288.28</td>\n",
       "      <td>0.0</td>\n",
       "      <td>0.0</td>\n",
       "      <td>40</td>\n",
       "      <td>Clouds</td>\n",
       "      <td>scattered clouds</td>\n",
       "      <td>2012-10-02 09:00:00</td>\n",
       "      <td>5545</td>\n",
       "    </tr>\n",
       "    <tr>\n",
       "      <th>1</th>\n",
       "      <td>None</td>\n",
       "      <td>289.36</td>\n",
       "      <td>0.0</td>\n",
       "      <td>0.0</td>\n",
       "      <td>75</td>\n",
       "      <td>Clouds</td>\n",
       "      <td>broken clouds</td>\n",
       "      <td>2012-10-02 10:00:00</td>\n",
       "      <td>4516</td>\n",
       "    </tr>\n",
       "    <tr>\n",
       "      <th>2</th>\n",
       "      <td>None</td>\n",
       "      <td>289.58</td>\n",
       "      <td>0.0</td>\n",
       "      <td>0.0</td>\n",
       "      <td>90</td>\n",
       "      <td>Clouds</td>\n",
       "      <td>overcast clouds</td>\n",
       "      <td>2012-10-02 11:00:00</td>\n",
       "      <td>4767</td>\n",
       "    </tr>\n",
       "    <tr>\n",
       "      <th>3</th>\n",
       "      <td>None</td>\n",
       "      <td>290.13</td>\n",
       "      <td>0.0</td>\n",
       "      <td>0.0</td>\n",
       "      <td>90</td>\n",
       "      <td>Clouds</td>\n",
       "      <td>overcast clouds</td>\n",
       "      <td>2012-10-02 12:00:00</td>\n",
       "      <td>5026</td>\n",
       "    </tr>\n",
       "    <tr>\n",
       "      <th>4</th>\n",
       "      <td>None</td>\n",
       "      <td>291.14</td>\n",
       "      <td>0.0</td>\n",
       "      <td>0.0</td>\n",
       "      <td>75</td>\n",
       "      <td>Clouds</td>\n",
       "      <td>broken clouds</td>\n",
       "      <td>2012-10-02 13:00:00</td>\n",
       "      <td>4918</td>\n",
       "    </tr>\n",
       "  </tbody>\n",
       "</table>\n",
       "</div>"
      ],
      "text/plain": [
       "  holiday    temp  rain_1h  snow_1h  clouds_all weather_main  \\\n",
       "0    None  288.28      0.0      0.0          40       Clouds   \n",
       "1    None  289.36      0.0      0.0          75       Clouds   \n",
       "2    None  289.58      0.0      0.0          90       Clouds   \n",
       "3    None  290.13      0.0      0.0          90       Clouds   \n",
       "4    None  291.14      0.0      0.0          75       Clouds   \n",
       "\n",
       "  weather_description            date_time  traffic_volume  \n",
       "0    scattered clouds  2012-10-02 09:00:00            5545  \n",
       "1       broken clouds  2012-10-02 10:00:00            4516  \n",
       "2     overcast clouds  2012-10-02 11:00:00            4767  \n",
       "3     overcast clouds  2012-10-02 12:00:00            5026  \n",
       "4       broken clouds  2012-10-02 13:00:00            4918  "
      ]
     },
     "execution_count": 2,
     "metadata": {},
     "output_type": "execute_result"
    }
   ],
   "source": [
    "i94.head()"
   ]
  },
  {
   "cell_type": "code",
   "execution_count": 3,
   "id": "e25421cd",
   "metadata": {},
   "outputs": [
    {
     "data": {
      "text/html": [
       "<div>\n",
       "<style scoped>\n",
       "    .dataframe tbody tr th:only-of-type {\n",
       "        vertical-align: middle;\n",
       "    }\n",
       "\n",
       "    .dataframe tbody tr th {\n",
       "        vertical-align: top;\n",
       "    }\n",
       "\n",
       "    .dataframe thead th {\n",
       "        text-align: right;\n",
       "    }\n",
       "</style>\n",
       "<table border=\"1\" class=\"dataframe\">\n",
       "  <thead>\n",
       "    <tr style=\"text-align: right;\">\n",
       "      <th></th>\n",
       "      <th>holiday</th>\n",
       "      <th>temp</th>\n",
       "      <th>rain_1h</th>\n",
       "      <th>snow_1h</th>\n",
       "      <th>clouds_all</th>\n",
       "      <th>weather_main</th>\n",
       "      <th>weather_description</th>\n",
       "      <th>date_time</th>\n",
       "      <th>traffic_volume</th>\n",
       "    </tr>\n",
       "  </thead>\n",
       "  <tbody>\n",
       "    <tr>\n",
       "      <th>48199</th>\n",
       "      <td>None</td>\n",
       "      <td>283.45</td>\n",
       "      <td>0.0</td>\n",
       "      <td>0.0</td>\n",
       "      <td>75</td>\n",
       "      <td>Clouds</td>\n",
       "      <td>broken clouds</td>\n",
       "      <td>2018-09-30 19:00:00</td>\n",
       "      <td>3543</td>\n",
       "    </tr>\n",
       "    <tr>\n",
       "      <th>48200</th>\n",
       "      <td>None</td>\n",
       "      <td>282.76</td>\n",
       "      <td>0.0</td>\n",
       "      <td>0.0</td>\n",
       "      <td>90</td>\n",
       "      <td>Clouds</td>\n",
       "      <td>overcast clouds</td>\n",
       "      <td>2018-09-30 20:00:00</td>\n",
       "      <td>2781</td>\n",
       "    </tr>\n",
       "    <tr>\n",
       "      <th>48201</th>\n",
       "      <td>None</td>\n",
       "      <td>282.73</td>\n",
       "      <td>0.0</td>\n",
       "      <td>0.0</td>\n",
       "      <td>90</td>\n",
       "      <td>Thunderstorm</td>\n",
       "      <td>proximity thunderstorm</td>\n",
       "      <td>2018-09-30 21:00:00</td>\n",
       "      <td>2159</td>\n",
       "    </tr>\n",
       "    <tr>\n",
       "      <th>48202</th>\n",
       "      <td>None</td>\n",
       "      <td>282.09</td>\n",
       "      <td>0.0</td>\n",
       "      <td>0.0</td>\n",
       "      <td>90</td>\n",
       "      <td>Clouds</td>\n",
       "      <td>overcast clouds</td>\n",
       "      <td>2018-09-30 22:00:00</td>\n",
       "      <td>1450</td>\n",
       "    </tr>\n",
       "    <tr>\n",
       "      <th>48203</th>\n",
       "      <td>None</td>\n",
       "      <td>282.12</td>\n",
       "      <td>0.0</td>\n",
       "      <td>0.0</td>\n",
       "      <td>90</td>\n",
       "      <td>Clouds</td>\n",
       "      <td>overcast clouds</td>\n",
       "      <td>2018-09-30 23:00:00</td>\n",
       "      <td>954</td>\n",
       "    </tr>\n",
       "  </tbody>\n",
       "</table>\n",
       "</div>"
      ],
      "text/plain": [
       "      holiday    temp  rain_1h  snow_1h  clouds_all  weather_main  \\\n",
       "48199    None  283.45      0.0      0.0          75        Clouds   \n",
       "48200    None  282.76      0.0      0.0          90        Clouds   \n",
       "48201    None  282.73      0.0      0.0          90  Thunderstorm   \n",
       "48202    None  282.09      0.0      0.0          90        Clouds   \n",
       "48203    None  282.12      0.0      0.0          90        Clouds   \n",
       "\n",
       "          weather_description            date_time  traffic_volume  \n",
       "48199           broken clouds  2018-09-30 19:00:00            3543  \n",
       "48200         overcast clouds  2018-09-30 20:00:00            2781  \n",
       "48201  proximity thunderstorm  2018-09-30 21:00:00            2159  \n",
       "48202         overcast clouds  2018-09-30 22:00:00            1450  \n",
       "48203         overcast clouds  2018-09-30 23:00:00             954  "
      ]
     },
     "execution_count": 3,
     "metadata": {},
     "output_type": "execute_result"
    }
   ],
   "source": [
    "i94.tail()"
   ]
  },
  {
   "cell_type": "markdown",
   "id": "1efbb168",
   "metadata": {},
   "source": [
    "### Información que nos proporciona el dataset"
   ]
  },
  {
   "cell_type": "markdown",
   "id": "04ee048f",
   "metadata": {},
   "source": [
    "De acuerdo con la documentación del dataset, los datos fueron recogidos por la estación ATR 301, que se encuentra entre Minneapolis y St.Paul,MN, en sentido oeste.\n",
    "\n",
    "Por lo tanto, los datos que tenemos en el dataset son del tramo de la I-94 en el estado de Minnesota que conecta Minneapolis con St.Paul, en sentido oeste."
   ]
  },
  {
   "cell_type": "markdown",
   "id": "69899f18",
   "metadata": {},
   "source": [
    "<img src=\"https://s3.amazonaws.com/dq-content/524/i94_figma.png\">"
   ]
  },
  {
   "cell_type": "code",
   "execution_count": 4,
   "id": "932038b5",
   "metadata": {},
   "outputs": [
    {
     "name": "stdout",
     "output_type": "stream",
     "text": [
      "<class 'pandas.core.frame.DataFrame'>\n",
      "RangeIndex: 48204 entries, 0 to 48203\n",
      "Data columns (total 9 columns):\n",
      " #   Column               Non-Null Count  Dtype  \n",
      "---  ------               --------------  -----  \n",
      " 0   holiday              48204 non-null  object \n",
      " 1   temp                 48204 non-null  float64\n",
      " 2   rain_1h              48204 non-null  float64\n",
      " 3   snow_1h              48204 non-null  float64\n",
      " 4   clouds_all           48204 non-null  int64  \n",
      " 5   weather_main         48204 non-null  object \n",
      " 6   weather_description  48204 non-null  object \n",
      " 7   date_time            48204 non-null  object \n",
      " 8   traffic_volume       48204 non-null  int64  \n",
      "dtypes: float64(3), int64(2), object(4)\n",
      "memory usage: 3.3+ MB\n"
     ]
    }
   ],
   "source": [
    "i94.info()"
   ]
  },
  {
   "cell_type": "markdown",
   "id": "167f0315",
   "metadata": {},
   "source": [
    "El dataset (al que hemos llamado *i94*) contiene 48.204 filas y 9 columnas. La descripción de las columnas, según la documentación del dataset, es la siguiente:\n",
    "\n",
    "- **holiday:** Día festivo/no festivo (Festivos nacionales + Festivos regionales)\n",
    "- **temp:** Temperatura media en kelvin (K)\n",
    "- **rain_1h:** Cantidad numérica en mm de lluvia acumulada en la última hora\n",
    "- **snow_1h:** Cantidad numérica en mm de nieve acumulada en la última hora\n",
    "- **clouds_all:** Porcentaje numérico de nubosidad\n",
    "- **weather_main:** Breve descripición textual del clima en ese momento\n",
    "- **weather_description:** Descripción algo más detallada del clima en ese momento\n",
    "- **date_time:** Hora de recolección de los datos en hora local CST\n",
    "- **traffic_volume:** Volumen de tráfico numérico reportado en la última hora en I-94 ATR 301 westbound"
   ]
  },
  {
   "cell_type": "markdown",
   "id": "b683e237",
   "metadata": {},
   "source": [
    "## PRIMERAS VISUALIZACIONES DE LOS REGISTROS DEL TRÁFICO"
   ]
  },
  {
   "cell_type": "markdown",
   "id": "1e1d1b66",
   "metadata": {},
   "source": [
    "Vamos a ver de una manera generalizada la distribución del tráfico, según la columna 'traffic_volume' del dataset:"
   ]
  },
  {
   "cell_type": "code",
   "execution_count": 5,
   "id": "fb896622",
   "metadata": {},
   "outputs": [],
   "source": [
    "import matplotlib.pyplot as plt\n",
    "%matplotlib inline"
   ]
  },
  {
   "cell_type": "code",
   "execution_count": 6,
   "id": "5c78f8b7",
   "metadata": {},
   "outputs": [
    {
     "data": {
      "image/png": "[encoded data removed]",
      "text/plain": [
       "<Figure size 432x288 with 1 Axes>"
      ]
     },
     "metadata": {
      "needs_background": "light"
     },
     "output_type": "display_data"
    }
   ],
   "source": [
    "plt.hist(i94['traffic_volume'])\n",
    "plt.show()"
   ]
  },
  {
   "cell_type": "markdown",
   "id": "32439fdd",
   "metadata": {},
   "source": [
    "El gráfico muestra la distribución del tráfico en 10 intervalos iguales. La distribución parece bastante uniforme, lo que quiere decir que el tráfico numérico, en principio y a grandes rasgos, parece bastante constante."
   ]
  },
  {
   "cell_type": "code",
   "execution_count": 7,
   "id": "c2f863ec",
   "metadata": {},
   "outputs": [
    {
     "data": {
      "text/plain": [
       "count    48204.000000\n",
       "mean      3259.818355\n",
       "std       1986.860670\n",
       "min          0.000000\n",
       "25%       1193.000000\n",
       "50%       3380.000000\n",
       "75%       4933.000000\n",
       "max       7280.000000\n",
       "Name: traffic_volume, dtype: float64"
      ]
     },
     "execution_count": 7,
     "metadata": {},
     "output_type": "execute_result"
    }
   ],
   "source": [
    "i94['traffic_volume'].describe()"
   ]
  },
  {
   "cell_type": "markdown",
   "id": "db190a4b",
   "metadata": {},
   "source": [
    "En los 48204 registros distintos que tenemos, la media de vehículos por hora que circularon en nuestro tramo fue de 3259, con unos valores máximos de 7280 vehículos por hora.\n",
    "\n",
    "El 25% del tiempo, los vehículos que cicularon fueron 1193, mientras que otro 25% del tiempo (75% en la lista) fueron 4933, más del cuádruple. Esto nos lleva a pensar que quizás el primer 25% agrupa las horas nocturnas, mientras que el segundo agrupa horas diurnas (cuando en teoría el tráfico es más intenso)."
   ]
  },
  {
   "cell_type": "markdown",
   "id": "7928ef08",
   "metadata": {},
   "source": [
    "## COMPARANDO EL TRÁFICO DIURNO CON EL TRÁFICO NOCTURNO"
   ]
  },
  {
   "cell_type": "markdown",
   "id": "5ad0f7c2",
   "metadata": {},
   "source": [
    "Vamos a dividir las horas del día en dos tramos horarios de 12 horas cada uno: horas diurnas y horas nocturnas.\n",
    "\n",
    "- **Horas diurnas:** 07:00h - 19:00h \n",
    "- **Horas nocturnas:** 19:00h - 07:00h\n",
    "\n",
    "Aunque no es un criterio perfecto para distinguir el horario diurno con el nocturno, creemos que es un buen punto de partida."
   ]
  },
  {
   "cell_type": "code",
   "execution_count": 8,
   "id": "a414fde8",
   "metadata": {},
   "outputs": [],
   "source": [
    "# Primero, hay que cambiar el datatype de la columna 'date_time' a tipo datetime\n",
    "i94['date_time'] = pd.to_datetime(i94['date_time'])"
   ]
  },
  {
   "cell_type": "code",
   "execution_count": 9,
   "id": "eaed71f6",
   "metadata": {},
   "outputs": [
    {
     "data": {
      "text/plain": [
       "count                            48204\n",
       "mean     2016-01-05 10:46:16.773711616\n",
       "min                2012-10-02 09:00:00\n",
       "25%                2014-02-06 11:45:00\n",
       "50%                2016-06-11 03:30:00\n",
       "75%                2017-08-11 06:00:00\n",
       "max                2018-09-30 23:00:00\n",
       "Name: date_time, dtype: object"
      ]
     },
     "execution_count": 9,
     "metadata": {},
     "output_type": "execute_result"
    }
   ],
   "source": [
    "i94['date_time'].describe(datetime_is_numeric=True)"
   ]
  },
  {
   "cell_type": "code",
   "execution_count": 10,
   "id": "8e2f90b3",
   "metadata": {},
   "outputs": [],
   "source": [
    "horas_dt = i94['date_time'].dt.hour"
   ]
  },
  {
   "cell_type": "markdown",
   "id": "78c4bb9f",
   "metadata": {},
   "source": [
    "Vamos a aislar los datos de las horas nocturnas y las diurnas:"
   ]
  },
  {
   "cell_type": "code",
   "execution_count": 11,
   "id": "c3984fb5",
   "metadata": {},
   "outputs": [],
   "source": [
    "import datetime as dt"
   ]
  },
  {
   "cell_type": "code",
   "execution_count": 12,
   "id": "b4166d4c",
   "metadata": {},
   "outputs": [],
   "source": [
    "diurnas = i94[(i94['date_time'].dt.hour >= 7) & (i94['date_time'].dt.hour <= 18)]"
   ]
  },
  {
   "cell_type": "code",
   "execution_count": 13,
   "id": "4f12a0fa",
   "metadata": {},
   "outputs": [
    {
     "data": {
      "text/plain": [
       "holiday  temp    rain_1h  snow_1h  clouds_all  weather_main  weather_description  date_time            traffic_volume\n",
       "None     295.77  0.0      0.0      75          Clouds        broken clouds        2017-06-30 12:00:00  5229              2\n",
       "         296.95  0.0      0.0      1           Thunderstorm  thunderstorm         2017-06-30 13:00:00  5263              2\n",
       "         289.06  0.0      0.0      90          Clouds        overcast clouds      2016-06-01 10:00:00  4831              2\n",
       "         292.84  0.0      0.0      1           Clear         sky is clear         2017-06-30 10:00:00  4638              2\n",
       "         267.89  0.0      0.0      90          Snow          light snow           2016-12-06 18:00:00  4520              2\n",
       "                                                                                                                        ..\n",
       "         275.29  0.0      0.0      90          Snow          snow                 2015-12-16 10:00:00  4593              1\n",
       "                                               Rain          moderate rain        2015-12-16 10:00:00  4593              1\n",
       "                                               Mist          mist                 2015-12-16 10:00:00  4593              1\n",
       "                                                                                  2013-01-12 10:00:00  3600              1\n",
       "         310.07  0.0      0.0      75          Clouds        broken clouds        2018-05-28 16:00:00  3810              1\n",
       "Length: 23867, dtype: int64"
      ]
     },
     "execution_count": 13,
     "metadata": {},
     "output_type": "execute_result"
    }
   ],
   "source": [
    "diurnas.value_counts()"
   ]
  },
  {
   "cell_type": "code",
   "execution_count": 14,
   "id": "ca208670",
   "metadata": {},
   "outputs": [],
   "source": [
    "nocturnas = i94[(i94['date_time'].dt.hour >= 8) & (i94['date_time'].dt.hour >= 19)]"
   ]
  },
  {
   "cell_type": "code",
   "execution_count": 15,
   "id": "f0e58ead",
   "metadata": {},
   "outputs": [
    {
     "data": {
      "text/html": [
       "<div>\n",
       "<style scoped>\n",
       "    .dataframe tbody tr th:only-of-type {\n",
       "        vertical-align: middle;\n",
       "    }\n",
       "\n",
       "    .dataframe tbody tr th {\n",
       "        vertical-align: top;\n",
       "    }\n",
       "\n",
       "    .dataframe thead th {\n",
       "        text-align: right;\n",
       "    }\n",
       "</style>\n",
       "<table border=\"1\" class=\"dataframe\">\n",
       "  <thead>\n",
       "    <tr style=\"text-align: right;\">\n",
       "      <th></th>\n",
       "      <th>holiday</th>\n",
       "      <th>temp</th>\n",
       "      <th>rain_1h</th>\n",
       "      <th>snow_1h</th>\n",
       "      <th>clouds_all</th>\n",
       "      <th>weather_main</th>\n",
       "      <th>weather_description</th>\n",
       "      <th>date_time</th>\n",
       "      <th>traffic_volume</th>\n",
       "    </tr>\n",
       "  </thead>\n",
       "  <tbody>\n",
       "    <tr>\n",
       "      <th>0</th>\n",
       "      <td>None</td>\n",
       "      <td>288.28</td>\n",
       "      <td>0.0</td>\n",
       "      <td>0.0</td>\n",
       "      <td>40</td>\n",
       "      <td>Clouds</td>\n",
       "      <td>scattered clouds</td>\n",
       "      <td>2012-10-02 09:00:00</td>\n",
       "      <td>5545</td>\n",
       "    </tr>\n",
       "    <tr>\n",
       "      <th>1</th>\n",
       "      <td>None</td>\n",
       "      <td>289.36</td>\n",
       "      <td>0.0</td>\n",
       "      <td>0.0</td>\n",
       "      <td>75</td>\n",
       "      <td>Clouds</td>\n",
       "      <td>broken clouds</td>\n",
       "      <td>2012-10-02 10:00:00</td>\n",
       "      <td>4516</td>\n",
       "    </tr>\n",
       "    <tr>\n",
       "      <th>2</th>\n",
       "      <td>None</td>\n",
       "      <td>289.58</td>\n",
       "      <td>0.0</td>\n",
       "      <td>0.0</td>\n",
       "      <td>90</td>\n",
       "      <td>Clouds</td>\n",
       "      <td>overcast clouds</td>\n",
       "      <td>2012-10-02 11:00:00</td>\n",
       "      <td>4767</td>\n",
       "    </tr>\n",
       "    <tr>\n",
       "      <th>3</th>\n",
       "      <td>None</td>\n",
       "      <td>290.13</td>\n",
       "      <td>0.0</td>\n",
       "      <td>0.0</td>\n",
       "      <td>90</td>\n",
       "      <td>Clouds</td>\n",
       "      <td>overcast clouds</td>\n",
       "      <td>2012-10-02 12:00:00</td>\n",
       "      <td>5026</td>\n",
       "    </tr>\n",
       "    <tr>\n",
       "      <th>4</th>\n",
       "      <td>None</td>\n",
       "      <td>291.14</td>\n",
       "      <td>0.0</td>\n",
       "      <td>0.0</td>\n",
       "      <td>75</td>\n",
       "      <td>Clouds</td>\n",
       "      <td>broken clouds</td>\n",
       "      <td>2012-10-02 13:00:00</td>\n",
       "      <td>4918</td>\n",
       "    </tr>\n",
       "  </tbody>\n",
       "</table>\n",
       "</div>"
      ],
      "text/plain": [
       "  holiday    temp  rain_1h  snow_1h  clouds_all weather_main  \\\n",
       "0    None  288.28      0.0      0.0          40       Clouds   \n",
       "1    None  289.36      0.0      0.0          75       Clouds   \n",
       "2    None  289.58      0.0      0.0          90       Clouds   \n",
       "3    None  290.13      0.0      0.0          90       Clouds   \n",
       "4    None  291.14      0.0      0.0          75       Clouds   \n",
       "\n",
       "  weather_description           date_time  traffic_volume  \n",
       "0    scattered clouds 2012-10-02 09:00:00            5545  \n",
       "1       broken clouds 2012-10-02 10:00:00            4516  \n",
       "2     overcast clouds 2012-10-02 11:00:00            4767  \n",
       "3     overcast clouds 2012-10-02 12:00:00            5026  \n",
       "4       broken clouds 2012-10-02 13:00:00            4918  "
      ]
     },
     "execution_count": 15,
     "metadata": {},
     "output_type": "execute_result"
    }
   ],
   "source": [
    "# Mostramos la cabecera de las horas diurnas\n",
    "diurnas.head()"
   ]
  },
  {
   "cell_type": "code",
   "execution_count": 16,
   "id": "ae72f0a4",
   "metadata": {},
   "outputs": [
    {
     "data": {
      "text/html": [
       "<div>\n",
       "<style scoped>\n",
       "    .dataframe tbody tr th:only-of-type {\n",
       "        vertical-align: middle;\n",
       "    }\n",
       "\n",
       "    .dataframe tbody tr th {\n",
       "        vertical-align: top;\n",
       "    }\n",
       "\n",
       "    .dataframe thead th {\n",
       "        text-align: right;\n",
       "    }\n",
       "</style>\n",
       "<table border=\"1\" class=\"dataframe\">\n",
       "  <thead>\n",
       "    <tr style=\"text-align: right;\">\n",
       "      <th></th>\n",
       "      <th>holiday</th>\n",
       "      <th>temp</th>\n",
       "      <th>rain_1h</th>\n",
       "      <th>snow_1h</th>\n",
       "      <th>clouds_all</th>\n",
       "      <th>weather_main</th>\n",
       "      <th>weather_description</th>\n",
       "      <th>date_time</th>\n",
       "      <th>traffic_volume</th>\n",
       "    </tr>\n",
       "  </thead>\n",
       "  <tbody>\n",
       "    <tr>\n",
       "      <th>10</th>\n",
       "      <td>None</td>\n",
       "      <td>290.97</td>\n",
       "      <td>0.0</td>\n",
       "      <td>0.0</td>\n",
       "      <td>20</td>\n",
       "      <td>Clouds</td>\n",
       "      <td>few clouds</td>\n",
       "      <td>2012-10-02 19:00:00</td>\n",
       "      <td>3539</td>\n",
       "    </tr>\n",
       "    <tr>\n",
       "      <th>11</th>\n",
       "      <td>None</td>\n",
       "      <td>289.38</td>\n",
       "      <td>0.0</td>\n",
       "      <td>0.0</td>\n",
       "      <td>1</td>\n",
       "      <td>Clear</td>\n",
       "      <td>sky is clear</td>\n",
       "      <td>2012-10-02 20:00:00</td>\n",
       "      <td>2784</td>\n",
       "    </tr>\n",
       "    <tr>\n",
       "      <th>12</th>\n",
       "      <td>None</td>\n",
       "      <td>288.61</td>\n",
       "      <td>0.0</td>\n",
       "      <td>0.0</td>\n",
       "      <td>1</td>\n",
       "      <td>Clear</td>\n",
       "      <td>sky is clear</td>\n",
       "      <td>2012-10-02 21:00:00</td>\n",
       "      <td>2361</td>\n",
       "    </tr>\n",
       "    <tr>\n",
       "      <th>13</th>\n",
       "      <td>None</td>\n",
       "      <td>287.16</td>\n",
       "      <td>0.0</td>\n",
       "      <td>0.0</td>\n",
       "      <td>1</td>\n",
       "      <td>Clear</td>\n",
       "      <td>sky is clear</td>\n",
       "      <td>2012-10-02 22:00:00</td>\n",
       "      <td>1529</td>\n",
       "    </tr>\n",
       "    <tr>\n",
       "      <th>14</th>\n",
       "      <td>None</td>\n",
       "      <td>285.45</td>\n",
       "      <td>0.0</td>\n",
       "      <td>0.0</td>\n",
       "      <td>1</td>\n",
       "      <td>Clear</td>\n",
       "      <td>sky is clear</td>\n",
       "      <td>2012-10-02 23:00:00</td>\n",
       "      <td>963</td>\n",
       "    </tr>\n",
       "  </tbody>\n",
       "</table>\n",
       "</div>"
      ],
      "text/plain": [
       "   holiday    temp  rain_1h  snow_1h  clouds_all weather_main  \\\n",
       "10    None  290.97      0.0      0.0          20       Clouds   \n",
       "11    None  289.38      0.0      0.0           1        Clear   \n",
       "12    None  288.61      0.0      0.0           1        Clear   \n",
       "13    None  287.16      0.0      0.0           1        Clear   \n",
       "14    None  285.45      0.0      0.0           1        Clear   \n",
       "\n",
       "   weather_description           date_time  traffic_volume  \n",
       "10          few clouds 2012-10-02 19:00:00            3539  \n",
       "11        sky is clear 2012-10-02 20:00:00            2784  \n",
       "12        sky is clear 2012-10-02 21:00:00            2361  \n",
       "13        sky is clear 2012-10-02 22:00:00            1529  \n",
       "14        sky is clear 2012-10-02 23:00:00             963  "
      ]
     },
     "execution_count": 16,
     "metadata": {},
     "output_type": "execute_result"
    }
   ],
   "source": [
    "# Mostramos la cabecera de las horas nocturnas\n",
    "nocturnas.head()"
   ]
  },
  {
   "cell_type": "markdown",
   "id": "89166e8d",
   "metadata": {},
   "source": [
    "Ahora tenemos dos DataFrames, uno con las horas diurnas y otro con las horas nocturnas. Vamos a comparar el volumen del tráfico en cada uno de los casos:"
   ]
  },
  {
   "cell_type": "code",
   "execution_count": 17,
   "id": "c96aac8f",
   "metadata": {},
   "outputs": [
    {
     "data": {
      "image/png": "[encoded data removed]",
      "text/plain": [
       "<Figure size 1080x288 with 2 Axes>"
      ]
     },
     "metadata": {
      "needs_background": "light"
     },
     "output_type": "display_data"
    }
   ],
   "source": [
    "plt.figure(figsize=(15,4))\n",
    "# Histograma tráfico diurno\n",
    "plt.subplot(1,2,1)\n",
    "plt.hist(diurnas['traffic_volume'])\n",
    "plt.title('Tráfico diurno - Intervalos')\n",
    "plt.ylim([0,8000])\n",
    "plt.xlabel('Número de vehículos')\n",
    "plt.ylabel('Frecuencia')\n",
    "\n",
    "# Histograma tráfico nocturno\n",
    "plt.subplot(1,2,2)\n",
    "plt.hist(nocturnas['traffic_volume'])\n",
    "plt.title('Tráfico nocturno - Intervalos')\n",
    "plt.ylim([0,8000])\n",
    "plt.xlabel('Número de vehículos')\n",
    "plt.ylabel('Frecuencia')\n",
    "\n",
    "# Mostramos los histogramas\n",
    "plt.show()"
   ]
  },
  {
   "cell_type": "markdown",
   "id": "e17bc25c",
   "metadata": {},
   "source": [
    "Se puede distinguir claramente que por el día el tráfico es más intenso. Un día típico, circulan entre 4.000 y 7.000 vehículos por hora, mientras que por la noche la distribución es mucho más uniforme, entre 1.000 y 3.500 vehículos.\n",
    "\n",
    "Vamos a ver esto en profundidad:"
   ]
  },
  {
   "cell_type": "code",
   "execution_count": 18,
   "id": "9d05b717",
   "metadata": {
    "scrolled": true
   },
   "outputs": [
    {
     "data": {
      "text/plain": [
       "count    23877.000000\n",
       "mean      4762.047452\n",
       "std       1174.546482\n",
       "min          0.000000\n",
       "25%       4252.000000\n",
       "50%       4820.000000\n",
       "75%       5559.000000\n",
       "max       7280.000000\n",
       "Name: traffic_volume, dtype: float64"
      ]
     },
     "execution_count": 18,
     "metadata": {},
     "output_type": "execute_result"
    }
   ],
   "source": [
    "diurnas['traffic_volume'].describe()"
   ]
  },
  {
   "cell_type": "markdown",
   "id": "4a253b41",
   "metadata": {},
   "source": [
    "El tráfico diurno nos ofrece los siguientes datos:\n",
    "\n",
    "- La media de vehículos por hora fue de 4.762\n",
    "- La cantidad de vehículos por hora se mantiene muy consistente entre 4.252 y 7.280"
   ]
  },
  {
   "cell_type": "code",
   "execution_count": 19,
   "id": "705a6d3c",
   "metadata": {},
   "outputs": [
    {
     "data": {
      "text/plain": [
       "count    9956.000000\n",
       "mean     2481.649960\n",
       "std       823.594024\n",
       "min         0.000000\n",
       "25%      1870.000000\n",
       "50%      2617.000000\n",
       "75%      3112.000000\n",
       "max      4939.000000\n",
       "Name: traffic_volume, dtype: float64"
      ]
     },
     "execution_count": 19,
     "metadata": {},
     "output_type": "execute_result"
    }
   ],
   "source": [
    "nocturnas['traffic_volume'].describe()"
   ]
  },
  {
   "cell_type": "markdown",
   "id": "22e7d011",
   "metadata": {},
   "source": [
    "Tráfico nocturno:\n",
    "\n",
    "- La media de vehículos por hora fue de 2.481, prácticamente la mitad que los vehículos en el periodo diurno\n",
    "- El flujo de vehículos es dispar, entre 1.870 y 3.112"
   ]
  },
  {
   "cell_type": "markdown",
   "id": "f4ec8e8c",
   "metadata": {},
   "source": [
    "Si agregásemos las 19.00h al tramo diurno, las diferencias en cuanto a volumen de tráfico serían incluso más abultadas, pero con lo que tenemos, es suficiente para comprobar que el tráfico diurno es mucho más intenso que por la noche.\n",
    "\n",
    "Como el tráfico es más intenso de día, y lo que buscamos son indicadores de aumento del volumen de tráfico, trabajaremos con el dataset de horas diurnas al tener mucho más volumen de tráfico."
   ]
  },
  {
   "cell_type": "markdown",
   "id": "c7a856eb",
   "metadata": {},
   "source": [
    "## VOLUMEN DE TRÁFICO POR MESES "
   ]
  },
  {
   "cell_type": "markdown",
   "id": "02ac293c",
   "metadata": {},
   "source": [
    "Vamos a seguir explorando el volumen del tráfico, esta vez mensualmente. Queremos comprobar si hay meses en los que el tráfico sea especialmente intenso, o especialmente ligero. Como hemos comentado, utilizaremos los datos de las horas diurnas:"
   ]
  },
  {
   "cell_type": "code",
   "execution_count": 20,
   "id": "4e680077",
   "metadata": {},
   "outputs": [
    {
     "data": {
      "text/plain": [
       "month\n",
       "1     4495.613727\n",
       "2     4711.198394\n",
       "3     4889.409560\n",
       "4     4906.894305\n",
       "5     4911.121609\n",
       "6     4898.019566\n",
       "7     4595.035744\n",
       "8     4928.302035\n",
       "9     4870.783145\n",
       "10    4921.234922\n",
       "11    4704.094319\n",
       "12    4374.834566\n",
       "Name: traffic_volume, dtype: float64"
      ]
     },
     "execution_count": 20,
     "metadata": {},
     "output_type": "execute_result"
    }
   ],
   "source": [
    "# Esta línea de código evita un copyWarning de pandas\n",
    "pd.options.mode.chained_assignment = None\n",
    "\n",
    "# Agrupamos por la media mensual de vehículos\n",
    "diurnas['month'] = diurnas['date_time'].dt.month\n",
    "por_mes = diurnas.groupby('month').mean()\n",
    "por_mes['traffic_volume']"
   ]
  },
  {
   "cell_type": "markdown",
   "id": "e5f46d33",
   "metadata": {},
   "source": [
    "La media de vehículos al mes se mantiene por encima de los 4.000 vehículos/hora. Vamos a verlo gráficamente:"
   ]
  },
  {
   "cell_type": "code",
   "execution_count": 21,
   "id": "477635f1",
   "metadata": {},
   "outputs": [
    {
     "data": {
      "image/png": "[encoded data removed]",
      "text/plain": [
       "<Figure size 432x288 with 1 Axes>"
      ]
     },
     "metadata": {
      "needs_background": "light"
     },
     "output_type": "display_data"
    }
   ],
   "source": [
    "plt.plot(por_mes['traffic_volume'])\n",
    "plt.title('Media de Vehículos al mes')\n",
    "plt.xlabel('Mes')\n",
    "plt.xticks(ticks=[1,2,3,4,5,6,7,8,9,10,11,12],\n",
    "           labels=[1,2,3,4,5,6,7,8,9,10,11,12])\n",
    "plt.ylabel('Número de vehículos')\n",
    "plt.ylim([4000,5500])\n",
    "plt.show()"
   ]
  },
  {
   "cell_type": "markdown",
   "id": "cb6cbe28",
   "metadata": {},
   "source": [
    "Vemos que hay una reducción significativa del tráfico en los meses de invierno (de octubre a marzo); en julio también cae el volumen (aunque no de manera tan pronunciada).\n",
    "\n",
    "**La media de vehículos en los meses de invierno es:**"
   ]
  },
  {
   "cell_type": "code",
   "execution_count": 22,
   "id": "54a187d6",
   "metadata": {
    "scrolled": true
   },
   "outputs": [
    {
     "data": {
      "text/plain": [
       "4571"
      ]
     },
     "execution_count": 22,
     "metadata": {},
     "output_type": "execute_result"
    }
   ],
   "source": [
    "round(por_mes['traffic_volume'].loc[[1,2,11,12]].mean())"
   ]
  },
  {
   "cell_type": "markdown",
   "id": "e2e8a675",
   "metadata": {},
   "source": [
    "**La media de vehículos en los meses restantes es:**"
   ]
  },
  {
   "cell_type": "code",
   "execution_count": 23,
   "id": "d974a70b",
   "metadata": {},
   "outputs": [
    {
     "data": {
      "text/plain": [
       "4904"
      ]
     },
     "execution_count": 23,
     "metadata": {},
     "output_type": "execute_result"
    }
   ],
   "source": [
    "round(por_mes['traffic_volume'].loc[[3,4,5,6,8,9,10]].mean())"
   ]
  },
  {
   "cell_type": "markdown",
   "id": "f8e25c1f",
   "metadata": {},
   "source": [
    "**El volumen del tráfico de los meses de invierno respecto a lo meses de verano es:**"
   ]
  },
  {
   "cell_type": "code",
   "execution_count": 24,
   "id": "dc93f76e",
   "metadata": {
    "scrolled": true
   },
   "outputs": [
    {
     "name": "stdout",
     "output_type": "stream",
     "text": [
      "93.0 %\n"
     ]
    }
   ],
   "source": [
    "print(f\"{100*round(4571/4904,2)} %\")"
   ]
  },
  {
   "cell_type": "markdown",
   "id": "387157d6",
   "metadata": {},
   "source": [
    "**El volumen del tráfico en julio respecto a los demás meses (excluyendo los meses invernales) es:**"
   ]
  },
  {
   "cell_type": "code",
   "execution_count": 25,
   "id": "910a6831",
   "metadata": {},
   "outputs": [
    {
     "name": "stdout",
     "output_type": "stream",
     "text": [
      "94.0 %\n"
     ]
    }
   ],
   "source": [
    "print(f\"{100*round(4595/4904,2)} %\")"
   ]
  },
  {
   "cell_type": "markdown",
   "id": "785d90dd",
   "metadata": {},
   "source": [
    "## VOLUMEN DE TRÁFICO POR DÍAS DE LA SEMANA"
   ]
  },
  {
   "cell_type": "markdown",
   "id": "76c65138",
   "metadata": {},
   "source": [
    "Vamos a hacer la misma operación que acabamos de realizar con los meses, pero esta vez con los días de la semana.\n",
    "\n",
    "Agrupamos el volumen del tráfico por días de la semana, para ver la media de vehículos que circulan cada día:"
   ]
  },
  {
   "cell_type": "code",
   "execution_count": 26,
   "id": "e2a681b8",
   "metadata": {},
   "outputs": [
    {
     "data": {
      "text/plain": [
       "dayofweek\n",
       "0    4893.551286\n",
       "1    5189.004782\n",
       "2    5284.454282\n",
       "3    5311.303730\n",
       "4    5291.600829\n",
       "5    3927.249558\n",
       "6    3436.541789\n",
       "Name: traffic_volume, dtype: float64"
      ]
     },
     "execution_count": 26,
     "metadata": {},
     "output_type": "execute_result"
    }
   ],
   "source": [
    "diurnas['dayofweek'] = diurnas['date_time'].dt.dayofweek\n",
    "por_dayofweek = diurnas.groupby('dayofweek').mean()\n",
    "por_dayofweek['traffic_volume']"
   ]
  },
  {
   "cell_type": "markdown",
   "id": "aa8f8947",
   "metadata": {},
   "source": [
    "Los días de la semana vienen dados como un número del 0 al 6, donde 0 es lunes y 6 es domingo.\n",
    "\n",
    "Hay una evidente reducción de volumen del tráfico los sábados y domingos. \n",
    "\n",
    "El día laborable con menos tráfico es el lunes, y los demás días tienen un tráfico muy consistente y similar."
   ]
  },
  {
   "cell_type": "code",
   "execution_count": 27,
   "id": "f692e41b",
   "metadata": {},
   "outputs": [
    {
     "data": {
      "image/png": "[encoded data removed]",
      "text/plain": [
       "<Figure size 432x288 with 1 Axes>"
      ]
     },
     "metadata": {
      "needs_background": "light"
     },
     "output_type": "display_data"
    }
   ],
   "source": [
    "# Creamos un gráfico para facilitar la visualización\n",
    "plt.plot(por_dayofweek['traffic_volume'])\n",
    "plt.title('Media de Vehículos por día')\n",
    "plt.xlabel('Día de la semana')\n",
    "plt.xticks(ticks=[0,1,2,3,4,5,6],\n",
    "           labels=['Lun','Mar','Mie','Jue','Vie','Sab','Dom'])\n",
    "plt.ylabel('Número de vehículos')\n",
    "plt.ylim([2000,7000])\n",
    "plt.show()"
   ]
  },
  {
   "cell_type": "markdown",
   "id": "14fee246",
   "metadata": {},
   "source": [
    "La reducción del volumen del tráfico los días no laborables se ve de manera muy evidente en el gráfico que acabamos de mostrar. "
   ]
  },
  {
   "cell_type": "markdown",
   "id": "4e34eac0",
   "metadata": {},
   "source": [
    "Media del volumen de tráfico los días laborables:"
   ]
  },
  {
   "cell_type": "code",
   "execution_count": 28,
   "id": "c890bade",
   "metadata": {
    "scrolled": true
   },
   "outputs": [
    {
     "name": "stdout",
     "output_type": "stream",
     "text": [
      "5194\n"
     ]
    }
   ],
   "source": [
    "print(round(por_dayofweek['traffic_volume'].loc[[0,1,2,3,4]].mean()))"
   ]
  },
  {
   "cell_type": "markdown",
   "id": "27968ffa",
   "metadata": {},
   "source": [
    "**El volumen del tráfico los días no-laborables respecto a los días laborables es:**"
   ]
  },
  {
   "cell_type": "code",
   "execution_count": 29,
   "id": "b9b34939",
   "metadata": {},
   "outputs": [
    {
     "name": "stdout",
     "output_type": "stream",
     "text": [
      "71 %\n"
     ]
    }
   ],
   "source": [
    "print(f\"{round(100*((3927+3436)/2)/5194)} %\")"
   ]
  },
  {
   "cell_type": "markdown",
   "id": "9b84e27a",
   "metadata": {},
   "source": [
    "## VOLUMEN DEL TRÁFICO POR HORAS DEL DÍA"
   ]
  },
  {
   "cell_type": "markdown",
   "id": "4a06221d",
   "metadata": {},
   "source": [
    "Vamos a dividir el dataset de horas diurnas en dos partes: \n",
    "\n",
    "- Una parte serán los días laborables\n",
    "- La otra los no laborables\n",
    "\n",
    "Lo hacemos de esta manera ya que hay bastante diferencia en el volumen del tráfico entre las partes."
   ]
  },
  {
   "cell_type": "code",
   "execution_count": 30,
   "id": "64a59415",
   "metadata": {},
   "outputs": [
    {
     "name": "stdout",
     "output_type": "stream",
     "text": [
      "hour\n",
      "7     6030.413559\n",
      "8     5503.497970\n",
      "9     4895.269257\n",
      "10    4378.419118\n",
      "11    4633.419470\n",
      "12    4855.382143\n",
      "13    4859.180473\n",
      "14    5152.995778\n",
      "15    5592.897768\n",
      "16    6189.473647\n",
      "17    5784.827133\n",
      "18    4434.209431\n",
      "Name: traffic_volume, dtype: float64\n",
      "hour\n",
      "7     1589.365894\n",
      "8     2338.578073\n",
      "9     3111.623917\n",
      "10    3686.632302\n",
      "11    4044.154955\n",
      "12    4372.482883\n",
      "13    4362.296564\n",
      "14    4358.543796\n",
      "15    4342.456881\n",
      "16    4339.693805\n",
      "17    4151.919929\n",
      "18    3811.792279\n",
      "Name: traffic_volume, dtype: float64\n"
     ]
    }
   ],
   "source": [
    "diurnas['hour'] = diurnas['date_time'].dt.hour\n",
    "# Creamos las dos partes \n",
    "laborables = diurnas.copy()[diurnas['dayofweek'] <= 4] # 4 es viernes\n",
    "no_laborables = diurnas.copy()[diurnas['dayofweek'] >= 5] # 5 es sábado\n",
    "# Agrupamos por horas\n",
    "horas_laborables = laborables.groupby('hour').mean()\n",
    "horas_no_laborables = no_laborables.groupby('hour').mean()\n",
    "# Imprimimos los resultados\n",
    "print(horas_laborables['traffic_volume'])\n",
    "print(horas_no_laborables['traffic_volume'])"
   ]
  },
  {
   "cell_type": "markdown",
   "id": "9e2cebef",
   "metadata": {},
   "source": [
    "Se puede ver que el tráfico es más intenso los días laborables, sobre todo por las mañanas. Vamos a verlo de forma gráfica para visualizarlo mejor:"
   ]
  },
  {
   "cell_type": "code",
   "execution_count": 31,
   "id": "11e507e4",
   "metadata": {},
   "outputs": [
    {
     "data": {
      "image/png": "[encoded data removed]",
      "text/plain": [
       "<Figure size 1080x288 with 2 Axes>"
      ]
     },
     "metadata": {
      "needs_background": "light"
     },
     "output_type": "display_data"
    }
   ],
   "source": [
    "# Creamos un gráfico de cuadrículas; hay que cambiar el tamaño por defecto para una correcta visualización\n",
    "plt.figure(figsize=(15,4))\n",
    "\n",
    "# Volumen por horas: días laborables. Primer subplot\n",
    "plt.subplot(1,2,1)\n",
    "plt.plot(horas_laborables['traffic_volume'])\n",
    "plt.title('Tráfico por horas: días laborables')\n",
    "plt.xlabel('Hora')\n",
    "plt.ylabel('Cantidad media de vehículos')\n",
    "plt.ylim([1000,7000])\n",
    "\n",
    "# Volumen por horas: fin de semana. Segundo subplot\n",
    "plt.subplot(1,2,2)\n",
    "plt.plot(horas_no_laborables['traffic_volume'])\n",
    "plt.title('Tráfico por horas: no laborables')\n",
    "plt.xlabel('Hora')\n",
    "plt.ylabel('Cantidad media de vehículos')\n",
    "plt.ylim([1000,7000])\n",
    "\n",
    "plt.show()"
   ]
  },
  {
   "cell_type": "markdown",
   "id": "34f364e2",
   "metadata": {},
   "source": [
    "### Horas punta: días laborables:\n",
    "\n",
    "- Los días laborables, la mayor cantidad de tráfico se concentra a las 7:00h y a las 16:00h, aproximadamente.\n",
    "\n",
    "- Las horas valle abarcan desde las 9:00h hasta las 14:00h, aproximadamente."
   ]
  },
  {
   "cell_type": "markdown",
   "id": "de182007",
   "metadata": {},
   "source": [
    "### Horas punta: días no-laborables:\n",
    "\n",
    "- Los días no-laborables, el volumen del tráfico es bastante constante entre las 12:00h y las 17:00h. \n",
    "\n",
    "- A primera hora de la mañana, el volumen del tráfico es muy poco intenso."
   ]
  },
  {
   "cell_type": "markdown",
   "id": "9e1b8e0a",
   "metadata": {},
   "source": [
    "## VOLUMEN DEL TRÁFICO SEGÚN EL CLIMA"
   ]
  },
  {
   "cell_type": "markdown",
   "id": "7f38259a",
   "metadata": {},
   "source": [
    "La estación de la I-94 donde se recopilaron los datos que estamos analizando, está en un punto entre las ciudades de St.Paul y Minneapolis, en el estado de Minnesota. St.Paul forma parte del Área Metropolitana de Minneápolis.\n",
    "\n",
    "Las temperaturas medias de Minneápolis oscilan entre los -10ºC en invierno, y los 20ºC en verano. Los meses más lluviosos comprenden el periodo de Abril a Octubre; en este periodo, los mm de lluvias son más del doble que en Londres (UK), siendo Minneápolis una ciudad donde la lluvia es algo bastante frecuente.\n",
    "\n",
    "Entre diciembre y marzo (meses de invierno), la media de nieve oscila entre 50mm y 100mm.\n",
    "\n",
    "Minneápolis es la capital más fría de EEUU, teniendo la mayor cantidad de días anuales por debajo de 0ºC, y las temperaturas medias anuales más bajas.\n",
    "\n",
    "Por todo esto, el clima puede ser un factor determinante a la hora de medir el volumen del tráfico en Minneápolis."
   ]
  },
  {
   "cell_type": "markdown",
   "id": "84aca269",
   "metadata": {},
   "source": [
    "<img src=\"https://www.imago-images.com/bild/st/0067535330/w.jpg\">"
   ]
  },
  {
   "cell_type": "markdown",
   "id": "7a093d72",
   "metadata": {},
   "source": [
    "*Imagen del tramo que estamos analizando, cerca de Minnesotta, un viernes por la mañana*"
   ]
  },
  {
   "cell_type": "markdown",
   "id": "4cc0ab9c",
   "metadata": {},
   "source": [
    "### Correlación entre el clima y el volumen del tráfico"
   ]
  },
  {
   "cell_type": "markdown",
   "id": "d54a070e",
   "metadata": {},
   "source": [
    "Atendiendo a la descripción de las columnas del dataset, las que muestran datos numéricos sobre el clima son las siguientes:\n",
    "\n",
    "- **temp:** Temperatura media en kelvin (K)\n",
    "- **rain_1h:** Cantidad numérica en mm de lluvia acumulada en la última hora\n",
    "- **snow_1h:** Cantidad numérica en mm de nieve acumulada en la última hora"
   ]
  },
  {
   "cell_type": "markdown",
   "id": "233cd910",
   "metadata": {},
   "source": [
    "Como ahora estamos analizando las horas de mayor intensidad (periodo diurno de los días laborables), vamos a buscar si existe una fuerte correlación entre alguno de estos indicadores y el volumen del tráfico."
   ]
  },
  {
   "cell_type": "code",
   "execution_count": 32,
   "id": "aa556644",
   "metadata": {},
   "outputs": [],
   "source": [
    "clima_num = laborables[['temp','rain_1h','snow_1h','traffic_volume']]"
   ]
  },
  {
   "cell_type": "code",
   "execution_count": 33,
   "id": "92c6f69a",
   "metadata": {},
   "outputs": [
    {
     "data": {
      "text/plain": [
       "temp              0.139999\n",
       "rain_1h           0.002728\n",
       "snow_1h          -0.008016\n",
       "traffic_volume    1.000000\n",
       "Name: traffic_volume, dtype: float64"
      ]
     },
     "execution_count": 33,
     "metadata": {},
     "output_type": "execute_result"
    }
   ],
   "source": [
    "clima_num.corr()['traffic_volume']"
   ]
  },
  {
   "cell_type": "markdown",
   "id": "af6f5fcc",
   "metadata": {},
   "source": [
    "El único indicador que tiene algo de correlación con el volumen del tráfico es la temperatura (14%)."
   ]
  },
  {
   "cell_type": "code",
   "execution_count": 34,
   "id": "682e52ac",
   "metadata": {},
   "outputs": [
    {
     "data": {
      "image/png": "[encoded data removed]",
      "text/plain": [
       "<Figure size 432x288 with 1 Axes>"
      ]
     },
     "metadata": {
      "needs_background": "light"
     },
     "output_type": "display_data"
    }
   ],
   "source": [
    "# Creamos un gráfico de dispersión para verlo con más claridad\n",
    "plt.scatter(clima_num['temp'], clima_num['traffic_volume'])\n",
    "plt.title('Temperatura - Volumen del tráfico')\n",
    "plt.xlabel('Temperatura en K')\n",
    "plt.ylabel('Número de vehículos')\n",
    "plt.ylim([0,8000])\n",
    "plt.show()"
   ]
  },
  {
   "cell_type": "markdown",
   "id": "f41353c2",
   "metadata": {},
   "source": [
    "**No hay una relación clara entre la temperatura y el número de vehículos. La masa de tráfico se mantiene independiente de la temperatura.**"
   ]
  },
  {
   "cell_type": "markdown",
   "id": "24f8d0e3",
   "metadata": {},
   "source": [
    "## VOLUMEN  DEL TRÁFICO: CLIMA DE MANERA CATEGÓRICA"
   ]
  },
  {
   "cell_type": "markdown",
   "id": "3f7074a7",
   "metadata": {},
   "source": [
    "Las columnas 'weather_main' y 'weather_description' nos ofrecen una descripción categórica de la situación climática en el momento de las mediciones del volumen del tráfico.\n",
    "\n",
    "Vamos a calcular la media de vehículos asociada a cada valor único de las dos columnas."
   ]
  },
  {
   "cell_type": "code",
   "execution_count": 35,
   "id": "f3f140f1",
   "metadata": {},
   "outputs": [],
   "source": [
    "# Agrupamos por las medias del clima\n",
    "por_clima_main = diurnas.groupby('weather_main').mean()\n",
    "por_clima_desc = diurnas.groupby('weather_description').mean()"
   ]
  },
  {
   "cell_type": "markdown",
   "id": "1b38a98f",
   "metadata": {},
   "source": [
    "### Análisis por clima genérico"
   ]
  },
  {
   "cell_type": "code",
   "execution_count": 36,
   "id": "52378ed5",
   "metadata": {},
   "outputs": [
    {
     "data": {
      "text/html": [
       "<div>\n",
       "<style scoped>\n",
       "    .dataframe tbody tr th:only-of-type {\n",
       "        vertical-align: middle;\n",
       "    }\n",
       "\n",
       "    .dataframe tbody tr th {\n",
       "        vertical-align: top;\n",
       "    }\n",
       "\n",
       "    .dataframe thead th {\n",
       "        text-align: right;\n",
       "    }\n",
       "</style>\n",
       "<table border=\"1\" class=\"dataframe\">\n",
       "  <thead>\n",
       "    <tr style=\"text-align: right;\">\n",
       "      <th></th>\n",
       "      <th>temp</th>\n",
       "      <th>rain_1h</th>\n",
       "      <th>snow_1h</th>\n",
       "      <th>clouds_all</th>\n",
       "      <th>traffic_volume</th>\n",
       "      <th>month</th>\n",
       "      <th>dayofweek</th>\n",
       "      <th>hour</th>\n",
       "    </tr>\n",
       "    <tr>\n",
       "      <th>weather_main</th>\n",
       "      <th></th>\n",
       "      <th></th>\n",
       "      <th></th>\n",
       "      <th></th>\n",
       "      <th></th>\n",
       "      <th></th>\n",
       "      <th></th>\n",
       "      <th></th>\n",
       "    </tr>\n",
       "  </thead>\n",
       "  <tbody>\n",
       "    <tr>\n",
       "      <th>Clear</th>\n",
       "      <td>283.812078</td>\n",
       "      <td>0.000000</td>\n",
       "      <td>0.000000</td>\n",
       "      <td>1.670265</td>\n",
       "      <td>4778.416260</td>\n",
       "      <td>6.490599</td>\n",
       "      <td>3.138928</td>\n",
       "      <td>12.404248</td>\n",
       "    </tr>\n",
       "    <tr>\n",
       "      <th>Clouds</th>\n",
       "      <td>282.929274</td>\n",
       "      <td>0.000000</td>\n",
       "      <td>0.000000</td>\n",
       "      <td>62.667548</td>\n",
       "      <td>4865.415996</td>\n",
       "      <td>6.393243</td>\n",
       "      <td>3.005631</td>\n",
       "      <td>12.911974</td>\n",
       "    </tr>\n",
       "    <tr>\n",
       "      <th>Drizzle</th>\n",
       "      <td>284.456433</td>\n",
       "      <td>0.170804</td>\n",
       "      <td>0.000000</td>\n",
       "      <td>84.704417</td>\n",
       "      <td>4837.212911</td>\n",
       "      <td>7.105323</td>\n",
       "      <td>2.934315</td>\n",
       "      <td>12.308041</td>\n",
       "    </tr>\n",
       "    <tr>\n",
       "      <th>Fog</th>\n",
       "      <td>277.579641</td>\n",
       "      <td>0.163840</td>\n",
       "      <td>0.001409</td>\n",
       "      <td>65.477901</td>\n",
       "      <td>4372.491713</td>\n",
       "      <td>6.646409</td>\n",
       "      <td>2.798343</td>\n",
       "      <td>10.325967</td>\n",
       "    </tr>\n",
       "    <tr>\n",
       "      <th>Haze</th>\n",
       "      <td>275.319353</td>\n",
       "      <td>0.040036</td>\n",
       "      <td>0.000000</td>\n",
       "      <td>64.000000</td>\n",
       "      <td>4609.893285</td>\n",
       "      <td>5.832134</td>\n",
       "      <td>2.754197</td>\n",
       "      <td>12.467626</td>\n",
       "    </tr>\n",
       "    <tr>\n",
       "      <th>Mist</th>\n",
       "      <td>279.420825</td>\n",
       "      <td>0.249992</td>\n",
       "      <td>0.000825</td>\n",
       "      <td>74.961435</td>\n",
       "      <td>4623.976475</td>\n",
       "      <td>6.734285</td>\n",
       "      <td>2.895102</td>\n",
       "      <td>11.078288</td>\n",
       "    </tr>\n",
       "    <tr>\n",
       "      <th>Rain</th>\n",
       "      <td>287.089601</td>\n",
       "      <td>3.972943</td>\n",
       "      <td>0.000292</td>\n",
       "      <td>75.870116</td>\n",
       "      <td>4815.568462</td>\n",
       "      <td>6.774023</td>\n",
       "      <td>2.914467</td>\n",
       "      <td>12.642379</td>\n",
       "    </tr>\n",
       "    <tr>\n",
       "      <th>Smoke</th>\n",
       "      <td>292.405833</td>\n",
       "      <td>0.878333</td>\n",
       "      <td>0.000000</td>\n",
       "      <td>53.333333</td>\n",
       "      <td>4564.583333</td>\n",
       "      <td>6.833333</td>\n",
       "      <td>2.416667</td>\n",
       "      <td>13.166667</td>\n",
       "    </tr>\n",
       "    <tr>\n",
       "      <th>Snow</th>\n",
       "      <td>267.984505</td>\n",
       "      <td>0.014017</td>\n",
       "      <td>0.001768</td>\n",
       "      <td>80.501376</td>\n",
       "      <td>4396.321183</td>\n",
       "      <td>6.374828</td>\n",
       "      <td>2.750344</td>\n",
       "      <td>12.153370</td>\n",
       "    </tr>\n",
       "    <tr>\n",
       "      <th>Squall</th>\n",
       "      <td>296.730000</td>\n",
       "      <td>1.020000</td>\n",
       "      <td>0.000000</td>\n",
       "      <td>75.000000</td>\n",
       "      <td>4211.000000</td>\n",
       "      <td>7.000000</td>\n",
       "      <td>2.000000</td>\n",
       "      <td>14.000000</td>\n",
       "    </tr>\n",
       "    <tr>\n",
       "      <th>Thunderstorm</th>\n",
       "      <td>293.364678</td>\n",
       "      <td>1.146475</td>\n",
       "      <td>0.000000</td>\n",
       "      <td>75.184035</td>\n",
       "      <td>4648.212860</td>\n",
       "      <td>7.108647</td>\n",
       "      <td>2.955654</td>\n",
       "      <td>12.694013</td>\n",
       "    </tr>\n",
       "  </tbody>\n",
       "</table>\n",
       "</div>"
      ],
      "text/plain": [
       "                    temp   rain_1h   snow_1h  clouds_all  traffic_volume  \\\n",
       "weather_main                                                               \n",
       "Clear         283.812078  0.000000  0.000000    1.670265     4778.416260   \n",
       "Clouds        282.929274  0.000000  0.000000   62.667548     4865.415996   \n",
       "Drizzle       284.456433  0.170804  0.000000   84.704417     4837.212911   \n",
       "Fog           277.579641  0.163840  0.001409   65.477901     4372.491713   \n",
       "Haze          275.319353  0.040036  0.000000   64.000000     4609.893285   \n",
       "Mist          279.420825  0.249992  0.000825   74.961435     4623.976475   \n",
       "Rain          287.089601  3.972943  0.000292   75.870116     4815.568462   \n",
       "Smoke         292.405833  0.878333  0.000000   53.333333     4564.583333   \n",
       "Snow          267.984505  0.014017  0.001768   80.501376     4396.321183   \n",
       "Squall        296.730000  1.020000  0.000000   75.000000     4211.000000   \n",
       "Thunderstorm  293.364678  1.146475  0.000000   75.184035     4648.212860   \n",
       "\n",
       "                 month  dayofweek       hour  \n",
       "weather_main                                  \n",
       "Clear         6.490599   3.138928  12.404248  \n",
       "Clouds        6.393243   3.005631  12.911974  \n",
       "Drizzle       7.105323   2.934315  12.308041  \n",
       "Fog           6.646409   2.798343  10.325967  \n",
       "Haze          5.832134   2.754197  12.467626  \n",
       "Mist          6.734285   2.895102  11.078288  \n",
       "Rain          6.774023   2.914467  12.642379  \n",
       "Smoke         6.833333   2.416667  13.166667  \n",
       "Snow          6.374828   2.750344  12.153370  \n",
       "Squall        7.000000   2.000000  14.000000  \n",
       "Thunderstorm  7.108647   2.955654  12.694013  "
      ]
     },
     "execution_count": 36,
     "metadata": {},
     "output_type": "execute_result"
    }
   ],
   "source": [
    "por_clima_main"
   ]
  },
  {
   "cell_type": "code",
   "execution_count": 37,
   "id": "fb175d84",
   "metadata": {},
   "outputs": [
    {
     "data": {
      "image/png": "[encoded data removed]",
      "text/plain": [
       "<Figure size 432x288 with 1 Axes>"
      ]
     },
     "metadata": {
      "needs_background": "light"
     },
     "output_type": "display_data"
    }
   ],
   "source": [
    "# Graficamos esto para visualizarlo mejor\n",
    "por_clima_main['traffic_volume'].plot.barh()\n",
    "plt.show()"
   ]
  },
  {
   "cell_type": "markdown",
   "id": "0ba9b28e",
   "metadata": {},
   "source": [
    "Parece ser que 'lluvia', 'llovizna' y 'nubes' causan más tráfico que los demás estados climáticos. Vamos a ver en detalle cada estado climático:"
   ]
  },
  {
   "cell_type": "markdown",
   "id": "a23b48e5",
   "metadata": {},
   "source": [
    "### Análisis por clima detallado"
   ]
  },
  {
   "cell_type": "code",
   "execution_count": 38,
   "id": "f2fe4169",
   "metadata": {
    "scrolled": false
   },
   "outputs": [
    {
     "data": {
      "text/html": [
       "<div>\n",
       "<style scoped>\n",
       "    .dataframe tbody tr th:only-of-type {\n",
       "        vertical-align: middle;\n",
       "    }\n",
       "\n",
       "    .dataframe tbody tr th {\n",
       "        vertical-align: top;\n",
       "    }\n",
       "\n",
       "    .dataframe thead th {\n",
       "        text-align: right;\n",
       "    }\n",
       "</style>\n",
       "<table border=\"1\" class=\"dataframe\">\n",
       "  <thead>\n",
       "    <tr style=\"text-align: right;\">\n",
       "      <th></th>\n",
       "      <th>temp</th>\n",
       "      <th>rain_1h</th>\n",
       "      <th>snow_1h</th>\n",
       "      <th>clouds_all</th>\n",
       "      <th>traffic_volume</th>\n",
       "      <th>month</th>\n",
       "      <th>dayofweek</th>\n",
       "      <th>hour</th>\n",
       "    </tr>\n",
       "    <tr>\n",
       "      <th>weather_description</th>\n",
       "      <th></th>\n",
       "      <th></th>\n",
       "      <th></th>\n",
       "      <th></th>\n",
       "      <th></th>\n",
       "      <th></th>\n",
       "      <th></th>\n",
       "      <th></th>\n",
       "    </tr>\n",
       "  </thead>\n",
       "  <tbody>\n",
       "    <tr>\n",
       "      <th>SQUALLS</th>\n",
       "      <td>296.730000</td>\n",
       "      <td>1.020000</td>\n",
       "      <td>0.000000</td>\n",
       "      <td>75.000000</td>\n",
       "      <td>4211.000000</td>\n",
       "      <td>7.000000</td>\n",
       "      <td>2.000000</td>\n",
       "      <td>14.000000</td>\n",
       "    </tr>\n",
       "    <tr>\n",
       "      <th>Sky is Clear</th>\n",
       "      <td>293.232549</td>\n",
       "      <td>0.000000</td>\n",
       "      <td>0.000000</td>\n",
       "      <td>0.000000</td>\n",
       "      <td>4919.009390</td>\n",
       "      <td>7.557512</td>\n",
       "      <td>2.895540</td>\n",
       "      <td>12.453052</td>\n",
       "    </tr>\n",
       "    <tr>\n",
       "      <th>broken clouds</th>\n",
       "      <td>282.372927</td>\n",
       "      <td>0.000000</td>\n",
       "      <td>0.000000</td>\n",
       "      <td>72.635875</td>\n",
       "      <td>4824.130326</td>\n",
       "      <td>6.675260</td>\n",
       "      <td>2.998210</td>\n",
       "      <td>12.811314</td>\n",
       "    </tr>\n",
       "    <tr>\n",
       "      <th>drizzle</th>\n",
       "      <td>283.573777</td>\n",
       "      <td>0.145072</td>\n",
       "      <td>0.000000</td>\n",
       "      <td>88.589928</td>\n",
       "      <td>4737.330935</td>\n",
       "      <td>7.244604</td>\n",
       "      <td>3.028777</td>\n",
       "      <td>11.697842</td>\n",
       "    </tr>\n",
       "    <tr>\n",
       "      <th>few clouds</th>\n",
       "      <td>284.272965</td>\n",
       "      <td>0.000000</td>\n",
       "      <td>0.000000</td>\n",
       "      <td>19.391951</td>\n",
       "      <td>4839.818023</td>\n",
       "      <td>6.159230</td>\n",
       "      <td>2.977253</td>\n",
       "      <td>12.633421</td>\n",
       "    </tr>\n",
       "    <tr>\n",
       "      <th>fog</th>\n",
       "      <td>277.579641</td>\n",
       "      <td>0.163840</td>\n",
       "      <td>0.001409</td>\n",
       "      <td>65.477901</td>\n",
       "      <td>4372.491713</td>\n",
       "      <td>6.646409</td>\n",
       "      <td>2.798343</td>\n",
       "      <td>10.325967</td>\n",
       "    </tr>\n",
       "    <tr>\n",
       "      <th>freezing rain</th>\n",
       "      <td>272.860000</td>\n",
       "      <td>0.000000</td>\n",
       "      <td>0.000000</td>\n",
       "      <td>90.000000</td>\n",
       "      <td>4314.000000</td>\n",
       "      <td>6.500000</td>\n",
       "      <td>0.500000</td>\n",
       "      <td>13.500000</td>\n",
       "    </tr>\n",
       "    <tr>\n",
       "      <th>haze</th>\n",
       "      <td>275.319353</td>\n",
       "      <td>0.040036</td>\n",
       "      <td>0.000000</td>\n",
       "      <td>64.000000</td>\n",
       "      <td>4609.893285</td>\n",
       "      <td>5.832134</td>\n",
       "      <td>2.754197</td>\n",
       "      <td>12.467626</td>\n",
       "    </tr>\n",
       "    <tr>\n",
       "      <th>heavy intensity drizzle</th>\n",
       "      <td>285.467931</td>\n",
       "      <td>0.276207</td>\n",
       "      <td>0.000000</td>\n",
       "      <td>89.172414</td>\n",
       "      <td>4738.586207</td>\n",
       "      <td>7.551724</td>\n",
       "      <td>2.896552</td>\n",
       "      <td>12.275862</td>\n",
       "    </tr>\n",
       "    <tr>\n",
       "      <th>heavy intensity rain</th>\n",
       "      <td>290.231781</td>\n",
       "      <td>2.670548</td>\n",
       "      <td>0.000000</td>\n",
       "      <td>82.799087</td>\n",
       "      <td>4610.356164</td>\n",
       "      <td>7.150685</td>\n",
       "      <td>2.858447</td>\n",
       "      <td>12.442922</td>\n",
       "    </tr>\n",
       "    <tr>\n",
       "      <th>heavy snow</th>\n",
       "      <td>269.256188</td>\n",
       "      <td>0.002375</td>\n",
       "      <td>0.000000</td>\n",
       "      <td>85.287500</td>\n",
       "      <td>4411.681250</td>\n",
       "      <td>5.140625</td>\n",
       "      <td>2.975000</td>\n",
       "      <td>12.303125</td>\n",
       "    </tr>\n",
       "    <tr>\n",
       "      <th>light intensity drizzle</th>\n",
       "      <td>284.902199</td>\n",
       "      <td>0.178848</td>\n",
       "      <td>0.000000</td>\n",
       "      <td>82.565445</td>\n",
       "      <td>4890.164049</td>\n",
       "      <td>7.020942</td>\n",
       "      <td>2.897033</td>\n",
       "      <td>12.612565</td>\n",
       "    </tr>\n",
       "    <tr>\n",
       "      <th>light intensity shower rain</th>\n",
       "      <td>290.563000</td>\n",
       "      <td>0.433000</td>\n",
       "      <td>0.000000</td>\n",
       "      <td>88.500000</td>\n",
       "      <td>4558.100000</td>\n",
       "      <td>5.700000</td>\n",
       "      <td>3.200000</td>\n",
       "      <td>11.900000</td>\n",
       "    </tr>\n",
       "    <tr>\n",
       "      <th>light rain</th>\n",
       "      <td>286.349835</td>\n",
       "      <td>0.137147</td>\n",
       "      <td>0.000000</td>\n",
       "      <td>72.672525</td>\n",
       "      <td>4859.650849</td>\n",
       "      <td>6.610428</td>\n",
       "      <td>2.928530</td>\n",
       "      <td>12.779731</td>\n",
       "    </tr>\n",
       "    <tr>\n",
       "      <th>light rain and snow</th>\n",
       "      <td>275.607500</td>\n",
       "      <td>0.317500</td>\n",
       "      <td>0.000000</td>\n",
       "      <td>83.500000</td>\n",
       "      <td>5579.750000</td>\n",
       "      <td>7.500000</td>\n",
       "      <td>1.250000</td>\n",
       "      <td>15.000000</td>\n",
       "    </tr>\n",
       "    <tr>\n",
       "      <th>light shower snow</th>\n",
       "      <td>268.213636</td>\n",
       "      <td>0.000000</td>\n",
       "      <td>0.000000</td>\n",
       "      <td>81.909091</td>\n",
       "      <td>4618.636364</td>\n",
       "      <td>9.545455</td>\n",
       "      <td>1.181818</td>\n",
       "      <td>13.272727</td>\n",
       "    </tr>\n",
       "    <tr>\n",
       "      <th>light snow</th>\n",
       "      <td>267.085634</td>\n",
       "      <td>0.015297</td>\n",
       "      <td>0.002106</td>\n",
       "      <td>77.714724</td>\n",
       "      <td>4430.858896</td>\n",
       "      <td>6.734151</td>\n",
       "      <td>2.724949</td>\n",
       "      <td>11.978528</td>\n",
       "    </tr>\n",
       "    <tr>\n",
       "      <th>mist</th>\n",
       "      <td>279.420825</td>\n",
       "      <td>0.249992</td>\n",
       "      <td>0.000825</td>\n",
       "      <td>74.961435</td>\n",
       "      <td>4623.976475</td>\n",
       "      <td>6.734285</td>\n",
       "      <td>2.895102</td>\n",
       "      <td>11.078288</td>\n",
       "    </tr>\n",
       "    <tr>\n",
       "      <th>moderate rain</th>\n",
       "      <td>287.110124</td>\n",
       "      <td>0.572153</td>\n",
       "      <td>0.001057</td>\n",
       "      <td>80.591083</td>\n",
       "      <td>4769.643312</td>\n",
       "      <td>7.008917</td>\n",
       "      <td>2.917197</td>\n",
       "      <td>12.301911</td>\n",
       "    </tr>\n",
       "    <tr>\n",
       "      <th>overcast clouds</th>\n",
       "      <td>278.802215</td>\n",
       "      <td>0.000000</td>\n",
       "      <td>0.000000</td>\n",
       "      <td>90.120696</td>\n",
       "      <td>4861.124952</td>\n",
       "      <td>6.078143</td>\n",
       "      <td>3.042553</td>\n",
       "      <td>12.765957</td>\n",
       "    </tr>\n",
       "    <tr>\n",
       "      <th>proximity shower rain</th>\n",
       "      <td>291.460090</td>\n",
       "      <td>0.279279</td>\n",
       "      <td>0.000000</td>\n",
       "      <td>78.108108</td>\n",
       "      <td>4901.756757</td>\n",
       "      <td>6.972973</td>\n",
       "      <td>2.891892</td>\n",
       "      <td>13.441441</td>\n",
       "    </tr>\n",
       "    <tr>\n",
       "      <th>proximity thunderstorm</th>\n",
       "      <td>293.552376</td>\n",
       "      <td>0.967756</td>\n",
       "      <td>0.000000</td>\n",
       "      <td>73.511551</td>\n",
       "      <td>4684.356436</td>\n",
       "      <td>7.118812</td>\n",
       "      <td>2.894389</td>\n",
       "      <td>12.828383</td>\n",
       "    </tr>\n",
       "    <tr>\n",
       "      <th>proximity thunderstorm with drizzle</th>\n",
       "      <td>287.913333</td>\n",
       "      <td>0.260000</td>\n",
       "      <td>0.000000</td>\n",
       "      <td>87.833333</td>\n",
       "      <td>5121.833333</td>\n",
       "      <td>8.500000</td>\n",
       "      <td>2.500000</td>\n",
       "      <td>12.166667</td>\n",
       "    </tr>\n",
       "    <tr>\n",
       "      <th>proximity thunderstorm with rain</th>\n",
       "      <td>291.210556</td>\n",
       "      <td>0.867222</td>\n",
       "      <td>0.000000</td>\n",
       "      <td>82.666667</td>\n",
       "      <td>4501.611111</td>\n",
       "      <td>6.944444</td>\n",
       "      <td>3.222222</td>\n",
       "      <td>11.333333</td>\n",
       "    </tr>\n",
       "    <tr>\n",
       "      <th>scattered clouds</th>\n",
       "      <td>287.829086</td>\n",
       "      <td>0.000000</td>\n",
       "      <td>0.000000</td>\n",
       "      <td>40.043099</td>\n",
       "      <td>4936.787712</td>\n",
       "      <td>6.528198</td>\n",
       "      <td>2.986245</td>\n",
       "      <td>13.359927</td>\n",
       "    </tr>\n",
       "    <tr>\n",
       "      <th>shower drizzle</th>\n",
       "      <td>271.330000</td>\n",
       "      <td>0.000000</td>\n",
       "      <td>0.000000</td>\n",
       "      <td>90.000000</td>\n",
       "      <td>4932.666667</td>\n",
       "      <td>6.000000</td>\n",
       "      <td>1.666667</td>\n",
       "      <td>11.000000</td>\n",
       "    </tr>\n",
       "    <tr>\n",
       "      <th>shower snow</th>\n",
       "      <td>268.680000</td>\n",
       "      <td>0.000000</td>\n",
       "      <td>0.000000</td>\n",
       "      <td>90.000000</td>\n",
       "      <td>5664.000000</td>\n",
       "      <td>3.000000</td>\n",
       "      <td>4.000000</td>\n",
       "      <td>7.000000</td>\n",
       "    </tr>\n",
       "    <tr>\n",
       "      <th>sky is clear</th>\n",
       "      <td>282.171390</td>\n",
       "      <td>0.000000</td>\n",
       "      <td>0.000000</td>\n",
       "      <td>1.961161</td>\n",
       "      <td>4753.930294</td>\n",
       "      <td>6.304783</td>\n",
       "      <td>3.181316</td>\n",
       "      <td>12.395748</td>\n",
       "    </tr>\n",
       "    <tr>\n",
       "      <th>sleet</th>\n",
       "      <td>275.746667</td>\n",
       "      <td>0.000000</td>\n",
       "      <td>0.000000</td>\n",
       "      <td>90.000000</td>\n",
       "      <td>4312.666667</td>\n",
       "      <td>7.000000</td>\n",
       "      <td>3.333333</td>\n",
       "      <td>14.000000</td>\n",
       "    </tr>\n",
       "    <tr>\n",
       "      <th>smoke</th>\n",
       "      <td>292.405833</td>\n",
       "      <td>0.878333</td>\n",
       "      <td>0.000000</td>\n",
       "      <td>53.333333</td>\n",
       "      <td>4564.583333</td>\n",
       "      <td>6.833333</td>\n",
       "      <td>2.416667</td>\n",
       "      <td>13.166667</td>\n",
       "    </tr>\n",
       "    <tr>\n",
       "      <th>snow</th>\n",
       "      <td>271.014891</td>\n",
       "      <td>0.024745</td>\n",
       "      <td>0.003723</td>\n",
       "      <td>88.737226</td>\n",
       "      <td>4054.065693</td>\n",
       "      <td>6.416058</td>\n",
       "      <td>2.554745</td>\n",
       "      <td>12.875912</td>\n",
       "    </tr>\n",
       "    <tr>\n",
       "      <th>thunderstorm</th>\n",
       "      <td>295.168542</td>\n",
       "      <td>0.702083</td>\n",
       "      <td>0.000000</td>\n",
       "      <td>71.437500</td>\n",
       "      <td>4724.708333</td>\n",
       "      <td>7.166667</td>\n",
       "      <td>3.041667</td>\n",
       "      <td>13.250000</td>\n",
       "    </tr>\n",
       "    <tr>\n",
       "      <th>thunderstorm with drizzle</th>\n",
       "      <td>287.880000</td>\n",
       "      <td>5.345000</td>\n",
       "      <td>0.000000</td>\n",
       "      <td>90.000000</td>\n",
       "      <td>2297.000000</td>\n",
       "      <td>9.000000</td>\n",
       "      <td>5.000000</td>\n",
       "      <td>12.500000</td>\n",
       "    </tr>\n",
       "    <tr>\n",
       "      <th>thunderstorm with heavy rain</th>\n",
       "      <td>292.783200</td>\n",
       "      <td>3.595600</td>\n",
       "      <td>0.000000</td>\n",
       "      <td>82.480000</td>\n",
       "      <td>4555.760000</td>\n",
       "      <td>6.600000</td>\n",
       "      <td>3.000000</td>\n",
       "      <td>11.920000</td>\n",
       "    </tr>\n",
       "    <tr>\n",
       "      <th>thunderstorm with light drizzle</th>\n",
       "      <td>290.885000</td>\n",
       "      <td>2.635000</td>\n",
       "      <td>0.000000</td>\n",
       "      <td>90.000000</td>\n",
       "      <td>4960.000000</td>\n",
       "      <td>8.000000</td>\n",
       "      <td>3.333333</td>\n",
       "      <td>12.833333</td>\n",
       "    </tr>\n",
       "    <tr>\n",
       "      <th>thunderstorm with light rain</th>\n",
       "      <td>292.243478</td>\n",
       "      <td>1.190000</td>\n",
       "      <td>0.000000</td>\n",
       "      <td>76.565217</td>\n",
       "      <td>4336.130435</td>\n",
       "      <td>6.826087</td>\n",
       "      <td>3.173913</td>\n",
       "      <td>11.869565</td>\n",
       "    </tr>\n",
       "    <tr>\n",
       "      <th>thunderstorm with rain</th>\n",
       "      <td>293.074500</td>\n",
       "      <td>1.460000</td>\n",
       "      <td>0.000000</td>\n",
       "      <td>82.350000</td>\n",
       "      <td>4522.950000</td>\n",
       "      <td>7.050000</td>\n",
       "      <td>2.950000</td>\n",
       "      <td>12.600000</td>\n",
       "    </tr>\n",
       "    <tr>\n",
       "      <th>very heavy rain</th>\n",
       "      <td>296.680000</td>\n",
       "      <td>1426.242857</td>\n",
       "      <td>0.000000</td>\n",
       "      <td>51.857143</td>\n",
       "      <td>4780.571429</td>\n",
       "      <td>7.000000</td>\n",
       "      <td>1.571429</td>\n",
       "      <td>11.714286</td>\n",
       "    </tr>\n",
       "  </tbody>\n",
       "</table>\n",
       "</div>"
      ],
      "text/plain": [
       "                                           temp      rain_1h   snow_1h  \\\n",
       "weather_description                                                      \n",
       "SQUALLS                              296.730000     1.020000  0.000000   \n",
       "Sky is Clear                         293.232549     0.000000  0.000000   \n",
       "broken clouds                        282.372927     0.000000  0.000000   \n",
       "drizzle                              283.573777     0.145072  0.000000   \n",
       "few clouds                           284.272965     0.000000  0.000000   \n",
       "fog                                  277.579641     0.163840  0.001409   \n",
       "freezing rain                        272.860000     0.000000  0.000000   \n",
       "haze                                 275.319353     0.040036  0.000000   \n",
       "heavy intensity drizzle              285.467931     0.276207  0.000000   \n",
       "heavy intensity rain                 290.231781     2.670548  0.000000   \n",
       "heavy snow                           269.256188     0.002375  0.000000   \n",
       "light intensity drizzle              284.902199     0.178848  0.000000   \n",
       "light intensity shower rain          290.563000     0.433000  0.000000   \n",
       "light rain                           286.349835     0.137147  0.000000   \n",
       "light rain and snow                  275.607500     0.317500  0.000000   \n",
       "light shower snow                    268.213636     0.000000  0.000000   \n",
       "light snow                           267.085634     0.015297  0.002106   \n",
       "mist                                 279.420825     0.249992  0.000825   \n",
       "moderate rain                        287.110124     0.572153  0.001057   \n",
       "overcast clouds                      278.802215     0.000000  0.000000   \n",
       "proximity shower rain                291.460090     0.279279  0.000000   \n",
       "proximity thunderstorm               293.552376     0.967756  0.000000   \n",
       "proximity thunderstorm with drizzle  287.913333     0.260000  0.000000   \n",
       "proximity thunderstorm with rain     291.210556     0.867222  0.000000   \n",
       "scattered clouds                     287.829086     0.000000  0.000000   \n",
       "shower drizzle                       271.330000     0.000000  0.000000   \n",
       "shower snow                          268.680000     0.000000  0.000000   \n",
       "sky is clear                         282.171390     0.000000  0.000000   \n",
       "sleet                                275.746667     0.000000  0.000000   \n",
       "smoke                                292.405833     0.878333  0.000000   \n",
       "snow                                 271.014891     0.024745  0.003723   \n",
       "thunderstorm                         295.168542     0.702083  0.000000   \n",
       "thunderstorm with drizzle            287.880000     5.345000  0.000000   \n",
       "thunderstorm with heavy rain         292.783200     3.595600  0.000000   \n",
       "thunderstorm with light drizzle      290.885000     2.635000  0.000000   \n",
       "thunderstorm with light rain         292.243478     1.190000  0.000000   \n",
       "thunderstorm with rain               293.074500     1.460000  0.000000   \n",
       "very heavy rain                      296.680000  1426.242857  0.000000   \n",
       "\n",
       "                                     clouds_all  traffic_volume     month  \\\n",
       "weather_description                                                         \n",
       "SQUALLS                               75.000000     4211.000000  7.000000   \n",
       "Sky is Clear                           0.000000     4919.009390  7.557512   \n",
       "broken clouds                         72.635875     4824.130326  6.675260   \n",
       "drizzle                               88.589928     4737.330935  7.244604   \n",
       "few clouds                            19.391951     4839.818023  6.159230   \n",
       "fog                                   65.477901     4372.491713  6.646409   \n",
       "freezing rain                         90.000000     4314.000000  6.500000   \n",
       "haze                                  64.000000     4609.893285  5.832134   \n",
       "heavy intensity drizzle               89.172414     4738.586207  7.551724   \n",
       "heavy intensity rain                  82.799087     4610.356164  7.150685   \n",
       "heavy snow                            85.287500     4411.681250  5.140625   \n",
       "light intensity drizzle               82.565445     4890.164049  7.020942   \n",
       "light intensity shower rain           88.500000     4558.100000  5.700000   \n",
       "light rain                            72.672525     4859.650849  6.610428   \n",
       "light rain and snow                   83.500000     5579.750000  7.500000   \n",
       "light shower snow                     81.909091     4618.636364  9.545455   \n",
       "light snow                            77.714724     4430.858896  6.734151   \n",
       "mist                                  74.961435     4623.976475  6.734285   \n",
       "moderate rain                         80.591083     4769.643312  7.008917   \n",
       "overcast clouds                       90.120696     4861.124952  6.078143   \n",
       "proximity shower rain                 78.108108     4901.756757  6.972973   \n",
       "proximity thunderstorm                73.511551     4684.356436  7.118812   \n",
       "proximity thunderstorm with drizzle   87.833333     5121.833333  8.500000   \n",
       "proximity thunderstorm with rain      82.666667     4501.611111  6.944444   \n",
       "scattered clouds                      40.043099     4936.787712  6.528198   \n",
       "shower drizzle                        90.000000     4932.666667  6.000000   \n",
       "shower snow                           90.000000     5664.000000  3.000000   \n",
       "sky is clear                           1.961161     4753.930294  6.304783   \n",
       "sleet                                 90.000000     4312.666667  7.000000   \n",
       "smoke                                 53.333333     4564.583333  6.833333   \n",
       "snow                                  88.737226     4054.065693  6.416058   \n",
       "thunderstorm                          71.437500     4724.708333  7.166667   \n",
       "thunderstorm with drizzle             90.000000     2297.000000  9.000000   \n",
       "thunderstorm with heavy rain          82.480000     4555.760000  6.600000   \n",
       "thunderstorm with light drizzle       90.000000     4960.000000  8.000000   \n",
       "thunderstorm with light rain          76.565217     4336.130435  6.826087   \n",
       "thunderstorm with rain                82.350000     4522.950000  7.050000   \n",
       "very heavy rain                       51.857143     4780.571429  7.000000   \n",
       "\n",
       "                                     dayofweek       hour  \n",
       "weather_description                                        \n",
       "SQUALLS                               2.000000  14.000000  \n",
       "Sky is Clear                          2.895540  12.453052  \n",
       "broken clouds                         2.998210  12.811314  \n",
       "drizzle                               3.028777  11.697842  \n",
       "few clouds                            2.977253  12.633421  \n",
       "fog                                   2.798343  10.325967  \n",
       "freezing rain                         0.500000  13.500000  \n",
       "haze                                  2.754197  12.467626  \n",
       "heavy intensity drizzle               2.896552  12.275862  \n",
       "heavy intensity rain                  2.858447  12.442922  \n",
       "heavy snow                            2.975000  12.303125  \n",
       "light intensity drizzle               2.897033  12.612565  \n",
       "light intensity shower rain           3.200000  11.900000  \n",
       "light rain                            2.928530  12.779731  \n",
       "light rain and snow                   1.250000  15.000000  \n",
       "light shower snow                     1.181818  13.272727  \n",
       "light snow                            2.724949  11.978528  \n",
       "mist                                  2.895102  11.078288  \n",
       "moderate rain                         2.917197  12.301911  \n",
       "overcast clouds                       3.042553  12.765957  \n",
       "proximity shower rain                 2.891892  13.441441  \n",
       "proximity thunderstorm                2.894389  12.828383  \n",
       "proximity thunderstorm with drizzle   2.500000  12.166667  \n",
       "proximity thunderstorm with rain      3.222222  11.333333  \n",
       "scattered clouds                      2.986245  13.359927  \n",
       "shower drizzle                        1.666667  11.000000  \n",
       "shower snow                           4.000000   7.000000  \n",
       "sky is clear                          3.181316  12.395748  \n",
       "sleet                                 3.333333  14.000000  \n",
       "smoke                                 2.416667  13.166667  \n",
       "snow                                  2.554745  12.875912  \n",
       "thunderstorm                          3.041667  13.250000  \n",
       "thunderstorm with drizzle             5.000000  12.500000  \n",
       "thunderstorm with heavy rain          3.000000  11.920000  \n",
       "thunderstorm with light drizzle       3.333333  12.833333  \n",
       "thunderstorm with light rain          3.173913  11.869565  \n",
       "thunderstorm with rain                2.950000  12.600000  \n",
       "very heavy rain                       1.571429  11.714286  "
      ]
     },
     "execution_count": 38,
     "metadata": {},
     "output_type": "execute_result"
    }
   ],
   "source": [
    "por_clima_desc"
   ]
  },
  {
   "cell_type": "code",
   "execution_count": 39,
   "id": "9bbeaeca",
   "metadata": {},
   "outputs": [
    {
     "data": {
      "image/png": "[encoded data removed]",
      "text/plain": [
       "<Figure size 576x864 with 1 Axes>"
      ]
     },
     "metadata": {
      "needs_background": "light"
     },
     "output_type": "display_data"
    }
   ],
   "source": [
    "# De nuevo, lo mostramos gráficamente\n",
    "plt.figure(figsize=(8,12))\n",
    "por_clima_desc['traffic_volume'].plot.barh()\n",
    "plt.show()"
   ]
  },
  {
   "cell_type": "markdown",
   "id": "caf12598",
   "metadata": {},
   "source": [
    "Aquí sí que vemos con claridad que 'Shower snow' (nevada fuerte) y 'Lluvia ligera y nieve' causan más tráfico que los demás estados.\n",
    "\n",
    "Además, 'Tormenta eléctrica con llovizna' sorprende por tener prácticamente la mitad del volumen normal de tráfico."
   ]
  },
  {
   "cell_type": "markdown",
   "id": "26ad32ba",
   "metadata": {},
   "source": [
    "# CONCLUSIONES FINALES\n",
    "\n",
    "El dataset tampoco nos ofrece mucha más información que podamos analizar. Hemos estudiado la relación del volumen del tráfico con todas las variables posibles, y las conclusiones que hemos sacado son las siguientes:\n",
    "\n",
    "\n",
    "**Volumen del tráfico: tramos diarios:**\n",
    "\n",
    "- Durante las horas diurnas (7:00h-18-00h), el tráfico es mucho más intenso que por la noche (19:00h-06:00h)\n",
    "\n",
    "**Volumen del tráfico: tramos semanales:**\n",
    "\n",
    "- El volumen del tráfico es menor los días no-laborables, concretamente el volumen medio respecto a los laborables es del 71%\n",
    "- Las horas de mayor tráfico son:\n",
    "    - Para los días laborables:\n",
    "        - Las horas punta son las 7:00h y las 16:00h, con 6.030 y 6.189 vehículos por hora, de media.\n",
    "    - Para los días no-laborables:\n",
    "        - Las horas de mayor tráfico comprenden entre las 12:00h y las 17:00h, con un volumen consante de unos 4.000 vehículos.\n",
    "\n",
    "**Volumen del tráfico: tramos anuales:**\n",
    "\n",
    "- El volumen del tráfico es significativamente menos intenso en los meses de invierno y en julio. En concreto:\n",
    "    - En el periodo de octubre a marzo el volumen del tráfico es un 7% menor que en el resto de los meses hábiles\n",
    "    - En julio el volumen del tráfico es un 6% menor que en los meses hábiles, excluyendo los meses invernales\n",
    "    \n",
    "**Volumen del tráfico: cambios en el volumen en relación a la climatología:**\n",
    "\n",
    "- Cuando hay nevadas fuertes, y lluvia ligera y nieve, el volumen del tráfico aumenta hasta casi los 6.000 vehículos por hora, mientras que no sobrepasa los 5.000 vehículos en los demás estados climatológicos.\n",
    "- Cuando hay tormenta eléctrica, el volumen del tráfico cae drásticamente hasta aproximadamente los 2.500 vehículos por hora, prácticamente la mitad de la media habitual."
   ]
  }
 ],
 "metadata": {
  "kernelspec": {
   "display_name": "Python 3",
   "language": "python",
   "name": "python3"
  },
  "language_info": {
   "codemirror_mode": {
    "name": "ipython",
    "version": 3
   },
   "file_extension": ".py",
   "mimetype": "text/x-python",
   "name": "python",
   "nbconvert_exporter": "python",
   "pygments_lexer": "ipython3",
   "version": "3.8.8"
  }
 },
 "nbformat": 4,
 "nbformat_minor": 5
}
