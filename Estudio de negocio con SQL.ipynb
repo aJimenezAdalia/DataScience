{
 "cells": [
  {
   "cell_type": "markdown",
   "id": "106b1351",
   "metadata": {},
   "source": [
    "# Estudio de Negocio con SQL\n",
    "\n",
    "## Introducción\n",
    "\n",
    "Vamos a intentar responder algunas cuestiones de negocio utilizando SQL sobre una base de datos.\n",
    "\n",
    "Las cuestiones que resolveremos emularán escenarios reales de negocio que podrían darse en cualquier empresa. El primer supuesto, por ejemplo, es que vamos a firmar un contrato con un sello discográfico y nos ofrecen ciertos álbumes para nuestra tienda; nosotros tendremos que elegir cuáles son los adecuados basándonos en los datos que tenemos. \n",
    "\n",
    "La base de datos es de una tienda de música digital que lleva poco tiempo en el mercado, y contiene información sobre su actividad, como:\n",
    "\n",
    "- Datos de los empleados\n",
    "- Datos de los clientes\n",
    "- Datos de facturación\n",
    "- Datos del producto\n",
    "\n",
    "Intentaremos responder ciertas preguntas sobre el negocio."
   ]
  },
  {
   "cell_type": "markdown",
   "id": "b9fe6b0c",
   "metadata": {},
   "source": [
    "## La base de datos\n",
    "\n",
    "Trabajaremos con una base de datos relacional, llamada *chinook.db*. \n",
    "\n",
    "Esta base de datos es pública. Es una base de datos de muestra para SQL Server, Oracle, MySQL, PostgreSQL, SQLite y DB2. Se puede descargar desde GitHub:\n",
    "\n",
    "https://github.com/lerocha/chinook-database\n",
    "\n",
    "Los datos sobre las personas (clientes, empleados, teléfonos, direcciones, etc.) son generados de manera aleatoria. \n",
    "\n",
    "El contenido multimedia de la base de datos fue creado utilizando datos reales de una librería de iTunes.\n",
    "\n",
    "Tenemos una imagen de la estructura de la base de datos, que es la siguiente:"
   ]
  },
  {
   "cell_type": "markdown",
   "id": "07938020",
   "metadata": {},
   "source": [
    "<img src=\"https://s3.amazonaws.com/dq-content/189/chinook-schema.svg\">"
   ]
  },
  {
   "cell_type": "markdown",
   "id": "a00b4024",
   "metadata": {},
   "source": [
    "### Configuración del notebook\n",
    "\n",
    "Aunque el análisis lo vamos a realizar utilizando SQL, vamos a hacer uso de otras librerías como Pandas, NumPy o Matplotlib para visualizar los resultados.\n",
    "\n",
    "Vamos a realizar las importaciones y a configurar el entorno de desarrollo para empezar a trabajar."
   ]
  },
  {
   "cell_type": "code",
   "execution_count": 1,
   "id": "7fbf8177",
   "metadata": {},
   "outputs": [
    {
     "data": {
      "text/plain": [
       "'\\nfrom IPython.core.display import HTML\\nHTML(\"\"\"\\n<style>\\n.output_png {\\n    display: table-cell;\\n    text-align: center;\\n    margin:auto;\\n}\\n.prompt \\n    display:none;\\n}\\n}\\n</style>\\n\"\"\")'"
      ]
     },
     "execution_count": 1,
     "metadata": {},
     "output_type": "execute_result"
    }
   ],
   "source": [
    "# Importación de librerías\n",
    "import pandas as pd\n",
    "import numpy as np\n",
    "import matplotlib.pyplot as plt\n",
    "import seaborn as sns\n",
    "import sqlite3 as sql\n",
    "\n",
    "# Creamos la conexión a la base de datos\n",
    "database = 'chinook.db'\n",
    "connection = sql.connect(database)\n",
    "\n",
    "# pandas mostrará todas las columnas si lo deseamos\n",
    "pd.set_option('display.max_columns', None)\n",
    "\n",
    "# Evitamos el copyWarning de pandas\n",
    "pd.options.mode.chained_assignment = None \n",
    "\n",
    "# Mostramos gráficos de matplotlib inline\n",
    "%matplotlib inline\n",
    "\n",
    "# Centramos los outputs\n",
    "'''\n",
    "from IPython.core.display import HTML\n",
    "HTML(\"\"\"\n",
    "<style>\n",
    ".output_png {\n",
    "    display: table-cell;\n",
    "    text-align: center;\n",
    "    margin:auto;\n",
    "}\n",
    ".prompt \n",
    "    display:none;\n",
    "}\n",
    "}\n",
    "</style>\n",
    "\"\"\")'''"
   ]
  },
  {
   "cell_type": "code",
   "execution_count": 2,
   "id": "094e64a0",
   "metadata": {},
   "outputs": [],
   "source": [
    "%%capture\n",
    "%load_ext sql\n",
    "%sql sqlite:///chinook.db"
   ]
  },
  {
   "cell_type": "markdown",
   "id": "c0d15ecc",
   "metadata": {},
   "source": [
    "### Primeras visualizaciones de la base de datos\n",
    "\n",
    "Vamos a mostrar las tablas de la base de datos:"
   ]
  },
  {
   "cell_type": "code",
   "execution_count": 3,
   "id": "510b68d8",
   "metadata": {
    "scrolled": false
   },
   "outputs": [
    {
     "name": "stdout",
     "output_type": "stream",
     "text": [
      " * sqlite:///chinook.db\n",
      "Done.\n"
     ]
    },
    {
     "data": {
      "text/html": [
       "<table>\n",
       "    <tr>\n",
       "        <th>name</th>\n",
       "        <th>type</th>\n",
       "    </tr>\n",
       "    <tr>\n",
       "        <td>album</td>\n",
       "        <td>table</td>\n",
       "    </tr>\n",
       "    <tr>\n",
       "        <td>artist</td>\n",
       "        <td>table</td>\n",
       "    </tr>\n",
       "    <tr>\n",
       "        <td>customer</td>\n",
       "        <td>table</td>\n",
       "    </tr>\n",
       "    <tr>\n",
       "        <td>employee</td>\n",
       "        <td>table</td>\n",
       "    </tr>\n",
       "    <tr>\n",
       "        <td>genre</td>\n",
       "        <td>table</td>\n",
       "    </tr>\n",
       "    <tr>\n",
       "        <td>invoice</td>\n",
       "        <td>table</td>\n",
       "    </tr>\n",
       "    <tr>\n",
       "        <td>invoice_line</td>\n",
       "        <td>table</td>\n",
       "    </tr>\n",
       "    <tr>\n",
       "        <td>media_type</td>\n",
       "        <td>table</td>\n",
       "    </tr>\n",
       "    <tr>\n",
       "        <td>playlist</td>\n",
       "        <td>table</td>\n",
       "    </tr>\n",
       "    <tr>\n",
       "        <td>playlist_track</td>\n",
       "        <td>table</td>\n",
       "    </tr>\n",
       "    <tr>\n",
       "        <td>track</td>\n",
       "        <td>table</td>\n",
       "    </tr>\n",
       "    <tr>\n",
       "        <td>customer_gt_90_dollars</td>\n",
       "        <td>view</td>\n",
       "    </tr>\n",
       "    <tr>\n",
       "        <td>customer_usa</td>\n",
       "        <td>view</td>\n",
       "    </tr>\n",
       "</table>"
      ],
      "text/plain": [
       "[('album', 'table'),\n",
       " ('artist', 'table'),\n",
       " ('customer', 'table'),\n",
       " ('employee', 'table'),\n",
       " ('genre', 'table'),\n",
       " ('invoice', 'table'),\n",
       " ('invoice_line', 'table'),\n",
       " ('media_type', 'table'),\n",
       " ('playlist', 'table'),\n",
       " ('playlist_track', 'table'),\n",
       " ('track', 'table'),\n",
       " ('customer_gt_90_dollars', 'view'),\n",
       " ('customer_usa', 'view')]"
      ]
     },
     "execution_count": 3,
     "metadata": {},
     "output_type": "execute_result"
    }
   ],
   "source": [
    "%%sql\n",
    "SELECT\n",
    "    name,\n",
    "    type\n",
    "FROM sqlite_master\n",
    "WHERE type IN ('table', 'view');"
   ]
  },
  {
   "cell_type": "markdown",
   "id": "cd13609a",
   "metadata": {},
   "source": [
    "Vamos a echar un vistazo a la tabla employee:"
   ]
  },
  {
   "cell_type": "code",
   "execution_count": 4,
   "id": "6eab8190",
   "metadata": {},
   "outputs": [
    {
     "name": "stdout",
     "output_type": "stream",
     "text": [
      " * sqlite:///chinook.db\n",
      "Done.\n"
     ]
    },
    {
     "data": {
      "text/html": [
       "<table>\n",
       "    <tr>\n",
       "        <th>employee_id</th>\n",
       "        <th>last_name</th>\n",
       "        <th>first_name</th>\n",
       "        <th>title</th>\n",
       "        <th>reports_to</th>\n",
       "        <th>birthdate</th>\n",
       "        <th>hire_date</th>\n",
       "        <th>address</th>\n",
       "        <th>city</th>\n",
       "        <th>state</th>\n",
       "        <th>country</th>\n",
       "        <th>postal_code</th>\n",
       "        <th>phone</th>\n",
       "        <th>fax</th>\n",
       "        <th>email</th>\n",
       "    </tr>\n",
       "    <tr>\n",
       "        <td>1</td>\n",
       "        <td>Adams</td>\n",
       "        <td>Andrew</td>\n",
       "        <td>General Manager</td>\n",
       "        <td>None</td>\n",
       "        <td>1962-02-18 00:00:00</td>\n",
       "        <td>2016-08-14 00:00:00</td>\n",
       "        <td>11120 Jasper Ave NW</td>\n",
       "        <td>Edmonton</td>\n",
       "        <td>AB</td>\n",
       "        <td>Canada</td>\n",
       "        <td>T5K 2N1</td>\n",
       "        <td>+1 (780) 428-9482</td>\n",
       "        <td>+1 (780) 428-3457</td>\n",
       "        <td>andrew@chinookcorp.com</td>\n",
       "    </tr>\n",
       "    <tr>\n",
       "        <td>2</td>\n",
       "        <td>Edwards</td>\n",
       "        <td>Nancy</td>\n",
       "        <td>Sales Manager</td>\n",
       "        <td>1</td>\n",
       "        <td>1958-12-08 00:00:00</td>\n",
       "        <td>2016-05-01 00:00:00</td>\n",
       "        <td>825 8 Ave SW</td>\n",
       "        <td>Calgary</td>\n",
       "        <td>AB</td>\n",
       "        <td>Canada</td>\n",
       "        <td>T2P 2T3</td>\n",
       "        <td>+1 (403) 262-3443</td>\n",
       "        <td>+1 (403) 262-3322</td>\n",
       "        <td>nancy@chinookcorp.com</td>\n",
       "    </tr>\n",
       "    <tr>\n",
       "        <td>3</td>\n",
       "        <td>Peacock</td>\n",
       "        <td>Jane</td>\n",
       "        <td>Sales Support Agent</td>\n",
       "        <td>2</td>\n",
       "        <td>1973-08-29 00:00:00</td>\n",
       "        <td>2017-04-01 00:00:00</td>\n",
       "        <td>1111 6 Ave SW</td>\n",
       "        <td>Calgary</td>\n",
       "        <td>AB</td>\n",
       "        <td>Canada</td>\n",
       "        <td>T2P 5M5</td>\n",
       "        <td>+1 (403) 262-3443</td>\n",
       "        <td>+1 (403) 262-6712</td>\n",
       "        <td>jane@chinookcorp.com</td>\n",
       "    </tr>\n",
       "    <tr>\n",
       "        <td>4</td>\n",
       "        <td>Park</td>\n",
       "        <td>Margaret</td>\n",
       "        <td>Sales Support Agent</td>\n",
       "        <td>2</td>\n",
       "        <td>1947-09-19 00:00:00</td>\n",
       "        <td>2017-05-03 00:00:00</td>\n",
       "        <td>683 10 Street SW</td>\n",
       "        <td>Calgary</td>\n",
       "        <td>AB</td>\n",
       "        <td>Canada</td>\n",
       "        <td>T2P 5G3</td>\n",
       "        <td>+1 (403) 263-4423</td>\n",
       "        <td>+1 (403) 263-4289</td>\n",
       "        <td>margaret@chinookcorp.com</td>\n",
       "    </tr>\n",
       "    <tr>\n",
       "        <td>5</td>\n",
       "        <td>Johnson</td>\n",
       "        <td>Steve</td>\n",
       "        <td>Sales Support Agent</td>\n",
       "        <td>2</td>\n",
       "        <td>1965-03-03 00:00:00</td>\n",
       "        <td>2017-10-17 00:00:00</td>\n",
       "        <td>7727B 41 Ave</td>\n",
       "        <td>Calgary</td>\n",
       "        <td>AB</td>\n",
       "        <td>Canada</td>\n",
       "        <td>T3B 1Y7</td>\n",
       "        <td>1 (780) 836-9987</td>\n",
       "        <td>1 (780) 836-9543</td>\n",
       "        <td>steve@chinookcorp.com</td>\n",
       "    </tr>\n",
       "    <tr>\n",
       "        <td>6</td>\n",
       "        <td>Mitchell</td>\n",
       "        <td>Michael</td>\n",
       "        <td>IT Manager</td>\n",
       "        <td>1</td>\n",
       "        <td>1973-07-01 00:00:00</td>\n",
       "        <td>2016-10-17 00:00:00</td>\n",
       "        <td>5827 Bowness Road NW</td>\n",
       "        <td>Calgary</td>\n",
       "        <td>AB</td>\n",
       "        <td>Canada</td>\n",
       "        <td>T3B 0C5</td>\n",
       "        <td>+1 (403) 246-9887</td>\n",
       "        <td>+1 (403) 246-9899</td>\n",
       "        <td>michael@chinookcorp.com</td>\n",
       "    </tr>\n",
       "    <tr>\n",
       "        <td>7</td>\n",
       "        <td>King</td>\n",
       "        <td>Robert</td>\n",
       "        <td>IT Staff</td>\n",
       "        <td>6</td>\n",
       "        <td>1970-05-29 00:00:00</td>\n",
       "        <td>2017-01-02 00:00:00</td>\n",
       "        <td>590 Columbia Boulevard West</td>\n",
       "        <td>Lethbridge</td>\n",
       "        <td>AB</td>\n",
       "        <td>Canada</td>\n",
       "        <td>T1K 5N8</td>\n",
       "        <td>+1 (403) 456-9986</td>\n",
       "        <td>+1 (403) 456-8485</td>\n",
       "        <td>robert@chinookcorp.com</td>\n",
       "    </tr>\n",
       "    <tr>\n",
       "        <td>8</td>\n",
       "        <td>Callahan</td>\n",
       "        <td>Laura</td>\n",
       "        <td>IT Staff</td>\n",
       "        <td>6</td>\n",
       "        <td>1968-01-09 00:00:00</td>\n",
       "        <td>2017-03-04 00:00:00</td>\n",
       "        <td>923 7 ST NW</td>\n",
       "        <td>Lethbridge</td>\n",
       "        <td>AB</td>\n",
       "        <td>Canada</td>\n",
       "        <td>T1H 1Y8</td>\n",
       "        <td>+1 (403) 467-3351</td>\n",
       "        <td>+1 (403) 467-8772</td>\n",
       "        <td>laura@chinookcorp.com</td>\n",
       "    </tr>\n",
       "</table>"
      ],
      "text/plain": [
       "[(1, 'Adams', 'Andrew', 'General Manager', None, '1962-02-18 00:00:00', '2016-08-14 00:00:00', '11120 Jasper Ave NW', 'Edmonton', 'AB', 'Canada', 'T5K 2N1', '+1 (780) 428-9482', '+1 (780) 428-3457', 'andrew@chinookcorp.com'),\n",
       " (2, 'Edwards', 'Nancy', 'Sales Manager', 1, '1958-12-08 00:00:00', '2016-05-01 00:00:00', '825 8 Ave SW', 'Calgary', 'AB', 'Canada', 'T2P 2T3', '+1 (403) 262-3443', '+1 (403) 262-3322', 'nancy@chinookcorp.com'),\n",
       " (3, 'Peacock', 'Jane', 'Sales Support Agent', 2, '1973-08-29 00:00:00', '2017-04-01 00:00:00', '1111 6 Ave SW', 'Calgary', 'AB', 'Canada', 'T2P 5M5', '+1 (403) 262-3443', '+1 (403) 262-6712', 'jane@chinookcorp.com'),\n",
       " (4, 'Park', 'Margaret', 'Sales Support Agent', 2, '1947-09-19 00:00:00', '2017-05-03 00:00:00', '683 10 Street SW', 'Calgary', 'AB', 'Canada', 'T2P 5G3', '+1 (403) 263-4423', '+1 (403) 263-4289', 'margaret@chinookcorp.com'),\n",
       " (5, 'Johnson', 'Steve', 'Sales Support Agent', 2, '1965-03-03 00:00:00', '2017-10-17 00:00:00', '7727B 41 Ave', 'Calgary', 'AB', 'Canada', 'T3B 1Y7', '1 (780) 836-9987', '1 (780) 836-9543', 'steve@chinookcorp.com'),\n",
       " (6, 'Mitchell', 'Michael', 'IT Manager', 1, '1973-07-01 00:00:00', '2016-10-17 00:00:00', '5827 Bowness Road NW', 'Calgary', 'AB', 'Canada', 'T3B 0C5', '+1 (403) 246-9887', '+1 (403) 246-9899', 'michael@chinookcorp.com'),\n",
       " (7, 'King', 'Robert', 'IT Staff', 6, '1970-05-29 00:00:00', '2017-01-02 00:00:00', '590 Columbia Boulevard West', 'Lethbridge', 'AB', 'Canada', 'T1K 5N8', '+1 (403) 456-9986', '+1 (403) 456-8485', 'robert@chinookcorp.com'),\n",
       " (8, 'Callahan', 'Laura', 'IT Staff', 6, '1968-01-09 00:00:00', '2017-03-04 00:00:00', '923 7 ST NW', 'Lethbridge', 'AB', 'Canada', 'T1H 1Y8', '+1 (403) 467-3351', '+1 (403) 467-8772', 'laura@chinookcorp.com')]"
      ]
     },
     "execution_count": 4,
     "metadata": {},
     "output_type": "execute_result"
    }
   ],
   "source": [
    "%%sql\n",
    "SELECT * FROM employee;"
   ]
  },
  {
   "cell_type": "markdown",
   "id": "58364693",
   "metadata": {},
   "source": [
    "## SUPUESTO 1. Cliente para el mercado de EE.UU.\n",
    "\n",
    "Supongamos que hemos firmado un contrato con un sello discográfico, y nuestra tarea es seleccionar los dos primeros álbumes que se añadirán a la tienda, de una lista de cuatro. Ninguno de los artistas de los álbumes tiene canciones disponibles en la tienda ahora mismo. Los artistas (y el género musical que producen) son los siguientes:\n",
    "\n",
    "- Regal, Hip-Hop\n",
    "- Red Tone, Punk\n",
    "- Meteor and the Girls, Pop\n",
    "- Slim Jim Bites, Blues\n",
    "\n",
    "El sello discográfico se especializa en artistas de los EE.UU. y nos han dado algo de dinero para anunciar los nuevos álbumes en EE.UU., por lo que estamos interesados en averiguar qué géneros vendemos mejor en EE.UU.\n",
    "\n",
    "Lo primero que vamos a hacer es averiguar cuáles son los géneros más vendidos de la tienda, en todos los países."
   ]
  },
  {
   "cell_type": "code",
   "execution_count": 5,
   "id": "c5d00e9a",
   "metadata": {},
   "outputs": [
    {
     "name": "stdout",
     "output_type": "stream",
     "text": [
      " * sqlite:///chinook.db\n",
      "Done.\n"
     ]
    },
    {
     "data": {
      "text/html": [
       "<table>\n",
       "    <tr>\n",
       "        <th>genero</th>\n",
       "        <th>cantidad</th>\n",
       "    </tr>\n",
       "    <tr>\n",
       "        <td>Rock</td>\n",
       "        <td>2635</td>\n",
       "    </tr>\n",
       "    <tr>\n",
       "        <td>Metal</td>\n",
       "        <td>619</td>\n",
       "    </tr>\n",
       "    <tr>\n",
       "        <td>Alternative &amp; Punk</td>\n",
       "        <td>492</td>\n",
       "    </tr>\n",
       "    <tr>\n",
       "        <td>Latin</td>\n",
       "        <td>167</td>\n",
       "    </tr>\n",
       "    <tr>\n",
       "        <td>R&amp;B/Soul</td>\n",
       "        <td>159</td>\n",
       "    </tr>\n",
       "    <tr>\n",
       "        <td>Blues</td>\n",
       "        <td>124</td>\n",
       "    </tr>\n",
       "    <tr>\n",
       "        <td>Jazz</td>\n",
       "        <td>121</td>\n",
       "    </tr>\n",
       "    <tr>\n",
       "        <td>Alternative</td>\n",
       "        <td>117</td>\n",
       "    </tr>\n",
       "    <tr>\n",
       "        <td>Easy Listening</td>\n",
       "        <td>74</td>\n",
       "    </tr>\n",
       "    <tr>\n",
       "        <td>Pop</td>\n",
       "        <td>63</td>\n",
       "    </tr>\n",
       "    <tr>\n",
       "        <td>Electronica/Dance</td>\n",
       "        <td>55</td>\n",
       "    </tr>\n",
       "    <tr>\n",
       "        <td>Classical</td>\n",
       "        <td>47</td>\n",
       "    </tr>\n",
       "    <tr>\n",
       "        <td>Reggae</td>\n",
       "        <td>35</td>\n",
       "    </tr>\n",
       "    <tr>\n",
       "        <td>Hip Hop/Rap</td>\n",
       "        <td>33</td>\n",
       "    </tr>\n",
       "    <tr>\n",
       "        <td>Heavy Metal</td>\n",
       "        <td>8</td>\n",
       "    </tr>\n",
       "    <tr>\n",
       "        <td>Soundtrack</td>\n",
       "        <td>5</td>\n",
       "    </tr>\n",
       "    <tr>\n",
       "        <td>TV Shows</td>\n",
       "        <td>2</td>\n",
       "    </tr>\n",
       "    <tr>\n",
       "        <td>Drama</td>\n",
       "        <td>1</td>\n",
       "    </tr>\n",
       "</table>"
      ],
      "text/plain": [
       "[('Rock', 2635),\n",
       " ('Metal', 619),\n",
       " ('Alternative & Punk', 492),\n",
       " ('Latin', 167),\n",
       " ('R&B/Soul', 159),\n",
       " ('Blues', 124),\n",
       " ('Jazz', 121),\n",
       " ('Alternative', 117),\n",
       " ('Easy Listening', 74),\n",
       " ('Pop', 63),\n",
       " ('Electronica/Dance', 55),\n",
       " ('Classical', 47),\n",
       " ('Reggae', 35),\n",
       " ('Hip Hop/Rap', 33),\n",
       " ('Heavy Metal', 8),\n",
       " ('Soundtrack', 5),\n",
       " ('TV Shows', 2),\n",
       " ('Drama', 1)]"
      ]
     },
     "execution_count": 5,
     "metadata": {},
     "output_type": "execute_result"
    }
   ],
   "source": [
    "%%sql\n",
    "SELECT\n",
    "    g.name AS \"genero\",\n",
    "    SUM(il.quantity) AS \"cantidad\"\n",
    "FROM\n",
    "    invoice_line AS \"il\"\n",
    "INNER JOIN\n",
    "    track AS \"t\" ON t.track_id = il.track_id\n",
    "INNER JOIN\n",
    "    genre AS \"g\" ON g.genre_id = t.genre_id\n",
    "GROUP BY\n",
    "    genero\n",
    "ORDER BY\n",
    "    2 DESC;"
   ]
  },
  {
   "cell_type": "code",
   "execution_count": 6,
   "id": "a48af494",
   "metadata": {},
   "outputs": [
    {
     "data": {
      "image/png": "[encoded data removed]",
      "text/plain": [
       "<Figure size 500x700 with 1 Axes>"
      ]
     },
     "metadata": {},
     "output_type": "display_data"
    }
   ],
   "source": [
    "# Vamos a graficar los resultados\n",
    "plt.style.use('default')\n",
    "\n",
    "# Leemos la query con Pandas\n",
    "q1 = '''\n",
    "    SELECT g.name AS \"Género\", SUM(il.quantity) AS \"cantidad\"\n",
    "      FROM invoice_line AS \"il\"\n",
    "INNER JOIN track AS \"t\" ON t.track_id = il.track_id\n",
    "INNER JOIN genre AS \"g\" ON g.genre_id = t.genre_id\n",
    "  GROUP BY Género ORDER BY 2 DESC;'''\n",
    "q1_df = pd.read_sql_query(q1, connection)\n",
    "\n",
    "# Creamos el gráfico\n",
    "fig, ax = plt.subplots(figsize=(5,7))\n",
    "ax.barh(q1_df['Género'], q1_df['cantidad'], color='#af3b1e')\n",
    "ax.text(x=0,y=19, s=\"Número de ventas por género musical\", fontsize=12, weight='bold')\n",
    "ax.text(x=0, y=18.4, s=\"Ventas globales en todos los mercados\", fontsize=10)\n",
    "ax.tick_params(bottom=False, left=False)\n",
    "ax.set_xticks([500,1500,2500])\n",
    "for location in ['left', 'right', 'top', 'bottom']:\n",
    "    ax.spines[location].set_visible(False)\n",
    "plt.show()"
   ]
  },
  {
   "cell_type": "markdown",
   "id": "f3d455b7",
   "metadata": {},
   "source": [
    "### Géneros más populares en los EE.UU.\n",
    "\n",
    "Hemos visto que el género más popular de la tienda es por mucho el Rock, pero vamos a verlo para el caso particular de los Estados Unidos, ya que el sello discográfico nos ofrece música para EE.UU."
   ]
  },
  {
   "cell_type": "code",
   "execution_count": 7,
   "id": "831078c8",
   "metadata": {},
   "outputs": [
    {
     "name": "stdout",
     "output_type": "stream",
     "text": [
      " * sqlite:///chinook.db\n",
      "Done.\n"
     ]
    },
    {
     "data": {
      "text/html": [
       "<table>\n",
       "    <tr>\n",
       "        <th>genero</th>\n",
       "        <th>canciones vendidas</th>\n",
       "        <th>porcentaje vendido</th>\n",
       "    </tr>\n",
       "    <tr>\n",
       "        <td>Rock</td>\n",
       "        <td>561</td>\n",
       "        <td>0.5337773549000951</td>\n",
       "    </tr>\n",
       "    <tr>\n",
       "        <td>Alternative &amp; Punk</td>\n",
       "        <td>130</td>\n",
       "        <td>0.12369172216936251</td>\n",
       "    </tr>\n",
       "    <tr>\n",
       "        <td>Metal</td>\n",
       "        <td>124</td>\n",
       "        <td>0.11798287345385347</td>\n",
       "    </tr>\n",
       "    <tr>\n",
       "        <td>R&amp;B/Soul</td>\n",
       "        <td>53</td>\n",
       "        <td>0.05042816365366318</td>\n",
       "    </tr>\n",
       "    <tr>\n",
       "        <td>Blues</td>\n",
       "        <td>36</td>\n",
       "        <td>0.03425309229305423</td>\n",
       "    </tr>\n",
       "    <tr>\n",
       "        <td>Alternative</td>\n",
       "        <td>35</td>\n",
       "        <td>0.03330161750713606</td>\n",
       "    </tr>\n",
       "    <tr>\n",
       "        <td>Pop</td>\n",
       "        <td>22</td>\n",
       "        <td>0.02093244529019981</td>\n",
       "    </tr>\n",
       "    <tr>\n",
       "        <td>Latin</td>\n",
       "        <td>22</td>\n",
       "        <td>0.02093244529019981</td>\n",
       "    </tr>\n",
       "    <tr>\n",
       "        <td>Hip Hop/Rap</td>\n",
       "        <td>20</td>\n",
       "        <td>0.019029495718363463</td>\n",
       "    </tr>\n",
       "    <tr>\n",
       "        <td>Jazz</td>\n",
       "        <td>14</td>\n",
       "        <td>0.013320647002854425</td>\n",
       "    </tr>\n",
       "    <tr>\n",
       "        <td>Easy Listening</td>\n",
       "        <td>13</td>\n",
       "        <td>0.012369172216936251</td>\n",
       "    </tr>\n",
       "    <tr>\n",
       "        <td>Reggae</td>\n",
       "        <td>6</td>\n",
       "        <td>0.005708848715509039</td>\n",
       "    </tr>\n",
       "    <tr>\n",
       "        <td>Electronica/Dance</td>\n",
       "        <td>5</td>\n",
       "        <td>0.004757373929590866</td>\n",
       "    </tr>\n",
       "    <tr>\n",
       "        <td>Classical</td>\n",
       "        <td>4</td>\n",
       "        <td>0.003805899143672693</td>\n",
       "    </tr>\n",
       "    <tr>\n",
       "        <td>Heavy Metal</td>\n",
       "        <td>3</td>\n",
       "        <td>0.0028544243577545195</td>\n",
       "    </tr>\n",
       "    <tr>\n",
       "        <td>Soundtrack</td>\n",
       "        <td>2</td>\n",
       "        <td>0.0019029495718363464</td>\n",
       "    </tr>\n",
       "    <tr>\n",
       "        <td>TV Shows</td>\n",
       "        <td>1</td>\n",
       "        <td>0.0009514747859181732</td>\n",
       "    </tr>\n",
       "</table>"
      ],
      "text/plain": [
       "[('Rock', 561, 0.5337773549000951),\n",
       " ('Alternative & Punk', 130, 0.12369172216936251),\n",
       " ('Metal', 124, 0.11798287345385347),\n",
       " ('R&B/Soul', 53, 0.05042816365366318),\n",
       " ('Blues', 36, 0.03425309229305423),\n",
       " ('Alternative', 35, 0.03330161750713606),\n",
       " ('Pop', 22, 0.02093244529019981),\n",
       " ('Latin', 22, 0.02093244529019981),\n",
       " ('Hip Hop/Rap', 20, 0.019029495718363463),\n",
       " ('Jazz', 14, 0.013320647002854425),\n",
       " ('Easy Listening', 13, 0.012369172216936251),\n",
       " ('Reggae', 6, 0.005708848715509039),\n",
       " ('Electronica/Dance', 5, 0.004757373929590866),\n",
       " ('Classical', 4, 0.003805899143672693),\n",
       " ('Heavy Metal', 3, 0.0028544243577545195),\n",
       " ('Soundtrack', 2, 0.0019029495718363464),\n",
       " ('TV Shows', 1, 0.0009514747859181732)]"
      ]
     },
     "execution_count": 7,
     "metadata": {},
     "output_type": "execute_result"
    }
   ],
   "source": [
    "%%sql\n",
    "\n",
    "WITH canciones_vendidas_usa AS\n",
    "    (\n",
    "    SELECT il.* FROM invoice_line AS \"il\"\n",
    "    INNER JOIN invoice AS \"i\" ON i.invoice_id = il.invoice_id\n",
    "    INNER JOIN customer AS \"c\" ON c.customer_id = i.customer_id\n",
    "    WHERE c.country = \"USA\"\n",
    "    )\n",
    "SELECT\n",
    "    g.name AS \"genero\", \n",
    "    COUNT(cvu.invoice_line_id) AS \"canciones vendidas\",\n",
    "    CAST(COUNT(cvu.invoice_line_id) AS FLOAT)/ (\n",
    "        SELECT COUNT(*) FROM canciones_vendidas_usa\n",
    "    ) AS \"porcentaje vendido\"\n",
    "FROM canciones_vendidas_usa AS \"cvu\"\n",
    "INNER JOIN track AS \"t\" ON t.track_id = cvu.track_id\n",
    "INNER JOIN genre AS \"g\" ON g.genre_id = t.genre_id\n",
    "GROUP BY 1\n",
    "ORDER BY 3 DESC;"
   ]
  },
  {
   "cell_type": "code",
   "execution_count": 8,
   "id": "ae437e7a",
   "metadata": {},
   "outputs": [
    {
     "data": {
      "image/png": "[encoded data removed]",
      "text/plain": [
       "<Figure size 500x700 with 1 Axes>"
      ]
     },
     "metadata": {},
     "output_type": "display_data"
    }
   ],
   "source": [
    "# Vamos a graficar los resultados\n",
    "plt.style.use('default')\n",
    "\n",
    "# Leemos la query con Pandas\n",
    "q2 = '''\n",
    "    WITH canciones_vendidas_usa AS (SELECT il.* FROM invoice_line AS \"il\"\n",
    "    INNER JOIN invoice AS \"i\" ON i.invoice_id = il.invoice_id\n",
    "    INNER JOIN customer AS \"c\" ON c.customer_id = i.customer_id\n",
    "    WHERE c.country = \"USA\")\n",
    "SELECT\n",
    "    g.name AS \"Género\", \n",
    "    COUNT(cvu.invoice_line_id) AS \"canciones vendidas\"\n",
    "FROM canciones_vendidas_usa AS \"cvu\"\n",
    "INNER JOIN track AS \"t\" ON t.track_id = cvu.track_id\n",
    "INNER JOIN genre AS \"g\" ON g.genre_id = t.genre_id\n",
    "GROUP BY 1\n",
    "ORDER BY 2 DESC;'''\n",
    "\n",
    "q2_df = pd.read_sql_query(q2, connection)\n",
    "\n",
    "# Creamos el gráfico\n",
    "fig, ax = plt.subplots(figsize=(5,7))\n",
    "ax.barh(q2_df['Género'], q2_df['canciones vendidas'],color='#af3b1e')\n",
    "ax.text(x=0,y=18, s=\"Número de ventas por género musical en USA\", fontsize=12, weight='bold')\n",
    "ax.text(x=0, y=17.4, s=\"Compras realizadas por clientes de USA\", fontsize=10)\n",
    "ax.tick_params(bottom=False, left=False)\n",
    "ax.set_xticks([0,150,300,450,600])\n",
    "for location in ['left', 'right', 'top', 'bottom']:\n",
    "    ax.spines[location].set_visible(False)\n",
    "plt.show()"
   ]
  },
  {
   "cell_type": "markdown",
   "id": "1f86bcbd",
   "metadata": {},
   "source": [
    "### Conclusiones Supuesto 1\n",
    "\n",
    "Los cuatro álbumes que nos habían ofrecido eran de los siguientes géneros (artista, género musical):\n",
    "\n",
    "- Regal, Hip-Hop\n",
    "- Red Tone, Punk\n",
    "- Meteor and the Girls, Pop\n",
    "- Slim Jim Bites, Blues\n",
    "\n",
    "**Según los datos que tenemos, deberíamos empezar publicando los álbumes de *Red Tone(Punk)* y de *Slim Jim Bites(Blues)*, ya que de los géneros que nos ofrecen, son los que mejor vendemos en EE.UU.**"
   ]
  },
  {
   "cell_type": "markdown",
   "id": "5ce3b339",
   "metadata": {},
   "source": [
    "## SUPUESTO 2. Rendimiento de los empleados de Ventas\n",
    "\n",
    "A cada cliente de la tienda se le asigna un agente de soporte de ventas dentro de la empresa cuando realiza su primera compra.\n",
    "\n",
    "Se nos pide que analicemos las compras de los clientes que pertenecen a cada empleado para comprobar si alguno de los agentes de ventas tiene un desempeño mayor que el de los demás.\n",
    "\n",
    "Los datos que mostraremos serán los siguientes:\n",
    "\n",
    "- Nombre del empleado\n",
    "- Fecha de contratación\n",
    "- Título del empleado\n",
    "- Ventas totales a los clientes relacionados con el empleado"
   ]
  },
  {
   "cell_type": "code",
   "execution_count": 9,
   "id": "f90078a7",
   "metadata": {},
   "outputs": [
    {
     "name": "stdout",
     "output_type": "stream",
     "text": [
      " * sqlite:///chinook.db\n",
      "Done.\n"
     ]
    },
    {
     "data": {
      "text/html": [
       "<table>\n",
       "    <tr>\n",
       "        <th>nombre_empleado</th>\n",
       "        <th>fecha_contratacion</th>\n",
       "        <th>titulo_empleado</th>\n",
       "        <th>total_ventas</th>\n",
       "    </tr>\n",
       "    <tr>\n",
       "        <td>Jane Peacock</td>\n",
       "        <td>2017-04-01 00:00:00</td>\n",
       "        <td>Sales Support Agent</td>\n",
       "        <td>1732.0</td>\n",
       "    </tr>\n",
       "    <tr>\n",
       "        <td>Margaret Park</td>\n",
       "        <td>2017-05-03 00:00:00</td>\n",
       "        <td>Sales Support Agent</td>\n",
       "        <td>1584.0</td>\n",
       "    </tr>\n",
       "    <tr>\n",
       "        <td>Steve Johnson</td>\n",
       "        <td>2017-10-17 00:00:00</td>\n",
       "        <td>Sales Support Agent</td>\n",
       "        <td>1394.0</td>\n",
       "    </tr>\n",
       "</table>"
      ],
      "text/plain": [
       "[('Jane Peacock', '2017-04-01 00:00:00', 'Sales Support Agent', 1732.0),\n",
       " ('Margaret Park', '2017-05-03 00:00:00', 'Sales Support Agent', 1584.0),\n",
       " ('Steve Johnson', '2017-10-17 00:00:00', 'Sales Support Agent', 1394.0)]"
      ]
     },
     "execution_count": 9,
     "metadata": {},
     "output_type": "execute_result"
    }
   ],
   "source": [
    "%%sql\n",
    "SELECT e.first_name || \" \" || e.last_name AS \"nombre_empleado\",\n",
    "       e.hire_date AS \"fecha_contratacion\", \n",
    "       e.title AS \"titulo_empleado\",\n",
    "       ROUND(SUM(i.total)) AS \"total_ventas\"\n",
    "FROM employee AS \"e\"\n",
    "INNER JOIN customer AS \"c\" ON c.support_rep_id = e.employee_id    \n",
    "INNER JOIN invoice AS \"i\" ON i.customer_id = c.customer_id     \n",
    "GROUP BY nombre_empleado\n",
    "ORDER BY total_ventas DESC;    "
   ]
  },
  {
   "cell_type": "code",
   "execution_count": 10,
   "id": "042c1c99",
   "metadata": {},
   "outputs": [
    {
     "data": {
      "image/png": "[encoded data removed]",
      "text/plain": [
       "<Figure size 500x250 with 1 Axes>"
      ]
     },
     "metadata": {},
     "output_type": "display_data"
    }
   ],
   "source": [
    "# Vamos a graficar los resultados\n",
    "plt.style.use('seaborn-whitegrid')\n",
    "\n",
    "# Leemos la query con Pandas\n",
    "q3 = '''\n",
    "SELECT e.first_name || \" \" || e.last_name AS \"nombre_empleado\",\n",
    "       e.hire_date AS \"fecha_contratacion\", \n",
    "       e.title AS \"titulo_empleado\",\n",
    "       ROUND(SUM(i.total)) AS \"total_ventas\"\n",
    "FROM employee AS \"e\"\n",
    "INNER JOIN customer AS \"c\" ON c.support_rep_id = e.employee_id    \n",
    "INNER JOIN invoice AS \"i\" ON i.customer_id = c.customer_id     \n",
    "GROUP BY nombre_empleado\n",
    "ORDER BY total_ventas DESC;'''\n",
    "\n",
    "q3_df = pd.read_sql_query(q3, connection)\n",
    "\n",
    "# Creamos el gráfico\n",
    "fig, ax = plt.subplots(figsize=(5,2.5))\n",
    "ax.barh(q3_df['nombre_empleado'], q3_df['total_ventas'], height=0.3,color='#4DA8FF')\n",
    "ax.text(x=1300,y=2.65, s=\"Compras totales\", fontsize=12, weight='bold')\n",
    "ax.text(x=1300, y=2.44, s=\"Compras realizadas por los clientes asesorados por empleados\", fontsize=10)\n",
    "ax.tick_params(bottom=False, left=False)\n",
    "ax.set_xticks([1300,1600,1900])\n",
    "ax.set_xlim(1300,1900)\n",
    "\n",
    "plt.show()"
   ]
  },
  {
   "cell_type": "markdown",
   "id": "0f2a030d",
   "metadata": {},
   "source": [
    "Jane Peacock es la asesora cuyos clientes han gastado más en nuestra tienda (en términos absolutos), un total de 1732 dólares.\n",
    "\n",
    "Los clientes de Margaret Park gastaron un total de 1584 dólares, mientras que los de Steve Johnson gastaron 1394 dólares.\n",
    "\n",
    "La fecha de contratación de los tres empleados fue en el año 2017, en concreto:\n",
    "\n",
    "- Jane Peacock fue contratada el 01/04/2017\n",
    "- Margaret Park fue contratada el 03/05/2017\n",
    "- Steve Johnson fue contratado el 17/10/2017\n",
    "\n",
    "Para saber el impacto que la antigüedad de los empleados pudiera tener sobre las cantidades gastadas por los clientes, deberíamos conocer en qué fecha se realizó la última venta. \n",
    "\n",
    "Vamos a hacer una pequeña consulta para comprobarlo:"
   ]
  },
  {
   "cell_type": "code",
   "execution_count": 11,
   "id": "f1e4febf",
   "metadata": {},
   "outputs": [
    {
     "name": "stdout",
     "output_type": "stream",
     "text": [
      " * sqlite:///chinook.db\n",
      "Done.\n"
     ]
    },
    {
     "data": {
      "text/html": [
       "<table>\n",
       "    <tr>\n",
       "        <th>invoice_date</th>\n",
       "    </tr>\n",
       "    <tr>\n",
       "        <td>2020-12-30 00:00:00</td>\n",
       "    </tr>\n",
       "    <tr>\n",
       "        <td>2020-12-29 00:00:00</td>\n",
       "    </tr>\n",
       "    <tr>\n",
       "        <td>2020-12-27 00:00:00</td>\n",
       "    </tr>\n",
       "</table>"
      ],
      "text/plain": [
       "[('2020-12-30 00:00:00',), ('2020-12-29 00:00:00',), ('2020-12-27 00:00:00',)]"
      ]
     },
     "execution_count": 11,
     "metadata": {},
     "output_type": "execute_result"
    }
   ],
   "source": [
    "%%sql\n",
    "SELECT invoice_date \n",
    "FROM invoice\n",
    "ORDER BY 1 DESC\n",
    "LIMIT 3;"
   ]
  },
  {
   "cell_type": "markdown",
   "id": "c1895eba",
   "metadata": {},
   "source": [
    "La última venta fue el 30/12/2020, por lo que la antigüedad no es un factor determinante (los tres tienen una antigüedad suficiente para desempeñar el trabajo con plena soltura).\n",
    "\n",
    "Vamos a dividir las ventas totales de cada uno entre los meses que llevan en la empresa, y este dato va a ser más fiable que las ventas totales, teniendo en cuenta que no todos tienen la misma antigüedad. \n",
    "\n",
    "Vamos a calcular los periodos con el módulo datetime para obtener la mayor precisión posible."
   ]
  },
  {
   "cell_type": "code",
   "execution_count": 12,
   "id": "421173b9",
   "metadata": {},
   "outputs": [],
   "source": [
    "# Importamos el módulo datetime\n",
    "import datetime as dt\n",
    "\n",
    "# Fechas de contratación\n",
    "fecha_jane = dt.datetime(2017,4,1)\n",
    "fecha_marg = dt.datetime(2017,5,3)\n",
    "fecha_stev = dt.datetime(2017,10,17)\n",
    "\n",
    "# Fecha de la última compra\n",
    "fecha_ult = dt.datetime(2020,12,30)\n",
    "\n",
    "# Periodos de tiempo en días\n",
    "per_jane = (fecha_ult - fecha_jane)\n",
    "per_marg = (fecha_ult - fecha_marg)\n",
    "per_stev = (fecha_ult - fecha_stev)"
   ]
  },
  {
   "cell_type": "markdown",
   "id": "8f5f8f4a",
   "metadata": {},
   "source": [
    "**Ahora que tenemos los periodos, vamos a calcular las medias:**"
   ]
  },
  {
   "cell_type": "code",
   "execution_count": 13,
   "id": "fcdbe432",
   "metadata": {},
   "outputs": [
    {
     "data": {
      "text/plain": [
       "(37.95, 35.54, 35.74)"
      ]
     },
     "execution_count": 13,
     "metadata": {},
     "output_type": "execute_result"
    }
   ],
   "source": [
    "# Calculamos las medias, dividiendo entre periodos estándares de 30 días (meses)\n",
    "med_jane = round(1732/per_jane.days*30,2) \n",
    "med_marg = round(1584/per_marg.days*30,2)\n",
    "med_stev = round(1394/per_stev.days*30,2)\n",
    "\n",
    "med_jane, med_marg, med_stev"
   ]
  },
  {
   "cell_type": "markdown",
   "id": "8dc1efbb",
   "metadata": {},
   "source": [
    "**Compras medias mensuales de los clientes por empleado:** \n",
    "\n",
    "- Jane Peacock: 37.95 dólares\n",
    "- Margaret Park: 35.54 dólares\n",
    "- Steve Johnson: 35.74 dólares"
   ]
  },
  {
   "cell_type": "code",
   "execution_count": 14,
   "id": "121b1411",
   "metadata": {},
   "outputs": [
    {
     "data": {
      "image/png": "[encoded data removed]",
      "text/plain": [
       "<Figure size 500x250 with 1 Axes>"
      ]
     },
     "metadata": {},
     "output_type": "display_data"
    }
   ],
   "source": [
    "# Graficamos los resultados finales\n",
    "fig, ax = plt.subplots(figsize=(5,2.5))\n",
    "ax.barh(q3_df['nombre_empleado'], [med_jane, med_marg, med_stev], height=0.3,color='#4DA8FF')\n",
    "ax.text(x=30,y=2.65, s=\"Medias mensuales por empleado\", fontsize=12, weight='bold')\n",
    "ax.text(x=30, y=2.44, s=\"Compras medias realizadas por los clientes de cada empleado\", fontsize=10)\n",
    "ax.tick_params(bottom=False, left=False)\n",
    "ax.set_xticks([30,35,40])\n",
    "ax.set_xlim(30,40)\n",
    "\n",
    "plt.show()"
   ]
  },
  {
   "cell_type": "markdown",
   "id": "d6a76ff9",
   "metadata": {},
   "source": [
    "### Conclusiones Supuesto 2\n",
    "\n",
    "Tanto en términos relativos como en términos absolutos, Jane Peacock es la Agente de Ventas más productiva de la empresa, aunque los tres parecen desempeñar un buen trabajo (sus números son muy parecidos).\n",
    "\n",
    "Hemos calculado las compras medias por mes de los clientes en función de cada empleado, y los resultados son los que ya hemos visto:\n",
    "\n",
    "- **1) Jane Peacock: 37.95 dólares mensuales de media**\n",
    "- **2) Steve Johnson: 35.74 dólares mensuales de media**\n",
    "- **3) Margaret Park: 35.54 dólares mensuales de media**"
   ]
  },
  {
   "cell_type": "markdown",
   "id": "b3696716",
   "metadata": {},
   "source": [
    "## Supuesto 3. Buscando países con oportunidades de negocio \n",
    "\n",
    "Lo siguiente que vamos a analizar son los datos de los clientes por países, para comprobar **si hay alguna oportunidad de negocio en algún país.**\n",
    "\n",
    "Concretamente, vamos a calcular directamente (por país) los siguientes aspectos:\n",
    "\n",
    "- Número total de clientes\n",
    "- Valor total de ventas\n",
    "- Valor medio de compra por cliente\n",
    "- Número medio de compras"
   ]
  },
  {
   "cell_type": "code",
   "execution_count": 15,
   "id": "48eeb544",
   "metadata": {},
   "outputs": [
    {
     "name": "stdout",
     "output_type": "stream",
     "text": [
      " * sqlite:///chinook.db\n",
      "Done.\n"
     ]
    },
    {
     "data": {
      "text/html": [
       "<table>\n",
       "    <tr>\n",
       "        <th>pais</th>\n",
       "        <th>clientes_totales</th>\n",
       "        <th>valor_total_ventas</th>\n",
       "        <th>compra_media</th>\n",
       "        <th>num_medio_compras</th>\n",
       "        <th>gasto_medio_cliente</th>\n",
       "    </tr>\n",
       "    <tr>\n",
       "        <td>USA</td>\n",
       "        <td>13</td>\n",
       "        <td>1040.490000000008</td>\n",
       "        <td>7.942671755725252</td>\n",
       "        <td>10.0</td>\n",
       "        <td>80.03769230769292</td>\n",
       "    </tr>\n",
       "    <tr>\n",
       "        <td>Canada</td>\n",
       "        <td>8</td>\n",
       "        <td>535.5900000000034</td>\n",
       "        <td>7.047236842105309</td>\n",
       "        <td>9.0</td>\n",
       "        <td>66.94875000000043</td>\n",
       "    </tr>\n",
       "    <tr>\n",
       "        <td>France</td>\n",
       "        <td>5</td>\n",
       "        <td>389.0700000000021</td>\n",
       "        <td>7.781400000000042</td>\n",
       "        <td>10.0</td>\n",
       "        <td>77.81400000000042</td>\n",
       "    </tr>\n",
       "    <tr>\n",
       "        <td>Brazil</td>\n",
       "        <td>5</td>\n",
       "        <td>427.68000000000245</td>\n",
       "        <td>7.011147540983647</td>\n",
       "        <td>12.0</td>\n",
       "        <td>85.53600000000048</td>\n",
       "    </tr>\n",
       "    <tr>\n",
       "        <td>Germany</td>\n",
       "        <td>4</td>\n",
       "        <td>334.6200000000016</td>\n",
       "        <td>8.161463414634186</td>\n",
       "        <td>10.0</td>\n",
       "        <td>83.6550000000004</td>\n",
       "    </tr>\n",
       "    <tr>\n",
       "        <td>United Kingdom</td>\n",
       "        <td>3</td>\n",
       "        <td>245.52000000000078</td>\n",
       "        <td>8.768571428571457</td>\n",
       "        <td>9.0</td>\n",
       "        <td>81.84000000000026</td>\n",
       "    </tr>\n",
       "    <tr>\n",
       "        <td>Portugal</td>\n",
       "        <td>2</td>\n",
       "        <td>185.13000000000022</td>\n",
       "        <td>6.3837931034482835</td>\n",
       "        <td>14.0</td>\n",
       "        <td>92.56500000000011</td>\n",
       "    </tr>\n",
       "    <tr>\n",
       "        <td>India</td>\n",
       "        <td>2</td>\n",
       "        <td>183.1500000000002</td>\n",
       "        <td>8.72142857142858</td>\n",
       "        <td>10.0</td>\n",
       "        <td>91.5750000000001</td>\n",
       "    </tr>\n",
       "    <tr>\n",
       "        <td>Czech Republic</td>\n",
       "        <td>2</td>\n",
       "        <td>273.24000000000103</td>\n",
       "        <td>9.108000000000034</td>\n",
       "        <td>15.0</td>\n",
       "        <td>136.62000000000052</td>\n",
       "    </tr>\n",
       "</table>"
      ],
      "text/plain": [
       "[('USA', 13, 1040.490000000008, 7.942671755725252, 10.0, 80.03769230769292),\n",
       " ('Canada', 8, 535.5900000000034, 7.047236842105309, 9.0, 66.94875000000043),\n",
       " ('France', 5, 389.0700000000021, 7.781400000000042, 10.0, 77.81400000000042),\n",
       " ('Brazil', 5, 427.68000000000245, 7.011147540983647, 12.0, 85.53600000000048),\n",
       " ('Germany', 4, 334.6200000000016, 8.161463414634186, 10.0, 83.6550000000004),\n",
       " ('United Kingdom', 3, 245.52000000000078, 8.768571428571457, 9.0, 81.84000000000026),\n",
       " ('Portugal', 2, 185.13000000000022, 6.3837931034482835, 14.0, 92.56500000000011),\n",
       " ('India', 2, 183.1500000000002, 8.72142857142858, 10.0, 91.5750000000001),\n",
       " ('Czech Republic', 2, 273.24000000000103, 9.108000000000034, 15.0, 136.62000000000052)]"
      ]
     },
     "execution_count": 15,
     "metadata": {},
     "output_type": "execute_result"
    }
   ],
   "source": [
    "%%sql\n",
    "SELECT\n",
    "    c.country AS \"pais\",\n",
    "    COUNT(DISTINCT c.customer_id) AS \"clientes_totales\",\n",
    "    SUM(il.unit_price) AS \"valor_total_ventas\",\n",
    "    SUM(il.unit_price)/COUNT(DISTINCT il.invoice_id) AS \"compra_media\",\n",
    "    CAST((COUNT(DISTINCT il.invoice_id))/COUNT(DISTINCT c.customer_id) AS FLOAT) AS \"num_medio_compras\",\n",
    "    SUM(il.unit_price)/COUNT(DISTINCT c.customer_id) AS \"gasto_medio_cliente\"\n",
    "FROM\n",
    "    customer AS \"c\"\n",
    "INNER JOIN\n",
    "    invoice AS \"i\" ON i.customer_id = c.customer_id\n",
    "INNER JOIN\n",
    "    invoice_line AS \"il\" ON il.invoice_id = i.invoice_id\n",
    "GROUP BY 1\n",
    "ORDER BY 2 DESC\n",
    "LIMIT 9;        "
   ]
  },
  {
   "cell_type": "markdown",
   "id": "89e4b9c7",
   "metadata": {},
   "source": [
    "**Los países con un solo cliente los vamos a agrupar en un nuevo grupo llamado *Otro*, y vamos a ordenar por la compra media por cliente:**"
   ]
  },
  {
   "cell_type": "code",
   "execution_count": 16,
   "id": "ccd510fb",
   "metadata": {},
   "outputs": [
    {
     "name": "stdout",
     "output_type": "stream",
     "text": [
      " * sqlite:///chinook.db\n",
      "Done.\n"
     ]
    },
    {
     "data": {
      "text/html": [
       "<table>\n",
       "    <tr>\n",
       "        <th>pais</th>\n",
       "        <th>clientes_totales</th>\n",
       "        <th>valor_total_ventas</th>\n",
       "        <th>compra_media</th>\n",
       "        <th>num_medio_compras</th>\n",
       "        <th>valor_medio_cliente</th>\n",
       "    </tr>\n",
       "    <tr>\n",
       "        <td>Czech Republic</td>\n",
       "        <td>2</td>\n",
       "        <td>273.24000000000103</td>\n",
       "        <td>9.108000000000034</td>\n",
       "        <td>15.0</td>\n",
       "        <td>136.62000000000052</td>\n",
       "    </tr>\n",
       "    <tr>\n",
       "        <td>United Kingdom</td>\n",
       "        <td>3</td>\n",
       "        <td>245.52000000000078</td>\n",
       "        <td>8.768571428571457</td>\n",
       "        <td>9.0</td>\n",
       "        <td>81.84000000000026</td>\n",
       "    </tr>\n",
       "    <tr>\n",
       "        <td>India</td>\n",
       "        <td>2</td>\n",
       "        <td>183.1500000000002</td>\n",
       "        <td>8.72142857142858</td>\n",
       "        <td>10.0</td>\n",
       "        <td>91.5750000000001</td>\n",
       "    </tr>\n",
       "    <tr>\n",
       "        <td>Germany</td>\n",
       "        <td>4</td>\n",
       "        <td>334.6200000000016</td>\n",
       "        <td>8.161463414634186</td>\n",
       "        <td>10.0</td>\n",
       "        <td>83.6550000000004</td>\n",
       "    </tr>\n",
       "    <tr>\n",
       "        <td>USA</td>\n",
       "        <td>13</td>\n",
       "        <td>1040.490000000008</td>\n",
       "        <td>7.942671755725252</td>\n",
       "        <td>10.0</td>\n",
       "        <td>80.03769230769292</td>\n",
       "    </tr>\n",
       "    <tr>\n",
       "        <td>France</td>\n",
       "        <td>5</td>\n",
       "        <td>389.0700000000021</td>\n",
       "        <td>7.781400000000042</td>\n",
       "        <td>10.0</td>\n",
       "        <td>77.81400000000042</td>\n",
       "    </tr>\n",
       "    <tr>\n",
       "        <td>Otro</td>\n",
       "        <td>15</td>\n",
       "        <td>1094.9400000000085</td>\n",
       "        <td>7.448571428571486</td>\n",
       "        <td>9.0</td>\n",
       "        <td>72.99600000000056</td>\n",
       "    </tr>\n",
       "    <tr>\n",
       "        <td>Canada</td>\n",
       "        <td>8</td>\n",
       "        <td>535.5900000000034</td>\n",
       "        <td>7.047236842105309</td>\n",
       "        <td>9.0</td>\n",
       "        <td>66.94875000000043</td>\n",
       "    </tr>\n",
       "    <tr>\n",
       "        <td>Brazil</td>\n",
       "        <td>5</td>\n",
       "        <td>427.68000000000245</td>\n",
       "        <td>7.011147540983647</td>\n",
       "        <td>12.0</td>\n",
       "        <td>85.53600000000048</td>\n",
       "    </tr>\n",
       "    <tr>\n",
       "        <td>Portugal</td>\n",
       "        <td>2</td>\n",
       "        <td>185.13000000000022</td>\n",
       "        <td>6.3837931034482835</td>\n",
       "        <td>14.0</td>\n",
       "        <td>92.56500000000011</td>\n",
       "    </tr>\n",
       "</table>"
      ],
      "text/plain": [
       "[('Czech Republic', 2, 273.24000000000103, 9.108000000000034, 15.0, 136.62000000000052),\n",
       " ('United Kingdom', 3, 245.52000000000078, 8.768571428571457, 9.0, 81.84000000000026),\n",
       " ('India', 2, 183.1500000000002, 8.72142857142858, 10.0, 91.5750000000001),\n",
       " ('Germany', 4, 334.6200000000016, 8.161463414634186, 10.0, 83.6550000000004),\n",
       " ('USA', 13, 1040.490000000008, 7.942671755725252, 10.0, 80.03769230769292),\n",
       " ('France', 5, 389.0700000000021, 7.781400000000042, 10.0, 77.81400000000042),\n",
       " ('Otro', 15, 1094.9400000000085, 7.448571428571486, 9.0, 72.99600000000056),\n",
       " ('Canada', 8, 535.5900000000034, 7.047236842105309, 9.0, 66.94875000000043),\n",
       " ('Brazil', 5, 427.68000000000245, 7.011147540983647, 12.0, 85.53600000000048),\n",
       " ('Portugal', 2, 185.13000000000022, 6.3837931034482835, 14.0, 92.56500000000011)]"
      ]
     },
     "execution_count": 16,
     "metadata": {},
     "output_type": "execute_result"
    }
   ],
   "source": [
    "%%sql\n",
    "SELECT\n",
    "    CASE\n",
    "        WHEN (\n",
    "              SELECT COUNT(*)\n",
    "              FROM customer\n",
    "              WHERE country = c.country\n",
    "              ) = 1 THEN \"Otro\"\n",
    "        ELSE c.country\n",
    "    END AS \"pais\",\n",
    "    COUNT(DISTINCT c.customer_id) AS \"clientes_totales\",\n",
    "    SUM(il.unit_price) AS \"valor_total_ventas\",\n",
    "    SUM(il.unit_price)/COUNT(DISTINCT il.invoice_id) AS \"compra_media\",\n",
    "    CAST((COUNT(DISTINCT il.invoice_id))/COUNT(DISTINCT c.customer_id) AS FLOAT) AS \"num_medio_compras\",\n",
    "    SUM(il.unit_price)/COUNT(DISTINCT c.customer_id) AS \"valor_medio_cliente\"\n",
    "FROM\n",
    "    customer AS \"c\"\n",
    "INNER JOIN\n",
    "    invoice AS \"i\" ON i.customer_id = c.customer_id\n",
    "INNER JOIN\n",
    "    invoice_line AS \"il\" ON il.invoice_id = i.invoice_id\n",
    "GROUP BY 1\n",
    "ORDER BY 4 DESC;"
   ]
  },
  {
   "cell_type": "code",
   "execution_count": 17,
   "id": "09a1685b",
   "metadata": {},
   "outputs": [],
   "source": [
    "# Vamos a graficar los resultados\n",
    "\n",
    "# Leemos la query con Pandas\n",
    "q4 = '''\n",
    "SELECT\n",
    "    CASE\n",
    "        WHEN (\n",
    "              SELECT COUNT(*)\n",
    "              FROM customer\n",
    "              WHERE country = c.country\n",
    "              ) = 1 THEN \"Otro\"\n",
    "        ELSE c.country\n",
    "    END AS \"pais\",\n",
    "    COUNT(DISTINCT c.customer_id) AS \"clientes_totales\",\n",
    "    SUM(il.unit_price) AS \"valor_total_ventas\",\n",
    "    SUM(il.unit_price)/COUNT(DISTINCT il.invoice_id) AS \"compra_media\",\n",
    "    CAST((COUNT(DISTINCT il.invoice_id))/COUNT(DISTINCT c.customer_id) AS FLOAT) AS \"num_medio_compras\",\n",
    "    SUM(il.unit_price)/COUNT(DISTINCT c.customer_id) AS \"valor_medio_cliente\"\n",
    "FROM\n",
    "    customer AS \"c\"\n",
    "INNER JOIN\n",
    "    invoice AS \"i\" ON i.customer_id = c.customer_id\n",
    "INNER JOIN\n",
    "    invoice_line AS \"il\" ON il.invoice_id = i.invoice_id\n",
    "GROUP BY 1\n",
    "ORDER BY 4 DESC;\n",
    "'''\n",
    "\n",
    "q4_df = pd.read_sql_query(q4, connection)"
   ]
  },
  {
   "cell_type": "code",
   "execution_count": 18,
   "id": "6a4bc4d3",
   "metadata": {},
   "outputs": [
    {
     "data": {
      "image/png": "[encoded data removed]",
      "text/plain": [
       "<Figure size 500x500 with 1 Axes>"
      ]
     },
     "metadata": {},
     "output_type": "display_data"
    }
   ],
   "source": [
    "# RESULTADOS COMPRA MEDIA\n",
    "plt.style.use('seaborn-whitegrid')\n",
    "fig, ax = plt.subplots(figsize=(5,5))\n",
    "ax.barh(q4_df['pais'], q4_df['compra_media'],height=0.6,color='#358772')\n",
    "ax.text(x=0,y=10.8, s=\"Compra media de los clientes por país\", fontsize=12, weight='bold')\n",
    "ax.text(x=0, y=10.35, s=\"Compras medias en dólares realizadas por los clientes de cada país\", fontsize=10)\n",
    "ax.tick_params(bottom=False, left=False)\n",
    "ax.set_xticks([0,5,10])\n",
    "ax.set_xlim(0,10)\n",
    "\n",
    "plt.show()"
   ]
  },
  {
   "cell_type": "code",
   "execution_count": 19,
   "id": "a4d43b11",
   "metadata": {},
   "outputs": [
    {
     "data": {
      "image/png": "[encoded data removed]",
      "text/plain": [
       "<Figure size 500x500 with 1 Axes>"
      ]
     },
     "metadata": {},
     "output_type": "display_data"
    }
   ],
   "source": [
    "# RESULTADOS VALOR POR CLIENTE\n",
    "fig, ax = plt.subplots(figsize=(5,5))\n",
    "ax.barh(q4_df['pais'], q4_df['valor_medio_cliente'],height=0.6,color='#358772')\n",
    "ax.text(x=0,y=10.8, s=\"Gasto medio de los clientes por país\", fontsize=12, weight='bold')\n",
    "ax.text(x=0, y=10.35, s=\"Gasto medio en dólares realizado por los clientes de cada país\", fontsize=10)\n",
    "ax.tick_params(bottom=False, left=False)\n",
    "ax.set_xticks([0,50,100,150])\n",
    "ax.set_xlim(0,150)\n",
    "\n",
    "plt.show()"
   ]
  },
  {
   "cell_type": "markdown",
   "id": "9b4b666a",
   "metadata": {},
   "source": [
    "### Conclusiones Supuesto 3\n",
    "\n",
    "República Checa tiene el gasto medio más alto por cliente, y la compra media más elevada.\n",
    "\n",
    "Los clientes de India y Reino Unido también son interesantes, ya que la compra media de los clientes de éstas nacionalidades es superior a le media, mientras que el gasto medio está o en la media o por encima de ella.\n",
    "\n",
    "**Existen oportunidades de negocio en:**\n",
    "- **República Checa**\n",
    "- **Reino Unido**\n",
    "- **India**"
   ]
  },
  {
   "cell_type": "markdown",
   "id": "3b6f06fa",
   "metadata": {},
   "source": [
    "## Supuesto 4. Nuevas estrategias de compra para ahorrar costes\n",
    "\n",
    "La tienda está configurada de tal manera que permite al cliente realizar compras de las dos formas siguientes:\n",
    "\n",
    "- Comprar un álbum completo\n",
    "- Comprar una colección de una o más pistas individuales\n",
    "\n",
    "La tienda no permite que el cliente compre un álbum completo y que se agreguen pistas individuales a esa misma compra. Cuando los clientes compran álbumes, se les cobra el mismo precio que si hubiesen elegido las pistas que componen el álbum de forma individual.\n",
    "\n",
    "Se está considerando cambiar la estrategia de compras para ahorrar costes, que consiste en comprar solamente las pistas más populares de cada álbum a las compañías discográficas, en lugar de todas las pistas del álbum completo.\n",
    "\n",
    "**Se nos pide:**\n",
    "\n",
    "- Averiguar qué porcentaje de las compras son pistas individuales frente a álbumes completos\n",
    "\n",
    "Para responder a esto, debemos identificar si cada factura contiene todas las pistas de un álbum. Podemos hacer esta operación obteniendo la lista de pistas de la factura y comparándola con la lista de pistas de un álbum. \n",
    "\n",
    "Podemos encontrar el álbum con el que comparar la compra buscando el álbum al que pertenece una de las pistas compradas. \n",
    "No importa qué pista elijamos, ya que si es la compra de un álbum, ese álbum será el mismo para todas las pistas."
   ]
  },
  {
   "cell_type": "code",
   "execution_count": 20,
   "id": "353af458",
   "metadata": {},
   "outputs": [
    {
     "name": "stdout",
     "output_type": "stream",
     "text": [
      " * sqlite:///chinook.db\n",
      "Done.\n"
     ]
    },
    {
     "data": {
      "text/html": [
       "<table>\n",
       "    <tr>\n",
       "        <th>album_completo</th>\n",
       "        <th>numero_facturas</th>\n",
       "        <th>porcentaje</th>\n",
       "    </tr>\n",
       "    <tr>\n",
       "        <td>No</td>\n",
       "        <td>500</td>\n",
       "        <td>0.8143322475570033</td>\n",
       "    </tr>\n",
       "    <tr>\n",
       "        <td>Si</td>\n",
       "        <td>114</td>\n",
       "        <td>0.18566775244299674</td>\n",
       "    </tr>\n",
       "</table>"
      ],
      "text/plain": [
       "[('No', 500, 0.8143322475570033), ('Si', 114, 0.18566775244299674)]"
      ]
     },
     "execution_count": 20,
     "metadata": {},
     "output_type": "execute_result"
    }
   ],
   "source": [
    "%%sql\n",
    "\n",
    "WITH invoice_first_track AS\n",
    "    (\n",
    "     SELECT\n",
    "         il.invoice_id AS \"invoice_id\",\n",
    "         MIN(il.track_id) AS \"first_track_id\"\n",
    "     FROM invoice_line AS \"il\"\n",
    "     GROUP BY 1\n",
    "    )\n",
    "\n",
    "SELECT\n",
    "    album_completo,\n",
    "    COUNT(invoice_id) AS \"numero_facturas\",\n",
    "    CAST(count(invoice_id) AS FLOAT) / (\n",
    "                                         SELECT COUNT(*) FROM invoice\n",
    "                                      ) AS \"porcentaje\"\n",
    "FROM\n",
    "    (\n",
    "    SELECT\n",
    "        ifs.*,\n",
    "        CASE\n",
    "            WHEN\n",
    "                 (\n",
    "                  SELECT t.track_id FROM track AS \"t\"\n",
    "                  WHERE t.album_id = (\n",
    "                                      SELECT t2.album_id FROM track AS \"t2\"\n",
    "                                      WHERE t2.track_id = ifs.first_track_id\n",
    "                                     ) \n",
    "\n",
    "                  EXCEPT \n",
    "\n",
    "                  SELECT il2.track_id FROM invoice_line AS \"il2\"\n",
    "                  WHERE il2.invoice_id = ifs.invoice_id\n",
    "                 ) IS NULL\n",
    "             AND\n",
    "                 (\n",
    "                  SELECT il2.track_id FROM invoice_line il2\n",
    "                  WHERE il2.invoice_id = ifs.invoice_id\n",
    "\n",
    "                  EXCEPT \n",
    "\n",
    "                  SELECT t.track_id FROM track t\n",
    "                  WHERE t.album_id = (\n",
    "                                      SELECT t2.album_id FROM track t2\n",
    "                                      WHERE t2.track_id = ifs.first_track_id\n",
    "                                     ) \n",
    "                 ) IS NULL\n",
    "             THEN \"Si\"\n",
    "             ELSE \"No\"\n",
    "         END AS \"album_completo\"\n",
    "     FROM invoice_first_track ifs\n",
    "    )\n",
    "GROUP BY album_completo;"
   ]
  },
  {
   "cell_type": "code",
   "execution_count": 21,
   "id": "8cacf965",
   "metadata": {},
   "outputs": [
    {
     "data": {
      "image/png": "[encoded data removed]",
      "text/plain": [
       "<Figure size 600x300 with 1 Axes>"
      ]
     },
     "metadata": {},
     "output_type": "display_data"
    }
   ],
   "source": [
    "# Graficamos los resultados\n",
    "plt.figure(figsize=(6,3))\n",
    "plt.barh([\"Álbum Completo\", \"Pistas Sueltas\"], [500,144], height=0.5)\n",
    "plt.title(\"Facturas: Álbumes completos vs Pistas sueltas\", weight='bold')\n",
    "plt.xlabel(\"Número de facturas\")\n",
    "plt.show()"
   ]
  },
  {
   "cell_type": "markdown",
   "id": "4c1199b3",
   "metadata": {},
   "source": [
    "### Conclusiones Supuesto 4\n",
    "\n",
    "De las 614 facturas que tenemos:\n",
    "\n",
    "- El 18.56% de las compras fueron álbumes completos (114 facturas en total)\n",
    "- El 81.43% de las compras fueron pistas sueltas (500 facturas en total)\n",
    "\n",
    "**El 81.43% de las compras totales realizadas en nuestra tienda fueron de pistas sueltas, mientras que el 18.56% fueron álbumes completos. Uno de cada cinco clientes compra álbumes completos en la tienda, por lo que cambiar la política de compras tal y como propone la gerencia no sería una buena decisión.**\n",
    "\n",
    "**NUESTRA RECOMENDACIÓN:**\n",
    "\n",
    "Permitir a los clientes comprar de manera más flexible, de manera que si quieren comprar un álbum completo y además agregar pistas a esa misma compra, puedan hacerlo.\n",
    "\n",
    "Desde el punto de vista del cliente, es posible que al comprar un álbum completo, tener que pagar y luego volver a comprar las pistas sueltas, se pierdan ventas que de haber existido la posibilidad que proponemos no se habrían perdido."
   ]
  }
 ],
 "metadata": {
  "kernelspec": {
   "display_name": "Python 3",
   "language": "python",
   "name": "python3"
  },
  "language_info": {
   "codemirror_mode": {
    "name": "ipython",
    "version": 3
   },
   "file_extension": ".py",
   "mimetype": "text/x-python",
   "name": "python",
   "nbconvert_exporter": "python",
   "pygments_lexer": "ipython3",
   "version": "3.8.8"
  }
 },
 "nbformat": 4,
 "nbformat_minor": 5
}
