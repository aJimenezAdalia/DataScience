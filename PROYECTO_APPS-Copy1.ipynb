{
 "cells": [
  {
   "cell_type": "markdown",
   "metadata": {},
   "source": [
    "# Rentabilidad en Google Play / Apple Store\n",
    "\n",
    "En este proyecto, analizaremos datos reales de más de 7000 apps de AppleStore, y de unas 10.000 apps de Google Play Store, para ayudar a nuestros desarrolladores a comprender qué tipo de apps es probable que atraigan a más usuarios.\n",
    "\n",
    "Supondremos que solamente creamos apps 100% gratuitas, y haremos nuestros análisis en base a este criterio.\n",
    "\n",
    "Nuestro objetivo es estudiar el mercado de apps gratuitas, de tal forma que podamos saber qué tipo de app gratuita podemos desarrollar, ahorrando los máximos costes posibles, y obtener la mayor rentabilidad posible a costa de incluir publicidad en nuestra app.\n",
    "\n",
    "Para ello, utilizaremos nuestros datasets, y los depuraremos, de tal manera que podamos partir de una base que nos interese, y a partir de ahí estudiar qué géneros son los más populares entre los usuarios, qué rango de edad tiene el usuario que nos interesa, etc.\n",
    "\n",
    "Comenzaremos abriendo y explorando los dos datasets que vamos a utilizar. Ambos datasets están en formato .csv , y los hemos llamado 'googleplaystore.csv' y 'AppleStore.csv' ."
   ]
  },
  {
   "cell_type": "code",
   "execution_count": 2,
   "metadata": {},
   "outputs": [],
   "source": [
    "def explorarDatos(dataset, inicio, fin, filas_Columnas=False):\n",
    "    muestra = dataset[inicio:fin]\n",
    "    for fila in muestra:\n",
    "        print(fila)\n",
    "        print('\\n')\n",
    "        \n",
    "    if filas_Columnas:\n",
    "        print('Nº de filas: ', len(dataset))\n",
    "        print('Nº de columnas: ', len(dataset[0]))"
   ]
  },
  {
   "cell_type": "markdown",
   "metadata": {},
   "source": [
    "Hemos creado una función para mostrar una parte a elegir de cualquier dataset. La función explorarDatos() :\n",
    "\n",
    "Recibe cuatro parámetros:\n",
    "\n",
    "   * dataset: se espera que sea una lista de listas\n",
    "   * inicio,fin: se espera que sean de tipo int, representan el inicio \n",
    "      y el final de la muestra.\n",
    "   * filas_Columnas: se espera un tipo boolean, por defecto es False.\n",
    "      Si es True, imprime el nº de filas y columnas de la muestra."
   ]
  },
  {
   "cell_type": "markdown",
   "metadata": {},
   "source": [
    "## Primeras lecturas de los datasets"
   ]
  },
  {
   "cell_type": "markdown",
   "metadata": {},
   "source": [
    "Vamos a leer los dos datasets que queremos analizar, 'googleplaystore.csv' y 'AppleStore.csv' .\n",
    "\n",
    "Los guardaremos en una lista de listas, para poder utilizar la función *explorarDatos()* que hemos creado previamente.\n",
    "\n",
    "Las variables donde estarán almacenadas serán, respectivamente, 'datosApple' y 'datosGoogle' ."
   ]
  },
  {
   "cell_type": "code",
   "execution_count": 5,
   "metadata": {},
   "outputs": [],
   "source": [
    "from csv import reader\n",
    "\n",
    "abrirApple = open('E:/COSAS/Python/DataQuest_io/PROYECTO APPS/Datasets/AppleStore.csv', encoding='utf8')\n",
    "leerApple = reader(abrirApple)\n",
    "datosApple = list(leerApple)\n",
    "\n",
    "abrirGoogle = open('E:/COSAS/Python/DataQuest_io/PROYECTO APPS/Datasets/GooglePlay.csv', encoding='utf8')\n",
    "leerGoogle = reader(abrirGoogle)\n",
    "datosGoogle = list(leerGoogle)"
   ]
  },
  {
   "cell_type": "markdown",
   "metadata": {},
   "source": [
    "Vamos a ver una muestra de cada uno de los datasets. Mostraremos las 3 primeras aplicaciones de cada dataset.\n",
    "\n",
    "Los datos están representados en listas, vamos a ver qué información tiene cada uno de los elementos de las listas:\n",
    "\n",
    "APPLE STORE:\n",
    "\n",
    "| Column | Description |\n",
    "| --- | ----------- |\n",
    "| \"id\" | App ID |\n",
    "| \"track_name\" | App Name |\n",
    "| \"size_bytes\" | Size in bytes |\n",
    "| \"currency\" | Currency Type |\n",
    "| \"price\" | Price Amount |\n",
    "| \"rating_count_tot\" | User Rating counts (all version) |\n",
    "| \"rating_count_ver\" | User Rating counts (current version) |\n",
    "| \"user_rating\" | Average User Rating value (all version) |\n",
    "| \"user_rating_ver\" | Average User Rating value (current version) |\n",
    "| \"ver\" | Latest version code |\n",
    "| \"cont_rating\" | Content Rating |\n",
    "| \"prime_genre\" | Primary Genre |\n",
    "| \"sup_devices.num\" | Number of supporting devices |\n",
    "| \"ipadSc_urls.num\" | Number of screenshots showed for display |\n",
    "| \"lang.num\" | Number of supported languages |\n",
    "| \"vpp_lic\" | Vpp Device Based Licensing Enabled |\n",
    "\n",
    "\n",
    "GOOGLE PLAY:\n",
    "\n",
    "| Column | Description |\n",
    "| --- | ----------- |\n",
    "| \"App\" | App Name |\n",
    "| \"Category\" | App Category |\n",
    "| \"Rating\" | Overall user rating |\n",
    "| \"Reviews\" | Number of user reviews |\n",
    "| \"Size\" | Size of the app |\n",
    "| \"Installs\" | Number of downloads/installs |\n",
    "| \"Type\" | Paid or Free |\n",
    "| \"Price\" | Price of the app |\n",
    "| \"Content Rating\" | Age target group |\n",
    "| \"Genres\" | Genres the app belongs to |\n",
    "| \"Last Updated\" | Date of last update |\n",
    "| \"Current Ver\" | Current app Version |\n",
    "| \"Android Ver\" | Min required Android Ver |"
   ]
  },
  {
   "cell_type": "code",
   "execution_count": 6,
   "metadata": {},
   "outputs": [
    {
     "name": "stdout",
     "output_type": "stream",
     "text": [
      "['284882215', 'Facebook', '389879808', 'USD', '0.0', '2974676', '212', '3.5', '3.5', '95.0', '4+', 'Social Networking', '37', '1', '29', '1']\n",
      "\n",
      "\n",
      "['389801252', 'Instagram', '113954816', 'USD', '0.0', '2161558', '1289', '4.5', '4.0', '10.23', '12+', 'Photo & Video', '37', '0', '29', '1']\n",
      "\n",
      "\n",
      "['529479190', 'Clash of Clans', '116476928', 'USD', '0.0', '2130805', '579', '4.5', '4.5', '9.24.12', '9+', 'Games', '38', '5', '18', '1']\n",
      "\n",
      "\n",
      "['Photo Editor & Candy Camera & Grid & ScrapBook', 'ART_AND_DESIGN', '4.1', '159', '19M', '10,000+', 'Free', '0', 'Everyone', 'Art & Design', 'January 7, 2018', '1.0.0', '4.0.3 and up']\n",
      "\n",
      "\n",
      "['Coloring book moana', 'ART_AND_DESIGN', '3.9', '967', '14M', '500,000+', 'Free', '0', 'Everyone', 'Art & Design;Pretend Play', 'January 15, 2018', '2.0.0', '4.0.3 and up']\n",
      "\n",
      "\n",
      "['U Launcher Lite – FREE Live Cool Themes, Hide Apps', 'ART_AND_DESIGN', '4.7', '87510', '8.7M', '5,000,000+', 'Free', '0', 'Everyone', 'Art & Design', 'August 1, 2018', '1.2.4', '4.0.3 and up']\n",
      "\n",
      "\n"
     ]
    }
   ],
   "source": [
    "explorarDatos(datosApple,1,4)\n",
    "explorarDatos(datosGoogle,1,4)"
   ]
  },
  {
   "cell_type": "markdown",
   "metadata": {},
   "source": [
    "Como podemos observar, tenemos gran cantidad de datos que nos pueden ayudar con nuestro objetivo, \n",
    "pero también hay algunos datos que podemos (o debemos) descartar, para facilitar el análisis.\n",
    "\n",
    "Trabajaremos, en principio, con los siguientes datos:\n",
    "    \n",
    "    -Nombre de la app\n",
    "    -Precio: gratuito\n",
    "    -Valoración de los usuarios (más es mejor)\n",
    "    -Número de valoraciones totales (más es mejor)\n",
    "    -Número de descargas/instalaciones (más es mejor)\n",
    "    -Género/Categoría de la app\n",
    "    -Targets de edad (clientes potenciales)\n",
    "    \n",
    "Descartaremos los demás datos por no ser de utilidad para nuestra finalidad.\n",
    "\n",
    "Hay que tener en cuenta que el primer índice de cada dataset pertenece a la cabecera, y por lo tanto \n",
    "no constituye un dato como tal. Debemos descartar el índice [0] en cada dataset.\n",
    "Por tanto, en los datasets que vamos a evaluar, los índices que utilizaremos serán:\n",
    "    \n",
    "   **APPLE STORE**\n",
    "        \n",
    "   - Índice 2  \"track_name\"           **Nombre de la app**\n",
    "   - Índice 5  \"price\"                **Precio de la app**\n",
    "   - Índice 6  \"rating_count_tot\"     **Número de valoraciones totales**\n",
    "   - Índice 8  \"user_rating\"          **Valoraciones de usuarios**\n",
    "   - Índice 11 \"content rating\"       **Edad mínima para utilizar la app (target)**\n",
    "   - Índice 12 \"prime_genre\"          **Género de la app**\n",
    "   \n",
    "        \n",
    "   **GOOGLE PLAY**\n",
    "    \n",
    "   - Índice 1   \"Category\"            **Nombre de la app**\n",
    "   - Índice 2   \"Rating\"              **Valoraciones de usuarios**\n",
    "   - Índice 3   \"Reviews\"             **Número de valoraciones totales**\n",
    "   - Índice 5   \"Installs\"            **Número de descargas/instalaciones**\n",
    "   - Índice 6   \"Type\"                **Gratis/De Pago**\n",
    "   - Índice 8   \"Content Rating\"      **Edad mínima para utilizar la app (target)**\n",
    "   - Índice 9   \"Genres\"              **Género de la app**\n",
    "        \n",
    "        \n",
    "        "
   ]
  },
  {
   "cell_type": "markdown",
   "metadata": {},
   "source": [
    "# Data Cleaning"
   ]
  },
  {
   "cell_type": "markdown",
   "metadata": {},
   "source": [
    "Lo primero, y antes de empezar a realizar cualquier operación de Data Cleaning, vamos a comprobar exactamente cuantos elementos tenemos en cada dataset:"
   ]
  },
  {
   "cell_type": "code",
   "execution_count": 34,
   "metadata": {},
   "outputs": [
    {
     "name": "stdout",
     "output_type": "stream",
     "text": [
      "Tenemos 7197 apps en datosApple, y 10840 apps en datosGoogle.\n"
     ]
    }
   ],
   "source": [
    "numeroAppsApple = len(datosApple[1:])\n",
    "numeroAppsGoogle = len(datosGoogle[1:])\n",
    "\n",
    "print(f\"Tenemos {numeroAppsApple} apps en datosApple, y {numeroAppsGoogle} apps en datosGoogle.\")"
   ]
  },
  {
   "cell_type": "markdown",
   "metadata": {},
   "source": [
    "Antes de iniciar el análisis, debemos eliminar los datos que no nos interesan, para que el estudio que queremos realizar sea lo más preciso posible.\n",
    "\n",
    "Debemos eliminar apps que no sean en inglés o español, por ejemplo apps asiáticas que tengan como única opción el idioma chino. También debemos eliminar todas las apps de pago, porque queremos centrarnos en las aplicaciones gratuitas.\n",
    "\n",
    "Imprimimos el primer elemento de las listas, para verificar que efectivamente se trata de una cabecera:"
   ]
  },
  {
   "cell_type": "code",
   "execution_count": 8,
   "metadata": {
    "scrolled": false
   },
   "outputs": [
    {
     "name": "stdout",
     "output_type": "stream",
     "text": [
      "['App', 'Category', 'Rating', 'Reviews', 'Size', 'Installs', 'Type', 'Price', 'Content Rating', 'Genres', 'Last Updated', 'Current Ver', 'Android Ver']\n"
     ]
    }
   ],
   "source": [
    "cabeceraGoogle = datosGoogle[0]\n",
    "print(cabeceraGoogle)  "
   ]
  },
  {
   "cell_type": "code",
   "execution_count": 9,
   "metadata": {},
   "outputs": [
    {
     "name": "stdout",
     "output_type": "stream",
     "text": [
      "['id', 'track_name', 'size_bytes', 'currency', 'price', 'rating_count_tot', 'rating_count_ver', 'user_rating', 'user_rating_ver', 'ver', 'cont_rating', 'prime_genre', 'sup_devices.num', 'ipadSc_urls.num', 'lang.num', 'vpp_lic']\n"
     ]
    }
   ],
   "source": [
    "cabeceraApple = datosApple[0] \n",
    "print(cabeceraApple)"
   ]
  },
  {
   "cell_type": "markdown",
   "metadata": {},
   "source": [
    "Por tanto, confirmamos que los elementos [0] de cada dataset son las cabeceras. No tendremos en cuenta dichos elementos en los análisis.\n",
    "\n",
    "Vamos ahora a buscar errores en los datasets. Primero, verificamos que cada lista (app) tenga el mismo número de elementos.\n",
    "\n",
    "Mostramos la longitud de las cabeceras, y a continuación el de tres elementos aleatorios de cada dataset. Escogeremos el elemento 1000,2000 y 5000:"
   ]
  },
  {
   "cell_type": "code",
   "execution_count": 10,
   "metadata": {},
   "outputs": [
    {
     "name": "stdout",
     "output_type": "stream",
     "text": [
      "13\n",
      "16\n"
     ]
    }
   ],
   "source": [
    "print(len(cabeceraGoogle))\n",
    "print(len(cabeceraApple))"
   ]
  },
  {
   "cell_type": "markdown",
   "metadata": {},
   "source": [
    "Según estos datos, cada app de 'datosGoogle' debería tener 13 elementos, mientras que cada app de 'datosApple' debería tener 16 elementos."
   ]
  },
  {
   "cell_type": "code",
   "execution_count": 11,
   "metadata": {},
   "outputs": [
    {
     "name": "stdout",
     "output_type": "stream",
     "text": [
      "13\n",
      "13\n",
      "13\n"
     ]
    }
   ],
   "source": [
    "print(len(datosGoogle[1000]))\n",
    "print(len(datosGoogle[2000]))\n",
    "print(len(datosGoogle[5000]))"
   ]
  },
  {
   "cell_type": "code",
   "execution_count": 12,
   "metadata": {},
   "outputs": [
    {
     "name": "stdout",
     "output_type": "stream",
     "text": [
      "16\n",
      "16\n",
      "16\n"
     ]
    }
   ],
   "source": [
    "print(len(datosApple[1000]))\n",
    "print(len(datosApple[2000]))\n",
    "print(len(datosApple[5000]))"
   ]
  },
  {
   "cell_type": "markdown",
   "metadata": {},
   "source": [
    "Y por tanto confirmamos que cada app debería tener 13 y 16 elementos, respectivamente.\n",
    "\n",
    "Aún así vamos a iterar cada uno de los datasets para buscar errores."
   ]
  },
  {
   "cell_type": "markdown",
   "metadata": {},
   "source": [
    "### Limpieza de datos en el dataset de Google"
   ]
  },
  {
   "cell_type": "markdown",
   "metadata": {},
   "source": [
    "#### Longitud de los índices (Google)"
   ]
  },
  {
   "cell_type": "code",
   "execution_count": 13,
   "metadata": {},
   "outputs": [
    {
     "name": "stdout",
     "output_type": "stream",
     "text": [
      "10473\n"
     ]
    }
   ],
   "source": [
    "for app in datosGoogle:\n",
    "    if len(app) != 13:\n",
    "        print(datosGoogle.index(app))"
   ]
  },
  {
   "cell_type": "markdown",
   "metadata": {},
   "source": [
    "El índice 10473 no tiene 13 elementos, comprobamos cuántos elementos tiene:"
   ]
  },
  {
   "cell_type": "code",
   "execution_count": 14,
   "metadata": {
    "scrolled": true
   },
   "outputs": [
    {
     "name": "stdout",
     "output_type": "stream",
     "text": [
      "12\n"
     ]
    }
   ],
   "source": [
    "print(len(datosGoogle[10473]))"
   ]
  },
  {
   "cell_type": "markdown",
   "metadata": {},
   "source": [
    "Por lo tanto, vamos a eliminar el índice 10473 de datosGoogle:"
   ]
  },
  {
   "cell_type": "code",
   "execution_count": 15,
   "metadata": {},
   "outputs": [],
   "source": [
    "del datosGoogle[10473]"
   ]
  },
  {
   "cell_type": "markdown",
   "metadata": {},
   "source": [
    "Y volvemos a verificar datosGoogle:"
   ]
  },
  {
   "cell_type": "code",
   "execution_count": 16,
   "metadata": {},
   "outputs": [
    {
     "name": "stdout",
     "output_type": "stream",
     "text": [
      "Todos los índices tienen 13 elementos.\n"
     ]
    }
   ],
   "source": [
    "for app in datosGoogle:\n",
    "    defectuosos = []\n",
    "    if len(app) != 13:\n",
    "        print(datosGoogle.index(app))\n",
    "        defectuosos.append(app)\n",
    "if len(defectuosos) == 0:\n",
    "    print(\"Todos los índices tienen 13 elementos.\")"
   ]
  },
  {
   "cell_type": "markdown",
   "metadata": {},
   "source": [
    "#### Apps duplicadas (Google)"
   ]
  },
  {
   "cell_type": "markdown",
   "metadata": {},
   "source": [
    "Buscamos ahora errores de tipo duplicados. No nos interesa tener más de una lista por cada app, por lo que vamos a iterar de nuevo en el dataset en busca de duplicados.\n",
    "\n",
    "Para ello, vamos a crear dos listas vacías: una de elementos únicos, y otra de elementos duplicados.\n",
    "\n",
    "Vamos a imprimir una app aleatoria para buscar un criterio en el que basarnos para encontrar duplicados (si los hubiese):"
   ]
  },
  {
   "cell_type": "code",
   "execution_count": 17,
   "metadata": {},
   "outputs": [
    {
     "name": "stdout",
     "output_type": "stream",
     "text": [
      "['Photo Editor & Candy Camera & Grid & ScrapBook', 'ART_AND_DESIGN', '4.1', '159', '19M', '10,000+', 'Free', '0', 'Everyone', 'Art & Design', 'January 7, 2018', '1.0.0', '4.0.3 and up']\n"
     ]
    }
   ],
   "source": [
    "appgoogle1 = datosGoogle[1]\n",
    "print(appgoogle1)"
   ]
  },
  {
   "cell_type": "markdown",
   "metadata": {},
   "source": [
    "En el dataset de Google, el único elemento diferencial es el nombre, por lo tanto nos centraremos en este elemento para realizar nuestro filtro.\n",
    "El nombre en este dataset es el índice 1.\n",
    "\n",
    "Vamos a iterar en el dataset, y por cada iteración iteramos de nuevo en la app, e introduciremos el nombre de la app en una lista llamada *appsUnicasGoogle*; si existiese el nombre en la lista, entonces irá a otra lista llamada *appsDuplicadasGoogle* :"
   ]
  },
  {
   "cell_type": "code",
   "execution_count": 19,
   "metadata": {},
   "outputs": [
    {
     "name": "stdout",
     "output_type": "stream",
     "text": [
      "9659\n",
      "1181\n"
     ]
    }
   ],
   "source": [
    "appsUnicasGoogle = []\n",
    "appsDuplicadasGoogle = []\n",
    "\n",
    "for app in datosGoogle[1:]: # omitimos la cabecera\n",
    "    nombreApp = app[0]\n",
    "    if nombreApp in appsUnicasGoogle:\n",
    "        appsDuplicadasGoogle.append(nombreApp)\n",
    "    else:\n",
    "        appsUnicasGoogle.append(nombreApp)\n",
    "        \n",
    "appsUnicasGoogleLong = len(appsUnicasGoogle)\n",
    "appsDuplicadasGoogleLong = len(appsDuplicadasGoogle)\n",
    "\n",
    "print(appsUnicasGoogleLong)\n",
    "print(appsDuplicadasGoogleLong)"
   ]
  },
  {
   "cell_type": "markdown",
   "metadata": {},
   "source": [
    "Nos encontramos con que tenemos 1181 apps duplicadas en el dataset de Google. Tenemos dos listas, una con apps únicas, y otra con apps duplicadas.\n",
    "Antes de eliminar directamente la lista con las apps duplicadas, deberíamos pensar que quizás hay algún motivo por el cual están duplicadas las apps, y sería conveniente establecer algún criterio para saber qué elemento mantener y qué elemento eliminar.\n",
    "\n",
    "Si volvemos a echar un vistazo al dataset de Google, podemos observar que las apps tienen un índice llamado \"Reviews\" , que es el número total de valoraciones de los usuarios. Podría parecer razonable eliminar aquellos registros que tengan menos reviews; dicho de otro modo, si tenemos dos apps duplicadas, lo lógico sería mantener el registro con mayor número de reviews, ya que debería tratarse de la versión más actualizada de los datos.\n",
    "\n",
    "Para ello, vamos a crear un diccionario, cuyas claves serán las apps únicas, y el valor asignado será el mayor número de reviews, y de esta manera haremos sencilla la elección."
   ]
  },
  {
   "cell_type": "code",
   "execution_count": 29,
   "metadata": {},
   "outputs": [
    {
     "name": "stdout",
     "output_type": "stream",
     "text": [
      "9659\n"
     ]
    }
   ],
   "source": [
    "maximasReviews = {}\n",
    "\n",
    "for app in datosGoogle[1:]: # omitimos la cabecera\n",
    "    nombreApp = app[0]\n",
    "    numeroReviews = float(app[3])\n",
    "    \n",
    "    if nombreApp in maximasReviews and maximasReviews[nombreApp] < numeroReviews:\n",
    "        maximasReviews[nombreApp] = numeroReviews\n",
    "    else:\n",
    "        maximasReviews[nombreApp] = numeroReviews\n",
    "        \n",
    "print(len(maximasReviews))\n",
    "    "
   ]
  },
  {
   "cell_type": "markdown",
   "metadata": {},
   "source": [
    "Ya tenemos un diccionario ('maximasReviews') con las apps únicas y su valor máximo de reviews.\n",
    "Iteramos ahora en el dataset, y creamos un nuevo dataset (una lista de listas) con los valores que buscamos, esta vez siguiendo el criterio establecido en el diccionario."
   ]
  },
  {
   "cell_type": "code",
   "execution_count": 31,
   "metadata": {},
   "outputs": [
    {
     "name": "stdout",
     "output_type": "stream",
     "text": [
      "9659\n"
     ]
    }
   ],
   "source": [
    "datosGoogleLimpios = [] # nuevo dataset\n",
    "anadidos = [] # lista de apoyo \n",
    "\n",
    "for app in datosGoogle[1:]: # omitimos la cabecera\n",
    "    nombre = app[0]\n",
    "    reviews = float(app[3])\n",
    "    \n",
    "    if maximasReviews[nombre] == reviews and nombre not in anadidos:\n",
    "        datosGoogleLimpios.append(app)\n",
    "        anadidos.append(nombre)\n",
    "        \n",
    "print(len(datosGoogleLimpios))   "
   ]
  },
  {
   "cell_type": "markdown",
   "metadata": {},
   "source": [
    "Ahora que tenemos el dataset actualizado, vamos a explorar los 3 primeros índices:"
   ]
  },
  {
   "cell_type": "code",
   "execution_count": 32,
   "metadata": {},
   "outputs": [
    {
     "name": "stdout",
     "output_type": "stream",
     "text": [
      "['U Launcher Lite – FREE Live Cool Themes, Hide Apps', 'ART_AND_DESIGN', '4.7', '87510', '8.7M', '5,000,000+', 'Free', '0', 'Everyone', 'Art & Design', 'August 1, 2018', '1.2.4', '4.0.3 and up']\n",
      "\n",
      "\n",
      "['Sketch - Draw & Paint', 'ART_AND_DESIGN', '4.5', '215644', '25M', '50,000,000+', 'Free', '0', 'Teen', 'Art & Design', 'June 8, 2018', 'Varies with device', '4.2 and up']\n",
      "\n",
      "\n",
      "['Pixel Draw - Number Art Coloring Book', 'ART_AND_DESIGN', '4.3', '967', '2.8M', '100,000+', 'Free', '0', 'Everyone', 'Art & Design;Creativity', 'June 20, 2018', '1.1', '4.4 and up']\n",
      "\n",
      "\n"
     ]
    }
   ],
   "source": [
    "explorarDatos(datosGoogleLimpios,1,4)"
   ]
  },
  {
   "cell_type": "markdown",
   "metadata": {},
   "source": [
    "Ya tenemos el dataset de Google sin duplicados, y con los datos de las apps más recientes.\n",
    "Todos los índices del dataset tienen la misma longitud, por lo tanto seguimos con el siguiente paso."
   ]
  },
  {
   "cell_type": "markdown",
   "metadata": {},
   "source": [
    "#### Idiomas no deseados (Google)"
   ]
  },
  {
   "cell_type": "markdown",
   "metadata": {},
   "source": [
    "Como ya dijimos anteriormente, no nos interesan apps cuyo lenguaje no sea castellano o inglés. Lo que vamos a hacer ahora es eliminar todas las apps que contengan caracteres que comúnmente no se utilizan en inglés. \n",
    "\n",
    "Los ordenadores almacenan toda la información como números. Para representar datos de caracteres, utilizan un esquema de traducción para mapear cada caracter a su número correspondiente.\n",
    "Cada caracter que utilizamos en un string, tiene asociado un número. Por ejemplo, el número correspondiente al caracter 'a' es 97, el caracter '#' es 35, y el caracter '爱' is 29,233.\n",
    "\n",
    "Podemos comprobar el número correspondiente a cada caracter con la función ord()."
   ]
  },
  {
   "cell_type": "code",
   "execution_count": 37,
   "metadata": {},
   "outputs": [
    {
     "name": "stdout",
     "output_type": "stream",
     "text": [
      "97\n",
      "98\n",
      "35\n",
      "29233\n",
      "43\n"
     ]
    }
   ],
   "source": [
    "print(ord('a'))\n",
    "print(ord('b'))\n",
    "print(ord('#'))\n",
    "print(ord('爱'))\n",
    "print(ord('+'))"
   ]
  },
  {
   "cell_type": "markdown",
   "metadata": {},
   "source": [
    "Los números correspondientes a los caracteres que utilizamos normalmente están comprendidos en el rango de 0 a 127, de acuerdo con el sistema ASCII (American Standard Code for Information Interchange).\n",
    "Si nos basamos en esta premisa, podemos construir una función que detecte si un caracter pertenece al sistema ASCII o no.\n",
    "\n",
    "Los strings en Python son iterables, por lo que podemos realizar nuestra tarea con facilidad.\n",
    "\n",
    "Si el nombre de una app contiene algún caracter cuyo número asociado sea mayor que 127, lo más probable es que se trate de una app que no nos interesa."
   ]
  },
  {
   "cell_type": "code",
   "execution_count": 40,
   "metadata": {},
   "outputs": [],
   "source": [
    "def noASCII(nombre):\n",
    "    for letra in nombre:\n",
    "        numAsociado = ord(letra)\n",
    "        if numAsociado > 127:\n",
    "            return False\n",
    "    return True"
   ]
  },
  {
   "cell_type": "markdown",
   "metadata": {},
   "source": [
    "Esta función, que hemos llamado 'noASCII' , devuelve 'False' si el string recibido contiene algún caracter no-ASCII. En concreto, recibe un string, itera caracter a caracter, aplicamos la función *ord()* al caracter, y si es mayor de 127, devuelve 'False' de inmediato. En caso contrario, devolverá 'True'.\n",
    "\n",
    "Vamos a probar la función con unos ejemplos:\n",
    "\n",
    "- 'Instagram'\n",
    "- '爱奇艺PPS -《欢乐颂2》电视剧热播'\n",
    "- 'Docs To Go™ Free Office Suite'\n",
    "- 'Instachat 😜'"
   ]
  },
  {
   "cell_type": "code",
   "execution_count": 41,
   "metadata": {},
   "outputs": [
    {
     "name": "stdout",
     "output_type": "stream",
     "text": [
      "True\n",
      "False\n",
      "False\n",
      "False\n"
     ]
    }
   ],
   "source": [
    "print(noASCII('Instagram'))\n",
    "print(noASCII('爱奇艺PPS -《欢乐颂2》电视剧热播'))\n",
    "print(noASCII('Docs To Go™ Free Office Suite'))\n",
    "print(noASCII('Instachat 😜'))"
   ]
  },
  {
   "cell_type": "markdown",
   "metadata": {},
   "source": [
    "Podemos observar que la función no resuelve el problema, ya que hay caracteres que sí que se utilizan en inglés o castellano, pero que escapan del rango (0,127)."
   ]
  },
  {
   "cell_type": "code",
   "execution_count": 42,
   "metadata": {},
   "outputs": [
    {
     "name": "stdout",
     "output_type": "stream",
     "text": [
      "8482\n",
      "128540\n"
     ]
    }
   ],
   "source": [
    "print(ord('™'))\n",
    "print(ord('😜'))"
   ]
  },
  {
   "cell_type": "markdown",
   "metadata": {},
   "source": [
    "Para resolver este problema, y minimizar el impacto indeseado de pérdida de datos, vamos a reescribir la función que hemos creado. \n",
    "Lo que vamos a hacer es eliminar todas aquéllas apps que contengan al menos tres caracteres fuera del rango ASCII. Es cierto que ésta medida no será 100% perfecta, pero sí que será (previsiblemente) altamente efectiva, ya que, aun siendo posible que existan apps que nos interesen con más de tres caracteres fuera del rango ASCII, consideraremos esta posibilidad como improbable, y asumiremos que, pudiendo perder una pequeña cantidad de datos, se contrarrestará con la ganancia de tiempo invertido en la búsqueda.\n",
    "\n",
    "Vamos a reescribir la función como *noASCII_3()* :"
   ]
  },
  {
   "cell_type": "code",
   "execution_count": 48,
   "metadata": {},
   "outputs": [],
   "source": [
    "def noASCII_3(nombre):\n",
    "    contador = 0\n",
    "    for letra in nombre:        \n",
    "        numAsociado = ord(letra)\n",
    "        if numAsociado > 127:\n",
    "            contador += 1\n",
    "            if contador > 3:\n",
    "                return False\n",
    "    return True"
   ]
  },
  {
   "cell_type": "markdown",
   "metadata": {},
   "source": [
    "La función que hemos reescrito, recibe un string, el cual iterará, y en cada iteración:\n",
    "- Creamos un contador, partiendo desde cero.\n",
    "- Aplicamos la función *ord()* a cada caracter.\n",
    "- Si *ord()* devuelve un valor mayor a 127, sumará 1 al contador.\n",
    "- Si en el nombre de la app hay más de 3 caracteres que cumplen la condición, devolverá 'False'.\n",
    "- De lo contrario, devolverá 'True'.\n",
    "\n",
    "Ahora, probamos la nueva función con las apps anteriormente utilizadas, para comprobar que el  funcionamiento es correcto:"
   ]
  },
  {
   "cell_type": "code",
   "execution_count": 49,
   "metadata": {
    "scrolled": true
   },
   "outputs": [
    {
     "name": "stdout",
     "output_type": "stream",
     "text": [
      "True\n",
      "False\n",
      "True\n",
      "True\n"
     ]
    }
   ],
   "source": [
    "print(noASCII_3('Instagram'))\n",
    "print(noASCII_3('爱奇艺PPS -《欢乐颂2》电视剧热播'))\n",
    "print(noASCII_3('Docs To Go™ Free Office Suite'))\n",
    "print(noASCII_3('Instachat 😜'))"
   ]
  },
  {
   "cell_type": "markdown",
   "metadata": {},
   "source": [
    "Llegados a este punto, vamos a utilizar la función *noASCII_3* para eliminar las apps que no nos interesan del dataset 'datosGoogle'.\n",
    "\n",
    "Seguimos utilizando el método anteriormente utilizado: creamos una lista vacía (en este caso la llamaremos 'appsASCIIgoogle') para ir agregando los nombres de las apps que nos interesan, en este caso, todos los nombres de las apps que, al aplicarles nuestra función, devuelvan 'True':"
   ]
  },
  {
   "cell_type": "code",
   "execution_count": 55,
   "metadata": {},
   "outputs": [
    {
     "name": "stdout",
     "output_type": "stream",
     "text": [
      "Hay 9613 apps con caracteres ASCII en el dataset de Google\n"
     ]
    }
   ],
   "source": [
    "appsASCIIgoogle = []\n",
    "\n",
    "for app in datosGoogleLimpios[1:]: # omitimos la cabecera\n",
    "    nombreApp = app[0]\n",
    "    appFiltrada = noASCII_3(nombreApp)\n",
    "    if appFiltrada == True:\n",
    "        appsASCIIgoogle.append(app)\n",
    "\n",
    "ASCIIappsGoogLong = len(appsASCIIgoogle) # nº de apps con caracteres ASCII\n",
    "\n",
    "print(f\"Hay {ASCIIappsGoogLong} apps con caracteres ASCII en el dataset de Google\")"
   ]
  },
  {
   "cell_type": "markdown",
   "metadata": {},
   "source": [
    "De ahora en adelante, la lista que utilizaremos será como dataset de Google será la recién creada **appsASCIIgoogle** ."
   ]
  },
  {
   "cell_type": "markdown",
   "metadata": {},
   "source": [
    "#### Filtrando aplicaciones gratuitas (Google)"
   ]
  },
  {
   "cell_type": "markdown",
   "metadata": {},
   "source": [
    "Hasta el momento, en el proceso de data cleaning, hemos realizado las siguientes operaciones:\n",
    "- Eliminar datos incorrectos\n",
    "- Eliminar apps duplicadas\n",
    "- Eliminar apps con idiomas no deseados\n",
    "\n",
    "Ya hemos mencionado que solo trabajaremos con apps gratuitas, y que nuestro objetivo es introducir publicidad en dichas aplicaciones. Por lo tanto, ahora nos centraremos en filtrar las aplicaciones que no sean de pago.\n",
    "\n",
    "Este paso será el último que realizaremos en nuestro proceso de data cleaning.\n",
    "\n",
    "Vamos a explicar brevemente cómo realizaremos este paso:\n",
    "- Iteramos en nuestro dataset\n",
    "- Buscaremos el índice correspondiente al precio de la app\n",
    "- Seleccionaremos únicamente las apps con precio '0'.\n",
    "\n",
    "Antes de iniciar el proceso, vamos a ver de qué manera viene reflejado el precio de la app en el dataset.\n",
    "Si observamos la estructura del dataset de Google, veremos que el índice nº 6 refleja lo siguiente:\n",
    "\n",
    "\"Type\"  Paid or Free\n",
    "\n",
    "Vamos a imprimir 3 aplicaciones aleatorias para verlo con detalle:"
   ]
  },
  {
   "cell_type": "code",
   "execution_count": 56,
   "metadata": {},
   "outputs": [
    {
     "name": "stdout",
     "output_type": "stream",
     "text": [
      "['Paper flowers instructions', 'ART_AND_DESIGN', '4.4', '167', '5.6M', '50,000+', 'Free', '0', 'Everyone', 'Art & Design', 'March 26, 2017', '1.0', '2.3 and up']\n",
      "['SweetLand — Family Board Game', 'FAMILY', '4.2', '38', '47M', '1,000+', 'Paid', '$0.99', 'Everyone', 'Casual;Pretend Play', 'November 14, 2014', '1.2', '2.3.3 and up']\n",
      "['Smart Air Conditioner(CAC)', 'TOOLS', '3.2', '409', '7.9M', '50,000+', 'Free', '0', 'Everyone', 'Tools', 'May 25, 2018', '1.0.18', '2.2 and up']\n"
     ]
    }
   ],
   "source": [
    "print(appsASCIIgoogle[3])\n",
    "print(appsASCIIgoogle[1500])\n",
    "print(appsASCIIgoogle[3750])"
   ]
  },
  {
   "cell_type": "markdown",
   "metadata": {},
   "source": [
    "Vemos que el índice nº 6 de las apps de pago corresponde al string 'Paid' , mientras que el de las apps gratuitas es 'Free'.\n",
    "\n",
    "Iteraremos sobre cada app, y todas aquellas cuyo índice 6 sea 'Free', irán a parar a la lista definitiva con la que trabajaremos:"
   ]
  },
  {
   "cell_type": "code",
   "execution_count": 57,
   "metadata": {},
   "outputs": [
    {
     "name": "stdout",
     "output_type": "stream",
     "text": [
      "Tenemos 8861 aplicaciones que nos interesan\n"
     ]
    }
   ],
   "source": [
    "dataGoogle = []\n",
    "\n",
    "for app in appsASCIIgoogle[1:]:\n",
    "    precio = app[6]\n",
    "    if precio == 'Free':\n",
    "        dataGoogle.append(app)\n",
    "\n",
    "numAppsGoog = len(dataGoogle)\n",
    "\n",
    "print(f\"Tenemos {numAppsGoog} aplicaciones que nos interesan\")"
   ]
  },
  {
   "cell_type": "markdown",
   "metadata": {},
   "source": [
    "Vamos a corroborar que las apps son gratuitas. Imprimimos 3 elementos al azar:"
   ]
  },
  {
   "cell_type": "code",
   "execution_count": 59,
   "metadata": {},
   "outputs": [
    {
     "name": "stdout",
     "output_type": "stream",
     "text": [
      "['Garden Coloring Book', 'ART_AND_DESIGN', '4.4', '13791', '33M', '1,000,000+', 'Free', '0', 'Everyone', 'Art & Design', 'September 20, 2017', '2.9.2', '3.0 and up']\n",
      "['Sygic Car Navigation', 'MAPS_AND_NAVIGATION', '4.7', '162049', '48M', '5,000,000+', 'Free', '0', 'Everyone', 'Maps & Navigation', 'August 7, 2018', '18.0.2', '4.4 and up']\n",
      "['Chrome Dev', 'COMMUNICATION', '4.4', '63576', 'Varies with device', '5,000,000+', 'Free', '0', 'Everyone', 'Communication', 'August 2, 2018', '69.0.3497.24', 'Varies with device']\n"
     ]
    }
   ],
   "source": [
    "print(dataGoogle[5])\n",
    "print(dataGoogle[2575])\n",
    "print(dataGoogle[5689])"
   ]
  },
  {
   "cell_type": "markdown",
   "metadata": {},
   "source": [
    "### Limpieza de datos en el dataset de Apple"
   ]
  },
  {
   "cell_type": "markdown",
   "metadata": {},
   "source": [
    "Para preparar el dataset de Apple, realizaremos los mismos pasos que en el dataset de Google."
   ]
  },
  {
   "cell_type": "markdown",
   "metadata": {},
   "source": [
    "#### Longitud de los índices (Apple)"
   ]
  },
  {
   "cell_type": "code",
   "execution_count": 39,
   "metadata": {},
   "outputs": [
    {
     "name": "stdout",
     "output_type": "stream",
     "text": [
      "Todos los índices tienen 13 elementos.\n"
     ]
    }
   ],
   "source": [
    "for app in datosApple:\n",
    "    defectuosos = []\n",
    "    if len(app) != 16:\n",
    "        print(datosApple.index(app))\n",
    "        defectuosos.append(app)\n",
    "if len(defectuosos) == 0:\n",
    "    print(\"Todos los índices tienen 13 elementos.\")"
   ]
  },
  {
   "cell_type": "markdown",
   "metadata": {},
   "source": [
    "Tal y como hicimos con el dataset de Google, vamos a buscar apps duplicadas. En el dataset de Apple, el índice '0' de cada app (lista) es la ID única de la app. Por tanto, podemos iterar el dataset, examinar las ID, y si se repiten encontraremos duplicados.\n",
    "\n",
    "Para ello, vamos a crear una lista vacía, que llamaremos 'appleDup' , donde iremos almacenando aquellos ID que se repitan en el dataset."
   ]
  },
  {
   "cell_type": "code",
   "execution_count": 36,
   "metadata": {},
   "outputs": [
    {
     "name": "stdout",
     "output_type": "stream",
     "text": [
      "El dataset de Apple tiene 0 elementos duplicados\n"
     ]
    }
   ],
   "source": [
    "appleDup =  []\n",
    "\n",
    "for app in datosApple[1:]: # omitimos la cabecera\n",
    "    idApp = app[0]\n",
    "    if idApp not in appleDup:\n",
    "        appleDup.append(idApp)\n",
    "        \n",
    "numDup = len(datosApple[1:]) - len(appleDup)\n",
    "print(f\"El dataset de Apple tiene {numDup} elementos duplicados\")"
   ]
  },
  {
   "cell_type": "markdown",
   "metadata": {},
   "source": [
    "Por tanto, el dataset de Apple está por defecto listo para seguir con la limpieza de datos, pero era necesario comprobar que efectivamente estaba exento de errores."
   ]
  },
  {
   "cell_type": "markdown",
   "metadata": {},
   "source": [
    "#### Idiomas no deseados (Apple)"
   ]
  },
  {
   "cell_type": "markdown",
   "metadata": {},
   "source": [
    "Tal y como hicimos con el dataset de Google, y aprovechando la función que tenemos escrita, vamos a limpiar el dataset de Apple (que por defecto viene listo para limpiarlo, como hemos comprobado):"
   ]
  },
  {
   "cell_type": "code",
   "execution_count": 64,
   "metadata": {},
   "outputs": [
    {
     "name": "stdout",
     "output_type": "stream",
     "text": [
      "Hay 6183 apps con caracteres ASCII en el dataset de Apple\n"
     ]
    }
   ],
   "source": [
    "appsASCIIapple = []\n",
    "\n",
    "for app in datosApple[1:]: # omitimos la cabecera\n",
    "    nombreApp = app[1] # en este caso, el índice 0 corresponde al ID, y el 1 al nombre de la app\n",
    "    appFiltrada = noASCII_3(nombreApp)\n",
    "    if appFiltrada == True:\n",
    "        appsASCIIapple.append(app)\n",
    "\n",
    "ASCIIappsAppleLong = len(appsASCIIapple) # nº de apps con caracteres ASCII\n",
    "\n",
    "print(f\"Hay {ASCIIappsAppleLong} apps con caracteres ASCII en el dataset de Apple\")"
   ]
  },
  {
   "cell_type": "markdown",
   "metadata": {},
   "source": [
    "#### Filtrando aplicaciones gratuitas (Apple)"
   ]
  },
  {
   "cell_type": "markdown",
   "metadata": {},
   "source": [
    "Si observamos el dataset de Apple, vamos que el índice que refleja el precio de la app es el nº 4.\n",
    "\n",
    "Vamos a comprobar de qué manera viene reflejado el precio de las apps en el dataset de Apple:"
   ]
  },
  {
   "cell_type": "code",
   "execution_count": 61,
   "metadata": {},
   "outputs": [
    {
     "name": "stdout",
     "output_type": "stream",
     "text": [
      "['284035177', 'Pandora - Music & Radio', '130242560', 'USD', '0.0', '1126879', '3594', '4.0', '4.5', '8.4.1', '12+', 'Music', '37', '4', '1', '1']\n",
      "['487250856', \"Lep's World Plus - super best platformer games\", '42897408', 'USD', '0.99', '30830', '100', '4.5', '4.5', '2.8.4', '4+', 'Games', '40', '5', '18', '1']\n",
      "['1097587096', 'Diced - A Simple Puzzle Dice Game', '54171648', 'USD', '0.0', '53', '3', '4.5', '5.0', '1.3.6', '4+', 'Games', '37', '4', '1', '1']\n"
     ]
    }
   ],
   "source": [
    "print(datosApple[5])\n",
    "print(datosApple[500])\n",
    "print(datosApple[5000])"
   ]
  },
  {
   "cell_type": "markdown",
   "metadata": {},
   "source": [
    "Vemos que el precio en las apps gratuitas viene reflejado como el string '0.0', por lo que cualquier precio distinto de dicho string, será de pago.\n",
    "\n",
    "Filtremos entonces las apps gratuitas:"
   ]
  },
  {
   "cell_type": "code",
   "execution_count": 65,
   "metadata": {},
   "outputs": [
    {
     "name": "stdout",
     "output_type": "stream",
     "text": [
      "Tenemos 3221 aplicaciones que nos interesan\n"
     ]
    }
   ],
   "source": [
    "dataApple = []\n",
    "\n",
    "for app in appsASCIIapple[1:]: # omitimos la cabecera\n",
    "    precio = app[4] # el índice del precio\n",
    "    if precio == '0.0' or precio == '0': # por seguridad, introducimos la posibilidad precio = '0'\n",
    "        dataApple.append(app)\n",
    "\n",
    "numAppsApple = len(dataApple)\n",
    "\n",
    "print(f\"Tenemos {numAppsApple} aplicaciones que nos interesan\")"
   ]
  },
  {
   "cell_type": "markdown",
   "metadata": {},
   "source": [
    "## Conclusiones: Data Cleaning"
   ]
  },
  {
   "cell_type": "markdown",
   "metadata": {},
   "source": [
    "Vamos a recopilar todos los datos que hemos obtenido, y qué es lo que hemos hecho hasta ahora:\n",
    "\n",
    "- Partimos de dos datasets de apps de Google Play y de Apple Store.\n",
    "- Hemos eliminado errores en los datasets.\n",
    "- Hemos eliminado elementos duplicados.\n",
    "- Hemos eliminado apps no deseadas, al no tratarse de apps en inglés o castellano.\n",
    "- Hemos filtrado solamente las aplicaciones gratuitas.\n",
    "\n",
    "Tras este proceso, tenemos los siguientes datasets, ya limpios de errores, que solamente contienen aplicaciones gratuitas:\n",
    "\n",
    "- **dataGoogle** , que es una lista de apps gratuitas de Google Play.\n",
    "- **dataApple** , lista de apps gratuitas de Apple Store."
   ]
  },
  {
   "cell_type": "markdown",
   "metadata": {},
   "source": [
    "# Géneros populares"
   ]
  },
  {
   "cell_type": "markdown",
   "metadata": {},
   "source": [
    "Ya hemos construido los datasets que serán la base de nuestro estudio.\n",
    "\n",
    "Nuestro objetivo (como explicamos en la introducción) es analizar el mercado de las apps gratuitas, para poder desarrollar una app propia, lo más barata posible, y que resulte en beneficios a través de la publicidad.\n",
    "\n",
    "La idea es crear una app minimalista, con pocos recursos, e introducir dicha app en Google Play y en Apple Store. Para ello, primero debemos conocer qué géneros son los más populares en ambos mercados.\n",
    "Un género que funcione bien en las dos tiendas, es potencialmente beneficioso para nosotros, ya que esperamos que muchos usuarios descarguen e instalen nuestra aplicación.\n",
    "\n",
    "La ruta a seguir sería la siguiente:\n",
    "\n",
    "- Crear una aplicación minimalista\n",
    "- Introducir la aplicación en Google Play\n",
    "- Si la app tiene buena acogida, continuar su desarrollo\n",
    "- Si la app genera beneficios tras 6 meses, incorporarla a la Apple Store\n",
    "\n",
    "\n",
    "Atendiendo a la estructura de los datasets que tenemos, vemos lo siguiente:"
   ]
  },
  {
   "cell_type": "code",
   "execution_count": 69,
   "metadata": {
    "scrolled": true
   },
   "outputs": [
    {
     "name": "stdout",
     "output_type": "stream",
     "text": [
      "['282935706', 'Bible', '92774400', 'USD', '0.0', '985920', '5320', '4.5', '5.0', '7.5.1', '4+', 'Reference', '37', '5', '45', '1']\n",
      "\n",
      "\n",
      "['Garden Coloring Book', 'ART_AND_DESIGN', '4.4', '13791', '33M', '1,000,000+', 'Free', '0', 'Everyone', 'Art & Design', 'September 20, 2017', '2.9.2', '3.0 and up']\n"
     ]
    }
   ],
   "source": [
    "print(dataApple[5])\n",
    "print(\"\\n\")\n",
    "print(dataGoogle[5])"
   ]
  },
  {
   "cell_type": "markdown",
   "metadata": {},
   "source": [
    "Nos interesa conocer:\n",
    "\n",
    "- El género de la app\n",
    "- El número de descargas/instalaciones\n",
    "- El número de valoraciones\n",
    "- La calidad de las valoraciones\n",
    "- El target de edad"
   ]
  },
  {
   "cell_type": "markdown",
   "metadata": {},
   "source": [
    "Vamos primero a estudiar los géneros más populares entre los usuarios. \n",
    "\n",
    "El índice que pertenece a los géneros de las apps, son \"prime_genre\" (índice 11) en el caso de la App Store, y \"Category\" (índice 1) , \"Genres\" (índice 9) en el caso de Google Play.\n",
    "\n",
    "Necesitamos crear una tabla de frecuencia, para conocer los porcentajes de cada género.\n",
    "\n",
    "Vamos a crear dos funciones para realizar esta tarea."
   ]
  },
  {
   "cell_type": "code",
   "execution_count": 74,
   "metadata": {},
   "outputs": [],
   "source": [
    "def tablaFrecuencia(dataset, indice):\n",
    "    dicFrecuencia = {}\n",
    "    total = 0\n",
    "    for elemento in dataset:\n",
    "        total += 1\n",
    "        elem = elemento[indice]\n",
    "        if elem in dicFrecuencia:\n",
    "            dicFrecuencia[elem] += 1\n",
    "        else:\n",
    "            dicFrecuencia[elem] = 1\n",
    "        \n",
    "    porcentajes = {}\n",
    "    for clave in dicFrecuencia:\n",
    "        porcentaje = (dicFrecuencia[clave] / total) * 100\n",
    "        porcentajes[clave] = porcentaje\n",
    "    \n",
    "    return porcentajes    "
   ]
  },
  {
   "cell_type": "code",
   "execution_count": null,
   "metadata": {},
   "outputs": [],
   "source": [
    "def verTabla(dataset, indice):\n",
    "    tabla = tablaFrecuencia(dataset, indice)\n",
    "    ver_Tabla = []\n",
    "    for clave in tabla:\n",
    "        tuplaClaveValor = (tabla[clave], clave)\n",
    "        ver_Tabla.append(tuplaClaveValor)\n",
    "\n",
    "    tablaOrdenada = sorted(ver_Tabla, reverse = True)\n",
    "    for entrada in tablaOrdenada:\n",
    "        print(entrada[1], ':', entrada[0])"
   ]
  },
  {
   "cell_type": "markdown",
   "metadata": {},
   "source": [
    "Ahora que tenemos las funciones escritas, procedemos a analizar los datasets.\n",
    "Vamos a comenzar por el dataset de Apple, que recordemos, lo tenemos ya preparado con el nombre 'dataApple'.\n",
    "El índice que nos interesa estudiar es el índice 11:"
   ]
  },
  {
   "cell_type": "code",
   "execution_count": 76,
   "metadata": {
    "scrolled": false
   },
   "outputs": [
    {
     "name": "stdout",
     "output_type": "stream",
     "text": [
      "Games : 58.180689226948154\n",
      "Entertainment : 7.885749767153058\n",
      "Photo & Video : 4.967401428127911\n",
      "Education : 3.6634585532443342\n",
      "Social Networking : 3.2598571872089415\n",
      "Shopping : 2.607885749767153\n",
      "Utilities : 2.5147469729897547\n",
      "Sports : 2.1421918658801617\n",
      "Music : 2.049053089102763\n",
      "Health & Fitness : 2.018006830176964\n",
      "Productivity : 1.7385904998447685\n",
      "Lifestyle : 1.5833592052157717\n",
      "News : 1.334989133809376\n",
      "Travel : 1.2418503570319777\n",
      "Finance : 1.11766532132878\n",
      "Weather : 0.8692952499223843\n",
      "Food & Drink : 0.8072027320707855\n",
      "Reference : 0.55883266066439\n",
      "Business : 0.5277864017385905\n",
      "Book : 0.43464762496119214\n",
      "Navigation : 0.18627755355479667\n",
      "Medical : 0.18627755355479667\n",
      "Catalogs : 0.12418503570319776\n",
      "None\n"
     ]
    }
   ],
   "source": [
    "print(verTabla(dataApple,11))"
   ]
  },
  {
   "cell_type": "markdown",
   "metadata": {},
   "source": [
    "Podemos observar que el 58% de las apps de la App Store son videojuegos, el 8% entretenimiento, el 5% foto y vídeo. Prácticamente, la mayoría de las aplicaciones están destinadas al mundo del entretenimiento o tiempo libre, directa o indirectamente, si tomamos en cuenta redes sociales, compras, música, etc.\n",
    "\n",
    "Por supuesto, no podemos tomar estos datos a la ligera. Que casi un 60% de las apps sean videojuegos, ni significa que sean apps bien valoradas (bien recibidas por el público), ni significa que ciertas demandas estén totalmente cubiertas. La oferta y la demanda puede no ser armónica.\n",
    "\n",
    "Vamos a estudiar el dataset de Google, 'dataGoogle'; recordemos que los índices a analizar son el 1 y el 9:"
   ]
  },
  {
   "cell_type": "code",
   "execution_count": 77,
   "metadata": {
    "scrolled": true
   },
   "outputs": [
    {
     "name": "stdout",
     "output_type": "stream",
     "text": [
      "FAMILY : 19.21904976864914\n",
      "GAME : 9.513598916600834\n",
      "TOOLS : 8.46405597562352\n",
      "BUSINESS : 4.581875634804198\n",
      "LIFESTYLE : 3.9047511567543167\n",
      "PRODUCTIVITY : 3.8934657487868187\n",
      "FINANCE : 3.7016138133393524\n",
      "MEDICAL : 3.5436181017943795\n",
      "SPORTS : 3.4194786141519016\n",
      "PERSONALIZATION : 3.317909942444419\n",
      "COMMUNICATION : 3.250197494639431\n",
      "HEALTH_AND_FITNESS : 3.069630967159463\n",
      "PHOTOGRAPHY : 2.9454914795169844\n",
      "NEWS_AND_MAGAZINES : 2.7987811759395105\n",
      "SOCIAL : 2.663356280329534\n",
      "TRAVEL_AND_LOCAL : 2.3360794492720913\n",
      "SHOPPING : 2.245796185532107\n",
      "BOOKS_AND_REFERENCE : 2.144227513824625\n",
      "DATING : 1.8620923146371742\n",
      "VIDEO_PLAYERS : 1.783094458864688\n",
      "MAPS_AND_NAVIGATION : 1.3993905879697552\n",
      "FOOD_AND_DRINK : 1.2413948764247829\n",
      "EDUCATION : 1.1285407967498025\n",
      "LIBRARIES_AND_DEMO : 0.9366888613023362\n",
      "AUTO_AND_VEHICLES : 0.9254034533348381\n",
      "ENTERTAINMENT : 0.880261821464846\n",
      "HOUSE_AND_HOME : 0.8238347816273558\n",
      "WEATHER : 0.8012639656923597\n",
      "EVENTS : 0.7109807019523756\n",
      "PARENTING : 0.6545536621148855\n",
      "COMICS : 0.6206974382123914\n",
      "ART_AND_DESIGN : 0.6206974382123914\n",
      "BEAUTY : 0.5981266222773953\n",
      "None\n"
     ]
    }
   ],
   "source": [
    "print(verTabla(dataGoogle,1))"
   ]
  },
  {
   "cell_type": "markdown",
   "metadata": {},
   "source": [
    "Puede ser sorprendente observar estos resultados después de analizar el dataset de Apple. \n",
    "\n",
    "La categoría con más aplicaciones es 'Familia', con un 19% del total, seguida por 'Juegos' con prácticamente el 10%, y 'Herramientas' con un 8.4% . El restante 60-65% está distribuido de manera mucho más uniforme que en la App Store: 'Negocios','Estilo de Vida', 'Productividad', 'Finanzas', 'Deportes' ... Las categorías son mucho más diversas que en App Store. \n",
    "\n",
    "Podemos concluir que:\n",
    "\n",
    "- Aproximadamente el 25% de las apps están ligadas al ámbito familiar\n",
    "- Aproximadamente el 25% están dedicadas al entretenimiento\n",
    "- Aproximadamente el 15% al ámbito profesional\n",
    "- A salud, deporte, etc, tenemos otro 15%\n",
    "- El 15-20% restante, se reparten entre varias categorías\n",
    "\n",
    "Vamos a estudiar el índice nº 9 de Google Play:"
   ]
  },
  {
   "cell_type": "code",
   "execution_count": 78,
   "metadata": {
    "scrolled": false
   },
   "outputs": [
    {
     "name": "stdout",
     "output_type": "stream",
     "text": [
      "Tools : 8.452770567656021\n",
      "Entertainment : 6.071549486513937\n",
      "Education : 5.349283376594064\n",
      "Business : 4.581875634804198\n",
      "Productivity : 3.8934657487868187\n",
      "Lifestyle : 3.8934657487868187\n",
      "Finance : 3.7016138133393524\n",
      "Medical : 3.5436181017943795\n",
      "Sports : 3.464620246021894\n",
      "Personalization : 3.317909942444419\n",
      "Communication : 3.250197494639431\n",
      "Action : 3.103487191061957\n",
      "Health & Fitness : 3.069630967159463\n",
      "Photography : 2.9454914795169844\n",
      "News & Magazines : 2.7987811759395105\n",
      "Social : 2.663356280329534\n",
      "Travel & Local : 2.3247940413045933\n",
      "Shopping : 2.245796185532107\n",
      "Books & Reference : 2.144227513824625\n",
      "Simulation : 2.0426588421171425\n",
      "Dating : 1.8620923146371742\n",
      "Arcade : 1.8620923146371742\n",
      "Video Players & Editors : 1.783094458864688\n",
      "Casual : 1.749238234962194\n",
      "Maps & Navigation : 1.3993905879697552\n",
      "Food & Drink : 1.2413948764247829\n",
      "Puzzle : 1.1285407967498025\n",
      "Racing : 0.9931159011398263\n",
      "Role Playing : 0.9366888613023362\n",
      "Libraries & Demo : 0.9366888613023362\n",
      "Auto & Vehicles : 0.9254034533348381\n",
      "Strategy : 0.9028326373998421\n",
      "House & Home : 0.8238347816273558\n",
      "Weather : 0.8012639656923597\n",
      "Events : 0.7109807019523756\n",
      "Adventure : 0.6771244780498815\n",
      "Comics : 0.6094120302448933\n",
      "Beauty : 0.5981266222773953\n",
      "Art & Design : 0.5755558063423992\n",
      "Parenting : 0.49655795056991314\n",
      "Card : 0.440130910732423\n",
      "Casino : 0.42884550276492495\n",
      "Trivia : 0.4175600947974269\n",
      "Educational;Education : 0.3949892788624309\n",
      "Board : 0.38370387089493285\n",
      "Educational : 0.3724184629274348\n",
      "Education;Education : 0.33856223902494076\n",
      "Word : 0.25956438325245457\n",
      "Casual;Pretend Play : 0.23699356731745852\n",
      "Music : 0.20313734341496445\n",
      "Racing;Action & Adventure : 0.16928111951247038\n",
      "Puzzle;Brain Games : 0.16928111951247038\n",
      "Entertainment;Music & Video : 0.16928111951247038\n",
      "Casual;Brain Games : 0.13542489560997628\n",
      "Casual;Action & Adventure : 0.13542489560997628\n",
      "Arcade;Action & Adventure : 0.12413948764247829\n",
      "Action;Action & Adventure : 0.10156867170748222\n",
      "Educational;Pretend Play : 0.0902832637399842\n",
      "Simulation;Action & Adventure : 0.07899785577248618\n",
      "Parenting;Education : 0.07899785577248618\n",
      "Entertainment;Brain Games : 0.07899785577248618\n",
      "Board;Brain Games : 0.07899785577248618\n",
      "Parenting;Music & Video : 0.06771244780498814\n",
      "Educational;Brain Games : 0.06771244780498814\n",
      "Casual;Creativity : 0.06771244780498814\n",
      "Art & Design;Creativity : 0.06771244780498814\n",
      "Education;Pretend Play : 0.05642703983749013\n",
      "Role Playing;Pretend Play : 0.0451416318699921\n",
      "Education;Creativity : 0.0451416318699921\n",
      "Role Playing;Action & Adventure : 0.03385622390249407\n",
      "Puzzle;Action & Adventure : 0.03385622390249407\n",
      "Entertainment;Creativity : 0.03385622390249407\n",
      "Entertainment;Action & Adventure : 0.03385622390249407\n",
      "Educational;Creativity : 0.03385622390249407\n",
      "Educational;Action & Adventure : 0.03385622390249407\n",
      "Education;Music & Video : 0.03385622390249407\n",
      "Education;Brain Games : 0.03385622390249407\n",
      "Education;Action & Adventure : 0.03385622390249407\n",
      "Adventure;Action & Adventure : 0.03385622390249407\n",
      "Video Players & Editors;Music & Video : 0.02257081593499605\n",
      "Sports;Action & Adventure : 0.02257081593499605\n",
      "Simulation;Pretend Play : 0.02257081593499605\n",
      "Puzzle;Creativity : 0.02257081593499605\n",
      "Music;Music & Video : 0.02257081593499605\n",
      "Entertainment;Pretend Play : 0.02257081593499605\n",
      "Casual;Education : 0.02257081593499605\n",
      "Board;Action & Adventure : 0.02257081593499605\n",
      "Trivia;Education : 0.011285407967498025\n",
      "Travel & Local;Action & Adventure : 0.011285407967498025\n",
      "Tools;Education : 0.011285407967498025\n",
      "Strategy;Education : 0.011285407967498025\n",
      "Strategy;Creativity : 0.011285407967498025\n",
      "Strategy;Action & Adventure : 0.011285407967498025\n",
      "Simulation;Education : 0.011285407967498025\n",
      "Role Playing;Brain Games : 0.011285407967498025\n",
      "Racing;Pretend Play : 0.011285407967498025\n",
      "Puzzle;Education : 0.011285407967498025\n",
      "Parenting;Brain Games : 0.011285407967498025\n",
      "Music & Audio;Music & Video : 0.011285407967498025\n",
      "Lifestyle;Pretend Play : 0.011285407967498025\n",
      "Lifestyle;Education : 0.011285407967498025\n",
      "Health & Fitness;Education : 0.011285407967498025\n",
      "Health & Fitness;Action & Adventure : 0.011285407967498025\n",
      "Entertainment;Education : 0.011285407967498025\n",
      "Communication;Creativity : 0.011285407967498025\n",
      "Comics;Creativity : 0.011285407967498025\n",
      "Casual;Music & Video : 0.011285407967498025\n",
      "Card;Brain Games : 0.011285407967498025\n",
      "Card;Action & Adventure : 0.011285407967498025\n",
      "Books & Reference;Education : 0.011285407967498025\n",
      "Art & Design;Pretend Play : 0.011285407967498025\n",
      "Art & Design;Action & Adventure : 0.011285407967498025\n",
      "Arcade;Pretend Play : 0.011285407967498025\n",
      "Adventure;Education : 0.011285407967498025\n",
      "None\n"
     ]
    }
   ],
   "source": [
    "print(verTabla(dataGoogle,9))"
   ]
  },
  {
   "cell_type": "markdown",
   "metadata": {},
   "source": [
    "Estos resultados son demasiado tediosos de estudiar, y resulta factible pensar que no sería rentable en términos de tiempo invertido analizarlo en profundidad. En principio, y echando un vistazo rápido, podría parecer que los resultados que obtendríamos serían similares a los obtenidos con el índice 1 del datastet, y por tanto tomaremos las conclusiones del primer índice."
   ]
  },
  {
   "cell_type": "markdown",
   "metadata": {},
   "source": [
    "#### Popularidad por número de usuarios"
   ]
  },
  {
   "cell_type": "markdown",
   "metadata": {},
   "source": [
    "Es evidente que en el dataset de Apple, el entretenimiento es el rey indiscutible en términos de número de apps dedicadas a este tipo de categorías.\n",
    "\n",
    "Hemos visto que, sin embargo, en Google Play el número de aplicaciones está mucho más diversificado.\n",
    "\n",
    "Vamos ahora a estudiar la popularidad por número de usuarios, ya que este dato puede ser incluso más interesante que el número de aplicaciones, ya que presuntamente debería reflejar de mejor manera los intereses reales de los usuarios."
   ]
  },
  {
   "cell_type": "markdown",
   "metadata": {},
   "source": [
    "Vamos a hacer algo similar a lo que realizamos en el estudio del género de las aplicaciones.\n",
    "En este caso, nos interesan los índices 5 de Apple, y 5 de Google Play.\n",
    "\n",
    "Primero, filtraremos por género, aprovechando la función *tablaFrecuencia()* , y una vez tengamos los géneros separados, filtraremos por número de usuarios/género."
   ]
  },
  {
   "cell_type": "code",
   "execution_count": 80,
   "metadata": {
    "scrolled": true
   },
   "outputs": [
    {
     "name": "stdout",
     "output_type": "stream",
     "text": [
      "Photo & Video : 28441.54375 \n",
      "Games : 22788.6696905016 \n",
      "Music : 57326.530303030304 \n",
      "Social Networking : 43899.514285714286 \n",
      "Reference : 74942.11111111111 \n",
      "Health & Fitness : 23298.015384615384 \n",
      "Weather : 52279.892857142855 \n",
      "Utilities : 18684.456790123455 \n",
      "Travel : 28243.8 \n",
      "Shopping : 26919.690476190477 \n",
      "News : 21248.023255813954 \n",
      "Navigation : 86090.33333333333 \n",
      "Lifestyle : 16485.764705882353 \n",
      "Entertainment : 14029.830708661417 \n",
      "Food & Drink : 33333.92307692308 \n",
      "Sports : 23008.898550724636 \n",
      "Book : 39758.5 \n",
      "Finance : 31467.944444444445 \n",
      "Education : 7003.983050847458 \n",
      "Productivity : 21028.410714285714 \n",
      "Business : 7491.117647058823 \n",
      "Catalogs : 4004.0 \n",
      "Medical : 612.0 \n"
     ]
    }
   ],
   "source": [
    "generosApple = tablaFrecuencia(dataApple, 11)\n",
    "\n",
    "for genero in generosApple:\n",
    "    total = 0 # almacenará el total de valoraciones de cada género\n",
    "    numAppsGenero = 0 # almacenará el nº de apps de cada género\n",
    "    \n",
    "    for app in dataApple:\n",
    "        generoApp = app[11]\n",
    "        if generoApp == genero:\n",
    "            val = float(app[5])\n",
    "            total += val\n",
    "            numAppsGenero += 1\n",
    "    \n",
    "    mediaVal = total / numAppsGenero\n",
    "    print(f\"{genero} : {mediaVal} \")\n",
    "\n",
    "    "
   ]
  },
  {
   "cell_type": "markdown",
   "metadata": {},
   "source": [
    "Es muy interesante observar como puede cambiar la perspectiva del análisis según qué tipo de datos estamos analizando.\n",
    "\n",
    "En este caso, y parece contradictorio, los géneros con más media de valoraciones son 'Navigation', con 86.000 valoraciones, 'Reference' con casi 75.000 valoraciones, 'Music' 57.000 valoraciones, 'Weather' con 52.000, y 'Social Networking' con 44.000. Es destacable también que 'Book' tiene casi 40.000 valoraciones de media.\n",
    "\n",
    "En principio, y dado que nuestro objetivo es crear una app con presupuesto limitado, y poder encontrar un nicho de mercado que produzca beneficios, parece que una app relacionada con la lectura o de tipo diccionario puede ser muy interesante.\n",
    "\n",
    "Vamos a comparar estos datos con el número de apps disponibles, que ya vimos anteriormente.\n",
    "\n",
    "Entre 'Reference' y 'Book', no llegan al 1% de aplicaciones disponibles.\n",
    "\n",
    "Por tanto, después de analizar estos datos, podemos confirmar casi con rotundidad que hay un nicho de mercado importante en estas categorías, en App Store. Los usuarios valoran mucho este tipo de aplicaciones, y sin embargo hay realmente pocas en relación al total.\n"
   ]
  },
  {
   "cell_type": "markdown",
   "metadata": {},
   "source": [
    "Vamos a estudiar ahora el caso de Google Play:"
   ]
  },
  {
   "cell_type": "code",
   "execution_count": 82,
   "metadata": {},
   "outputs": [
    {
     "name": "stdout",
     "output_type": "stream",
     "text": [
      "1,000,000+ : 15.754429522627241\n",
      "100,000+ : 11.567543166685477\n",
      "10,000,000+ : 10.506714817740662\n",
      "10,000+ : 10.202008802618215\n",
      "1,000+ : 8.396343527818532\n",
      "100+ : 6.91795508407629\n",
      "5,000,000+ : 6.816386412368808\n",
      "500,000+ : 5.563706127976526\n",
      "50,000+ : 4.773727570251665\n",
      "5,000+ : 4.51416318699921\n",
      "10+ : 3.5436181017943795\n",
      "500+ : 3.250197494639431\n",
      "50,000,000+ : 2.302223225369597\n",
      "100,000,000+ : 2.1329421058571265\n",
      "50+ : 1.9185193544746644\n",
      "5+ : 0.7899785577248618\n",
      "1+ : 0.5078433585374111\n",
      "500,000,000+ : 0.27084979121995256\n",
      "1,000,000,000+ : 0.22570815934996052\n",
      "0+ : 0.0451416318699921\n",
      "None\n"
     ]
    }
   ],
   "source": [
    "print(verTabla(dataGoogle,5))"
   ]
  },
  {
   "cell_type": "markdown",
   "metadata": {},
   "source": [
    "Aquí vemos que en el índice 5 de dataGoogle, que pertenece al número de instalaciones de cada app, el número de instalaciones viene reflejado de manera indeterminada.\n",
    "\n",
    "Aunque no obtendremos datos totalmente precisos, tampoco necesitamos una absoluta precisión, ya que lo que queremos es establecer unos criterios de manera general para encontrar nichos de mercado.\n",
    "\n",
    "Por tanto, si el número de instalaciones es '100.000+', tomaremos como dato 100.000, y trabajaremos todos los datos de la misma manera.\n",
    "\n",
    "Utilizaremos un código muy similar al que usamos anteriormente con el dataset de Apple, pero en este caso debemos modificar los números, ya que por defecto, en el dataset de Google traen incorporados símbolos ',' y '+'. Utilizaremos la función replace:"
   ]
  },
  {
   "cell_type": "code",
   "execution_count": 84,
   "metadata": {
    "scrolled": true
   },
   "outputs": [
    {
     "name": "stdout",
     "output_type": "stream",
     "text": [
      "ART_AND_DESIGN : 1967474.5454545454 \n",
      "AUTO_AND_VEHICLES : 647317.8170731707 \n",
      "BEAUTY : 513151.88679245283 \n",
      "BOOKS_AND_REFERENCE : 8767811.894736841 \n",
      "BUSINESS : 1704192.3399014778 \n",
      "COMICS : 817657.2727272727 \n",
      "COMMUNICATION : 38326063.197916664 \n",
      "DATING : 854028.8303030303 \n",
      "EDUCATION : 1768500.0 \n",
      "ENTERTAINMENT : 9146923.076923076 \n",
      "EVENTS : 253542.22222222222 \n",
      "FINANCE : 1387692.475609756 \n",
      "FOOD_AND_DRINK : 1924897.7363636363 \n",
      "HEALTH_AND_FITNESS : 4167457.3602941176 \n",
      "HOUSE_AND_HOME : 1331540.5616438356 \n",
      "LIBRARIES_AND_DEMO : 638503.734939759 \n",
      "LIFESTYLE : 1437816.2687861272 \n",
      "GAME : 12914435.883748516 \n",
      "FAMILY : 5183203.576042279 \n",
      "MEDICAL : 123064.7898089172 \n",
      "SOCIAL : 23253652.127118643 \n",
      "SHOPPING : 7036877.311557789 \n",
      "PHOTOGRAPHY : 17840110.40229885 \n",
      "SPORTS : 4274688.722772277 \n",
      "TRAVEL_AND_LOCAL : 13984077.710144928 \n",
      "TOOLS : 10801391.298666667 \n",
      "PERSONALIZATION : 5201482.6122448975 \n",
      "PRODUCTIVITY : 16772838.591304347 \n",
      "PARENTING : 542603.6206896552 \n",
      "WEATHER : 5074486.197183099 \n",
      "VIDEO_PLAYERS : 24790074.17721519 \n",
      "NEWS_AND_MAGAZINES : 9549178.467741935 \n",
      "MAPS_AND_NAVIGATION : 4056941.7741935486 \n"
     ]
    }
   ],
   "source": [
    "generosGoogle=tablaFrecuencia(dataGoogle,1)\n",
    "\n",
    "for categoria in generosGoogle:\n",
    "    total = 0\n",
    "    numAppsGen = 0\n",
    "    \n",
    "    for app in dataGoogle:\n",
    "        categ = app[1]\n",
    "        if categ == categoria:\n",
    "            instalaciones = app[5]\n",
    "            instalaciones = instalaciones.replace(',','')\n",
    "            instalaciones = instalaciones.replace('+','')\n",
    "            instalaciones = float(instalaciones)\n",
    "            total += instalaciones\n",
    "            numAppsGen += 1\n",
    "            \n",
    "    mediaVal = total / numAppsGen\n",
    "    print(f\"{categoria} : {mediaVal} \")\n",
    "    "
   ]
  },
  {
   "cell_type": "markdown",
   "metadata": {},
   "source": [
    "La categoría 'Comunicación' ha tenido una media de 38 millones de instalaciones.\n",
    "\n",
    "Tenemos que tener en cuenta que en esta categoría hay aplicaciones como WhatsApp, que presumiblemente tendrá muchos millones de instalaciones."
   ]
  },
  {
   "cell_type": "code",
   "execution_count": 90,
   "metadata": {},
   "outputs": [
    {
     "name": "stdout",
     "output_type": "stream",
     "text": [
      "Messenger – Text and Video Chat for Free : 1,000,000,000+\n",
      "Gmail : 1,000,000,000+\n",
      "imo beta free calls and text : 100,000,000+\n",
      "imo free video calls and chat : 500,000,000+\n",
      "Android Messages : 100,000,000+\n",
      "Google Duo - High Quality Video Calls : 500,000,000+\n",
      "UC Browser - Fast Download Private & Secure : 500,000,000+\n",
      "Skype - free IM & video calls : 1,000,000,000+\n",
      "Who : 100,000,000+\n",
      "GO SMS Pro - Messenger, Free Themes, Emoji : 100,000,000+\n",
      "WhatsApp Messenger : 1,000,000,000+\n",
      "Google Chrome: Fast & Secure : 1,000,000,000+\n",
      "Firefox Browser fast & private : 100,000,000+\n",
      "Messenger Lite: Free Calls & Messages : 100,000,000+\n",
      "LINE: Free Calls & Messages : 500,000,000+\n",
      "Hangouts : 1,000,000,000+\n",
      "Kik : 100,000,000+\n",
      "KakaoTalk: Free Calls & Text : 100,000,000+\n",
      "Opera Mini - fast web browser : 100,000,000+\n",
      "Opera Browser: Fast and Secure : 100,000,000+\n",
      "Telegram : 100,000,000+\n",
      "Truecaller: Caller ID, SMS spam blocking & Dialer : 100,000,000+\n",
      "UC Browser Mini -Tiny Fast Private & Secure : 100,000,000+\n",
      "Viber Messenger : 500,000,000+\n",
      "WeChat : 100,000,000+\n",
      "Yahoo Mail – Stay Organized : 100,000,000+\n",
      "BBM - Free Calls & Messages : 100,000,000+\n"
     ]
    }
   ],
   "source": [
    "for app in dataGoogle:\n",
    "    if app[1] == 'COMMUNICATION' and (app[5] == '100,000,000+'\n",
    "                                      or app[5] == '1,000,000,000+'\n",
    "                                      or app[5] == '500,000,000+'):\n",
    "        print(app[0], ':' , app[5])"
   ]
  },
  {
   "cell_type": "markdown",
   "metadata": {},
   "source": [
    "Por supuesto, no buscamos competir contra apps como Gmail, WhatsApp, Telegram o Google Chrome. Por tanto, vamos a eliminar todas las apps con más de 100 millones de instalaciones y volveremos a estudiar la categoría 'Comunicación':"
   ]
  },
  {
   "cell_type": "code",
   "execution_count": 91,
   "metadata": {},
   "outputs": [
    {
     "name": "stdout",
     "output_type": "stream",
     "text": [
      "3593510.3486590036\n"
     ]
    }
   ],
   "source": [
    "menosDe100M = []\n",
    "\n",
    "for app in dataGoogle:\n",
    "    inst = app[5]\n",
    "    inst = inst.replace(',','')\n",
    "    inst = inst.replace('+','')\n",
    "    inst = float(inst)\n",
    "    \n",
    "    if (app[1] == 'COMMUNICATION' and inst < 100000000):\n",
    "        menosDe100M.append(float(inst))\n",
    "\n",
    "mediaCom = sum(menosDe100M) / len(menosDe100M)\n",
    "\n",
    "print(mediaCom)"
   ]
  },
  {
   "cell_type": "markdown",
   "metadata": {},
   "source": [
    "Eliminando las apps más famosas, tenemos que la categoría 'Comunicación' tiene una media de 3.6 millones de valoraciones, que en relación al total o a la media de otras categorías, no es una cantidad relevante, y por tanto descartamos esta categoría."
   ]
  },
  {
   "cell_type": "markdown",
   "metadata": {},
   "source": [
    "'Social' tuvo 23 millones, seguido de 'Foto' (18M) y 'Productividad' (17M).\n",
    "\n",
    "Hay que tener en cuenta que éstas categorías siguen el patrón anterior, y están dominadas por los gigantes mundiales de la informática y la información. \n",
    "\n",
    "En el caso de Social, tenemos apps como Instagram, Facebook, Twitter, que tienen miles de millones de instalaciones, y actualmente nadie puede competir contra ellas.\n",
    "\n",
    "Lo mismo ocurre en Foto con Google Photos, o en Productividad con apps como Microsoft Word, DropBox o Google Calendar.\n",
    "\n",
    "Sin embargo, 'Libros', que fue una de nuestras elecciones preferidas (a priori) para App Store, tuvo casi 9 millones de instalaciones, siendo una de las categorías con mayor número de instalaciones. Y en la tabla de porcentajes que generamos con el dataset de Google, la categoría 'BOOKS_AND_REFERENCE' solo ocupaba el 2% del total de las apps.\n",
    "\n",
    "Vamos a ver con más detalle las apps pertenecientes a esta categoría."
   ]
  },
  {
   "cell_type": "code",
   "execution_count": 92,
   "metadata": {},
   "outputs": [
    {
     "name": "stdout",
     "output_type": "stream",
     "text": [
      "190\n"
     ]
    }
   ],
   "source": [
    "LibrosTotal = 0\n",
    "\n",
    "for app in dataGoogle:\n",
    "    if app[1] == 'BOOKS_AND_REFERENCE':\n",
    "        LibrosTotal += 1\n",
    "print(LibrosTotal)"
   ]
  },
  {
   "cell_type": "markdown",
   "metadata": {},
   "source": [
    "En Google Play, tenemos 190 aplicaciones de libros y referencia, que acumulan una media de casi 9 millones de instalaciones. "
   ]
  },
  {
   "cell_type": "code",
   "execution_count": 94,
   "metadata": {
    "scrolled": true
   },
   "outputs": [
    {
     "name": "stdout",
     "output_type": "stream",
     "text": [
      "Google Play Books : 1,000,000,000+\n",
      "Bible : 100,000,000+\n",
      "Amazon Kindle : 100,000,000+\n",
      "Wattpad 📖 Free Books : 100,000,000+\n",
      "Audiobooks from Audible : 100,000,000+\n"
     ]
    }
   ],
   "source": [
    "for app in dataGoogle:\n",
    "    if app[1] == 'BOOKS_AND_REFERENCE' and (app[5] == '100,000,000+'\n",
    "                                      or app[5] == '1,000,000,000+'\n",
    "                                      or app[5] == '500,000,000+'):\n",
    "        print(app[0], ':' , app[5])"
   ]
  },
  {
   "cell_type": "markdown",
   "metadata": {},
   "source": [
    "Estas aplicaciones dominan el mercado de los libros electrónicos en Google Play. Vamos a eliminarlas y a comprobar qué sucede."
   ]
  },
  {
   "cell_type": "code",
   "execution_count": 96,
   "metadata": {},
   "outputs": [
    {
     "name": "stdout",
     "output_type": "stream",
     "text": [
      "1437212.2162162163\n"
     ]
    }
   ],
   "source": [
    "LibrosNoPopulares = []\n",
    "\n",
    "for app in dataGoogle:\n",
    "    inst = app[5]\n",
    "    inst = inst.replace(',','')\n",
    "    inst = inst.replace('+','')\n",
    "    inst = float(inst)\n",
    "    \n",
    "    if (app[1] == 'BOOKS_AND_REFERENCE' and inst < 100000000):\n",
    "        LibrosNoPopulares.append(float(inst))\n",
    "\n",
    "mediaLibros = sum(LibrosNoPopulares) / len(LibrosNoPopulares)\n",
    "\n",
    "print(mediaLibros)"
   ]
  },
  {
   "cell_type": "markdown",
   "metadata": {},
   "source": [
    "Tenemos 1.5 millones de instalaciones (de media) de aplicaciones no muy populares, en un mercado en el que apenas hay competencia y en el que parece que puede encajar nuestro presupuesto. Vamos a ver las 190 apps: "
   ]
  },
  {
   "cell_type": "code",
   "execution_count": 98,
   "metadata": {
    "scrolled": true
   },
   "outputs": [
    {
     "name": "stdout",
     "output_type": "stream",
     "text": [
      "E-Book Read - Read Book for free : 50,000+\n",
      "Download free book with green book : 100,000+\n",
      "Wikipedia : 10,000,000+\n",
      "Cool Reader : 10,000,000+\n",
      "Free Panda Radio Music : 100,000+\n",
      "Book store : 1,000,000+\n",
      "FBReader: Favorite Book Reader : 10,000,000+\n",
      "English Grammar Complete Handbook : 500,000+\n",
      "Free Books - Spirit Fanfiction and Stories : 1,000,000+\n",
      "Google Play Books : 1,000,000,000+\n",
      "AlReader -any text book reader : 5,000,000+\n",
      "Offline English Dictionary : 100,000+\n",
      "Offline: English to Tagalog Dictionary : 500,000+\n",
      "FamilySearch Tree : 1,000,000+\n",
      "Cloud of Books : 1,000,000+\n",
      "Recipes of Prophetic Medicine for free : 500,000+\n",
      "ReadEra – free ebook reader : 1,000,000+\n",
      "Anonymous caller detection : 10,000+\n",
      "Ebook Reader : 5,000,000+\n",
      "Litnet - E-books : 100,000+\n",
      "Read books online : 5,000,000+\n",
      "English to Urdu Dictionary : 500,000+\n",
      "eBoox: book reader fb2 epub zip : 1,000,000+\n",
      "English Persian Dictionary : 500,000+\n",
      "Flybook : 500,000+\n",
      "All Maths Formulas : 1,000,000+\n",
      "Ancestry : 5,000,000+\n",
      "HTC Help : 10,000,000+\n",
      "English translation from Bengali : 100,000+\n",
      "Pdf Book Download - Read Pdf Book : 100,000+\n",
      "Free Book Reader : 100,000+\n",
      "eBoox new: Reader for fb2 epub zip books : 50,000+\n",
      "Only 30 days in English, the guideline is guaranteed : 500,000+\n",
      "Moon+ Reader : 10,000,000+\n",
      "SH-02J Owner's Manual (Android 8.0) : 50,000+\n",
      "English-Myanmar Dictionary : 1,000,000+\n",
      "Golden Dictionary (EN-AR) : 1,000,000+\n",
      "All Language Translator Free : 1,000,000+\n",
      "Azpen eReader : 500,000+\n",
      "URBANO V 02 instruction manual : 100,000+\n",
      "Bible : 100,000,000+\n",
      "C Programs and Reference : 50,000+\n",
      "C Offline Tutorial : 1,000+\n",
      "C Programs Handbook : 50,000+\n",
      "Amazon Kindle : 100,000,000+\n",
      "Aab e Hayat Full Novel : 100,000+\n",
      "Aldiko Book Reader : 10,000,000+\n",
      "Google I/O 2018 : 500,000+\n",
      "R Language Reference Guide : 10,000+\n",
      "Learn R Programming Full : 5,000+\n",
      "R Programing Offline Tutorial : 1,000+\n",
      "Guide for R Programming : 5+\n",
      "Learn R Programming : 10+\n",
      "R Quick Reference Big Data : 1,000+\n",
      "V Made : 100,000+\n",
      "Wattpad 📖 Free Books : 100,000,000+\n",
      "Dictionary - WordWeb : 5,000,000+\n",
      "Guide (for X-MEN) : 100,000+\n",
      "AC Air condition Troubleshoot,Repair,Maintenance : 5,000+\n",
      "AE Bulletins : 1,000+\n",
      "Ae Allah na Dai (Rasa) : 10,000+\n",
      "50000 Free eBooks & Free AudioBooks : 5,000,000+\n",
      "Ag PhD Field Guide : 10,000+\n",
      "Ag PhD Deficiencies : 10,000+\n",
      "Ag PhD Planting Population Calculator : 1,000+\n",
      "Ag PhD Soybean Diseases : 1,000+\n",
      "Fertilizer Removal By Crop : 50,000+\n",
      "A-J Media Vault : 50+\n",
      "Al-Quran (Free) : 10,000,000+\n",
      "Al Quran (Tafsir & by Word) : 500,000+\n",
      "Al Quran Indonesia : 10,000,000+\n",
      "Al'Quran Bahasa Indonesia : 10,000,000+\n",
      "Al Quran Al karim : 1,000,000+\n",
      "Al-Muhaffiz : 50,000+\n",
      "Al Quran : EAlim - Translations & MP3 Offline : 5,000,000+\n",
      "Al-Quran 30 Juz free copies : 500,000+\n",
      "Koran Read &MP3 30 Juz Offline : 1,000,000+\n",
      "Hafizi Quran 15 lines per page : 1,000,000+\n",
      "Quran for Android : 10,000,000+\n",
      "Surah Al-Waqiah : 100,000+\n",
      "Hisnul Al Muslim - Hisn Invocations & Adhkaar : 100,000+\n",
      "Satellite AR : 1,000,000+\n",
      "Audiobooks from Audible : 100,000,000+\n",
      "Kinot & Eichah for Tisha B'Av : 10,000+\n",
      "AW Tozer Devotionals - Daily : 5,000+\n",
      "Tozer Devotional -Series 1 : 1,000+\n",
      "The Pursuit of God : 1,000+\n",
      "AY Sing : 5,000+\n",
      "Ay Hasnain k Nana Milad Naat : 10,000+\n",
      "Ay Mohabbat Teri Khatir Novel : 10,000+\n",
      "Arizona Statutes, ARS (AZ Law) : 1,000+\n",
      "Oxford A-Z of English Usage : 1,000,000+\n",
      "BD Fishpedia : 1,000+\n",
      "BD All Sim Offer : 10,000+\n",
      "Youboox - Livres, BD et magazines : 500,000+\n",
      "B&H Kids AR : 10,000+\n",
      "B y H Niños ES : 5,000+\n",
      "Dictionary.com: Find Definitions for English Words : 10,000,000+\n",
      "English Dictionary - Offline : 10,000,000+\n",
      "Bible KJV : 5,000,000+\n",
      "Borneo Bible, BM Bible : 10,000+\n",
      "MOD Black for BM : 100+\n",
      "BM Box : 1,000+\n",
      "Anime Mod for BM : 100+\n",
      "NOOK: Read eBooks & Magazines : 10,000,000+\n",
      "NOOK Audiobooks : 500,000+\n",
      "NOOK App for NOOK Devices : 500,000+\n",
      "Browsery by Barnes & Noble : 5,000+\n",
      "bp e-store : 1,000+\n",
      "Brilliant Quotes: Life, Love, Family & Motivation : 1,000,000+\n",
      "BR Ambedkar Biography & Quotes : 10,000+\n",
      "BU Alsace : 100+\n",
      "Catholic La Bu Zo Kam : 500+\n",
      "Khrifa Hla Bu (Solfa) : 10+\n",
      "Kristian Hla Bu : 10,000+\n",
      "SA HLA BU : 1,000+\n",
      "Learn SAP BW : 500+\n",
      "Learn SAP BW on HANA : 500+\n",
      "CA Laws 2018 (California Laws and Codes) : 5,000+\n",
      "Bootable Methods(USB-CD-DVD) : 10,000+\n",
      "cloudLibrary : 100,000+\n",
      "SDA Collegiate Quarterly : 500+\n",
      "Sabbath School : 100,000+\n",
      "Cypress College Library : 100+\n",
      "Stats Royale for Clash Royale : 1,000,000+\n",
      "GATE 21 years CS Papers(2011-2018 Solved) : 50+\n",
      "Learn CT Scan Of Head : 5,000+\n",
      "Easy Cv maker 2018 : 10,000+\n",
      "How to Write CV : 100,000+\n",
      "CW Nuclear : 1,000+\n",
      "CY Spray nozzle : 10+\n",
      "BibleRead En Cy Zh Yue : 5+\n",
      "CZ-Help : 5+\n",
      "Modlitební knížka CZ : 500+\n",
      "Guide for DB Xenoverse : 10,000+\n",
      "Guide for DB Xenoverse 2 : 10,000+\n",
      "Guide for IMS DB : 10+\n",
      "DC HSEMA : 5,000+\n",
      "DC Public Library : 1,000+\n",
      "Painting Lulu DC Super Friends : 1,000+\n",
      "Dictionary : 10,000,000+\n",
      "Fix Error Google Playstore : 1,000+\n",
      "D. H. Lawrence Poems FREE : 1,000+\n",
      "Bilingual Dictionary Audio App : 5,000+\n",
      "DM Screen : 10,000+\n",
      "wikiHow: how to do anything : 1,000,000+\n",
      "Dr. Doug's Tips : 1,000+\n",
      "Bible du Semeur-BDS (French) : 50,000+\n",
      "La citadelle du musulman : 50,000+\n",
      "DV 2019 Entry Guide : 10,000+\n",
      "DV 2019 - EDV Photo & Form : 50,000+\n",
      "DV 2018 Winners Guide : 1,000+\n",
      "EB Annual Meetings : 1,000+\n",
      "EC - AP & Telangana : 5,000+\n",
      "TN Patta Citta & EC : 10,000+\n",
      "AP Stamps and Registration : 10,000+\n",
      "CompactiMa EC pH Calibration : 100+\n",
      "EGW Writings 2 : 100,000+\n",
      "EGW Writings : 1,000,000+\n",
      "Bible with EGW Comments : 100,000+\n",
      "My Little Pony AR Guide : 1,000,000+\n",
      "SDA Sabbath School Quarterly : 500,000+\n",
      "Duaa Ek Ibaadat : 5,000+\n",
      "Spanish English Translator : 10,000,000+\n",
      "Dictionary - Merriam-Webster : 10,000,000+\n",
      "JW Library : 10,000,000+\n",
      "Oxford Dictionary of English : Free : 10,000,000+\n",
      "English Hindi Dictionary : 10,000,000+\n",
      "English to Hindi Dictionary : 5,000,000+\n",
      "EP Research Service : 1,000+\n",
      "Hymnes et Louanges : 100,000+\n",
      "EU Charter : 1,000+\n",
      "EU Data Protection : 1,000+\n",
      "EU IP Codes : 100+\n",
      "EW PDF : 5+\n",
      "BakaReader EX : 100,000+\n",
      "EZ Quran : 50,000+\n",
      "FA Part 1 & 2 Past Papers Solved Free – Offline : 5,000+\n",
      "La Fe de Jesus : 1,000+\n",
      "La Fe de Jesús : 500+\n",
      "Le Fe de Jesus : 500+\n",
      "Florida - Pocket Brainbook : 1,000+\n",
      "Florida Statutes (FL Code) : 1,000+\n",
      "English To Shona Dictionary : 10,000+\n",
      "Greek Bible FP (Audio) : 1,000+\n",
      "Golden Dictionary (FR-AR) : 500,000+\n",
      "Fanfic-FR : 5,000+\n",
      "Bulgarian French Dictionary Fr : 10,000+\n",
      "Chemin (fr) : 1,000+\n",
      "The SCP Foundation DB fr nn5n : 1,000+\n"
     ]
    }
   ],
   "source": [
    "for app in dataGoogle:\n",
    "    if app[1] == 'BOOKS_AND_REFERENCE':\n",
    "\n",
    "        print(app[0], ':' , app[5])"
   ]
  },
  {
   "cell_type": "markdown",
   "metadata": {},
   "source": [
    "Hay mucha variedad de apps en la categoría de Libros y Referencias. Tenemos tutoriales de programación, diccionarios, libros religiosos, referencias para estudiantes, readers de ebooks.\n",
    "\n",
    "No parece haber ninguna app, o al menos hay pocas, de libros como tal. Pero sí que se demuestra que el público en general tiene interés en este género concreto, y tampoco vemos que sea un mercado totalmente dominado por los gigantes como los demás mercados de otras categorías, por lo que podemos pensar que la categoría 'Libros' podría ser un buen nicho de mercado para nuestros propósitos.\n",
    "\n",
    "Tenemos que tener en cuenta que estamos buscando una app que funcione en Google Play, y tras 6 meses poder incorporarla a App Store, pero debe ser una app que se ajuste a un presupuesto limitado, de fácil actualización y mantenimiento, y que obtenga beneficios en ambas plataformas.\n",
    "\n",
    "Cuando comenzamos a estudiar el dataset de Apple, esta misma categoría ya nos llamó la atención, y al estudiarla más a fondo en el dataset de Google, hemos encontrado que es una categoría muy interesante."
   ]
  },
  {
   "cell_type": "markdown",
   "metadata": {},
   "source": [
    "# Conclusiones finales"
   ]
  },
  {
   "cell_type": "markdown",
   "metadata": {},
   "source": [
    "Hemos estudiado ambos datasets, y podemos concluir que una app relacionada con los eBooks es una app que podría encajar perfectamente en nuestros propósitos.\n",
    "\n",
    "De hecho, los audio-libros están ganando mucha popularidad, y hemos corroborado que los libros electrónicos son muy populares, ya que obtienen muchas valoraciones de usuarios e instalaciones, a la par que escasos (1% del total en App Store, 2% en Google Play). \n",
    "\n",
    "Habría que plantear qué tipo de aplicación concreta deberíamos desarrollar (si queremos un audiolibro, o un eBook, o ambos, o una app con varios libros).\n",
    "\n",
    "En particular y como propuesta personal, y ya que hemos visto que no existen muchas apps de este estilo concreto, yo recomendaría una aplicación con varios eBooks, quizás para empezar 2 o 3 best-sellers actuales, con audiolibro integrado en la misma app.\n",
    "Sería una app que perfectamente podría desarrollarse con un presupuesto ajustado, y que podemos ir actualizando con más libros en caso de resultar rentable. \n",
    "\n",
    "Además, hemos constatado que podría funcionar perfectamente en ambas plataformas, por lo que sería más que viable incorporar la app a App Store, aun cuando la app no esté siendo tan rentable como esperábamos en un principio (aunque esto ya son suposiciones que escapan al cometido de este estudio)."
   ]
  }
 ],
 "metadata": {
  "kernelspec": {
   "display_name": "Python 3",
   "language": "python",
   "name": "python3"
  },
  "language_info": {
   "codemirror_mode": {
    "name": "ipython",
    "version": 3
   },
   "file_extension": ".py",
   "mimetype": "text/x-python",
   "name": "python",
   "nbconvert_exporter": "python",
   "pygments_lexer": "ipython3",
   "version": "3.8.8"
  }
 },
 "nbformat": 4,
 "nbformat_minor": 2
}
